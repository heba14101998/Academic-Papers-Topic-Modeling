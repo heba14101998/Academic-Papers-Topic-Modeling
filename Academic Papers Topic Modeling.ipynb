{
 "cells": [
  {
   "cell_type": "markdown",
   "metadata": {
    "id": "VG9SMwNo0SpM"
   },
   "source": [
    "---\n",
    "<a><font size=\"6\">Academic Papers Topic Modeling</font></a>\n",
    "\n",
    "---\n",
    "\n",
    "<a><font size=\"5\"><b>Problem </b></font></a>\n",
    "Using the BERT-based model to automatically generate topics or clusters of academic papers based on their metadata, facilitating better organization and exploration of the research dataset.\n",
    "\n",
    "<a><font size=\"5\"><b>Metadata </b></font></a>\n",
    "\n",
    "This dataset is a mirror of the original ArXiv data. Because the full dataset is rather large (1.1TB and growing), this dataset provides only a metadata file in the json format. This file contains an entry for each paper, containing:\n",
    "\n",
    "* `id`: ArXiv ID (can be used to access the paper, see below)\n",
    "* `submitter`: Who submitted the paper\n",
    "* `authors`: Authors of the paper\n",
    "* `title`: Title of the paper\n",
    "* `comments`: Additional info, such as number of pages and figures\n",
    "* `journal-ref`: Information about the journal the paper was published in\n",
    "* `doi`: [Digital Object Identifier](https://www.doi.org)\n",
    "* `abstract`: The abstract of the paper\n",
    "* `categories`: Categories / tags in the ArXiv system\n",
    "* `versions`: A version history"
   ]
  },
  {
   "cell_type": "markdown",
   "metadata": {
    "id": "drEeIfgY0SpO"
   },
   "source": [
    "<h1>SetUp</h1>\n"
   ]
  },
  {
   "cell_type": "code",
   "execution_count": 1,
   "metadata": {
    "execution": {
     "iopub.execute_input": "2023-06-06T01:00:44.764695Z",
     "iopub.status.busy": "2023-06-06T01:00:44.764422Z",
     "iopub.status.idle": "2023-06-06T01:02:08.487278Z",
     "shell.execute_reply": "2023-06-06T01:02:08.485897Z",
     "shell.execute_reply.started": "2023-06-06T01:00:44.764669Z"
    },
    "id": "CIoRvS4W0SpP"
   },
   "outputs": [],
   "source": [
    "%%capture\n",
    "!pip install bertopic\n",
    "!pip install minisom"
   ]
  },
  {
   "cell_type": "code",
   "execution_count": 2,
   "metadata": {
    "execution": {
     "iopub.execute_input": "2023-06-06T01:08:16.800180Z",
     "iopub.status.busy": "2023-06-06T01:08:16.799768Z",
     "iopub.status.idle": "2023-06-06T01:09:24.450823Z",
     "shell.execute_reply": "2023-06-06T01:09:24.449654Z",
     "shell.execute_reply.started": "2023-06-06T01:08:16.800146Z"
    }
   },
   "outputs": [
    {
     "name": "stdout",
     "output_type": "stream",
     "text": [
      "Collecting git+https://github.com/huggingface/transformers.git\n",
      "  Cloning https://github.com/huggingface/transformers.git to /tmp/pip-req-build-hwmoyj3j\n",
      "  Running command git clone --filter=blob:none --quiet https://github.com/huggingface/transformers.git /tmp/pip-req-build-hwmoyj3j\n",
      "  Resolved https://github.com/huggingface/transformers.git to commit 7631db0fdcfbd95b1f21d8034a0b8df73b9380ff\n",
      "  Installing build dependencies ... \u001b[?25ldone\n",
      "\u001b[?25h  Getting requirements to build wheel ... \u001b[?25ldone\n",
      "\u001b[?25h  Preparing metadata (pyproject.toml) ... \u001b[?25ldone\n",
      "\u001b[?25hRequirement already satisfied: filelock in /opt/conda/lib/python3.10/site-packages (from transformers==4.30.0.dev0) (3.12.0)\n",
      "Requirement already satisfied: huggingface-hub<1.0,>=0.14.1 in /opt/conda/lib/python3.10/site-packages (from transformers==4.30.0.dev0) (0.14.1)\n",
      "Requirement already satisfied: numpy>=1.17 in /opt/conda/lib/python3.10/site-packages (from transformers==4.30.0.dev0) (1.23.5)\n",
      "Requirement already satisfied: packaging>=20.0 in /opt/conda/lib/python3.10/site-packages (from transformers==4.30.0.dev0) (21.3)\n",
      "Requirement already satisfied: pyyaml>=5.1 in /opt/conda/lib/python3.10/site-packages (from transformers==4.30.0.dev0) (5.4.1)\n",
      "Requirement already satisfied: regex!=2019.12.17 in /opt/conda/lib/python3.10/site-packages (from transformers==4.30.0.dev0) (2023.5.5)\n",
      "Requirement already satisfied: requests in /opt/conda/lib/python3.10/site-packages (from transformers==4.30.0.dev0) (2.28.2)\n",
      "Requirement already satisfied: tokenizers!=0.11.3,<0.14,>=0.11.1 in /opt/conda/lib/python3.10/site-packages (from transformers==4.30.0.dev0) (0.13.3)\n",
      "Requirement already satisfied: safetensors>=0.3.1 in /opt/conda/lib/python3.10/site-packages (from transformers==4.30.0.dev0) (0.3.1)\n",
      "Requirement already satisfied: tqdm>=4.27 in /opt/conda/lib/python3.10/site-packages (from transformers==4.30.0.dev0) (4.64.1)\n",
      "Requirement already satisfied: fsspec in /opt/conda/lib/python3.10/site-packages (from huggingface-hub<1.0,>=0.14.1->transformers==4.30.0.dev0) (2023.5.0)\n",
      "Requirement already satisfied: typing-extensions>=3.7.4.3 in /opt/conda/lib/python3.10/site-packages (from huggingface-hub<1.0,>=0.14.1->transformers==4.30.0.dev0) (4.5.0)\n",
      "Requirement already satisfied: pyparsing!=3.0.5,>=2.0.2 in /opt/conda/lib/python3.10/site-packages (from packaging>=20.0->transformers==4.30.0.dev0) (3.0.9)\n",
      "Requirement already satisfied: charset-normalizer<4,>=2 in /opt/conda/lib/python3.10/site-packages (from requests->transformers==4.30.0.dev0) (2.1.1)\n",
      "Requirement already satisfied: idna<4,>=2.5 in /opt/conda/lib/python3.10/site-packages (from requests->transformers==4.30.0.dev0) (3.4)\n",
      "Requirement already satisfied: urllib3<1.27,>=1.21.1 in /opt/conda/lib/python3.10/site-packages (from requests->transformers==4.30.0.dev0) (1.26.15)\n",
      "Requirement already satisfied: certifi>=2017.4.17 in /opt/conda/lib/python3.10/site-packages (from requests->transformers==4.30.0.dev0) (2023.5.7)\n",
      "Building wheels for collected packages: transformers\n",
      "  Building wheel for transformers (pyproject.toml) ... \u001b[?25ldone\n",
      "\u001b[?25h  Created wheel for transformers: filename=transformers-4.30.0.dev0-py3-none-any.whl size=7160170 sha256=a7b05b229f09e8fddd561fe8aa98b182e815d7540f1ee85d963f8fd3396b3b78\n",
      "  Stored in directory: /tmp/pip-ephem-wheel-cache-296ry0xh/wheels/e7/9c/5b/e1a9c8007c343041e61cc484433d512ea9274272e3fcbe7c16\n",
      "Successfully built transformers\n",
      "Installing collected packages: transformers\n",
      "  Attempting uninstall: transformers\n",
      "    Found existing installation: transformers 4.29.2\n",
      "    Uninstalling transformers-4.29.2:\n",
      "      Successfully uninstalled transformers-4.29.2\n",
      "Successfully installed transformers-4.30.0.dev0\n",
      "\u001b[33mWARNING: Running pip as the 'root' user can result in broken permissions and conflicting behaviour with the system package manager. It is recommended to use a virtual environment instead: https://pip.pypa.io/warnings/venv\u001b[0m\u001b[33m\n",
      "\u001b[0mCollecting git+https://github.com/huggingface/accelerate.git\n",
      "  Cloning https://github.com/huggingface/accelerate.git to /tmp/pip-req-build-6exfpo4e\n",
      "  Running command git clone --filter=blob:none --quiet https://github.com/huggingface/accelerate.git /tmp/pip-req-build-6exfpo4e\n",
      "  Resolved https://github.com/huggingface/accelerate.git to commit b9628f13c26944eee29ccf5d718352279963cc17\n",
      "  Installing build dependencies ... \u001b[?25ldone\n",
      "\u001b[?25h  Getting requirements to build wheel ... \u001b[?25ldone\n",
      "\u001b[?25h  Preparing metadata (pyproject.toml) ... \u001b[?25ldone\n",
      "\u001b[?25hRequirement already satisfied: numpy>=1.17 in /opt/conda/lib/python3.10/site-packages (from accelerate==0.20.0.dev0) (1.23.5)\n",
      "Requirement already satisfied: packaging>=20.0 in /opt/conda/lib/python3.10/site-packages (from accelerate==0.20.0.dev0) (21.3)\n",
      "Requirement already satisfied: psutil in /opt/conda/lib/python3.10/site-packages (from accelerate==0.20.0.dev0) (5.9.3)\n",
      "Requirement already satisfied: pyyaml in /opt/conda/lib/python3.10/site-packages (from accelerate==0.20.0.dev0) (5.4.1)\n",
      "Requirement already satisfied: torch>=1.6.0 in /opt/conda/lib/python3.10/site-packages (from accelerate==0.20.0.dev0) (2.0.0)\n",
      "Requirement already satisfied: pyparsing!=3.0.5,>=2.0.2 in /opt/conda/lib/python3.10/site-packages (from packaging>=20.0->accelerate==0.20.0.dev0) (3.0.9)\n",
      "Requirement already satisfied: filelock in /opt/conda/lib/python3.10/site-packages (from torch>=1.6.0->accelerate==0.20.0.dev0) (3.12.0)\n",
      "Requirement already satisfied: typing-extensions in /opt/conda/lib/python3.10/site-packages (from torch>=1.6.0->accelerate==0.20.0.dev0) (4.5.0)\n",
      "Requirement already satisfied: sympy in /opt/conda/lib/python3.10/site-packages (from torch>=1.6.0->accelerate==0.20.0.dev0) (1.12)\n",
      "Requirement already satisfied: networkx in /opt/conda/lib/python3.10/site-packages (from torch>=1.6.0->accelerate==0.20.0.dev0) (3.1)\n",
      "Requirement already satisfied: jinja2 in /opt/conda/lib/python3.10/site-packages (from torch>=1.6.0->accelerate==0.20.0.dev0) (3.1.2)\n",
      "Requirement already satisfied: MarkupSafe>=2.0 in /opt/conda/lib/python3.10/site-packages (from jinja2->torch>=1.6.0->accelerate==0.20.0.dev0) (2.1.2)\n",
      "Requirement already satisfied: mpmath>=0.19 in /opt/conda/lib/python3.10/site-packages (from sympy->torch>=1.6.0->accelerate==0.20.0.dev0) (1.3.0)\n",
      "Building wheels for collected packages: accelerate\n",
      "  Building wheel for accelerate (pyproject.toml) ... \u001b[?25ldone\n",
      "\u001b[?25h  Created wheel for accelerate: filename=accelerate-0.20.0.dev0-py3-none-any.whl size=227611 sha256=1304ba738a023cda2952f9f162a5aac6fc788121119018b7718c5f582db6042b\n",
      "  Stored in directory: /tmp/pip-ephem-wheel-cache-5p3we5yl/wheels/9c/a3/1e/47368f9b6575655fe9ee1b6350cfa7d4b0befe66a35f8a8365\n",
      "Successfully built accelerate\n",
      "Installing collected packages: accelerate\n",
      "  Attempting uninstall: accelerate\n",
      "    Found existing installation: accelerate 0.12.0\n",
      "    Uninstalling accelerate-0.12.0:\n",
      "      Successfully uninstalled accelerate-0.12.0\n",
      "Successfully installed accelerate-0.20.0.dev0\n",
      "\u001b[33mWARNING: Running pip as the 'root' user can result in broken permissions and conflicting behaviour with the system package manager. It is recommended to use a virtual environment instead: https://pip.pypa.io/warnings/venv\u001b[0m\u001b[33m\n",
      "\u001b[0m"
     ]
    }
   ],
   "source": [
    "!pip install -U git+https://github.com/huggingface/transformers.git\n",
    "!pip install -U git+https://github.com/huggingface/accelerate.git "
   ]
  },
  {
   "cell_type": "code",
   "execution_count": 3,
   "metadata": {
    "execution": {
     "iopub.execute_input": "2023-06-06T01:09:24.453941Z",
     "iopub.status.busy": "2023-06-06T01:09:24.453554Z",
     "iopub.status.idle": "2023-06-06T01:11:04.580111Z",
     "shell.execute_reply": "2023-06-06T01:11:04.578898Z",
     "shell.execute_reply.started": "2023-06-06T01:09:24.453892Z"
    },
    "id": "ZQNhMAq80SpP",
    "tags": []
   },
   "outputs": [],
   "source": [
    "from IPython.utils import io\n",
    "with io.capture_output() as captured:\n",
    "    !pip install https://s3-us-west-2.amazonaws.com/ai2-s2-scispacy/releases/v0.4.0/en_core_sci_lg-0.4.0.tar.gz"
   ]
  },
  {
   "cell_type": "code",
   "execution_count": 4,
   "metadata": {
    "execution": {
     "iopub.execute_input": "2023-06-06T01:11:04.582600Z",
     "iopub.status.busy": "2023-06-06T01:11:04.582217Z",
     "iopub.status.idle": "2023-06-06T01:11:04.591215Z",
     "shell.execute_reply": "2023-06-06T01:11:04.590429Z",
     "shell.execute_reply.started": "2023-06-06T01:11:04.582564Z"
    },
    "id": "t-MRITcV0SpQ",
    "tags": []
   },
   "outputs": [],
   "source": [
    "import warnings\n",
    "warnings.filterwarnings('ignore')"
   ]
  },
  {
   "cell_type": "code",
   "execution_count": 5,
   "metadata": {
    "execution": {
     "iopub.execute_input": "2023-06-06T01:11:04.595476Z",
     "iopub.status.busy": "2023-06-06T01:11:04.594763Z",
     "iopub.status.idle": "2023-06-06T01:11:37.046676Z",
     "shell.execute_reply": "2023-06-06T01:11:37.045741Z",
     "shell.execute_reply.started": "2023-06-06T01:11:04.595441Z"
    },
    "id": "NQ6Q636M0SpQ",
    "tags": []
   },
   "outputs": [],
   "source": [
    "# Import libraries\n",
    "import os\n",
    "import pandas as pd\n",
    "import numpy as np\n",
    "\n",
    "import seaborn as sns\n",
    "import missingno as msno\n",
    "from minisom import MiniSom  \n",
    "\n",
    "import statsmodels.api as sm\n",
    "from scipy.stats import skew, norm, kurtosis\n",
    "from scipy import stats \n",
    "\n",
    "from bertopic import BERTopic\n",
    "import en_core_sci_lg \n",
    "import string\n",
    "from spacy.lang.en.stop_words import STOP_WORDS \n",
    "from tqdm import tqdm"
   ]
  },
  {
   "cell_type": "code",
   "execution_count": 6,
   "metadata": {
    "colab": {
     "base_uri": "https://localhost:8080/",
     "height": 17
    },
    "execution": {
     "iopub.execute_input": "2023-06-06T01:11:37.049325Z",
     "iopub.status.busy": "2023-06-06T01:11:37.047924Z",
     "iopub.status.idle": "2023-06-06T01:11:37.121943Z",
     "shell.execute_reply": "2023-06-06T01:11:37.121078Z",
     "shell.execute_reply.started": "2023-06-06T01:11:37.049289Z"
    },
    "id": "m0z4Z8lP0SpQ",
    "outputId": "a3cfffe6-8309-4d83-8d24-e145b8f82206"
   },
   "outputs": [
    {
     "data": {
      "text/html": [
       "        <script type=\"text/javascript\">\n",
       "        window.PlotlyConfig = {MathJaxConfig: 'local'};\n",
       "        if (window.MathJax && window.MathJax.Hub && window.MathJax.Hub.Config) {window.MathJax.Hub.Config({SVG: {font: \"STIX-Web\"}});}\n",
       "        if (typeof require !== 'undefined') {\n",
       "        require.undef(\"plotly\");\n",
       "        requirejs.config({\n",
       "            paths: {\n",
       "                'plotly': ['https://cdn.plot.ly/plotly-2.20.0.min']\n",
       "            }\n",
       "        });\n",
       "        require(['plotly'], function(Plotly) {\n",
       "            window._Plotly = Plotly;\n",
       "        });\n",
       "        }\n",
       "        </script>\n",
       "        "
      ]
     },
     "metadata": {},
     "output_type": "display_data"
    }
   ],
   "source": [
    "from IPython.core.interactiveshell import InteractiveShell\n",
    "from plotly.offline import init_notebook_mode\n",
    "init_notebook_mode(connected=True) "
   ]
  },
  {
   "cell_type": "code",
   "execution_count": 7,
   "metadata": {
    "execution": {
     "iopub.execute_input": "2023-06-06T01:11:37.123730Z",
     "iopub.status.busy": "2023-06-06T01:11:37.123381Z",
     "iopub.status.idle": "2023-06-06T01:11:37.129843Z",
     "shell.execute_reply": "2023-06-06T01:11:37.128973Z",
     "shell.execute_reply.started": "2023-06-06T01:11:37.123698Z"
    },
    "id": "DWQG9zoK0SpR",
    "tags": []
   },
   "outputs": [],
   "source": [
    "# Set the maximum number of rows and columns to display\n",
    "pd.set_option('display.max_rows', 100)\n",
    "pd.set_option('display.max_columns', 100)\n",
    "InteractiveShell.ast_node_interactivity = \"all\""
   ]
  },
  {
   "cell_type": "code",
   "execution_count": 8,
   "metadata": {
    "execution": {
     "iopub.execute_input": "2023-06-06T01:11:37.131606Z",
     "iopub.status.busy": "2023-06-06T01:11:37.131195Z",
     "iopub.status.idle": "2023-06-06T01:11:37.142028Z",
     "shell.execute_reply": "2023-06-06T01:11:37.141055Z",
     "shell.execute_reply.started": "2023-06-06T01:11:37.131574Z"
    },
    "id": "GBae27yK0SpR",
    "tags": []
   },
   "outputs": [],
   "source": [
    "def CheckMissing(df):\n",
    "    missing = df.isna().sum().sort_values(ascending = False)\n",
    "    missing = missing[missing > 0]\n",
    "    print(f'\\nThere are {len(missing)} features out of {df.shape[1]} features with missing values in the dataset.')\n",
    "    if missing.sum()!=0: \n",
    "        missing_percent = missing / len(df) * 100\n",
    "        missing_df = pd.DataFrame({\n",
    "        'Feature': missing.index,\n",
    "        'NumMissing': missing.values,\n",
    "        'PercentMissing':missing_percent.values,\n",
    "        'NumUnique': df[missing.index].nunique().values,\n",
    "        'MostCommon': df[missing.index].mode().iloc[0].values\n",
    "        })\n",
    "        return missing_df\n",
    "    else: \n",
    "        print(\"Dataset has No Nulls\")\n",
    "        return 0"
   ]
  },
  {
   "cell_type": "markdown",
   "metadata": {
    "id": "zycCEW6l0SpR"
   },
   "source": [
    "# **Dataset Overview**"
   ]
  },
  {
   "cell_type": "markdown",
   "metadata": {
    "id": "AVpYu-Zi0SpS"
   },
   "source": [
    "Load in the provided dataset and summarize the basic statistics."
   ]
  },
  {
   "cell_type": "code",
   "execution_count": 84,
   "metadata": {
    "colab": {
     "base_uri": "https://localhost:8080/",
     "height": 722
    },
    "execution": {
     "iopub.execute_input": "2023-06-06T02:25:54.621478Z",
     "iopub.status.busy": "2023-06-06T02:25:54.621101Z",
     "iopub.status.idle": "2023-06-06T02:25:56.359148Z",
     "shell.execute_reply": "2023-06-06T02:25:56.358134Z",
     "shell.execute_reply.started": "2023-06-06T02:25:54.621446Z"
    },
    "id": "nVjyhvvs0SpS",
    "outputId": "5fe00ba6-1962-48f2-99bc-5583031c80f9",
    "tags": []
   },
   "outputs": [
    {
     "data": {
      "text/html": [
       "<div>\n",
       "<style scoped>\n",
       "    .dataframe tbody tr th:only-of-type {\n",
       "        vertical-align: middle;\n",
       "    }\n",
       "\n",
       "    .dataframe tbody tr th {\n",
       "        vertical-align: top;\n",
       "    }\n",
       "\n",
       "    .dataframe thead th {\n",
       "        text-align: right;\n",
       "    }\n",
       "</style>\n",
       "<table border=\"1\" class=\"dataframe\">\n",
       "  <thead>\n",
       "    <tr style=\"text-align: right;\">\n",
       "      <th></th>\n",
       "      <th>id</th>\n",
       "      <th>submitter</th>\n",
       "      <th>authors</th>\n",
       "      <th>title</th>\n",
       "      <th>comments</th>\n",
       "      <th>journal-ref</th>\n",
       "      <th>doi</th>\n",
       "      <th>report-no</th>\n",
       "      <th>categories</th>\n",
       "      <th>license</th>\n",
       "      <th>abstract</th>\n",
       "      <th>versions</th>\n",
       "      <th>update_date</th>\n",
       "      <th>authors_parsed</th>\n",
       "    </tr>\n",
       "  </thead>\n",
       "  <tbody>\n",
       "    <tr>\n",
       "      <th>0</th>\n",
       "      <td>2006.15607</td>\n",
       "      <td>Youngwan Lee</td>\n",
       "      <td>Youngwan Lee, Joong-won Hwang, Hyung-Il Kim, K...</td>\n",
       "      <td>Localization Uncertainty Estimation for Anchor...</td>\n",
       "      <td>NaN</td>\n",
       "      <td>NaN</td>\n",
       "      <td>NaN</td>\n",
       "      <td>NaN</td>\n",
       "      <td>cs.CV</td>\n",
       "      <td>http://arxiv.org/licenses/nonexclusive-distrib...</td>\n",
       "      <td>Since many safety-critical systems, such as ...</td>\n",
       "      <td>[{'version': 'v1', 'created': 'Sun, 28 Jun 202...</td>\n",
       "      <td>2022-07-07</td>\n",
       "      <td>[['Lee', 'Youngwan', ''], ['Hwang', 'Joong-won...</td>\n",
       "    </tr>\n",
       "    <tr>\n",
       "      <th>1</th>\n",
       "      <td>1507.03782</td>\n",
       "      <td>Helmut Strobel</td>\n",
       "      <td>Helmut Strobel, Wolfgang Muessel, Daniel Linne...</td>\n",
       "      <td>Fisher Information and entanglement of non-Gau...</td>\n",
       "      <td>5 pages, 4 figures, 7 pages supplementary mate...</td>\n",
       "      <td>Science 345, 424-427 (2014)</td>\n",
       "      <td>10.1126/science.1250147</td>\n",
       "      <td>NaN</td>\n",
       "      <td>quant-ph cond-mat.quant-gas physics.atom-ph</td>\n",
       "      <td>http://arxiv.org/licenses/nonexclusive-distrib...</td>\n",
       "      <td>Entanglement is the key quantum resource for...</td>\n",
       "      <td>[{'version': 'v1', 'created': 'Tue, 14 Jul 201...</td>\n",
       "      <td>2015-07-15</td>\n",
       "      <td>[['Strobel', 'Helmut', ''], ['Muessel', 'Wolfg...</td>\n",
       "    </tr>\n",
       "    <tr>\n",
       "      <th>2</th>\n",
       "      <td>901.4201</td>\n",
       "      <td>Stephane Martin</td>\n",
       "      <td>Denis Lugiez (LIF), St\\'ephane Martin (LIF)</td>\n",
       "      <td>Peer to Peer Optimistic Collaborative Editing ...</td>\n",
       "      <td>NaN</td>\n",
       "      <td>NaN</td>\n",
       "      <td>NaN</td>\n",
       "      <td>NaN</td>\n",
       "      <td>cs.DS</td>\n",
       "      <td>http://arxiv.org/licenses/nonexclusive-distrib...</td>\n",
       "      <td>Collaborative editing consists in editing a ...</td>\n",
       "      <td>[{'version': 'v1', 'created': 'Tue, 27 Jan 200...</td>\n",
       "      <td>2009-01-28</td>\n",
       "      <td>[['Lugiez', 'Denis', '', 'LIF'], ['Martin', 'S...</td>\n",
       "    </tr>\n",
       "    <tr>\n",
       "      <th>3</th>\n",
       "      <td>1802.05814</td>\n",
       "      <td>Dawen Liang</td>\n",
       "      <td>Dawen Liang, Rahul G. Krishnan, Matthew D. Hof...</td>\n",
       "      <td>Variational Autoencoders for Collaborative Fil...</td>\n",
       "      <td>10 pages, 3 figures. WWW 2018</td>\n",
       "      <td>NaN</td>\n",
       "      <td>NaN</td>\n",
       "      <td>NaN</td>\n",
       "      <td>stat.ML cs.IR cs.LG</td>\n",
       "      <td>http://arxiv.org/licenses/nonexclusive-distrib...</td>\n",
       "      <td>We extend variational autoencoders (VAEs) to...</td>\n",
       "      <td>[{'version': 'v1', 'created': 'Fri, 16 Feb 201...</td>\n",
       "      <td>2018-02-19</td>\n",
       "      <td>[['Liang', 'Dawen', ''], ['Krishnan', 'Rahul G...</td>\n",
       "    </tr>\n",
       "    <tr>\n",
       "      <th>4</th>\n",
       "      <td>1010.5069</td>\n",
       "      <td>Philippe Maincon</td>\n",
       "      <td>Philippe Maincon</td>\n",
       "      <td>A Wiener-Laguerre model of VIV forces given re...</td>\n",
       "      <td>NaN</td>\n",
       "      <td>NaN</td>\n",
       "      <td>NaN</td>\n",
       "      <td>NaN</td>\n",
       "      <td>physics.flu-dyn</td>\n",
       "      <td>http://arxiv.org/licenses/nonexclusive-distrib...</td>\n",
       "      <td>Slender structures immersed in a cross flow ...</td>\n",
       "      <td>[{'version': 'v1', 'created': 'Mon, 25 Oct 201...</td>\n",
       "      <td>2010-10-26</td>\n",
       "      <td>[['Maincon', 'Philippe', '']]</td>\n",
       "    </tr>\n",
       "  </tbody>\n",
       "</table>\n",
       "</div>"
      ],
      "text/plain": [
       "           id         submitter  \\\n",
       "0  2006.15607      Youngwan Lee   \n",
       "1  1507.03782    Helmut Strobel   \n",
       "2    901.4201   Stephane Martin   \n",
       "3  1802.05814       Dawen Liang   \n",
       "4   1010.5069  Philippe Maincon   \n",
       "\n",
       "                                             authors  \\\n",
       "0  Youngwan Lee, Joong-won Hwang, Hyung-Il Kim, K...   \n",
       "1  Helmut Strobel, Wolfgang Muessel, Daniel Linne...   \n",
       "2        Denis Lugiez (LIF), St\\'ephane Martin (LIF)   \n",
       "3  Dawen Liang, Rahul G. Krishnan, Matthew D. Hof...   \n",
       "4                                   Philippe Maincon   \n",
       "\n",
       "                                               title  \\\n",
       "0  Localization Uncertainty Estimation for Anchor...   \n",
       "1  Fisher Information and entanglement of non-Gau...   \n",
       "2  Peer to Peer Optimistic Collaborative Editing ...   \n",
       "3  Variational Autoencoders for Collaborative Fil...   \n",
       "4  A Wiener-Laguerre model of VIV forces given re...   \n",
       "\n",
       "                                            comments  \\\n",
       "0                                                NaN   \n",
       "1  5 pages, 4 figures, 7 pages supplementary mate...   \n",
       "2                                                NaN   \n",
       "3                      10 pages, 3 figures. WWW 2018   \n",
       "4                                                NaN   \n",
       "\n",
       "                   journal-ref                      doi report-no  \\\n",
       "0                          NaN                      NaN       NaN   \n",
       "1  Science 345, 424-427 (2014)  10.1126/science.1250147       NaN   \n",
       "2                          NaN                      NaN       NaN   \n",
       "3                          NaN                      NaN       NaN   \n",
       "4                          NaN                      NaN       NaN   \n",
       "\n",
       "                                    categories  \\\n",
       "0                                        cs.CV   \n",
       "1  quant-ph cond-mat.quant-gas physics.atom-ph   \n",
       "2                                        cs.DS   \n",
       "3                          stat.ML cs.IR cs.LG   \n",
       "4                              physics.flu-dyn   \n",
       "\n",
       "                                             license  \\\n",
       "0  http://arxiv.org/licenses/nonexclusive-distrib...   \n",
       "1  http://arxiv.org/licenses/nonexclusive-distrib...   \n",
       "2  http://arxiv.org/licenses/nonexclusive-distrib...   \n",
       "3  http://arxiv.org/licenses/nonexclusive-distrib...   \n",
       "4  http://arxiv.org/licenses/nonexclusive-distrib...   \n",
       "\n",
       "                                            abstract  \\\n",
       "0    Since many safety-critical systems, such as ...   \n",
       "1    Entanglement is the key quantum resource for...   \n",
       "2    Collaborative editing consists in editing a ...   \n",
       "3    We extend variational autoencoders (VAEs) to...   \n",
       "4    Slender structures immersed in a cross flow ...   \n",
       "\n",
       "                                            versions update_date  \\\n",
       "0  [{'version': 'v1', 'created': 'Sun, 28 Jun 202...  2022-07-07   \n",
       "1  [{'version': 'v1', 'created': 'Tue, 14 Jul 201...  2015-07-15   \n",
       "2  [{'version': 'v1', 'created': 'Tue, 27 Jan 200...  2009-01-28   \n",
       "3  [{'version': 'v1', 'created': 'Fri, 16 Feb 201...  2018-02-19   \n",
       "4  [{'version': 'v1', 'created': 'Mon, 25 Oct 201...  2010-10-26   \n",
       "\n",
       "                                      authors_parsed  \n",
       "0  [['Lee', 'Youngwan', ''], ['Hwang', 'Joong-won...  \n",
       "1  [['Strobel', 'Helmut', ''], ['Muessel', 'Wolfg...  \n",
       "2  [['Lugiez', 'Denis', '', 'LIF'], ['Martin', 'S...  \n",
       "3  [['Liang', 'Dawen', ''], ['Krishnan', 'Rahul G...  \n",
       "4                      [['Maincon', 'Philippe', '']]  "
      ]
     },
     "execution_count": 84,
     "metadata": {},
     "output_type": "execute_result"
    },
    {
     "data": {
      "text/html": [
       "<div>\n",
       "<style scoped>\n",
       "    .dataframe tbody tr th:only-of-type {\n",
       "        vertical-align: middle;\n",
       "    }\n",
       "\n",
       "    .dataframe tbody tr th {\n",
       "        vertical-align: top;\n",
       "    }\n",
       "\n",
       "    .dataframe thead th {\n",
       "        text-align: right;\n",
       "    }\n",
       "</style>\n",
       "<table border=\"1\" class=\"dataframe\">\n",
       "  <thead>\n",
       "    <tr style=\"text-align: right;\">\n",
       "      <th></th>\n",
       "      <th>id</th>\n",
       "      <th>submitter</th>\n",
       "      <th>authors</th>\n",
       "      <th>title</th>\n",
       "      <th>comments</th>\n",
       "      <th>journal-ref</th>\n",
       "      <th>doi</th>\n",
       "      <th>report-no</th>\n",
       "      <th>categories</th>\n",
       "      <th>license</th>\n",
       "      <th>abstract</th>\n",
       "      <th>versions</th>\n",
       "      <th>update_date</th>\n",
       "      <th>authors_parsed</th>\n",
       "    </tr>\n",
       "  </thead>\n",
       "  <tbody>\n",
       "    <tr>\n",
       "      <th>99995</th>\n",
       "      <td>NaN</td>\n",
       "      <td>NaN</td>\n",
       "      <td>NaN</td>\n",
       "      <td>NaN</td>\n",
       "      <td>NaN</td>\n",
       "      <td>NaN</td>\n",
       "      <td>NaN</td>\n",
       "      <td>NaN</td>\n",
       "      <td>NaN</td>\n",
       "      <td>NaN</td>\n",
       "      <td>NaN</td>\n",
       "      <td>NaN</td>\n",
       "      <td>NaN</td>\n",
       "      <td>NaN</td>\n",
       "    </tr>\n",
       "    <tr>\n",
       "      <th>99996</th>\n",
       "      <td>NaN</td>\n",
       "      <td>NaN</td>\n",
       "      <td>NaN</td>\n",
       "      <td>NaN</td>\n",
       "      <td>NaN</td>\n",
       "      <td>NaN</td>\n",
       "      <td>NaN</td>\n",
       "      <td>NaN</td>\n",
       "      <td>NaN</td>\n",
       "      <td>NaN</td>\n",
       "      <td>NaN</td>\n",
       "      <td>NaN</td>\n",
       "      <td>NaN</td>\n",
       "      <td>NaN</td>\n",
       "    </tr>\n",
       "    <tr>\n",
       "      <th>99997</th>\n",
       "      <td>NaN</td>\n",
       "      <td>NaN</td>\n",
       "      <td>NaN</td>\n",
       "      <td>NaN</td>\n",
       "      <td>NaN</td>\n",
       "      <td>NaN</td>\n",
       "      <td>NaN</td>\n",
       "      <td>NaN</td>\n",
       "      <td>NaN</td>\n",
       "      <td>NaN</td>\n",
       "      <td>NaN</td>\n",
       "      <td>NaN</td>\n",
       "      <td>NaN</td>\n",
       "      <td>NaN</td>\n",
       "    </tr>\n",
       "    <tr>\n",
       "      <th>99998</th>\n",
       "      <td>NaN</td>\n",
       "      <td>NaN</td>\n",
       "      <td>NaN</td>\n",
       "      <td>NaN</td>\n",
       "      <td>NaN</td>\n",
       "      <td>NaN</td>\n",
       "      <td>NaN</td>\n",
       "      <td>NaN</td>\n",
       "      <td>NaN</td>\n",
       "      <td>NaN</td>\n",
       "      <td>NaN</td>\n",
       "      <td>NaN</td>\n",
       "      <td>NaN</td>\n",
       "      <td>NaN</td>\n",
       "    </tr>\n",
       "    <tr>\n",
       "      <th>99999</th>\n",
       "      <td>NaN</td>\n",
       "      <td>NaN</td>\n",
       "      <td>NaN</td>\n",
       "      <td>NaN</td>\n",
       "      <td>NaN</td>\n",
       "      <td>NaN</td>\n",
       "      <td>NaN</td>\n",
       "      <td>NaN</td>\n",
       "      <td>NaN</td>\n",
       "      <td>NaN</td>\n",
       "      <td>NaN</td>\n",
       "      <td>NaN</td>\n",
       "      <td>NaN</td>\n",
       "      <td>NaN</td>\n",
       "    </tr>\n",
       "  </tbody>\n",
       "</table>\n",
       "</div>"
      ],
      "text/plain": [
       "        id submitter authors title comments journal-ref  doi report-no  \\\n",
       "99995  NaN       NaN     NaN   NaN      NaN         NaN  NaN       NaN   \n",
       "99996  NaN       NaN     NaN   NaN      NaN         NaN  NaN       NaN   \n",
       "99997  NaN       NaN     NaN   NaN      NaN         NaN  NaN       NaN   \n",
       "99998  NaN       NaN     NaN   NaN      NaN         NaN  NaN       NaN   \n",
       "99999  NaN       NaN     NaN   NaN      NaN         NaN  NaN       NaN   \n",
       "\n",
       "      categories license abstract versions update_date authors_parsed  \n",
       "99995        NaN     NaN      NaN      NaN         NaN            NaN  \n",
       "99996        NaN     NaN      NaN      NaN         NaN            NaN  \n",
       "99997        NaN     NaN      NaN      NaN         NaN            NaN  \n",
       "99998        NaN     NaN      NaN      NaN         NaN            NaN  \n",
       "99999        NaN     NaN      NaN      NaN         NaN            NaN  "
      ]
     },
     "execution_count": 84,
     "metadata": {},
     "output_type": "execute_result"
    }
   ],
   "source": [
    "df = pd.read_csv('/kaggle/input/sampled-arxiv/sampled_arxiv_cs.csv')\n",
    "df.head()\n",
    "df.tail()"
   ]
  },
  {
   "cell_type": "markdown",
   "metadata": {
    "id": "WDiv2SS40SpS"
   },
   "source": [
    "### (1) What are the feature types and their basic statistics."
   ]
  },
  {
   "cell_type": "code",
   "execution_count": 85,
   "metadata": {
    "colab": {
     "base_uri": "https://localhost:8080/"
    },
    "execution": {
     "iopub.execute_input": "2023-06-06T02:26:03.406751Z",
     "iopub.status.busy": "2023-06-06T02:26:03.405697Z",
     "iopub.status.idle": "2023-06-06T02:26:03.738753Z",
     "shell.execute_reply": "2023-06-06T02:26:03.737607Z",
     "shell.execute_reply.started": "2023-06-06T02:26:03.406702Z"
    },
    "id": "3bM-tcsS0SpS",
    "outputId": "e38ef8fd-f06b-4ffd-f3d2-32b4649e8691",
    "tags": []
   },
   "outputs": [
    {
     "name": "stdout",
     "output_type": "stream",
     "text": [
      "<class 'pandas.core.frame.DataFrame'>\n",
      "RangeIndex: 100000 entries, 0 to 99999\n",
      "Data columns (total 14 columns):\n",
      " #   Column          Non-Null Count  Dtype \n",
      "---  ------          --------------  ----- \n",
      " 0   id              50000 non-null  object\n",
      " 1   submitter       49959 non-null  object\n",
      " 2   authors         50000 non-null  object\n",
      " 3   title           50000 non-null  object\n",
      " 4   comments        31780 non-null  object\n",
      " 5   journal-ref     10783 non-null  object\n",
      " 6   doi             15365 non-null  object\n",
      " 7   report-no       1170 non-null   object\n",
      " 8   categories      50000 non-null  object\n",
      " 9   license         47468 non-null  object\n",
      " 10  abstract        50000 non-null  object\n",
      " 11  versions        50000 non-null  object\n",
      " 12  update_date     50000 non-null  object\n",
      " 13  authors_parsed  50000 non-null  object\n",
      "dtypes: object(14)\n",
      "memory usage: 10.7+ MB\n"
     ]
    }
   ],
   "source": [
    "df.info()"
   ]
  },
  {
   "cell_type": "markdown",
   "metadata": {
    "id": "4HhrTCqZ0SpS"
   },
   "source": [
    "<a><font size=\"3\"><b>OBSERVATION:</b></font></a>\n",
    " \n",
    "Looking at the example data provided, it appears that the columns should be  converted to the following data types:\n",
    "\n",
    "* `id`: string\n",
    "* `submitter`: string\n",
    "* `authors`: strings\n",
    "* `title`: string\n",
    "* `comments`: string\n",
    "* `journal-ref`: string\n",
    "* `doi`: string\n",
    "* `report-no`: string\n",
    "* `categories`: string\n",
    "* `license`: string\n",
    "* `abstract`: string\n",
    "* `versions`: list of dictionaries\n",
    "* `update_date`: datetime64\n",
    "* `authors_parsed`: list of lists of strings"
   ]
  },
  {
   "cell_type": "code",
   "execution_count": 26,
   "metadata": {
    "colab": {
     "base_uri": "https://localhost:8080/",
     "height": 488
    },
    "id": "Pik4P9CF0SpS",
    "outputId": "2a87bf0c-f367-4932-c8e9-c95f1ad77729",
    "tags": []
   },
   "outputs": [
    {
     "data": {
      "text/html": [
       "\n",
       "  <div id=\"df-631e6e28-c0a6-442d-82e3-c5b36651140b\">\n",
       "    <div class=\"colab-df-container\">\n",
       "      <div>\n",
       "<style scoped>\n",
       "    .dataframe tbody tr th:only-of-type {\n",
       "        vertical-align: middle;\n",
       "    }\n",
       "\n",
       "    .dataframe tbody tr th {\n",
       "        vertical-align: top;\n",
       "    }\n",
       "\n",
       "    .dataframe thead th {\n",
       "        text-align: right;\n",
       "    }\n",
       "</style>\n",
       "<table border=\"1\" class=\"dataframe\">\n",
       "  <thead>\n",
       "    <tr style=\"text-align: right;\">\n",
       "      <th></th>\n",
       "      <th>count</th>\n",
       "      <th>unique</th>\n",
       "      <th>top</th>\n",
       "      <th>freq</th>\n",
       "    </tr>\n",
       "  </thead>\n",
       "  <tbody>\n",
       "    <tr>\n",
       "      <th>id</th>\n",
       "      <td>50000</td>\n",
       "      <td>50000</td>\n",
       "      <td>2006.15607</td>\n",
       "      <td>1</td>\n",
       "    </tr>\n",
       "    <tr>\n",
       "      <th>submitter</th>\n",
       "      <td>49959</td>\n",
       "      <td>40229</td>\n",
       "      <td>EPTCS</td>\n",
       "      <td>216</td>\n",
       "    </tr>\n",
       "    <tr>\n",
       "      <th>authors</th>\n",
       "      <td>50000</td>\n",
       "      <td>48953</td>\n",
       "      <td>Lorenzo Iorio</td>\n",
       "      <td>11</td>\n",
       "    </tr>\n",
       "    <tr>\n",
       "      <th>title</th>\n",
       "      <td>50000</td>\n",
       "      <td>49998</td>\n",
       "      <td>Achieving the Secrecy Capacity of Wiretap Chan...</td>\n",
       "      <td>2</td>\n",
       "    </tr>\n",
       "    <tr>\n",
       "      <th>comments</th>\n",
       "      <td>31780</td>\n",
       "      <td>23292</td>\n",
       "      <td>12 pages</td>\n",
       "      <td>121</td>\n",
       "    </tr>\n",
       "    <tr>\n",
       "      <th>journal-ref</th>\n",
       "      <td>10783</td>\n",
       "      <td>10709</td>\n",
       "      <td>Dans Design, Automation and Test in Europe - D...</td>\n",
       "      <td>7</td>\n",
       "    </tr>\n",
       "    <tr>\n",
       "      <th>doi</th>\n",
       "      <td>15365</td>\n",
       "      <td>15362</td>\n",
       "      <td>10.1021/jp806464p</td>\n",
       "      <td>2</td>\n",
       "    </tr>\n",
       "    <tr>\n",
       "      <th>report-no</th>\n",
       "      <td>1170</td>\n",
       "      <td>1157</td>\n",
       "      <td>ISSN 1947 5500</td>\n",
       "      <td>8</td>\n",
       "    </tr>\n",
       "    <tr>\n",
       "      <th>categories</th>\n",
       "      <td>50000</td>\n",
       "      <td>8908</td>\n",
       "      <td>cs.CV</td>\n",
       "      <td>3105</td>\n",
       "    </tr>\n",
       "    <tr>\n",
       "      <th>license</th>\n",
       "      <td>47468</td>\n",
       "      <td>9</td>\n",
       "      <td>http://arxiv.org/licenses/nonexclusive-distrib...</td>\n",
       "      <td>36525</td>\n",
       "    </tr>\n",
       "    <tr>\n",
       "      <th>abstract</th>\n",
       "      <td>50000</td>\n",
       "      <td>49996</td>\n",
       "      <td>This paper has been withdrawn.\\n</td>\n",
       "      <td>2</td>\n",
       "    </tr>\n",
       "    <tr>\n",
       "      <th>versions</th>\n",
       "      <td>50000</td>\n",
       "      <td>49984</td>\n",
       "      <td>[{'version': 'v1', 'created': 'Wed, 27 Jun 201...</td>\n",
       "      <td>7</td>\n",
       "    </tr>\n",
       "    <tr>\n",
       "      <th>update_date</th>\n",
       "      <td>50000</td>\n",
       "      <td>3955</td>\n",
       "      <td>2007-05-23</td>\n",
       "      <td>1016</td>\n",
       "    </tr>\n",
       "    <tr>\n",
       "      <th>authors_parsed</th>\n",
       "      <td>50000</td>\n",
       "      <td>48801</td>\n",
       "      <td>[['Iorio', 'Lorenzo', '']]</td>\n",
       "      <td>11</td>\n",
       "    </tr>\n",
       "  </tbody>\n",
       "</table>\n",
       "</div>\n",
       "      <button class=\"colab-df-convert\" onclick=\"convertToInteractive('df-631e6e28-c0a6-442d-82e3-c5b36651140b')\"\n",
       "              title=\"Convert this dataframe to an interactive table.\"\n",
       "              style=\"display:none;\">\n",
       "        \n",
       "  <svg xmlns=\"http://www.w3.org/2000/svg\" height=\"24px\"viewBox=\"0 0 24 24\"\n",
       "       width=\"24px\">\n",
       "    <path d=\"M0 0h24v24H0V0z\" fill=\"none\"/>\n",
       "    <path d=\"M18.56 5.44l.94 2.06.94-2.06 2.06-.94-2.06-.94-.94-2.06-.94 2.06-2.06.94zm-11 1L8.5 8.5l.94-2.06 2.06-.94-2.06-.94L8.5 2.5l-.94 2.06-2.06.94zm10 10l.94 2.06.94-2.06 2.06-.94-2.06-.94-.94-2.06-.94 2.06-2.06.94z\"/><path d=\"M17.41 7.96l-1.37-1.37c-.4-.4-.92-.59-1.43-.59-.52 0-1.04.2-1.43.59L10.3 9.45l-7.72 7.72c-.78.78-.78 2.05 0 2.83L4 21.41c.39.39.9.59 1.41.59.51 0 1.02-.2 1.41-.59l7.78-7.78 2.81-2.81c.8-.78.8-2.07 0-2.86zM5.41 20L4 18.59l7.72-7.72 1.47 1.35L5.41 20z\"/>\n",
       "  </svg>\n",
       "      </button>\n",
       "      \n",
       "  <style>\n",
       "    .colab-df-container {\n",
       "      display:flex;\n",
       "      flex-wrap:wrap;\n",
       "      gap: 12px;\n",
       "    }\n",
       "\n",
       "    .colab-df-convert {\n",
       "      background-color: #E8F0FE;\n",
       "      border: none;\n",
       "      border-radius: 50%;\n",
       "      cursor: pointer;\n",
       "      display: none;\n",
       "      fill: #1967D2;\n",
       "      height: 32px;\n",
       "      padding: 0 0 0 0;\n",
       "      width: 32px;\n",
       "    }\n",
       "\n",
       "    .colab-df-convert:hover {\n",
       "      background-color: #E2EBFA;\n",
       "      box-shadow: 0px 1px 2px rgba(60, 64, 67, 0.3), 0px 1px 3px 1px rgba(60, 64, 67, 0.15);\n",
       "      fill: #174EA6;\n",
       "    }\n",
       "\n",
       "    [theme=dark] .colab-df-convert {\n",
       "      background-color: #3B4455;\n",
       "      fill: #D2E3FC;\n",
       "    }\n",
       "\n",
       "    [theme=dark] .colab-df-convert:hover {\n",
       "      background-color: #434B5C;\n",
       "      box-shadow: 0px 1px 3px 1px rgba(0, 0, 0, 0.15);\n",
       "      filter: drop-shadow(0px 1px 2px rgba(0, 0, 0, 0.3));\n",
       "      fill: #FFFFFF;\n",
       "    }\n",
       "  </style>\n",
       "\n",
       "      <script>\n",
       "        const buttonEl =\n",
       "          document.querySelector('#df-631e6e28-c0a6-442d-82e3-c5b36651140b button.colab-df-convert');\n",
       "        buttonEl.style.display =\n",
       "          google.colab.kernel.accessAllowed ? 'block' : 'none';\n",
       "\n",
       "        async function convertToInteractive(key) {\n",
       "          const element = document.querySelector('#df-631e6e28-c0a6-442d-82e3-c5b36651140b');\n",
       "          const dataTable =\n",
       "            await google.colab.kernel.invokeFunction('convertToInteractive',\n",
       "                                                     [key], {});\n",
       "          if (!dataTable) return;\n",
       "\n",
       "          const docLinkHtml = 'Like what you see? Visit the ' +\n",
       "            '<a target=\"_blank\" href=https://colab.research.google.com/notebooks/data_table.ipynb>data table notebook</a>'\n",
       "            + ' to learn more about interactive tables.';\n",
       "          element.innerHTML = '';\n",
       "          dataTable['output_type'] = 'display_data';\n",
       "          await google.colab.output.renderOutput(dataTable, element);\n",
       "          const docLink = document.createElement('div');\n",
       "          docLink.innerHTML = docLinkHtml;\n",
       "          element.appendChild(docLink);\n",
       "        }\n",
       "      </script>\n",
       "    </div>\n",
       "  </div>\n",
       "  "
      ],
      "text/plain": [
       "                count unique  \\\n",
       "id              50000  50000   \n",
       "submitter       49959  40229   \n",
       "authors         50000  48953   \n",
       "title           50000  49998   \n",
       "comments        31780  23292   \n",
       "journal-ref     10783  10709   \n",
       "doi             15365  15362   \n",
       "report-no        1170   1157   \n",
       "categories      50000   8908   \n",
       "license         47468      9   \n",
       "abstract        50000  49996   \n",
       "versions        50000  49984   \n",
       "update_date     50000   3955   \n",
       "authors_parsed  50000  48801   \n",
       "\n",
       "                                                              top   freq  \n",
       "id                                                     2006.15607      1  \n",
       "submitter                                                   EPTCS    216  \n",
       "authors                                             Lorenzo Iorio     11  \n",
       "title           Achieving the Secrecy Capacity of Wiretap Chan...      2  \n",
       "comments                                                 12 pages    121  \n",
       "journal-ref     Dans Design, Automation and Test in Europe - D...      7  \n",
       "doi                                             10.1021/jp806464p      2  \n",
       "report-no                                          ISSN 1947 5500      8  \n",
       "categories                                                  cs.CV   3105  \n",
       "license         http://arxiv.org/licenses/nonexclusive-distrib...  36525  \n",
       "abstract                         This paper has been withdrawn.\\n      2  \n",
       "versions        [{'version': 'v1', 'created': 'Wed, 27 Jun 201...      7  \n",
       "update_date                                            2007-05-23   1016  \n",
       "authors_parsed                         [['Iorio', 'Lorenzo', '']]     11  "
      ]
     },
     "execution_count": 26,
     "metadata": {},
     "output_type": "execute_result"
    }
   ],
   "source": [
    "df.describe(include=\"all\").transpose()"
   ]
  },
  {
   "cell_type": "code",
   "execution_count": 27,
   "metadata": {
    "colab": {
     "base_uri": "https://localhost:8080/"
    },
    "id": "3Ikj8ks00SpT",
    "outputId": "f859cc23-eb51-416a-c255-9e9ee645db9f",
    "tags": []
   },
   "outputs": [
    {
     "data": {
      "text/plain": [
       "9"
      ]
     },
     "execution_count": 27,
     "metadata": {},
     "output_type": "execute_result"
    },
    {
     "data": {
      "text/plain": [
       "array(['http://arxiv.org/licenses/nonexclusive-distrib/1.0/',\n",
       "       'http://creativecommons.org/licenses/by/4.0/', nan,\n",
       "       'http://creativecommons.org/licenses/by-nc-sa/4.0/',\n",
       "       'http://creativecommons.org/licenses/by-nc-nd/4.0/',\n",
       "       'http://creativecommons.org/licenses/by-sa/4.0/',\n",
       "       'http://creativecommons.org/publicdomain/zero/1.0/',\n",
       "       'http://creativecommons.org/licenses/by/3.0/',\n",
       "       'http://creativecommons.org/licenses/by-nc-sa/3.0/',\n",
       "       'http://creativecommons.org/licenses/publicdomain/'], dtype=object)"
      ]
     },
     "execution_count": 27,
     "metadata": {},
     "output_type": "execute_result"
    }
   ],
   "source": [
    "df.license.nunique()\n",
    "df.license.unique()"
   ]
  },
  {
   "cell_type": "code",
   "execution_count": 28,
   "metadata": {
    "colab": {
     "base_uri": "https://localhost:8080/"
    },
    "id": "Yj4Pq5fS0SpT",
    "outputId": "89d0c101-eaa4-4eda-a1a7-e760c7fc51ca",
    "tags": []
   },
   "outputs": [
    {
     "data": {
      "text/plain": [
       "3955"
      ]
     },
     "execution_count": 28,
     "metadata": {},
     "output_type": "execute_result"
    },
    {
     "data": {
      "text/plain": [
       "48953"
      ]
     },
     "execution_count": 28,
     "metadata": {},
     "output_type": "execute_result"
    },
    {
     "data": {
      "text/plain": [
       "48801"
      ]
     },
     "execution_count": 28,
     "metadata": {},
     "output_type": "execute_result"
    }
   ],
   "source": [
    "df.update_date.nunique()\n",
    "df.authors.nunique()\n",
    "df.authors_parsed.nunique()"
   ]
  },
  {
   "cell_type": "markdown",
   "metadata": {
    "id": "QYoXoFri0SpT"
   },
   "source": [
    "<a><font size=\"3\"><b>OBSERVATION:</b></font></a>\n",
    "* All `id` is unique.\n",
    "* `title`, `doi`, `abstract` should be unique but they have duplicated sample.\n",
    "* `license` has 9 unique values but it should have only 2.\n",
    "* `update_date`, `authors`, and `authors_parsed` have high variability.\n",
    "* Most columns have a wide variety of values, indicating high data variability."
   ]
  },
  {
   "cell_type": "markdown",
   "metadata": {
    "id": "T7z1rn_b0SpT"
   },
   "source": [
    "# **Data Cleaning**"
   ]
  },
  {
   "cell_type": "markdown",
   "metadata": {
    "id": "uDqNueB80SpT"
   },
   "source": [
    "## **Check Missing Values**"
   ]
  },
  {
   "cell_type": "markdown",
   "metadata": {
    "id": "Uo3zJl8f0SpT"
   },
   "source": [
    "### (2) How many features have missing values?\n",
    "\n",
    "> **Answer**: All Features have missing values.\n"
   ]
  },
  {
   "cell_type": "code",
   "execution_count": 29,
   "metadata": {
    "colab": {
     "base_uri": "https://localhost:8080/",
     "height": 523
    },
    "id": "SzykGbNr0SpU",
    "outputId": "5b48557a-317b-49c2-a689-1b5e6d1ff090",
    "tags": []
   },
   "outputs": [
    {
     "name": "stdout",
     "output_type": "stream",
     "text": [
      "\n",
      "\n",
      "There are 14 features out of 14 features with missing values in the dataset.\n"
     ]
    },
    {
     "data": {
      "text/html": [
       "\n",
       "  <div id=\"df-6af49d26-9d66-4a1a-970c-3476cd60037d\">\n",
       "    <div class=\"colab-df-container\">\n",
       "      <div>\n",
       "<style scoped>\n",
       "    .dataframe tbody tr th:only-of-type {\n",
       "        vertical-align: middle;\n",
       "    }\n",
       "\n",
       "    .dataframe tbody tr th {\n",
       "        vertical-align: top;\n",
       "    }\n",
       "\n",
       "    .dataframe thead th {\n",
       "        text-align: right;\n",
       "    }\n",
       "</style>\n",
       "<table border=\"1\" class=\"dataframe\">\n",
       "  <thead>\n",
       "    <tr style=\"text-align: right;\">\n",
       "      <th></th>\n",
       "      <th>Feature</th>\n",
       "      <th>NumMissing</th>\n",
       "      <th>PercentMissing</th>\n",
       "      <th>NumUnique</th>\n",
       "      <th>MostCommon</th>\n",
       "    </tr>\n",
       "  </thead>\n",
       "  <tbody>\n",
       "    <tr>\n",
       "      <th>0</th>\n",
       "      <td>report-no</td>\n",
       "      <td>98830</td>\n",
       "      <td>98.830</td>\n",
       "      <td>1157</td>\n",
       "      <td>ISSN 1947 5500</td>\n",
       "    </tr>\n",
       "    <tr>\n",
       "      <th>1</th>\n",
       "      <td>journal-ref</td>\n",
       "      <td>89217</td>\n",
       "      <td>89.217</td>\n",
       "      <td>10709</td>\n",
       "      <td>Dans Design, Automation and Test in Europe - D...</td>\n",
       "    </tr>\n",
       "    <tr>\n",
       "      <th>2</th>\n",
       "      <td>doi</td>\n",
       "      <td>84635</td>\n",
       "      <td>84.635</td>\n",
       "      <td>15362</td>\n",
       "      <td>10.1016/j.tcs.2019.09.013</td>\n",
       "    </tr>\n",
       "    <tr>\n",
       "      <th>3</th>\n",
       "      <td>comments</td>\n",
       "      <td>68220</td>\n",
       "      <td>68.220</td>\n",
       "      <td>23292</td>\n",
       "      <td>12 pages</td>\n",
       "    </tr>\n",
       "    <tr>\n",
       "      <th>4</th>\n",
       "      <td>license</td>\n",
       "      <td>52532</td>\n",
       "      <td>52.532</td>\n",
       "      <td>9</td>\n",
       "      <td>http://arxiv.org/licenses/nonexclusive-distrib...</td>\n",
       "    </tr>\n",
       "    <tr>\n",
       "      <th>5</th>\n",
       "      <td>submitter</td>\n",
       "      <td>50041</td>\n",
       "      <td>50.041</td>\n",
       "      <td>40229</td>\n",
       "      <td>EPTCS</td>\n",
       "    </tr>\n",
       "    <tr>\n",
       "      <th>6</th>\n",
       "      <td>id</td>\n",
       "      <td>50000</td>\n",
       "      <td>50.000</td>\n",
       "      <td>50000</td>\n",
       "      <td>1001.0088</td>\n",
       "    </tr>\n",
       "    <tr>\n",
       "      <th>7</th>\n",
       "      <td>authors</td>\n",
       "      <td>50000</td>\n",
       "      <td>50.000</td>\n",
       "      <td>48953</td>\n",
       "      <td>Lorenzo Iorio</td>\n",
       "    </tr>\n",
       "    <tr>\n",
       "      <th>8</th>\n",
       "      <td>title</td>\n",
       "      <td>50000</td>\n",
       "      <td>50.000</td>\n",
       "      <td>49998</td>\n",
       "      <td>Achieving the Secrecy Capacity of Wiretap Chan...</td>\n",
       "    </tr>\n",
       "    <tr>\n",
       "      <th>9</th>\n",
       "      <td>categories</td>\n",
       "      <td>50000</td>\n",
       "      <td>50.000</td>\n",
       "      <td>8908</td>\n",
       "      <td>cs.CV</td>\n",
       "    </tr>\n",
       "    <tr>\n",
       "      <th>10</th>\n",
       "      <td>abstract</td>\n",
       "      <td>50000</td>\n",
       "      <td>50.000</td>\n",
       "      <td>49996</td>\n",
       "      <td>Increasingly, business projects are ephemera...</td>\n",
       "    </tr>\n",
       "    <tr>\n",
       "      <th>11</th>\n",
       "      <td>versions</td>\n",
       "      <td>50000</td>\n",
       "      <td>50.000</td>\n",
       "      <td>49984</td>\n",
       "      <td>[{'version': 'v1', 'created': 'Wed, 27 Jun 201...</td>\n",
       "    </tr>\n",
       "    <tr>\n",
       "      <th>12</th>\n",
       "      <td>update_date</td>\n",
       "      <td>50000</td>\n",
       "      <td>50.000</td>\n",
       "      <td>3955</td>\n",
       "      <td>2007-05-23</td>\n",
       "    </tr>\n",
       "    <tr>\n",
       "      <th>13</th>\n",
       "      <td>authors_parsed</td>\n",
       "      <td>50000</td>\n",
       "      <td>50.000</td>\n",
       "      <td>48801</td>\n",
       "      <td>[['Iorio', 'Lorenzo', '']]</td>\n",
       "    </tr>\n",
       "  </tbody>\n",
       "</table>\n",
       "</div>\n",
       "      <button class=\"colab-df-convert\" onclick=\"convertToInteractive('df-6af49d26-9d66-4a1a-970c-3476cd60037d')\"\n",
       "              title=\"Convert this dataframe to an interactive table.\"\n",
       "              style=\"display:none;\">\n",
       "        \n",
       "  <svg xmlns=\"http://www.w3.org/2000/svg\" height=\"24px\"viewBox=\"0 0 24 24\"\n",
       "       width=\"24px\">\n",
       "    <path d=\"M0 0h24v24H0V0z\" fill=\"none\"/>\n",
       "    <path d=\"M18.56 5.44l.94 2.06.94-2.06 2.06-.94-2.06-.94-.94-2.06-.94 2.06-2.06.94zm-11 1L8.5 8.5l.94-2.06 2.06-.94-2.06-.94L8.5 2.5l-.94 2.06-2.06.94zm10 10l.94 2.06.94-2.06 2.06-.94-2.06-.94-.94-2.06-.94 2.06-2.06.94z\"/><path d=\"M17.41 7.96l-1.37-1.37c-.4-.4-.92-.59-1.43-.59-.52 0-1.04.2-1.43.59L10.3 9.45l-7.72 7.72c-.78.78-.78 2.05 0 2.83L4 21.41c.39.39.9.59 1.41.59.51 0 1.02-.2 1.41-.59l7.78-7.78 2.81-2.81c.8-.78.8-2.07 0-2.86zM5.41 20L4 18.59l7.72-7.72 1.47 1.35L5.41 20z\"/>\n",
       "  </svg>\n",
       "      </button>\n",
       "      \n",
       "  <style>\n",
       "    .colab-df-container {\n",
       "      display:flex;\n",
       "      flex-wrap:wrap;\n",
       "      gap: 12px;\n",
       "    }\n",
       "\n",
       "    .colab-df-convert {\n",
       "      background-color: #E8F0FE;\n",
       "      border: none;\n",
       "      border-radius: 50%;\n",
       "      cursor: pointer;\n",
       "      display: none;\n",
       "      fill: #1967D2;\n",
       "      height: 32px;\n",
       "      padding: 0 0 0 0;\n",
       "      width: 32px;\n",
       "    }\n",
       "\n",
       "    .colab-df-convert:hover {\n",
       "      background-color: #E2EBFA;\n",
       "      box-shadow: 0px 1px 2px rgba(60, 64, 67, 0.3), 0px 1px 3px 1px rgba(60, 64, 67, 0.15);\n",
       "      fill: #174EA6;\n",
       "    }\n",
       "\n",
       "    [theme=dark] .colab-df-convert {\n",
       "      background-color: #3B4455;\n",
       "      fill: #D2E3FC;\n",
       "    }\n",
       "\n",
       "    [theme=dark] .colab-df-convert:hover {\n",
       "      background-color: #434B5C;\n",
       "      box-shadow: 0px 1px 3px 1px rgba(0, 0, 0, 0.15);\n",
       "      filter: drop-shadow(0px 1px 2px rgba(0, 0, 0, 0.3));\n",
       "      fill: #FFFFFF;\n",
       "    }\n",
       "  </style>\n",
       "\n",
       "      <script>\n",
       "        const buttonEl =\n",
       "          document.querySelector('#df-6af49d26-9d66-4a1a-970c-3476cd60037d button.colab-df-convert');\n",
       "        buttonEl.style.display =\n",
       "          google.colab.kernel.accessAllowed ? 'block' : 'none';\n",
       "\n",
       "        async function convertToInteractive(key) {\n",
       "          const element = document.querySelector('#df-6af49d26-9d66-4a1a-970c-3476cd60037d');\n",
       "          const dataTable =\n",
       "            await google.colab.kernel.invokeFunction('convertToInteractive',\n",
       "                                                     [key], {});\n",
       "          if (!dataTable) return;\n",
       "\n",
       "          const docLinkHtml = 'Like what you see? Visit the ' +\n",
       "            '<a target=\"_blank\" href=https://colab.research.google.com/notebooks/data_table.ipynb>data table notebook</a>'\n",
       "            + ' to learn more about interactive tables.';\n",
       "          element.innerHTML = '';\n",
       "          dataTable['output_type'] = 'display_data';\n",
       "          await google.colab.output.renderOutput(dataTable, element);\n",
       "          const docLink = document.createElement('div');\n",
       "          docLink.innerHTML = docLinkHtml;\n",
       "          element.appendChild(docLink);\n",
       "        }\n",
       "      </script>\n",
       "    </div>\n",
       "  </div>\n",
       "  "
      ],
      "text/plain": [
       "           Feature  NumMissing  PercentMissing  NumUnique  \\\n",
       "0        report-no       98830          98.830       1157   \n",
       "1      journal-ref       89217          89.217      10709   \n",
       "2              doi       84635          84.635      15362   \n",
       "3         comments       68220          68.220      23292   \n",
       "4          license       52532          52.532          9   \n",
       "5        submitter       50041          50.041      40229   \n",
       "6               id       50000          50.000      50000   \n",
       "7          authors       50000          50.000      48953   \n",
       "8            title       50000          50.000      49998   \n",
       "9       categories       50000          50.000       8908   \n",
       "10        abstract       50000          50.000      49996   \n",
       "11        versions       50000          50.000      49984   \n",
       "12     update_date       50000          50.000       3955   \n",
       "13  authors_parsed       50000          50.000      48801   \n",
       "\n",
       "                                           MostCommon  \n",
       "0                                      ISSN 1947 5500  \n",
       "1   Dans Design, Automation and Test in Europe - D...  \n",
       "2                           10.1016/j.tcs.2019.09.013  \n",
       "3                                            12 pages  \n",
       "4   http://arxiv.org/licenses/nonexclusive-distrib...  \n",
       "5                                               EPTCS  \n",
       "6                                           1001.0088  \n",
       "7                                       Lorenzo Iorio  \n",
       "8   Achieving the Secrecy Capacity of Wiretap Chan...  \n",
       "9                                               cs.CV  \n",
       "10    Increasingly, business projects are ephemera...  \n",
       "11  [{'version': 'v1', 'created': 'Wed, 27 Jun 201...  \n",
       "12                                         2007-05-23  \n",
       "13                         [['Iorio', 'Lorenzo', '']]  "
      ]
     },
     "execution_count": 29,
     "metadata": {},
     "output_type": "execute_result"
    }
   ],
   "source": [
    "missing = CheckMissing(df)\n",
    "missing"
   ]
  },
  {
   "cell_type": "code",
   "execution_count": 30,
   "metadata": {
    "colab": {
     "base_uri": "https://localhost:8080/",
     "height": 363
    },
    "id": "6GEF06V30SpU",
    "outputId": "5319d805-b2f7-4b8b-ee73-ba950a8bfed9",
    "tags": []
   },
   "outputs": [
    {
     "data": {
      "text/html": [
       "\n",
       "  <div id=\"df-2ec69b27-b52d-46fd-8c6c-308a195556dc\">\n",
       "    <div class=\"colab-df-container\">\n",
       "      <div>\n",
       "<style scoped>\n",
       "    .dataframe tbody tr th:only-of-type {\n",
       "        vertical-align: middle;\n",
       "    }\n",
       "\n",
       "    .dataframe tbody tr th {\n",
       "        vertical-align: top;\n",
       "    }\n",
       "\n",
       "    .dataframe thead th {\n",
       "        text-align: right;\n",
       "    }\n",
       "</style>\n",
       "<table border=\"1\" class=\"dataframe\">\n",
       "  <thead>\n",
       "    <tr style=\"text-align: right;\">\n",
       "      <th></th>\n",
       "      <th>journal-ref</th>\n",
       "      <th>doi</th>\n",
       "    </tr>\n",
       "  </thead>\n",
       "  <tbody>\n",
       "    <tr>\n",
       "      <th>1</th>\n",
       "      <td>Science 345, 424-427 (2014)</td>\n",
       "      <td>10.1126/science.1250147</td>\n",
       "    </tr>\n",
       "    <tr>\n",
       "      <th>12</th>\n",
       "      <td>Phys. Rev. A 97, 051802 (2018)</td>\n",
       "      <td>10.1103/PhysRevA.97.051802</td>\n",
       "    </tr>\n",
       "    <tr>\n",
       "      <th>15</th>\n",
       "      <td>Neural Processing Letters (2022)</td>\n",
       "      <td>10.1007/s11063-022-10958-8</td>\n",
       "    </tr>\n",
       "    <tr>\n",
       "      <th>29</th>\n",
       "      <td>PoS(ICRC2021)1259 (2021)</td>\n",
       "      <td>10.22323/1.395.1259</td>\n",
       "    </tr>\n",
       "    <tr>\n",
       "      <th>30</th>\n",
       "      <td>Behavioral Ecology (2010) 21 (5): 1106-1111</td>\n",
       "      <td>10.1093/beheco/arq118</td>\n",
       "    </tr>\n",
       "    <tr>\n",
       "      <th>32</th>\n",
       "      <td>Proc. ISIT 2014, pp. 151-155</td>\n",
       "      <td>10.1109/ISIT.2014.6874813</td>\n",
       "    </tr>\n",
       "    <tr>\n",
       "      <th>34</th>\n",
       "      <td>Inverse problems 33 (2017) 125010</td>\n",
       "      <td>10.1088/1361-6420/aa9544</td>\n",
       "    </tr>\n",
       "    <tr>\n",
       "      <th>36</th>\n",
       "      <td>Int. J. Comput. Theor. Eng. 3 (2011) 261-269</td>\n",
       "      <td>10.7763/IJCTE.2011.V3.314</td>\n",
       "    </tr>\n",
       "    <tr>\n",
       "      <th>38</th>\n",
       "      <td>Nano Letters (2019)</td>\n",
       "      <td>10.1021/acs.nanolett.9b02844</td>\n",
       "    </tr>\n",
       "    <tr>\n",
       "      <th>40</th>\n",
       "      <td>IEEE J. of Lightwave Tech., 30, 3306-3315 (2012)</td>\n",
       "      <td>10.1109/JLT.2012.2214026</td>\n",
       "    </tr>\n",
       "  </tbody>\n",
       "</table>\n",
       "</div>\n",
       "      <button class=\"colab-df-convert\" onclick=\"convertToInteractive('df-2ec69b27-b52d-46fd-8c6c-308a195556dc')\"\n",
       "              title=\"Convert this dataframe to an interactive table.\"\n",
       "              style=\"display:none;\">\n",
       "        \n",
       "  <svg xmlns=\"http://www.w3.org/2000/svg\" height=\"24px\"viewBox=\"0 0 24 24\"\n",
       "       width=\"24px\">\n",
       "    <path d=\"M0 0h24v24H0V0z\" fill=\"none\"/>\n",
       "    <path d=\"M18.56 5.44l.94 2.06.94-2.06 2.06-.94-2.06-.94-.94-2.06-.94 2.06-2.06.94zm-11 1L8.5 8.5l.94-2.06 2.06-.94-2.06-.94L8.5 2.5l-.94 2.06-2.06.94zm10 10l.94 2.06.94-2.06 2.06-.94-2.06-.94-.94-2.06-.94 2.06-2.06.94z\"/><path d=\"M17.41 7.96l-1.37-1.37c-.4-.4-.92-.59-1.43-.59-.52 0-1.04.2-1.43.59L10.3 9.45l-7.72 7.72c-.78.78-.78 2.05 0 2.83L4 21.41c.39.39.9.59 1.41.59.51 0 1.02-.2 1.41-.59l7.78-7.78 2.81-2.81c.8-.78.8-2.07 0-2.86zM5.41 20L4 18.59l7.72-7.72 1.47 1.35L5.41 20z\"/>\n",
       "  </svg>\n",
       "      </button>\n",
       "      \n",
       "  <style>\n",
       "    .colab-df-container {\n",
       "      display:flex;\n",
       "      flex-wrap:wrap;\n",
       "      gap: 12px;\n",
       "    }\n",
       "\n",
       "    .colab-df-convert {\n",
       "      background-color: #E8F0FE;\n",
       "      border: none;\n",
       "      border-radius: 50%;\n",
       "      cursor: pointer;\n",
       "      display: none;\n",
       "      fill: #1967D2;\n",
       "      height: 32px;\n",
       "      padding: 0 0 0 0;\n",
       "      width: 32px;\n",
       "    }\n",
       "\n",
       "    .colab-df-convert:hover {\n",
       "      background-color: #E2EBFA;\n",
       "      box-shadow: 0px 1px 2px rgba(60, 64, 67, 0.3), 0px 1px 3px 1px rgba(60, 64, 67, 0.15);\n",
       "      fill: #174EA6;\n",
       "    }\n",
       "\n",
       "    [theme=dark] .colab-df-convert {\n",
       "      background-color: #3B4455;\n",
       "      fill: #D2E3FC;\n",
       "    }\n",
       "\n",
       "    [theme=dark] .colab-df-convert:hover {\n",
       "      background-color: #434B5C;\n",
       "      box-shadow: 0px 1px 3px 1px rgba(0, 0, 0, 0.15);\n",
       "      filter: drop-shadow(0px 1px 2px rgba(0, 0, 0, 0.3));\n",
       "      fill: #FFFFFF;\n",
       "    }\n",
       "  </style>\n",
       "\n",
       "      <script>\n",
       "        const buttonEl =\n",
       "          document.querySelector('#df-2ec69b27-b52d-46fd-8c6c-308a195556dc button.colab-df-convert');\n",
       "        buttonEl.style.display =\n",
       "          google.colab.kernel.accessAllowed ? 'block' : 'none';\n",
       "\n",
       "        async function convertToInteractive(key) {\n",
       "          const element = document.querySelector('#df-2ec69b27-b52d-46fd-8c6c-308a195556dc');\n",
       "          const dataTable =\n",
       "            await google.colab.kernel.invokeFunction('convertToInteractive',\n",
       "                                                     [key], {});\n",
       "          if (!dataTable) return;\n",
       "\n",
       "          const docLinkHtml = 'Like what you see? Visit the ' +\n",
       "            '<a target=\"_blank\" href=https://colab.research.google.com/notebooks/data_table.ipynb>data table notebook</a>'\n",
       "            + ' to learn more about interactive tables.';\n",
       "          element.innerHTML = '';\n",
       "          dataTable['output_type'] = 'display_data';\n",
       "          await google.colab.output.renderOutput(dataTable, element);\n",
       "          const docLink = document.createElement('div');\n",
       "          docLink.innerHTML = docLinkHtml;\n",
       "          element.appendChild(docLink);\n",
       "        }\n",
       "      </script>\n",
       "    </div>\n",
       "  </div>\n",
       "  "
      ],
      "text/plain": [
       "                                         journal-ref  \\\n",
       "1                        Science 345, 424-427 (2014)   \n",
       "12                    Phys. Rev. A 97, 051802 (2018)   \n",
       "15                  Neural Processing Letters (2022)   \n",
       "29                          PoS(ICRC2021)1259 (2021)   \n",
       "30       Behavioral Ecology (2010) 21 (5): 1106-1111   \n",
       "32                      Proc. ISIT 2014, pp. 151-155   \n",
       "34                 Inverse problems 33 (2017) 125010   \n",
       "36      Int. J. Comput. Theor. Eng. 3 (2011) 261-269   \n",
       "38                               Nano Letters (2019)   \n",
       "40  IEEE J. of Lightwave Tech., 30, 3306-3315 (2012)   \n",
       "\n",
       "                             doi  \n",
       "1        10.1126/science.1250147  \n",
       "12    10.1103/PhysRevA.97.051802  \n",
       "15    10.1007/s11063-022-10958-8  \n",
       "29           10.22323/1.395.1259  \n",
       "30         10.1093/beheco/arq118  \n",
       "32     10.1109/ISIT.2014.6874813  \n",
       "34      10.1088/1361-6420/aa9544  \n",
       "36     10.7763/IJCTE.2011.V3.314  \n",
       "38  10.1021/acs.nanolett.9b02844  \n",
       "40      10.1109/JLT.2012.2214026  "
      ]
     },
     "execution_count": 30,
     "metadata": {},
     "output_type": "execute_result"
    }
   ],
   "source": [
    "df[df['doi'].notna() & df['journal-ref'].notna()].iloc[:10,5:7]"
   ]
  },
  {
   "cell_type": "code",
   "execution_count": 31,
   "metadata": {
    "id": "wwpBPl0m0SpU",
    "tags": []
   },
   "outputs": [],
   "source": [
    "df.dropna(subset='abstract',inplace=True)"
   ]
  },
  {
   "cell_type": "code",
   "execution_count": 32,
   "metadata": {
    "colab": {
     "base_uri": "https://localhost:8080/",
     "height": 272
    },
    "id": "QM2fpZbw0SpU",
    "outputId": "49903193-4b29-499f-ce0a-208847306ea9",
    "tags": []
   },
   "outputs": [
    {
     "name": "stdout",
     "output_type": "stream",
     "text": [
      "\n",
      "\n",
      "There are 6 features out of 14 features with missing values in the dataset.\n"
     ]
    },
    {
     "data": {
      "text/html": [
       "\n",
       "  <div id=\"df-a12cc099-d8b4-45c8-bc1a-02e2c3f22bde\">\n",
       "    <div class=\"colab-df-container\">\n",
       "      <div>\n",
       "<style scoped>\n",
       "    .dataframe tbody tr th:only-of-type {\n",
       "        vertical-align: middle;\n",
       "    }\n",
       "\n",
       "    .dataframe tbody tr th {\n",
       "        vertical-align: top;\n",
       "    }\n",
       "\n",
       "    .dataframe thead th {\n",
       "        text-align: right;\n",
       "    }\n",
       "</style>\n",
       "<table border=\"1\" class=\"dataframe\">\n",
       "  <thead>\n",
       "    <tr style=\"text-align: right;\">\n",
       "      <th></th>\n",
       "      <th>Feature</th>\n",
       "      <th>NumMissing</th>\n",
       "      <th>PercentMissing</th>\n",
       "      <th>NumUnique</th>\n",
       "      <th>MostCommon</th>\n",
       "    </tr>\n",
       "  </thead>\n",
       "  <tbody>\n",
       "    <tr>\n",
       "      <th>0</th>\n",
       "      <td>report-no</td>\n",
       "      <td>48830</td>\n",
       "      <td>97.660</td>\n",
       "      <td>1157</td>\n",
       "      <td>ISSN 1947 5500</td>\n",
       "    </tr>\n",
       "    <tr>\n",
       "      <th>1</th>\n",
       "      <td>journal-ref</td>\n",
       "      <td>39217</td>\n",
       "      <td>78.434</td>\n",
       "      <td>10709</td>\n",
       "      <td>Dans Design, Automation and Test in Europe - D...</td>\n",
       "    </tr>\n",
       "    <tr>\n",
       "      <th>2</th>\n",
       "      <td>doi</td>\n",
       "      <td>34635</td>\n",
       "      <td>69.270</td>\n",
       "      <td>15362</td>\n",
       "      <td>10.1016/j.tcs.2019.09.013</td>\n",
       "    </tr>\n",
       "    <tr>\n",
       "      <th>3</th>\n",
       "      <td>comments</td>\n",
       "      <td>18220</td>\n",
       "      <td>36.440</td>\n",
       "      <td>23292</td>\n",
       "      <td>12 pages</td>\n",
       "    </tr>\n",
       "    <tr>\n",
       "      <th>4</th>\n",
       "      <td>license</td>\n",
       "      <td>2532</td>\n",
       "      <td>5.064</td>\n",
       "      <td>9</td>\n",
       "      <td>http://arxiv.org/licenses/nonexclusive-distrib...</td>\n",
       "    </tr>\n",
       "    <tr>\n",
       "      <th>5</th>\n",
       "      <td>submitter</td>\n",
       "      <td>41</td>\n",
       "      <td>0.082</td>\n",
       "      <td>40229</td>\n",
       "      <td>EPTCS</td>\n",
       "    </tr>\n",
       "  </tbody>\n",
       "</table>\n",
       "</div>\n",
       "      <button class=\"colab-df-convert\" onclick=\"convertToInteractive('df-a12cc099-d8b4-45c8-bc1a-02e2c3f22bde')\"\n",
       "              title=\"Convert this dataframe to an interactive table.\"\n",
       "              style=\"display:none;\">\n",
       "        \n",
       "  <svg xmlns=\"http://www.w3.org/2000/svg\" height=\"24px\"viewBox=\"0 0 24 24\"\n",
       "       width=\"24px\">\n",
       "    <path d=\"M0 0h24v24H0V0z\" fill=\"none\"/>\n",
       "    <path d=\"M18.56 5.44l.94 2.06.94-2.06 2.06-.94-2.06-.94-.94-2.06-.94 2.06-2.06.94zm-11 1L8.5 8.5l.94-2.06 2.06-.94-2.06-.94L8.5 2.5l-.94 2.06-2.06.94zm10 10l.94 2.06.94-2.06 2.06-.94-2.06-.94-.94-2.06-.94 2.06-2.06.94z\"/><path d=\"M17.41 7.96l-1.37-1.37c-.4-.4-.92-.59-1.43-.59-.52 0-1.04.2-1.43.59L10.3 9.45l-7.72 7.72c-.78.78-.78 2.05 0 2.83L4 21.41c.39.39.9.59 1.41.59.51 0 1.02-.2 1.41-.59l7.78-7.78 2.81-2.81c.8-.78.8-2.07 0-2.86zM5.41 20L4 18.59l7.72-7.72 1.47 1.35L5.41 20z\"/>\n",
       "  </svg>\n",
       "      </button>\n",
       "      \n",
       "  <style>\n",
       "    .colab-df-container {\n",
       "      display:flex;\n",
       "      flex-wrap:wrap;\n",
       "      gap: 12px;\n",
       "    }\n",
       "\n",
       "    .colab-df-convert {\n",
       "      background-color: #E8F0FE;\n",
       "      border: none;\n",
       "      border-radius: 50%;\n",
       "      cursor: pointer;\n",
       "      display: none;\n",
       "      fill: #1967D2;\n",
       "      height: 32px;\n",
       "      padding: 0 0 0 0;\n",
       "      width: 32px;\n",
       "    }\n",
       "\n",
       "    .colab-df-convert:hover {\n",
       "      background-color: #E2EBFA;\n",
       "      box-shadow: 0px 1px 2px rgba(60, 64, 67, 0.3), 0px 1px 3px 1px rgba(60, 64, 67, 0.15);\n",
       "      fill: #174EA6;\n",
       "    }\n",
       "\n",
       "    [theme=dark] .colab-df-convert {\n",
       "      background-color: #3B4455;\n",
       "      fill: #D2E3FC;\n",
       "    }\n",
       "\n",
       "    [theme=dark] .colab-df-convert:hover {\n",
       "      background-color: #434B5C;\n",
       "      box-shadow: 0px 1px 3px 1px rgba(0, 0, 0, 0.15);\n",
       "      filter: drop-shadow(0px 1px 2px rgba(0, 0, 0, 0.3));\n",
       "      fill: #FFFFFF;\n",
       "    }\n",
       "  </style>\n",
       "\n",
       "      <script>\n",
       "        const buttonEl =\n",
       "          document.querySelector('#df-a12cc099-d8b4-45c8-bc1a-02e2c3f22bde button.colab-df-convert');\n",
       "        buttonEl.style.display =\n",
       "          google.colab.kernel.accessAllowed ? 'block' : 'none';\n",
       "\n",
       "        async function convertToInteractive(key) {\n",
       "          const element = document.querySelector('#df-a12cc099-d8b4-45c8-bc1a-02e2c3f22bde');\n",
       "          const dataTable =\n",
       "            await google.colab.kernel.invokeFunction('convertToInteractive',\n",
       "                                                     [key], {});\n",
       "          if (!dataTable) return;\n",
       "\n",
       "          const docLinkHtml = 'Like what you see? Visit the ' +\n",
       "            '<a target=\"_blank\" href=https://colab.research.google.com/notebooks/data_table.ipynb>data table notebook</a>'\n",
       "            + ' to learn more about interactive tables.';\n",
       "          element.innerHTML = '';\n",
       "          dataTable['output_type'] = 'display_data';\n",
       "          await google.colab.output.renderOutput(dataTable, element);\n",
       "          const docLink = document.createElement('div');\n",
       "          docLink.innerHTML = docLinkHtml;\n",
       "          element.appendChild(docLink);\n",
       "        }\n",
       "      </script>\n",
       "    </div>\n",
       "  </div>\n",
       "  "
      ],
      "text/plain": [
       "       Feature  NumMissing  PercentMissing  NumUnique  \\\n",
       "0    report-no       48830          97.660       1157   \n",
       "1  journal-ref       39217          78.434      10709   \n",
       "2          doi       34635          69.270      15362   \n",
       "3     comments       18220          36.440      23292   \n",
       "4      license        2532           5.064          9   \n",
       "5    submitter          41           0.082      40229   \n",
       "\n",
       "                                          MostCommon  \n",
       "0                                     ISSN 1947 5500  \n",
       "1  Dans Design, Automation and Test in Europe - D...  \n",
       "2                          10.1016/j.tcs.2019.09.013  \n",
       "3                                           12 pages  \n",
       "4  http://arxiv.org/licenses/nonexclusive-distrib...  \n",
       "5                                              EPTCS  "
      ]
     },
     "execution_count": 32,
     "metadata": {},
     "output_type": "execute_result"
    }
   ],
   "source": [
    "missing = CheckMissing(df)\n",
    "missing"
   ]
  },
  {
   "cell_type": "code",
   "execution_count": 33,
   "metadata": {
    "colab": {
     "base_uri": "https://localhost:8080/",
     "height": 1000
    },
    "id": "xkskMIQc0SpU",
    "outputId": "75829977-1139-4961-b8b9-d1b55c6d7975",
    "tags": []
   },
   "outputs": [
    {
     "data": {
      "text/plain": [
       "<Axes: >"
      ]
     },
     "execution_count": 33,
     "metadata": {},
     "output_type": "execute_result"
    },
    {
     "data": {
      "image/png": "[encoded data removed]",
      "text/plain": [
       "<Figure size 2000x1200 with 2 Axes>"
      ]
     },
     "metadata": {},
     "output_type": "display_data"
    }
   ],
   "source": [
    "msno.heatmap(df)"
   ]
  },
  {
   "cell_type": "markdown",
   "metadata": {
    "id": "K5Teku500SpV"
   },
   "source": [
    "<a><font size=\"3\"><b>OBSERVATION:</b></font></a>\n",
    "All missing pattern are **MCAT**\n",
    "\n",
    "* `report-no` and `journal-ref` these features have a very high percentage of missing values (97.660% and 78.434). Column deletion may be good option.\n",
    "* `submitter`: This feature has a low percentage of missing values (0.082%). I will use the most common submitter as an estimate for the missing values.\n",
    "* `doi`,`comments` and `license` columns seem to be uninformative so, column deletion may be good option."
   ]
  },
  {
   "cell_type": "code",
   "execution_count": 34,
   "metadata": {
    "colab": {
     "base_uri": "https://localhost:8080/",
     "height": 337
    },
    "id": "YrFwXlwe0SpV",
    "outputId": "e0000479-3d98-48e4-cdc7-b4f9c7d7b222",
    "tags": []
   },
   "outputs": [
    {
     "data": {
      "text/html": [
       "\n",
       "  <div id=\"df-caccbc30-7d60-4947-957a-b07a33fa7b58\">\n",
       "    <div class=\"colab-df-container\">\n",
       "      <div>\n",
       "<style scoped>\n",
       "    .dataframe tbody tr th:only-of-type {\n",
       "        vertical-align: middle;\n",
       "    }\n",
       "\n",
       "    .dataframe tbody tr th {\n",
       "        vertical-align: top;\n",
       "    }\n",
       "\n",
       "    .dataframe thead th {\n",
       "        text-align: right;\n",
       "    }\n",
       "</style>\n",
       "<table border=\"1\" class=\"dataframe\">\n",
       "  <thead>\n",
       "    <tr style=\"text-align: right;\">\n",
       "      <th></th>\n",
       "      <th>id</th>\n",
       "      <th>authors</th>\n",
       "      <th>title</th>\n",
       "      <th>categories</th>\n",
       "      <th>abstract</th>\n",
       "      <th>versions</th>\n",
       "      <th>update_date</th>\n",
       "      <th>authors_parsed</th>\n",
       "    </tr>\n",
       "  </thead>\n",
       "  <tbody>\n",
       "    <tr>\n",
       "      <th>0</th>\n",
       "      <td>2006.15607</td>\n",
       "      <td>Youngwan Lee, Joong-won Hwang, Hyung-Il Kim, K...</td>\n",
       "      <td>Localization Uncertainty Estimation for Anchor...</td>\n",
       "      <td>cs.CV</td>\n",
       "      <td>Since many safety-critical systems, such as ...</td>\n",
       "      <td>[{'version': 'v1', 'created': 'Sun, 28 Jun 202...</td>\n",
       "      <td>2022-07-07</td>\n",
       "      <td>[['Lee', 'Youngwan', ''], ['Hwang', 'Joong-won...</td>\n",
       "    </tr>\n",
       "    <tr>\n",
       "      <th>1</th>\n",
       "      <td>1507.03782</td>\n",
       "      <td>Helmut Strobel, Wolfgang Muessel, Daniel Linne...</td>\n",
       "      <td>Fisher Information and entanglement of non-Gau...</td>\n",
       "      <td>quant-ph cond-mat.quant-gas physics.atom-ph</td>\n",
       "      <td>Entanglement is the key quantum resource for...</td>\n",
       "      <td>[{'version': 'v1', 'created': 'Tue, 14 Jul 201...</td>\n",
       "      <td>2015-07-15</td>\n",
       "      <td>[['Strobel', 'Helmut', ''], ['Muessel', 'Wolfg...</td>\n",
       "    </tr>\n",
       "    <tr>\n",
       "      <th>2</th>\n",
       "      <td>901.4201</td>\n",
       "      <td>Denis Lugiez (LIF), St\\'ephane Martin (LIF)</td>\n",
       "      <td>Peer to Peer Optimistic Collaborative Editing ...</td>\n",
       "      <td>cs.DS</td>\n",
       "      <td>Collaborative editing consists in editing a ...</td>\n",
       "      <td>[{'version': 'v1', 'created': 'Tue, 27 Jan 200...</td>\n",
       "      <td>2009-01-28</td>\n",
       "      <td>[['Lugiez', 'Denis', '', 'LIF'], ['Martin', 'S...</td>\n",
       "    </tr>\n",
       "    <tr>\n",
       "      <th>3</th>\n",
       "      <td>1802.05814</td>\n",
       "      <td>Dawen Liang, Rahul G. Krishnan, Matthew D. Hof...</td>\n",
       "      <td>Variational Autoencoders for Collaborative Fil...</td>\n",
       "      <td>stat.ML cs.IR cs.LG</td>\n",
       "      <td>We extend variational autoencoders (VAEs) to...</td>\n",
       "      <td>[{'version': 'v1', 'created': 'Fri, 16 Feb 201...</td>\n",
       "      <td>2018-02-19</td>\n",
       "      <td>[['Liang', 'Dawen', ''], ['Krishnan', 'Rahul G...</td>\n",
       "    </tr>\n",
       "    <tr>\n",
       "      <th>4</th>\n",
       "      <td>1010.5069</td>\n",
       "      <td>Philippe Maincon</td>\n",
       "      <td>A Wiener-Laguerre model of VIV forces given re...</td>\n",
       "      <td>physics.flu-dyn</td>\n",
       "      <td>Slender structures immersed in a cross flow ...</td>\n",
       "      <td>[{'version': 'v1', 'created': 'Mon, 25 Oct 201...</td>\n",
       "      <td>2010-10-26</td>\n",
       "      <td>[['Maincon', 'Philippe', '']]</td>\n",
       "    </tr>\n",
       "  </tbody>\n",
       "</table>\n",
       "</div>\n",
       "      <button class=\"colab-df-convert\" onclick=\"convertToInteractive('df-caccbc30-7d60-4947-957a-b07a33fa7b58')\"\n",
       "              title=\"Convert this dataframe to an interactive table.\"\n",
       "              style=\"display:none;\">\n",
       "        \n",
       "  <svg xmlns=\"http://www.w3.org/2000/svg\" height=\"24px\"viewBox=\"0 0 24 24\"\n",
       "       width=\"24px\">\n",
       "    <path d=\"M0 0h24v24H0V0z\" fill=\"none\"/>\n",
       "    <path d=\"M18.56 5.44l.94 2.06.94-2.06 2.06-.94-2.06-.94-.94-2.06-.94 2.06-2.06.94zm-11 1L8.5 8.5l.94-2.06 2.06-.94-2.06-.94L8.5 2.5l-.94 2.06-2.06.94zm10 10l.94 2.06.94-2.06 2.06-.94-2.06-.94-.94-2.06-.94 2.06-2.06.94z\"/><path d=\"M17.41 7.96l-1.37-1.37c-.4-.4-.92-.59-1.43-.59-.52 0-1.04.2-1.43.59L10.3 9.45l-7.72 7.72c-.78.78-.78 2.05 0 2.83L4 21.41c.39.39.9.59 1.41.59.51 0 1.02-.2 1.41-.59l7.78-7.78 2.81-2.81c.8-.78.8-2.07 0-2.86zM5.41 20L4 18.59l7.72-7.72 1.47 1.35L5.41 20z\"/>\n",
       "  </svg>\n",
       "      </button>\n",
       "      \n",
       "  <style>\n",
       "    .colab-df-container {\n",
       "      display:flex;\n",
       "      flex-wrap:wrap;\n",
       "      gap: 12px;\n",
       "    }\n",
       "\n",
       "    .colab-df-convert {\n",
       "      background-color: #E8F0FE;\n",
       "      border: none;\n",
       "      border-radius: 50%;\n",
       "      cursor: pointer;\n",
       "      display: none;\n",
       "      fill: #1967D2;\n",
       "      height: 32px;\n",
       "      padding: 0 0 0 0;\n",
       "      width: 32px;\n",
       "    }\n",
       "\n",
       "    .colab-df-convert:hover {\n",
       "      background-color: #E2EBFA;\n",
       "      box-shadow: 0px 1px 2px rgba(60, 64, 67, 0.3), 0px 1px 3px 1px rgba(60, 64, 67, 0.15);\n",
       "      fill: #174EA6;\n",
       "    }\n",
       "\n",
       "    [theme=dark] .colab-df-convert {\n",
       "      background-color: #3B4455;\n",
       "      fill: #D2E3FC;\n",
       "    }\n",
       "\n",
       "    [theme=dark] .colab-df-convert:hover {\n",
       "      background-color: #434B5C;\n",
       "      box-shadow: 0px 1px 3px 1px rgba(0, 0, 0, 0.15);\n",
       "      filter: drop-shadow(0px 1px 2px rgba(0, 0, 0, 0.3));\n",
       "      fill: #FFFFFF;\n",
       "    }\n",
       "  </style>\n",
       "\n",
       "      <script>\n",
       "        const buttonEl =\n",
       "          document.querySelector('#df-caccbc30-7d60-4947-957a-b07a33fa7b58 button.colab-df-convert');\n",
       "        buttonEl.style.display =\n",
       "          google.colab.kernel.accessAllowed ? 'block' : 'none';\n",
       "\n",
       "        async function convertToInteractive(key) {\n",
       "          const element = document.querySelector('#df-caccbc30-7d60-4947-957a-b07a33fa7b58');\n",
       "          const dataTable =\n",
       "            await google.colab.kernel.invokeFunction('convertToInteractive',\n",
       "                                                     [key], {});\n",
       "          if (!dataTable) return;\n",
       "\n",
       "          const docLinkHtml = 'Like what you see? Visit the ' +\n",
       "            '<a target=\"_blank\" href=https://colab.research.google.com/notebooks/data_table.ipynb>data table notebook</a>'\n",
       "            + ' to learn more about interactive tables.';\n",
       "          element.innerHTML = '';\n",
       "          dataTable['output_type'] = 'display_data';\n",
       "          await google.colab.output.renderOutput(dataTable, element);\n",
       "          const docLink = document.createElement('div');\n",
       "          docLink.innerHTML = docLinkHtml;\n",
       "          element.appendChild(docLink);\n",
       "        }\n",
       "      </script>\n",
       "    </div>\n",
       "  </div>\n",
       "  "
      ],
      "text/plain": [
       "           id                                            authors  \\\n",
       "0  2006.15607  Youngwan Lee, Joong-won Hwang, Hyung-Il Kim, K...   \n",
       "1  1507.03782  Helmut Strobel, Wolfgang Muessel, Daniel Linne...   \n",
       "2    901.4201        Denis Lugiez (LIF), St\\'ephane Martin (LIF)   \n",
       "3  1802.05814  Dawen Liang, Rahul G. Krishnan, Matthew D. Hof...   \n",
       "4   1010.5069                                   Philippe Maincon   \n",
       "\n",
       "                                               title  \\\n",
       "0  Localization Uncertainty Estimation for Anchor...   \n",
       "1  Fisher Information and entanglement of non-Gau...   \n",
       "2  Peer to Peer Optimistic Collaborative Editing ...   \n",
       "3  Variational Autoencoders for Collaborative Fil...   \n",
       "4  A Wiener-Laguerre model of VIV forces given re...   \n",
       "\n",
       "                                    categories  \\\n",
       "0                                        cs.CV   \n",
       "1  quant-ph cond-mat.quant-gas physics.atom-ph   \n",
       "2                                        cs.DS   \n",
       "3                          stat.ML cs.IR cs.LG   \n",
       "4                              physics.flu-dyn   \n",
       "\n",
       "                                            abstract  \\\n",
       "0    Since many safety-critical systems, such as ...   \n",
       "1    Entanglement is the key quantum resource for...   \n",
       "2    Collaborative editing consists in editing a ...   \n",
       "3    We extend variational autoencoders (VAEs) to...   \n",
       "4    Slender structures immersed in a cross flow ...   \n",
       "\n",
       "                                            versions update_date  \\\n",
       "0  [{'version': 'v1', 'created': 'Sun, 28 Jun 202...  2022-07-07   \n",
       "1  [{'version': 'v1', 'created': 'Tue, 14 Jul 201...  2015-07-15   \n",
       "2  [{'version': 'v1', 'created': 'Tue, 27 Jan 200...  2009-01-28   \n",
       "3  [{'version': 'v1', 'created': 'Fri, 16 Feb 201...  2018-02-19   \n",
       "4  [{'version': 'v1', 'created': 'Mon, 25 Oct 201...  2010-10-26   \n",
       "\n",
       "                                      authors_parsed  \n",
       "0  [['Lee', 'Youngwan', ''], ['Hwang', 'Joong-won...  \n",
       "1  [['Strobel', 'Helmut', ''], ['Muessel', 'Wolfg...  \n",
       "2  [['Lugiez', 'Denis', '', 'LIF'], ['Martin', 'S...  \n",
       "3  [['Liang', 'Dawen', ''], ['Krishnan', 'Rahul G...  \n",
       "4                      [['Maincon', 'Philippe', '']]  "
      ]
     },
     "execution_count": 34,
     "metadata": {},
     "output_type": "execute_result"
    }
   ],
   "source": [
    "df2=df.drop(missing.Feature, axis = 1)\n",
    "df2.head()"
   ]
  },
  {
   "cell_type": "code",
   "execution_count": 35,
   "metadata": {
    "colab": {
     "base_uri": "https://localhost:8080/"
    },
    "id": "ppiZrM970SpV",
    "outputId": "64f5d042-b599-40ca-b68e-a4f571fa28c6",
    "tags": []
   },
   "outputs": [
    {
     "data": {
      "text/plain": [
       "id                        string\n",
       "authors                   string\n",
       "title                     string\n",
       "categories                string\n",
       "abstract                  string\n",
       "versions                  object\n",
       "update_date       datetime64[ns]\n",
       "authors_parsed            object\n",
       "dtype: object"
      ]
     },
     "execution_count": 35,
     "metadata": {},
     "output_type": "execute_result"
    }
   ],
   "source": [
    "df2 = df2.astype({\n",
    "    'id': 'string',\n",
    "    'authors': 'string',\n",
    "    'title': 'string',\n",
    "    'categories': 'string',\n",
    "    'abstract': 'string'})\n",
    "\n",
    "df2['update_date'] = pd.to_datetime(df2['update_date'])\n",
    "df2.dtypes"
   ]
  },
  {
   "cell_type": "markdown",
   "metadata": {
    "id": "mLNblASP0SpV"
   },
   "source": [
    "## **Check Duplication**"
   ]
  },
  {
   "cell_type": "code",
   "execution_count": 36,
   "metadata": {
    "colab": {
     "base_uri": "https://localhost:8080/",
     "height": 300
    },
    "id": "BIFgOyud0SpV",
    "outputId": "2f993b0e-6cff-4e5e-c7a1-4e8cb9b35c6f",
    "tags": []
   },
   "outputs": [
    {
     "data": {
      "text/html": [
       "\n",
       "  <div id=\"df-03785035-f389-4f2e-818a-ef8b12689897\">\n",
       "    <div class=\"colab-df-container\">\n",
       "      <div>\n",
       "<style scoped>\n",
       "    .dataframe tbody tr th:only-of-type {\n",
       "        vertical-align: middle;\n",
       "    }\n",
       "\n",
       "    .dataframe tbody tr th {\n",
       "        vertical-align: top;\n",
       "    }\n",
       "\n",
       "    .dataframe thead th {\n",
       "        text-align: right;\n",
       "    }\n",
       "</style>\n",
       "<table border=\"1\" class=\"dataframe\">\n",
       "  <thead>\n",
       "    <tr style=\"text-align: right;\">\n",
       "      <th></th>\n",
       "      <th>id</th>\n",
       "      <th>title</th>\n",
       "      <th>abstract</th>\n",
       "    </tr>\n",
       "  </thead>\n",
       "  <tbody>\n",
       "    <tr>\n",
       "      <th>259</th>\n",
       "      <td>905.2657</td>\n",
       "      <td>Web 2.0 OLAP: From Data Cubes to Tag Clouds</td>\n",
       "      <td>Increasingly, business projects are ephemera...</td>\n",
       "    </tr>\n",
       "    <tr>\n",
       "      <th>9735</th>\n",
       "      <td>1808.09361</td>\n",
       "      <td>On the Distributability of Mobile Ambients</td>\n",
       "      <td>Modern society is dependent on distributed s...</td>\n",
       "    </tr>\n",
       "    <tr>\n",
       "      <th>11892</th>\n",
       "      <td>710.2156</td>\n",
       "      <td>Collaborative OLAP with Tag Clouds: Web 2.0 OL...</td>\n",
       "      <td>Increasingly, business projects are ephemera...</td>\n",
       "    </tr>\n",
       "    <tr>\n",
       "      <th>15287</th>\n",
       "      <td>1808.01599</td>\n",
       "      <td>On the Distributability of Mobile Ambients (Te...</td>\n",
       "      <td>Modern society is dependent on distributed s...</td>\n",
       "    </tr>\n",
       "    <tr>\n",
       "      <th>26999</th>\n",
       "      <td>physics/0502052</td>\n",
       "      <td>Observations and simulations of receiver-induc...</td>\n",
       "      <td>This paper has been withdrawn.</td>\n",
       "    </tr>\n",
       "    <tr>\n",
       "      <th>41601</th>\n",
       "      <td>cs/0703103</td>\n",
       "      <td>Concept of a Value in Multilevel Security Data...</td>\n",
       "      <td>This paper has been withdrawn.</td>\n",
       "    </tr>\n",
       "    <tr>\n",
       "      <th>43560</th>\n",
       "      <td>cs/0402041</td>\n",
       "      <td>Examples of Models of the Asynchronous Circuits</td>\n",
       "      <td>We define the delays of a circuit, as well a...</td>\n",
       "    </tr>\n",
       "    <tr>\n",
       "      <th>46617</th>\n",
       "      <td>cs/0402040</td>\n",
       "      <td>Defining the Delays of the Asynchronous Circuits</td>\n",
       "      <td>We define the delays of a circuit, as well a...</td>\n",
       "    </tr>\n",
       "  </tbody>\n",
       "</table>\n",
       "</div>\n",
       "      <button class=\"colab-df-convert\" onclick=\"convertToInteractive('df-03785035-f389-4f2e-818a-ef8b12689897')\"\n",
       "              title=\"Convert this dataframe to an interactive table.\"\n",
       "              style=\"display:none;\">\n",
       "        \n",
       "  <svg xmlns=\"http://www.w3.org/2000/svg\" height=\"24px\"viewBox=\"0 0 24 24\"\n",
       "       width=\"24px\">\n",
       "    <path d=\"M0 0h24v24H0V0z\" fill=\"none\"/>\n",
       "    <path d=\"M18.56 5.44l.94 2.06.94-2.06 2.06-.94-2.06-.94-.94-2.06-.94 2.06-2.06.94zm-11 1L8.5 8.5l.94-2.06 2.06-.94-2.06-.94L8.5 2.5l-.94 2.06-2.06.94zm10 10l.94 2.06.94-2.06 2.06-.94-2.06-.94-.94-2.06-.94 2.06-2.06.94z\"/><path d=\"M17.41 7.96l-1.37-1.37c-.4-.4-.92-.59-1.43-.59-.52 0-1.04.2-1.43.59L10.3 9.45l-7.72 7.72c-.78.78-.78 2.05 0 2.83L4 21.41c.39.39.9.59 1.41.59.51 0 1.02-.2 1.41-.59l7.78-7.78 2.81-2.81c.8-.78.8-2.07 0-2.86zM5.41 20L4 18.59l7.72-7.72 1.47 1.35L5.41 20z\"/>\n",
       "  </svg>\n",
       "      </button>\n",
       "      \n",
       "  <style>\n",
       "    .colab-df-container {\n",
       "      display:flex;\n",
       "      flex-wrap:wrap;\n",
       "      gap: 12px;\n",
       "    }\n",
       "\n",
       "    .colab-df-convert {\n",
       "      background-color: #E8F0FE;\n",
       "      border: none;\n",
       "      border-radius: 50%;\n",
       "      cursor: pointer;\n",
       "      display: none;\n",
       "      fill: #1967D2;\n",
       "      height: 32px;\n",
       "      padding: 0 0 0 0;\n",
       "      width: 32px;\n",
       "    }\n",
       "\n",
       "    .colab-df-convert:hover {\n",
       "      background-color: #E2EBFA;\n",
       "      box-shadow: 0px 1px 2px rgba(60, 64, 67, 0.3), 0px 1px 3px 1px rgba(60, 64, 67, 0.15);\n",
       "      fill: #174EA6;\n",
       "    }\n",
       "\n",
       "    [theme=dark] .colab-df-convert {\n",
       "      background-color: #3B4455;\n",
       "      fill: #D2E3FC;\n",
       "    }\n",
       "\n",
       "    [theme=dark] .colab-df-convert:hover {\n",
       "      background-color: #434B5C;\n",
       "      box-shadow: 0px 1px 3px 1px rgba(0, 0, 0, 0.15);\n",
       "      filter: drop-shadow(0px 1px 2px rgba(0, 0, 0, 0.3));\n",
       "      fill: #FFFFFF;\n",
       "    }\n",
       "  </style>\n",
       "\n",
       "      <script>\n",
       "        const buttonEl =\n",
       "          document.querySelector('#df-03785035-f389-4f2e-818a-ef8b12689897 button.colab-df-convert');\n",
       "        buttonEl.style.display =\n",
       "          google.colab.kernel.accessAllowed ? 'block' : 'none';\n",
       "\n",
       "        async function convertToInteractive(key) {\n",
       "          const element = document.querySelector('#df-03785035-f389-4f2e-818a-ef8b12689897');\n",
       "          const dataTable =\n",
       "            await google.colab.kernel.invokeFunction('convertToInteractive',\n",
       "                                                     [key], {});\n",
       "          if (!dataTable) return;\n",
       "\n",
       "          const docLinkHtml = 'Like what you see? Visit the ' +\n",
       "            '<a target=\"_blank\" href=https://colab.research.google.com/notebooks/data_table.ipynb>data table notebook</a>'\n",
       "            + ' to learn more about interactive tables.';\n",
       "          element.innerHTML = '';\n",
       "          dataTable['output_type'] = 'display_data';\n",
       "          await google.colab.output.renderOutput(dataTable, element);\n",
       "          const docLink = document.createElement('div');\n",
       "          docLink.innerHTML = docLinkHtml;\n",
       "          element.appendChild(docLink);\n",
       "        }\n",
       "      </script>\n",
       "    </div>\n",
       "  </div>\n",
       "  "
      ],
      "text/plain": [
       "                    id                                              title  \\\n",
       "259           905.2657        Web 2.0 OLAP: From Data Cubes to Tag Clouds   \n",
       "9735        1808.09361         On the Distributability of Mobile Ambients   \n",
       "11892         710.2156  Collaborative OLAP with Tag Clouds: Web 2.0 OL...   \n",
       "15287       1808.01599  On the Distributability of Mobile Ambients (Te...   \n",
       "26999  physics/0502052  Observations and simulations of receiver-induc...   \n",
       "41601       cs/0703103  Concept of a Value in Multilevel Security Data...   \n",
       "43560       cs/0402041    Examples of Models of the Asynchronous Circuits   \n",
       "46617       cs/0402040   Defining the Delays of the Asynchronous Circuits   \n",
       "\n",
       "                                                abstract  \n",
       "259      Increasingly, business projects are ephemera...  \n",
       "9735     Modern society is dependent on distributed s...  \n",
       "11892    Increasingly, business projects are ephemera...  \n",
       "15287    Modern society is dependent on distributed s...  \n",
       "26999                    This paper has been withdrawn.\n",
       "  \n",
       "41601                    This paper has been withdrawn.\n",
       "  \n",
       "43560    We define the delays of a circuit, as well a...  \n",
       "46617    We define the delays of a circuit, as well a...  "
      ]
     },
     "execution_count": 36,
     "metadata": {},
     "output_type": "execute_result"
    }
   ],
   "source": [
    "duplicated = df2[df2['abstract'].str.strip().duplicated(keep=False)]\n",
    "duplicated[['id','title','abstract']]"
   ]
  },
  {
   "cell_type": "code",
   "execution_count": 37,
   "metadata": {
    "id": "7chS_uwS0SpV",
    "tags": []
   },
   "outputs": [],
   "source": [
    "df2 = df2.drop_duplicates(subset='abstract', keep='first')"
   ]
  },
  {
   "cell_type": "code",
   "execution_count": 38,
   "metadata": {
    "colab": {
     "base_uri": "https://localhost:8080/",
     "height": 175
    },
    "id": "-Mo_xUvZ0SpW",
    "outputId": "e6aa125c-5578-40df-bf7d-f36c6383dcaa",
    "tags": []
   },
   "outputs": [
    {
     "data": {
      "text/html": [
       "\n",
       "  <div id=\"df-c2dcaef7-e2de-4cad-a96b-6a67a530c681\">\n",
       "    <div class=\"colab-df-container\">\n",
       "      <div>\n",
       "<style scoped>\n",
       "    .dataframe tbody tr th:only-of-type {\n",
       "        vertical-align: middle;\n",
       "    }\n",
       "\n",
       "    .dataframe tbody tr th {\n",
       "        vertical-align: top;\n",
       "    }\n",
       "\n",
       "    .dataframe thead th {\n",
       "        text-align: right;\n",
       "    }\n",
       "</style>\n",
       "<table border=\"1\" class=\"dataframe\">\n",
       "  <thead>\n",
       "    <tr style=\"text-align: right;\">\n",
       "      <th></th>\n",
       "      <th>id</th>\n",
       "      <th>title</th>\n",
       "      <th>abstract</th>\n",
       "    </tr>\n",
       "  </thead>\n",
       "  <tbody>\n",
       "    <tr>\n",
       "      <th>12514</th>\n",
       "      <td>1005.527</td>\n",
       "      <td>Symmetries of Symmetry Breaking Constraints</td>\n",
       "      <td>Symmetry is an important feature of many con...</td>\n",
       "    </tr>\n",
       "    <tr>\n",
       "      <th>12989</th>\n",
       "      <td>909.3276</td>\n",
       "      <td>Symmetries of Symmetry Breaking Constraints</td>\n",
       "      <td>Symmetry is an important feature of many con...</td>\n",
       "    </tr>\n",
       "    <tr>\n",
       "      <th>37377</th>\n",
       "      <td>1007.3568</td>\n",
       "      <td>Achieving the Secrecy Capacity of Wiretap Chan...</td>\n",
       "      <td>Suppose Alice wishes to send messages to Bob...</td>\n",
       "    </tr>\n",
       "    <tr>\n",
       "      <th>48044</th>\n",
       "      <td>1001.021</td>\n",
       "      <td>Achieving the Secrecy Capacity of Wiretap Chan...</td>\n",
       "      <td>Suppose Alice wishes to send messages to Bob...</td>\n",
       "    </tr>\n",
       "  </tbody>\n",
       "</table>\n",
       "</div>\n",
       "      <button class=\"colab-df-convert\" onclick=\"convertToInteractive('df-c2dcaef7-e2de-4cad-a96b-6a67a530c681')\"\n",
       "              title=\"Convert this dataframe to an interactive table.\"\n",
       "              style=\"display:none;\">\n",
       "        \n",
       "  <svg xmlns=\"http://www.w3.org/2000/svg\" height=\"24px\"viewBox=\"0 0 24 24\"\n",
       "       width=\"24px\">\n",
       "    <path d=\"M0 0h24v24H0V0z\" fill=\"none\"/>\n",
       "    <path d=\"M18.56 5.44l.94 2.06.94-2.06 2.06-.94-2.06-.94-.94-2.06-.94 2.06-2.06.94zm-11 1L8.5 8.5l.94-2.06 2.06-.94-2.06-.94L8.5 2.5l-.94 2.06-2.06.94zm10 10l.94 2.06.94-2.06 2.06-.94-2.06-.94-.94-2.06-.94 2.06-2.06.94z\"/><path d=\"M17.41 7.96l-1.37-1.37c-.4-.4-.92-.59-1.43-.59-.52 0-1.04.2-1.43.59L10.3 9.45l-7.72 7.72c-.78.78-.78 2.05 0 2.83L4 21.41c.39.39.9.59 1.41.59.51 0 1.02-.2 1.41-.59l7.78-7.78 2.81-2.81c.8-.78.8-2.07 0-2.86zM5.41 20L4 18.59l7.72-7.72 1.47 1.35L5.41 20z\"/>\n",
       "  </svg>\n",
       "      </button>\n",
       "      \n",
       "  <style>\n",
       "    .colab-df-container {\n",
       "      display:flex;\n",
       "      flex-wrap:wrap;\n",
       "      gap: 12px;\n",
       "    }\n",
       "\n",
       "    .colab-df-convert {\n",
       "      background-color: #E8F0FE;\n",
       "      border: none;\n",
       "      border-radius: 50%;\n",
       "      cursor: pointer;\n",
       "      display: none;\n",
       "      fill: #1967D2;\n",
       "      height: 32px;\n",
       "      padding: 0 0 0 0;\n",
       "      width: 32px;\n",
       "    }\n",
       "\n",
       "    .colab-df-convert:hover {\n",
       "      background-color: #E2EBFA;\n",
       "      box-shadow: 0px 1px 2px rgba(60, 64, 67, 0.3), 0px 1px 3px 1px rgba(60, 64, 67, 0.15);\n",
       "      fill: #174EA6;\n",
       "    }\n",
       "\n",
       "    [theme=dark] .colab-df-convert {\n",
       "      background-color: #3B4455;\n",
       "      fill: #D2E3FC;\n",
       "    }\n",
       "\n",
       "    [theme=dark] .colab-df-convert:hover {\n",
       "      background-color: #434B5C;\n",
       "      box-shadow: 0px 1px 3px 1px rgba(0, 0, 0, 0.15);\n",
       "      filter: drop-shadow(0px 1px 2px rgba(0, 0, 0, 0.3));\n",
       "      fill: #FFFFFF;\n",
       "    }\n",
       "  </style>\n",
       "\n",
       "      <script>\n",
       "        const buttonEl =\n",
       "          document.querySelector('#df-c2dcaef7-e2de-4cad-a96b-6a67a530c681 button.colab-df-convert');\n",
       "        buttonEl.style.display =\n",
       "          google.colab.kernel.accessAllowed ? 'block' : 'none';\n",
       "\n",
       "        async function convertToInteractive(key) {\n",
       "          const element = document.querySelector('#df-c2dcaef7-e2de-4cad-a96b-6a67a530c681');\n",
       "          const dataTable =\n",
       "            await google.colab.kernel.invokeFunction('convertToInteractive',\n",
       "                                                     [key], {});\n",
       "          if (!dataTable) return;\n",
       "\n",
       "          const docLinkHtml = 'Like what you see? Visit the ' +\n",
       "            '<a target=\"_blank\" href=https://colab.research.google.com/notebooks/data_table.ipynb>data table notebook</a>'\n",
       "            + ' to learn more about interactive tables.';\n",
       "          element.innerHTML = '';\n",
       "          dataTable['output_type'] = 'display_data';\n",
       "          await google.colab.output.renderOutput(dataTable, element);\n",
       "          const docLink = document.createElement('div');\n",
       "          docLink.innerHTML = docLinkHtml;\n",
       "          element.appendChild(docLink);\n",
       "        }\n",
       "      </script>\n",
       "    </div>\n",
       "  </div>\n",
       "  "
      ],
      "text/plain": [
       "              id                                              title  \\\n",
       "12514   1005.527        Symmetries of Symmetry Breaking Constraints   \n",
       "12989   909.3276        Symmetries of Symmetry Breaking Constraints   \n",
       "37377  1007.3568  Achieving the Secrecy Capacity of Wiretap Chan...   \n",
       "48044   1001.021  Achieving the Secrecy Capacity of Wiretap Chan...   \n",
       "\n",
       "                                                abstract  \n",
       "12514    Symmetry is an important feature of many con...  \n",
       "12989    Symmetry is an important feature of many con...  \n",
       "37377    Suppose Alice wishes to send messages to Bob...  \n",
       "48044    Suppose Alice wishes to send messages to Bob...  "
      ]
     },
     "execution_count": 38,
     "metadata": {},
     "output_type": "execute_result"
    }
   ],
   "source": [
    "duplicated = df2[df2['title'].str.strip().duplicated(keep=False)]\n",
    "duplicated[['id','title','abstract']]"
   ]
  },
  {
   "cell_type": "code",
   "execution_count": 39,
   "metadata": {
    "id": "AIeD9_A40SpW",
    "tags": []
   },
   "outputs": [],
   "source": [
    "df2 = df2.drop_duplicates(subset='title', keep='first')\n",
    "df2 = df2.reset_index()"
   ]
  },
  {
   "cell_type": "code",
   "execution_count": 40,
   "metadata": {
    "colab": {
     "base_uri": "https://localhost:8080/",
     "height": 49
    },
    "id": "gE4obor70SpW",
    "outputId": "9dfda2ca-40a2-4637-a079-73f213ae843e",
    "tags": []
   },
   "outputs": [
    {
     "data": {
      "text/html": [
       "\n",
       "  <div id=\"df-5668dbfc-967a-45a4-9b3b-b2d53b4efba4\">\n",
       "    <div class=\"colab-df-container\">\n",
       "      <div>\n",
       "<style scoped>\n",
       "    .dataframe tbody tr th:only-of-type {\n",
       "        vertical-align: middle;\n",
       "    }\n",
       "\n",
       "    .dataframe tbody tr th {\n",
       "        vertical-align: top;\n",
       "    }\n",
       "\n",
       "    .dataframe thead th {\n",
       "        text-align: right;\n",
       "    }\n",
       "</style>\n",
       "<table border=\"1\" class=\"dataframe\">\n",
       "  <thead>\n",
       "    <tr style=\"text-align: right;\">\n",
       "      <th></th>\n",
       "      <th>id</th>\n",
       "      <th>title</th>\n",
       "      <th>abstract</th>\n",
       "    </tr>\n",
       "  </thead>\n",
       "  <tbody>\n",
       "  </tbody>\n",
       "</table>\n",
       "</div>\n",
       "      <button class=\"colab-df-convert\" onclick=\"convertToInteractive('df-5668dbfc-967a-45a4-9b3b-b2d53b4efba4')\"\n",
       "              title=\"Convert this dataframe to an interactive table.\"\n",
       "              style=\"display:none;\">\n",
       "        \n",
       "  <svg xmlns=\"http://www.w3.org/2000/svg\" height=\"24px\"viewBox=\"0 0 24 24\"\n",
       "       width=\"24px\">\n",
       "    <path d=\"M0 0h24v24H0V0z\" fill=\"none\"/>\n",
       "    <path d=\"M18.56 5.44l.94 2.06.94-2.06 2.06-.94-2.06-.94-.94-2.06-.94 2.06-2.06.94zm-11 1L8.5 8.5l.94-2.06 2.06-.94-2.06-.94L8.5 2.5l-.94 2.06-2.06.94zm10 10l.94 2.06.94-2.06 2.06-.94-2.06-.94-.94-2.06-.94 2.06-2.06.94z\"/><path d=\"M17.41 7.96l-1.37-1.37c-.4-.4-.92-.59-1.43-.59-.52 0-1.04.2-1.43.59L10.3 9.45l-7.72 7.72c-.78.78-.78 2.05 0 2.83L4 21.41c.39.39.9.59 1.41.59.51 0 1.02-.2 1.41-.59l7.78-7.78 2.81-2.81c.8-.78.8-2.07 0-2.86zM5.41 20L4 18.59l7.72-7.72 1.47 1.35L5.41 20z\"/>\n",
       "  </svg>\n",
       "      </button>\n",
       "      \n",
       "  <style>\n",
       "    .colab-df-container {\n",
       "      display:flex;\n",
       "      flex-wrap:wrap;\n",
       "      gap: 12px;\n",
       "    }\n",
       "\n",
       "    .colab-df-convert {\n",
       "      background-color: #E8F0FE;\n",
       "      border: none;\n",
       "      border-radius: 50%;\n",
       "      cursor: pointer;\n",
       "      display: none;\n",
       "      fill: #1967D2;\n",
       "      height: 32px;\n",
       "      padding: 0 0 0 0;\n",
       "      width: 32px;\n",
       "    }\n",
       "\n",
       "    .colab-df-convert:hover {\n",
       "      background-color: #E2EBFA;\n",
       "      box-shadow: 0px 1px 2px rgba(60, 64, 67, 0.3), 0px 1px 3px 1px rgba(60, 64, 67, 0.15);\n",
       "      fill: #174EA6;\n",
       "    }\n",
       "\n",
       "    [theme=dark] .colab-df-convert {\n",
       "      background-color: #3B4455;\n",
       "      fill: #D2E3FC;\n",
       "    }\n",
       "\n",
       "    [theme=dark] .colab-df-convert:hover {\n",
       "      background-color: #434B5C;\n",
       "      box-shadow: 0px 1px 3px 1px rgba(0, 0, 0, 0.15);\n",
       "      filter: drop-shadow(0px 1px 2px rgba(0, 0, 0, 0.3));\n",
       "      fill: #FFFFFF;\n",
       "    }\n",
       "  </style>\n",
       "\n",
       "      <script>\n",
       "        const buttonEl =\n",
       "          document.querySelector('#df-5668dbfc-967a-45a4-9b3b-b2d53b4efba4 button.colab-df-convert');\n",
       "        buttonEl.style.display =\n",
       "          google.colab.kernel.accessAllowed ? 'block' : 'none';\n",
       "\n",
       "        async function convertToInteractive(key) {\n",
       "          const element = document.querySelector('#df-5668dbfc-967a-45a4-9b3b-b2d53b4efba4');\n",
       "          const dataTable =\n",
       "            await google.colab.kernel.invokeFunction('convertToInteractive',\n",
       "                                                     [key], {});\n",
       "          if (!dataTable) return;\n",
       "\n",
       "          const docLinkHtml = 'Like what you see? Visit the ' +\n",
       "            '<a target=\"_blank\" href=https://colab.research.google.com/notebooks/data_table.ipynb>data table notebook</a>'\n",
       "            + ' to learn more about interactive tables.';\n",
       "          element.innerHTML = '';\n",
       "          dataTable['output_type'] = 'display_data';\n",
       "          await google.colab.output.renderOutput(dataTable, element);\n",
       "          const docLink = document.createElement('div');\n",
       "          docLink.innerHTML = docLinkHtml;\n",
       "          element.appendChild(docLink);\n",
       "        }\n",
       "      </script>\n",
       "    </div>\n",
       "  </div>\n",
       "  "
      ],
      "text/plain": [
       "Empty DataFrame\n",
       "Columns: [id, title, abstract]\n",
       "Index: []"
      ]
     },
     "execution_count": 40,
     "metadata": {},
     "output_type": "execute_result"
    }
   ],
   "source": [
    "duplicated = df2[df2['id'].str.strip().duplicated(keep=False)]\n",
    "duplicated[['id','title','abstract']]"
   ]
  },
  {
   "cell_type": "markdown",
   "metadata": {
    "id": "5nmfeDJD0SpW"
   },
   "source": [
    "## Summary\n",
    "\n",
    "**Looking at the example data provided, it appears that the columns should be  converted to the following data types:**\n",
    "\n",
    "* `id`, `submitter`, `authors`, `title`, `comments`, `journal-ref`, `doi`, `report-no`, `categories`, `license`, `abstract` have to be string.\n",
    "* `versions`: list of dictionaries\n",
    "* `update_date`: datetime64\n",
    "* `authors_parsed`: list of lists of strings\n",
    "\n",
    "**Missing Values**\n",
    "- Missing pattern are due to an error while reading the excel sheet so, the missing pattern is **MNAT**.\n",
    "- The other columns is **MCAT**\n",
    "    * `report-no` and `journal-ref` these features have a very high percentage of missing values (97.660% and 78.434). Column deletion may be good option.\n",
    "    * `submitter`: This feature has a low percentage of missing values (0.082%). I will use the most common submitter as an estimate for the missing values.\n",
    "    * `doi`,`comments` and `license` columns seem to be uninformative so, column deletion may be good option.\n",
    "\n",
    "---\n"
   ]
  },
  {
   "cell_type": "markdown",
   "metadata": {
    "id": "Ehm_6ZzJ0SpW"
   },
   "source": [
    "### **Preprocessing**\n",
    "Preprocess the abstracts of the papers in the provided data corpus (note, in the tutorial, we use titles, not abstracts). Apply BERTopic on the **abstracts** and explain the topics you received and discuss the quality of the topics and determine what is the optimal topic number for abstracts."
   ]
  },
  {
   "cell_type": "code",
   "execution_count": 112,
   "metadata": {
    "id": "zIGwsEwj0Spl"
   },
   "outputs": [],
   "source": [
    "# credit: tutorial2_part2\n",
    "parser = en_core_sci_lg.load()\n",
    "parser.max_length = 7000000 #Limit the size of the parser\n",
    "punctuations = string.punctuation #list of punctuation to remove from text\n",
    "stopwords = list(STOP_WORDS)\n",
    "\n",
    "def spacy_tokenizer(sentence):\n",
    "    ''' Function to preprocess text of scientific papers \n",
    "        (e.g Removing Stopword and puntuations)'''\n",
    "    mytokens = parser(sentence)\n",
    "    mytokens = [ word.lemma_.lower().strip() if word.lemma_ != \"-PRON-\" else word.lower_ for word in mytokens ] # transform to lowercase and then split the scentence\n",
    "    mytokens = [ word for word in mytokens if word not in stopwords and word not in punctuations ] #remove stopsword an punctuation\n",
    "    mytokens = \" \".join([i for i in mytokens]) \n",
    "    return mytokens"
   ]
  },
  {
   "cell_type": "code",
   "execution_count": 113,
   "metadata": {
    "colab": {
     "base_uri": "https://localhost:8080/",
     "height": 257,
     "referenced_widgets": [
      "522f7de65b994e668b4b5d9606f79f0b",
      "6c2b4a138d1940aba29038c332697f3c",
      "4a4297afbbaf4b378db0b586523dae69",
      "60fe2a765bc34fcd9c951ff6b749248e",
      "c084731a11fe41e8a49df2c65f4aa8d4",
      "f2c18ad4690940c7b274f239e6fad4dc",
      "bc2488ff91fb4ad2bd2d21bb2b94c295",
      "dcfa290c463e4b7c93a13a190944ee26",
      "667551603b1f4d7b8879fc38e47a03bd",
      "5c5fe3da8d3e40b6990c2cbd02a18aa0",
      "bcc2fb1ea85f4720a26892bbc2b3df9b"
     ]
    },
    "id": "TigjIQOd0Spl",
    "outputId": "e8f127a1-c411-44f6-cfe7-9ac8950aa3eb"
   },
   "outputs": [
    {
     "data": {
      "application/vnd.jupyter.widget-view+json": {
       "model_id": "522f7de65b994e668b4b5d9606f79f0b",
       "version_major": 2,
       "version_minor": 0
      },
      "text/plain": [
       "  0%|          | 0/49994 [00:00<?, ?it/s]"
      ]
     },
     "metadata": {},
     "output_type": "display_data"
    },
    {
     "data": {
      "text/plain": [
       "0        safety-critical system surgical robot autonomo...\n",
       "1        entanglement key quantum resource improve meas...\n",
       "2        collaborative editing consist edit common docu...\n",
       "3        extend variational autoencoder vae collaborati...\n",
       "4        slender structure immerse cross flow experienc...\n",
       "                               ...                        \n",
       "49995    analysis 1h-nmr spectrum hinder large variatio...\n",
       "49996    thrust benefit lateral configuration two-dimen...\n",
       "49997    constant magnetic field frequently discuss kno...\n",
       "49998    virtual mental health assistants vmha prevalen...\n",
       "49999    problem estimate frequency moment data stream ...\n",
       "Name: processed_text, Length: 49994, dtype: object"
      ]
     },
     "execution_count": 113,
     "metadata": {},
     "output_type": "execute_result"
    }
   ],
   "source": [
    "from tqdm.notebook import tqdm\n",
    "tqdm.pandas()\n",
    "df2[\"processed_text\"] = df2[\"abstract\"].progress_apply(spacy_tokenizer)\n",
    "df2[\"processed_text\"]"
   ]
  },
  {
   "cell_type": "code",
   "execution_count": 114,
   "metadata": {
    "id": "uZWLZ6bPm9c8"
   },
   "outputs": [],
   "source": [
    "df2.to_csv('processed_text.csv')"
   ]
  },
  {
   "cell_type": "markdown",
   "metadata": {
    "id": "KDRRd8iC0Spl"
   },
   "source": [
    "### **Topic modeling using BERTopic**"
   ]
  },
  {
   "cell_type": "code",
   "execution_count": 9,
   "metadata": {
    "execution": {
     "iopub.execute_input": "2023-06-06T01:11:38.080765Z",
     "iopub.status.busy": "2023-06-06T01:11:38.079866Z",
     "iopub.status.idle": "2023-06-06T01:11:40.315886Z",
     "shell.execute_reply": "2023-06-06T01:11:40.314952Z",
     "shell.execute_reply.started": "2023-06-06T01:11:38.080730Z"
    },
    "id": "L3scJ02vnHRG"
   },
   "outputs": [],
   "source": [
    "df2 = pd.read_csv('/kaggle/input/processed-dataset/processed_text.csv', index_col=0)"
   ]
  },
  {
   "cell_type": "code",
   "execution_count": 10,
   "metadata": {
    "colab": {
     "base_uri": "https://localhost:8080/",
     "height": 101,
     "referenced_widgets": [
      "58aae0d8f63943458056787a6b2bff70",
      "686117d7b51248588168571b780196a2",
      "6cb770c1c6d54b9492b394d0aeb55ab4",
      "798013bf8bb84ff28925c8d4ade40011",
      "341ddec13b194772872379a4780bffc8",
      "747080f2fb3e48fcb5a38f76ffd8108c",
      "0ed0a95f7caf472691c043a3617332a8",
      "4484db2dd3ff455cb9cc99d71a4b9084",
      "60daa70562834bf9b5ad3dda84a4d49a",
      "082fff7eac4b4e9f96d3b2e782e3cbba",
      "fccd1861544f417990e6146963cd0a97"
     ]
    },
    "execution": {
     "iopub.execute_input": "2023-06-06T01:11:43.081084Z",
     "iopub.status.busy": "2023-06-06T01:11:43.080494Z",
     "iopub.status.idle": "2023-06-06T01:16:25.794163Z",
     "shell.execute_reply": "2023-06-06T01:16:25.793062Z",
     "shell.execute_reply.started": "2023-06-06T01:11:43.081048Z"
    },
    "id": "q-aBA5d40Spl",
    "outputId": "30d1d4c6-4084-421c-c466-6ae9e9e0f2d0"
   },
   "outputs": [
    {
     "data": {
      "application/vnd.jupyter.widget-view+json": {
       "model_id": "fe4578a9f03b4313985973747d609adb",
       "version_major": 2,
       "version_minor": 0
      },
      "text/plain": [
       "Downloading (…)2b9e5/.gitattributes:   0%|          | 0.00/736 [00:00<?, ?B/s]"
      ]
     },
     "metadata": {},
     "output_type": "display_data"
    },
    {
     "data": {
      "application/vnd.jupyter.widget-view+json": {
       "model_id": "f7b5697f80d1431386e160be0db5956c",
       "version_major": 2,
       "version_minor": 0
      },
      "text/plain": [
       "Downloading (…)_Pooling/config.json:   0%|          | 0.00/190 [00:00<?, ?B/s]"
      ]
     },
     "metadata": {},
     "output_type": "display_data"
    },
    {
     "data": {
      "application/vnd.jupyter.widget-view+json": {
       "model_id": "9f42d562fa5f42648bf133bed26ebd95",
       "version_major": 2,
       "version_minor": 0
      },
      "text/plain": [
       "Downloading (…)3c1ed2b9e5/README.md:   0%|          | 0.00/3.74k [00:00<?, ?B/s]"
      ]
     },
     "metadata": {},
     "output_type": "display_data"
    },
    {
     "data": {
      "application/vnd.jupyter.widget-view+json": {
       "model_id": "4dd0a855e9904d07a871ca8a28e8e046",
       "version_major": 2,
       "version_minor": 0
      },
      "text/plain": [
       "Downloading (…)1ed2b9e5/config.json:   0%|          | 0.00/686 [00:00<?, ?B/s]"
      ]
     },
     "metadata": {},
     "output_type": "display_data"
    },
    {
     "data": {
      "application/vnd.jupyter.widget-view+json": {
       "model_id": "fd2dbc29795b4f18a9e34e2f55aa263a",
       "version_major": 2,
       "version_minor": 0
      },
      "text/plain": [
       "Downloading (…)ce_transformers.json:   0%|          | 0.00/122 [00:00<?, ?B/s]"
      ]
     },
     "metadata": {},
     "output_type": "display_data"
    },
    {
     "data": {
      "application/vnd.jupyter.widget-view+json": {
       "model_id": "59982ee2ec3f4bf8a1c00f0e35faca33",
       "version_major": 2,
       "version_minor": 0
      },
      "text/plain": [
       "Downloading (…)c1ed2b9e5/merges.txt:   0%|          | 0.00/456k [00:00<?, ?B/s]"
      ]
     },
     "metadata": {},
     "output_type": "display_data"
    },
    {
     "data": {
      "application/vnd.jupyter.widget-view+json": {
       "model_id": "ba34a0884478431d936d578c8c9bb893",
       "version_major": 2,
       "version_minor": 0
      },
      "text/plain": [
       "Downloading pytorch_model.bin:   0%|          | 0.00/329M [00:00<?, ?B/s]"
      ]
     },
     "metadata": {},
     "output_type": "display_data"
    },
    {
     "data": {
      "application/vnd.jupyter.widget-view+json": {
       "model_id": "840f326d85bd45a09a5b28c8a192fd95",
       "version_major": 2,
       "version_minor": 0
      },
      "text/plain": [
       "Downloading (…)nce_bert_config.json:   0%|          | 0.00/53.0 [00:00<?, ?B/s]"
      ]
     },
     "metadata": {},
     "output_type": "display_data"
    },
    {
     "data": {
      "application/vnd.jupyter.widget-view+json": {
       "model_id": "d195433d7f254e9a8eaa491057150726",
       "version_major": 2,
       "version_minor": 0
      },
      "text/plain": [
       "Downloading (…)cial_tokens_map.json:   0%|          | 0.00/239 [00:00<?, ?B/s]"
      ]
     },
     "metadata": {},
     "output_type": "display_data"
    },
    {
     "data": {
      "application/vnd.jupyter.widget-view+json": {
       "model_id": "7c9013be74c844afa919bb8f15777128",
       "version_major": 2,
       "version_minor": 0
      },
      "text/plain": [
       "Downloading (…)2b9e5/tokenizer.json:   0%|          | 0.00/1.36M [00:00<?, ?B/s]"
      ]
     },
     "metadata": {},
     "output_type": "display_data"
    },
    {
     "data": {
      "application/vnd.jupyter.widget-view+json": {
       "model_id": "0c65bc1c8f6a4c4c86bdce09d1376b8a",
       "version_major": 2,
       "version_minor": 0
      },
      "text/plain": [
       "Downloading (…)okenizer_config.json:   0%|          | 0.00/1.12k [00:00<?, ?B/s]"
      ]
     },
     "metadata": {},
     "output_type": "display_data"
    },
    {
     "data": {
      "application/vnd.jupyter.widget-view+json": {
       "model_id": "d7d5b72d0156432aa76c8dcb192d637d",
       "version_major": 2,
       "version_minor": 0
      },
      "text/plain": [
       "Downloading (…)c1ed2b9e5/vocab.json:   0%|          | 0.00/798k [00:00<?, ?B/s]"
      ]
     },
     "metadata": {},
     "output_type": "display_data"
    },
    {
     "data": {
      "application/vnd.jupyter.widget-view+json": {
       "model_id": "dd9d0db7ed31420bac9384c7cb4fe109",
       "version_major": 2,
       "version_minor": 0
      },
      "text/plain": [
       "Downloading (…)ed2b9e5/modules.json:   0%|          | 0.00/229 [00:00<?, ?B/s]"
      ]
     },
     "metadata": {},
     "output_type": "display_data"
    },
    {
     "data": {
      "application/vnd.jupyter.widget-view+json": {
       "model_id": "b0042a4426cc434883224ae6e46d8590",
       "version_major": 2,
       "version_minor": 0
      },
      "text/plain": [
       "Batches:   0%|          | 0/1563 [00:00<?, ?it/s]"
      ]
     },
     "metadata": {},
     "output_type": "display_data"
    },
    {
     "name": "stderr",
     "output_type": "stream",
     "text": [
      "2023-06-06 01:14:54,560 - BERTopic - Transformed documents to Embeddings\n",
      "2023-06-06 01:16:06,306 - BERTopic - Reduced dimensionality\n"
     ]
    },
    {
     "name": "stdout",
     "output_type": "stream",
     "text": [
      "huggingface/tokenizers: The current process just got forked, after parallelism has already been used. Disabling parallelism to avoid deadlocks...\n",
      "To disable this warning, you can either:\n",
      "\t- Avoid using `tokenizers` before the fork if possible\n",
      "\t- Explicitly set the environment variable TOKENIZERS_PARALLELISM=(true | false)\n",
      "huggingface/tokenizers: The current process just got forked, after parallelism has already been used. Disabling parallelism to avoid deadlocks...\n",
      "To disable this warning, you can either:\n",
      "\t- Avoid using `tokenizers` before the fork if possible\n",
      "\t- Explicitly set the environment variable TOKENIZERS_PARALLELISM=(true | false)\n",
      "huggingface/tokenizers: The current process just got forked, after parallelism has already been used. Disabling parallelism to avoid deadlocks...\n",
      "To disable this warning, you can either:\n",
      "\t- Avoid using `tokenizers` before the fork if possible\n",
      "\t- Explicitly set the environment variable TOKENIZERS_PARALLELISM=(true | false)\n",
      "huggingface/tokenizers: The current process just got forked, after parallelism has already been used. Disabling parallelism to avoid deadlocks...\n",
      "To disable this warning, you can either:\n",
      "\t- Avoid using `tokenizers` before the fork if possible\n",
      "\t- Explicitly set the environment variable TOKENIZERS_PARALLELISM=(true | false)\n",
      "huggingface/tokenizers: The current process just got forked, after parallelism has already been used. Disabling parallelism to avoid deadlocks...\n",
      "To disable this warning, you can either:\n",
      "\t- Avoid using `tokenizers` before the fork if possible\n",
      "\t- Explicitly set the environment variable TOKENIZERS_PARALLELISM=(true | false)\n"
     ]
    },
    {
     "name": "stderr",
     "output_type": "stream",
     "text": [
      "2023-06-06 01:16:15,069 - BERTopic - Clustered reduced embeddings\n"
     ]
    }
   ],
   "source": [
    "tqdm.pandas()\n",
    "topic_model = BERTopic(verbose=True, embedding_model=\"paraphrase-distilroberta-base-v2\", min_topic_size=100)\n",
    "topics = topic_model.fit_transform(df2[\"processed_text\"].to_numpy())"
   ]
  },
  {
   "cell_type": "code",
   "execution_count": 11,
   "metadata": {
    "colab": {
     "base_uri": "https://localhost:8080/",
     "height": 1000
    },
    "execution": {
     "iopub.execute_input": "2023-06-06T01:18:50.724695Z",
     "iopub.status.busy": "2023-06-06T01:18:50.724043Z",
     "iopub.status.idle": "2023-06-06T01:18:50.791939Z",
     "shell.execute_reply": "2023-06-06T01:18:50.790876Z",
     "shell.execute_reply.started": "2023-06-06T01:18:50.724654Z"
    },
    "id": "U5Th3Mod0Spm",
    "outputId": "51fbc2db-a67c-4c4f-c8c4-b75716d42df8"
   },
   "outputs": [
    {
     "data": {
      "text/plain": [
       "47"
      ]
     },
     "execution_count": 11,
     "metadata": {},
     "output_type": "execute_result"
    },
    {
     "data": {
      "text/html": [
       "<div>\n",
       "<style scoped>\n",
       "    .dataframe tbody tr th:only-of-type {\n",
       "        vertical-align: middle;\n",
       "    }\n",
       "\n",
       "    .dataframe tbody tr th {\n",
       "        vertical-align: top;\n",
       "    }\n",
       "\n",
       "    .dataframe thead th {\n",
       "        text-align: right;\n",
       "    }\n",
       "</style>\n",
       "<table border=\"1\" class=\"dataframe\">\n",
       "  <thead>\n",
       "    <tr style=\"text-align: right;\">\n",
       "      <th></th>\n",
       "      <th>Topic</th>\n",
       "      <th>Count</th>\n",
       "      <th>Name</th>\n",
       "      <th>Representation</th>\n",
       "      <th>Representative_Docs</th>\n",
       "    </tr>\n",
       "  </thead>\n",
       "  <tbody>\n",
       "    <tr>\n",
       "      <th>0</th>\n",
       "      <td>-1</td>\n",
       "      <td>17233</td>\n",
       "      <td>-1_model_use_datum_method</td>\n",
       "      <td>[model, use, datum, method, propose, network, ...</td>\n",
       "      <td>[tackle problem goal-directed graph constructi...</td>\n",
       "    </tr>\n",
       "    <tr>\n",
       "      <th>1</th>\n",
       "      <td>0</td>\n",
       "      <td>13899</td>\n",
       "      <td>0_quantum_field_energy_particle</td>\n",
       "      <td>[quantum, field, energy, particle, wave, use, ...</td>\n",
       "      <td>[tutorial-style review discuss basic concept c...</td>\n",
       "    </tr>\n",
       "    <tr>\n",
       "      <th>2</th>\n",
       "      <td>1</td>\n",
       "      <td>1915</td>\n",
       "      <td>1_channel_network_user_interference</td>\n",
       "      <td>[channel, network, user, interference, wireles...</td>\n",
       "      <td>[future mobile communication network require e...</td>\n",
       "    </tr>\n",
       "    <tr>\n",
       "      <th>3</th>\n",
       "      <td>2</td>\n",
       "      <td>1321</td>\n",
       "      <td>2_image_segmentation_patient_medical</td>\n",
       "      <td>[image, segmentation, patient, medical, brain,...</td>\n",
       "      <td>[year deep learning dramatically improve perfo...</td>\n",
       "    </tr>\n",
       "    <tr>\n",
       "      <th>4</th>\n",
       "      <td>3</td>\n",
       "      <td>1297</td>\n",
       "      <td>3_language_word_model_text</td>\n",
       "      <td>[language, word, model, text, sentence, task, ...</td>\n",
       "      <td>[language model pre-training prove useful lear...</td>\n",
       "    </tr>\n",
       "    <tr>\n",
       "      <th>5</th>\n",
       "      <td>4</td>\n",
       "      <td>1147</td>\n",
       "      <td>4_algorithm_matrix_problem_function</td>\n",
       "      <td>[algorithm, matrix, problem, function, convex,...</td>\n",
       "      <td>[analyse matrix factorization problem noisy me...</td>\n",
       "    </tr>\n",
       "    <tr>\n",
       "      <th>6</th>\n",
       "      <td>5</td>\n",
       "      <td>942</td>\n",
       "      <td>5_3d_image_object_pose</td>\n",
       "      <td>[3d, image, object, pose, depth, scene, method...</td>\n",
       "      <td>[3d estimation human pose single image remain ...</td>\n",
       "    </tr>\n",
       "    <tr>\n",
       "      <th>7</th>\n",
       "      <td>6</td>\n",
       "      <td>850</td>\n",
       "      <td>6_logic_language_program_proof</td>\n",
       "      <td>[logic, language, program, proof, calculus, ty...</td>\n",
       "      <td>[extend simply-typed guarded \\lambda$-calculus...</td>\n",
       "    </tr>\n",
       "    <tr>\n",
       "      <th>8</th>\n",
       "      <td>7</td>\n",
       "      <td>821</td>\n",
       "      <td>7_graph_vertex_edge_problem</td>\n",
       "      <td>[graph, vertex, edge, problem, algorithm, log,...</td>\n",
       "      <td>[graph h$ h$-free edge deletion problem ask ex...</td>\n",
       "    </tr>\n",
       "    <tr>\n",
       "      <th>9</th>\n",
       "      <td>8</td>\n",
       "      <td>736</td>\n",
       "      <td>8_robot_robotic_human_control</td>\n",
       "      <td>[robot, robotic, human, control, task, environ...</td>\n",
       "      <td>[brain-controlled robot promising new type ass...</td>\n",
       "    </tr>\n",
       "    <tr>\n",
       "      <th>10</th>\n",
       "      <td>9</td>\n",
       "      <td>719</td>\n",
       "      <td>9_speech_audio_speaker_music</td>\n",
       "      <td>[speech, audio, speaker, music, sound, acousti...</td>\n",
       "      <td>[conversational speech contain variant neutral...</td>\n",
       "    </tr>\n",
       "    <tr>\n",
       "      <th>11</th>\n",
       "      <td>10</td>\n",
       "      <td>689</td>\n",
       "      <td>10_neural_network_training_deep</td>\n",
       "      <td>[neural, network, training, deep, architecture...</td>\n",
       "      <td>[deep neural network successful task speech do...</td>\n",
       "    </tr>\n",
       "    <tr>\n",
       "      <th>12</th>\n",
       "      <td>11</td>\n",
       "      <td>672</td>\n",
       "      <td>11_equation_method_numerical_mesh</td>\n",
       "      <td>[equation, method, numerical, mesh, scheme, or...</td>\n",
       "      <td>[present new perspective use weight essentiall...</td>\n",
       "    </tr>\n",
       "    <tr>\n",
       "      <th>13</th>\n",
       "      <td>12</td>\n",
       "      <td>433</td>\n",
       "      <td>12_control_controller_system_nonlinear</td>\n",
       "      <td>[control, controller, system, nonlinear, stabi...</td>\n",
       "      <td>[safe control design robotic system remain cha...</td>\n",
       "    </tr>\n",
       "    <tr>\n",
       "      <th>14</th>\n",
       "      <td>13</td>\n",
       "      <td>369</td>\n",
       "      <td>13_graph_gnn_node_network</td>\n",
       "      <td>[graph, gnn, node, network, embedding, represe...</td>\n",
       "      <td>[graph convolutional neural networks graph cnn...</td>\n",
       "    </tr>\n",
       "    <tr>\n",
       "      <th>15</th>\n",
       "      <td>14</td>\n",
       "      <td>368</td>\n",
       "      <td>14_label_domain_learning_datum</td>\n",
       "      <td>[label, domain, learning, datum, supervised, u...</td>\n",
       "      <td>[domain adaptation da aim transfer knowledge l...</td>\n",
       "    </tr>\n",
       "    <tr>\n",
       "      <th>16</th>\n",
       "      <td>15</td>\n",
       "      <td>366</td>\n",
       "      <td>15_game_player_equilibrium_nash</td>\n",
       "      <td>[game, player, equilibrium, nash, strategy, pa...</td>\n",
       "      <td>[describe algorithm compute good response stra...</td>\n",
       "    </tr>\n",
       "    <tr>\n",
       "      <th>17</th>\n",
       "      <td>16</td>\n",
       "      <td>365</td>\n",
       "      <td>16_covid_19_epidemic_pandemic</td>\n",
       "      <td>[covid, 19, epidemic, pandemic, disease, sprea...</td>\n",
       "      <td>[covid-19 pandemic community containment measu...</td>\n",
       "    </tr>\n",
       "    <tr>\n",
       "      <th>18</th>\n",
       "      <td>17</td>\n",
       "      <td>364</td>\n",
       "      <td>17_power_grid_energy_load</td>\n",
       "      <td>[power, grid, energy, load, system, control, r...</td>\n",
       "      <td>[distribution grid represent final tier electr...</td>\n",
       "    </tr>\n",
       "    <tr>\n",
       "      <th>19</th>\n",
       "      <td>18</td>\n",
       "      <td>351</td>\n",
       "      <td>18_memory_gpu_performance_parallel</td>\n",
       "      <td>[memory, gpu, performance, parallel, cpu, appl...</td>\n",
       "      <td>[out-of-core stencil computation code handle l...</td>\n",
       "    </tr>\n",
       "    <tr>\n",
       "      <th>20</th>\n",
       "      <td>19</td>\n",
       "      <td>328</td>\n",
       "      <td>19_privacy_federated_fl_private</td>\n",
       "      <td>[privacy, federated, fl, private, client, datu...</td>\n",
       "      <td>[consider distribute empirical risk minimizati...</td>\n",
       "    </tr>\n",
       "    <tr>\n",
       "      <th>21</th>\n",
       "      <td>20</td>\n",
       "      <td>321</td>\n",
       "      <td>20_policy_reinforcement_rl_learning</td>\n",
       "      <td>[policy, reinforcement, rl, learning, reward, ...</td>\n",
       "      <td>[reinforcement learning rl semi-supervised lea...</td>\n",
       "    </tr>\n",
       "    <tr>\n",
       "      <th>22</th>\n",
       "      <td>21</td>\n",
       "      <td>304</td>\n",
       "      <td>21_adversarial_attack_robustness_perturbation</td>\n",
       "      <td>[adversarial, attack, robustness, perturbation...</td>\n",
       "      <td>[adversarial training effective approach deep ...</td>\n",
       "    </tr>\n",
       "    <tr>\n",
       "      <th>23</th>\n",
       "      <td>22</td>\n",
       "      <td>287</td>\n",
       "      <td>22_network_community_node_link</td>\n",
       "      <td>[network, community, node, link, degree, struc...</td>\n",
       "      <td>[network science group node connect high proba...</td>\n",
       "    </tr>\n",
       "    <tr>\n",
       "      <th>24</th>\n",
       "      <td>23</td>\n",
       "      <td>251</td>\n",
       "      <td>23_blockchain_contract_transaction_smart</td>\n",
       "      <td>[blockchain, contract, transaction, smart, bit...</td>\n",
       "      <td>[past decade blockchain promising vision great...</td>\n",
       "    </tr>\n",
       "    <tr>\n",
       "      <th>25</th>\n",
       "      <td>24</td>\n",
       "      <td>244</td>\n",
       "      <td>24_vehicle_driving_autonomous_safety</td>\n",
       "      <td>[vehicle, driving, autonomous, safety, traject...</td>\n",
       "      <td>[paper develop mechanical system inspire micro...</td>\n",
       "    </tr>\n",
       "    <tr>\n",
       "      <th>26</th>\n",
       "      <td>25</td>\n",
       "      <td>238</td>\n",
       "      <td>25_software_project_development_engineering</td>\n",
       "      <td>[software, project, development, engineering, ...</td>\n",
       "      <td>[prerequisite organization unvarying sustainab...</td>\n",
       "    </tr>\n",
       "    <tr>\n",
       "      <th>27</th>\n",
       "      <td>26</td>\n",
       "      <td>220</td>\n",
       "      <td>26_attack_malware_cyber_security</td>\n",
       "      <td>[attack, malware, cyber, security, detection, ...</td>\n",
       "      <td>[paper investigate security issue datum replay...</td>\n",
       "    </tr>\n",
       "    <tr>\n",
       "      <th>28</th>\n",
       "      <td>27</td>\n",
       "      <td>215</td>\n",
       "      <td>27_clustering_cluster_datum_algorithm</td>\n",
       "      <td>[clustering, cluster, datum, algorithm, view, ...</td>\n",
       "      <td>[numerous paper ask difficult cluster datum su...</td>\n",
       "    </tr>\n",
       "    <tr>\n",
       "      <th>29</th>\n",
       "      <td>28</td>\n",
       "      <td>211</td>\n",
       "      <td>28_social_news_medium_twitter</td>\n",
       "      <td>[social, news, medium, twitter, fake, user, tw...</td>\n",
       "      <td>[extensive spread fake news social news medium...</td>\n",
       "    </tr>\n",
       "    <tr>\n",
       "      <th>30</th>\n",
       "      <td>29</td>\n",
       "      <td>193</td>\n",
       "      <td>29_recommendation_recommender_user_item</td>\n",
       "      <td>[recommendation, recommender, user, item, syst...</td>\n",
       "      <td>[information overload web personalized recomme...</td>\n",
       "    </tr>\n",
       "    <tr>\n",
       "      <th>31</th>\n",
       "      <td>30</td>\n",
       "      <td>190</td>\n",
       "      <td>30_ai_intelligence_human_artificial</td>\n",
       "      <td>[ai, intelligence, human, artificial, system, ...</td>\n",
       "      <td>[ambitious scientific quest human history crea...</td>\n",
       "    </tr>\n",
       "    <tr>\n",
       "      <th>32</th>\n",
       "      <td>31</td>\n",
       "      <td>188</td>\n",
       "      <td>31_citation_publication_journal_research</td>\n",
       "      <td>[citation, publication, journal, research, sci...</td>\n",
       "      <td>[use citation impact indicator assessment scie...</td>\n",
       "    </tr>\n",
       "    <tr>\n",
       "      <th>33</th>\n",
       "      <td>32</td>\n",
       "      <td>183</td>\n",
       "      <td>32_segmentation_semantic_image_pixel</td>\n",
       "      <td>[segmentation, semantic, image, pixel, mask, i...</td>\n",
       "      <td>[instance segmentation seek obtain class insta...</td>\n",
       "    </tr>\n",
       "    <tr>\n",
       "      <th>34</th>\n",
       "      <td>33</td>\n",
       "      <td>182</td>\n",
       "      <td>33_face_facial_recognition_image</td>\n",
       "      <td>[face, facial, recognition, image, landmark, d...</td>\n",
       "      <td>[covid-19 situation face mask main daily life ...</td>\n",
       "    </tr>\n",
       "    <tr>\n",
       "      <th>35</th>\n",
       "      <td>34</td>\n",
       "      <td>180</td>\n",
       "      <td>34_datum_data_mining_big</td>\n",
       "      <td>[datum, data, mining, big, process, use, analy...</td>\n",
       "      <td>[human explore physical space use information ...</td>\n",
       "    </tr>\n",
       "    <tr>\n",
       "      <th>36</th>\n",
       "      <td>35</td>\n",
       "      <td>158</td>\n",
       "      <td>35_gan_generative_image_adversarial</td>\n",
       "      <td>[gan, generative, image, adversarial, discrimi...</td>\n",
       "      <td>[generative adversarial networks gan demonstra...</td>\n",
       "    </tr>\n",
       "    <tr>\n",
       "      <th>37</th>\n",
       "      <td>36</td>\n",
       "      <td>156</td>\n",
       "      <td>36_cloud_computing_service_resource</td>\n",
       "      <td>[cloud, computing, service, resource, vm, appl...</td>\n",
       "      <td>[cloud computing internet base computing share...</td>\n",
       "    </tr>\n",
       "    <tr>\n",
       "      <th>38</th>\n",
       "      <td>37</td>\n",
       "      <td>151</td>\n",
       "      <td>37_traffic_bus_city_passenger</td>\n",
       "      <td>[traffic, bus, city, passenger, demand, ride, ...</td>\n",
       "      <td>[accurate short-term traffic prediction play p...</td>\n",
       "    </tr>\n",
       "    <tr>\n",
       "      <th>39</th>\n",
       "      <td>38</td>\n",
       "      <td>149</td>\n",
       "      <td>38_uav_uavs_aerial_unmanned</td>\n",
       "      <td>[uav, uavs, aerial, unmanned, drone, vehicle, ...</td>\n",
       "      <td>[cellular-connected unmanned aerial vehicle ua...</td>\n",
       "    </tr>\n",
       "    <tr>\n",
       "      <th>40</th>\n",
       "      <td>39</td>\n",
       "      <td>123</td>\n",
       "      <td>39_fairness_bias_fair_group</td>\n",
       "      <td>[fairness, bias, fair, group, attribute, model...</td>\n",
       "      <td>[fairness-aware classification receive increas...</td>\n",
       "    </tr>\n",
       "    <tr>\n",
       "      <th>41</th>\n",
       "      <td>40</td>\n",
       "      <td>118</td>\n",
       "      <td>40_opinion_voter_voting_election</td>\n",
       "      <td>[opinion, voter, voting, election, social, vot...</td>\n",
       "      <td>[opinion dynamic social network receive consid...</td>\n",
       "    </tr>\n",
       "    <tr>\n",
       "      <th>42</th>\n",
       "      <td>41</td>\n",
       "      <td>118</td>\n",
       "      <td>41_regret_bandit_arm_reward</td>\n",
       "      <td>[regret, bandit, arm, reward, algorithm, armed...</td>\n",
       "      <td>[fidelity bandit problem variant k$-armed band...</td>\n",
       "    </tr>\n",
       "    <tr>\n",
       "      <th>43</th>\n",
       "      <td>42</td>\n",
       "      <td>112</td>\n",
       "      <td>42_agent_multi_marl_action</td>\n",
       "      <td>[agent, multi, marl, action, policy, cooperati...</td>\n",
       "      <td>[study multi-agent reinforcement learning marl...</td>\n",
       "    </tr>\n",
       "    <tr>\n",
       "      <th>44</th>\n",
       "      <td>43</td>\n",
       "      <td>108</td>\n",
       "      <td>43_video_frame_temporal_action</td>\n",
       "      <td>[video, frame, temporal, action, representatio...</td>\n",
       "      <td>[method conditional video synthesis use single...</td>\n",
       "    </tr>\n",
       "    <tr>\n",
       "      <th>45</th>\n",
       "      <td>44</td>\n",
       "      <td>106</td>\n",
       "      <td>44_student_physics_course_science</td>\n",
       "      <td>[student, physics, course, science, introducto...</td>\n",
       "      <td>[physics community generally concern decrease ...</td>\n",
       "    </tr>\n",
       "    <tr>\n",
       "      <th>46</th>\n",
       "      <td>45</td>\n",
       "      <td>103</td>\n",
       "      <td>45_causal_variable_causality_treatment</td>\n",
       "      <td>[causal, variable, causality, treatment, obser...</td>\n",
       "      <td>[causal representation learning task identify ...</td>\n",
       "    </tr>\n",
       "  </tbody>\n",
       "</table>\n",
       "</div>"
      ],
      "text/plain": [
       "    Topic  Count                                           Name  \\\n",
       "0      -1  17233                      -1_model_use_datum_method   \n",
       "1       0  13899                0_quantum_field_energy_particle   \n",
       "2       1   1915            1_channel_network_user_interference   \n",
       "3       2   1321           2_image_segmentation_patient_medical   \n",
       "4       3   1297                     3_language_word_model_text   \n",
       "5       4   1147            4_algorithm_matrix_problem_function   \n",
       "6       5    942                         5_3d_image_object_pose   \n",
       "7       6    850                 6_logic_language_program_proof   \n",
       "8       7    821                    7_graph_vertex_edge_problem   \n",
       "9       8    736                  8_robot_robotic_human_control   \n",
       "10      9    719                   9_speech_audio_speaker_music   \n",
       "11     10    689                10_neural_network_training_deep   \n",
       "12     11    672              11_equation_method_numerical_mesh   \n",
       "13     12    433         12_control_controller_system_nonlinear   \n",
       "14     13    369                      13_graph_gnn_node_network   \n",
       "15     14    368                 14_label_domain_learning_datum   \n",
       "16     15    366                15_game_player_equilibrium_nash   \n",
       "17     16    365                  16_covid_19_epidemic_pandemic   \n",
       "18     17    364                      17_power_grid_energy_load   \n",
       "19     18    351             18_memory_gpu_performance_parallel   \n",
       "20     19    328                19_privacy_federated_fl_private   \n",
       "21     20    321            20_policy_reinforcement_rl_learning   \n",
       "22     21    304  21_adversarial_attack_robustness_perturbation   \n",
       "23     22    287                 22_network_community_node_link   \n",
       "24     23    251       23_blockchain_contract_transaction_smart   \n",
       "25     24    244           24_vehicle_driving_autonomous_safety   \n",
       "26     25    238    25_software_project_development_engineering   \n",
       "27     26    220               26_attack_malware_cyber_security   \n",
       "28     27    215          27_clustering_cluster_datum_algorithm   \n",
       "29     28    211                  28_social_news_medium_twitter   \n",
       "30     29    193        29_recommendation_recommender_user_item   \n",
       "31     30    190            30_ai_intelligence_human_artificial   \n",
       "32     31    188       31_citation_publication_journal_research   \n",
       "33     32    183           32_segmentation_semantic_image_pixel   \n",
       "34     33    182               33_face_facial_recognition_image   \n",
       "35     34    180                       34_datum_data_mining_big   \n",
       "36     35    158            35_gan_generative_image_adversarial   \n",
       "37     36    156            36_cloud_computing_service_resource   \n",
       "38     37    151                  37_traffic_bus_city_passenger   \n",
       "39     38    149                    38_uav_uavs_aerial_unmanned   \n",
       "40     39    123                    39_fairness_bias_fair_group   \n",
       "41     40    118               40_opinion_voter_voting_election   \n",
       "42     41    118                    41_regret_bandit_arm_reward   \n",
       "43     42    112                     42_agent_multi_marl_action   \n",
       "44     43    108                 43_video_frame_temporal_action   \n",
       "45     44    106              44_student_physics_course_science   \n",
       "46     45    103         45_causal_variable_causality_treatment   \n",
       "\n",
       "                                       Representation  \\\n",
       "0   [model, use, datum, method, propose, network, ...   \n",
       "1   [quantum, field, energy, particle, wave, use, ...   \n",
       "2   [channel, network, user, interference, wireles...   \n",
       "3   [image, segmentation, patient, medical, brain,...   \n",
       "4   [language, word, model, text, sentence, task, ...   \n",
       "5   [algorithm, matrix, problem, function, convex,...   \n",
       "6   [3d, image, object, pose, depth, scene, method...   \n",
       "7   [logic, language, program, proof, calculus, ty...   \n",
       "8   [graph, vertex, edge, problem, algorithm, log,...   \n",
       "9   [robot, robotic, human, control, task, environ...   \n",
       "10  [speech, audio, speaker, music, sound, acousti...   \n",
       "11  [neural, network, training, deep, architecture...   \n",
       "12  [equation, method, numerical, mesh, scheme, or...   \n",
       "13  [control, controller, system, nonlinear, stabi...   \n",
       "14  [graph, gnn, node, network, embedding, represe...   \n",
       "15  [label, domain, learning, datum, supervised, u...   \n",
       "16  [game, player, equilibrium, nash, strategy, pa...   \n",
       "17  [covid, 19, epidemic, pandemic, disease, sprea...   \n",
       "18  [power, grid, energy, load, system, control, r...   \n",
       "19  [memory, gpu, performance, parallel, cpu, appl...   \n",
       "20  [privacy, federated, fl, private, client, datu...   \n",
       "21  [policy, reinforcement, rl, learning, reward, ...   \n",
       "22  [adversarial, attack, robustness, perturbation...   \n",
       "23  [network, community, node, link, degree, struc...   \n",
       "24  [blockchain, contract, transaction, smart, bit...   \n",
       "25  [vehicle, driving, autonomous, safety, traject...   \n",
       "26  [software, project, development, engineering, ...   \n",
       "27  [attack, malware, cyber, security, detection, ...   \n",
       "28  [clustering, cluster, datum, algorithm, view, ...   \n",
       "29  [social, news, medium, twitter, fake, user, tw...   \n",
       "30  [recommendation, recommender, user, item, syst...   \n",
       "31  [ai, intelligence, human, artificial, system, ...   \n",
       "32  [citation, publication, journal, research, sci...   \n",
       "33  [segmentation, semantic, image, pixel, mask, i...   \n",
       "34  [face, facial, recognition, image, landmark, d...   \n",
       "35  [datum, data, mining, big, process, use, analy...   \n",
       "36  [gan, generative, image, adversarial, discrimi...   \n",
       "37  [cloud, computing, service, resource, vm, appl...   \n",
       "38  [traffic, bus, city, passenger, demand, ride, ...   \n",
       "39  [uav, uavs, aerial, unmanned, drone, vehicle, ...   \n",
       "40  [fairness, bias, fair, group, attribute, model...   \n",
       "41  [opinion, voter, voting, election, social, vot...   \n",
       "42  [regret, bandit, arm, reward, algorithm, armed...   \n",
       "43  [agent, multi, marl, action, policy, cooperati...   \n",
       "44  [video, frame, temporal, action, representatio...   \n",
       "45  [student, physics, course, science, introducto...   \n",
       "46  [causal, variable, causality, treatment, obser...   \n",
       "\n",
       "                                  Representative_Docs  \n",
       "0   [tackle problem goal-directed graph constructi...  \n",
       "1   [tutorial-style review discuss basic concept c...  \n",
       "2   [future mobile communication network require e...  \n",
       "3   [year deep learning dramatically improve perfo...  \n",
       "4   [language model pre-training prove useful lear...  \n",
       "5   [analyse matrix factorization problem noisy me...  \n",
       "6   [3d estimation human pose single image remain ...  \n",
       "7   [extend simply-typed guarded \\lambda$-calculus...  \n",
       "8   [graph h$ h$-free edge deletion problem ask ex...  \n",
       "9   [brain-controlled robot promising new type ass...  \n",
       "10  [conversational speech contain variant neutral...  \n",
       "11  [deep neural network successful task speech do...  \n",
       "12  [present new perspective use weight essentiall...  \n",
       "13  [safe control design robotic system remain cha...  \n",
       "14  [graph convolutional neural networks graph cnn...  \n",
       "15  [domain adaptation da aim transfer knowledge l...  \n",
       "16  [describe algorithm compute good response stra...  \n",
       "17  [covid-19 pandemic community containment measu...  \n",
       "18  [distribution grid represent final tier electr...  \n",
       "19  [out-of-core stencil computation code handle l...  \n",
       "20  [consider distribute empirical risk minimizati...  \n",
       "21  [reinforcement learning rl semi-supervised lea...  \n",
       "22  [adversarial training effective approach deep ...  \n",
       "23  [network science group node connect high proba...  \n",
       "24  [past decade blockchain promising vision great...  \n",
       "25  [paper develop mechanical system inspire micro...  \n",
       "26  [prerequisite organization unvarying sustainab...  \n",
       "27  [paper investigate security issue datum replay...  \n",
       "28  [numerous paper ask difficult cluster datum su...  \n",
       "29  [extensive spread fake news social news medium...  \n",
       "30  [information overload web personalized recomme...  \n",
       "31  [ambitious scientific quest human history crea...  \n",
       "32  [use citation impact indicator assessment scie...  \n",
       "33  [instance segmentation seek obtain class insta...  \n",
       "34  [covid-19 situation face mask main daily life ...  \n",
       "35  [human explore physical space use information ...  \n",
       "36  [generative adversarial networks gan demonstra...  \n",
       "37  [cloud computing internet base computing share...  \n",
       "38  [accurate short-term traffic prediction play p...  \n",
       "39  [cellular-connected unmanned aerial vehicle ua...  \n",
       "40  [fairness-aware classification receive increas...  \n",
       "41  [opinion dynamic social network receive consid...  \n",
       "42  [fidelity bandit problem variant k$-armed band...  \n",
       "43  [study multi-agent reinforcement learning marl...  \n",
       "44  [method conditional video synthesis use single...  \n",
       "45  [physics community generally concern decrease ...  \n",
       "46  [causal representation learning task identify ...  "
      ]
     },
     "execution_count": 11,
     "metadata": {},
     "output_type": "execute_result"
    }
   ],
   "source": [
    "len(topic_model.get_topic_info())\n",
    "topic_model.get_topic_info()"
   ]
  },
  {
   "cell_type": "markdown",
   "metadata": {
    "id": "8W8LZ9vljLqL"
   },
   "source": [
    "### **Fine Tune the model**"
   ]
  },
  {
   "cell_type": "code",
   "execution_count": 12,
   "metadata": {
    "colab": {
     "base_uri": "https://localhost:8080/",
     "height": 101,
     "referenced_widgets": [
      "1521ec7883254942b9a4c1676d84c22c",
      "4472c4e93f724d5b9bbd42c937a531a6",
      "ea442531a74a4d8eb4b95ead050278e5",
      "18cf236271a7485187aa59c7e3aaa097",
      "4896da81f56a46418ddab907fcbd567d",
      "63106a59f0ea4bdba62e3b22b3539ba3",
      "56a8d23bdbcd44eda2c48ec7fd03e101",
      "fa47b210083c437c87dfbce7facb467c",
      "32bb0e626cce4301b11fa5cf32a91a06",
      "8f308d0d7eb74681856336302db13423",
      "7637c070ba714696ace328d6b8979add"
     ]
    },
    "execution": {
     "iopub.execute_input": "2023-06-06T01:19:02.329492Z",
     "iopub.status.busy": "2023-06-06T01:19:02.329119Z",
     "iopub.status.idle": "2023-06-06T01:23:32.397392Z",
     "shell.execute_reply": "2023-06-06T01:23:32.396236Z",
     "shell.execute_reply.started": "2023-06-06T01:19:02.329461Z"
    },
    "id": "Tu54stOW7Dwu",
    "outputId": "df12dea3-2681-4f73-b7ce-f94856e5784f"
   },
   "outputs": [
    {
     "data": {
      "application/vnd.jupyter.widget-view+json": {
       "model_id": "91d6aef11c2f4df3a33f95d7e5a00ced",
       "version_major": 2,
       "version_minor": 0
      },
      "text/plain": [
       "Batches:   0%|          | 0/1563 [00:00<?, ?it/s]"
      ]
     },
     "metadata": {},
     "output_type": "display_data"
    },
    {
     "name": "stderr",
     "output_type": "stream",
     "text": [
      "2023-06-06 01:22:01,097 - BERTopic - Transformed documents to Embeddings\n",
      "2023-06-06 01:22:52,536 - BERTopic - Reduced dimensionality\n"
     ]
    },
    {
     "name": "stdout",
     "output_type": "stream",
     "text": [
      "huggingface/tokenizers: The current process just got forked, after parallelism has already been used. Disabling parallelism to avoid deadlocks...\n",
      "To disable this warning, you can either:\n",
      "\t- Avoid using `tokenizers` before the fork if possible\n",
      "\t- Explicitly set the environment variable TOKENIZERS_PARALLELISM=(true | false)\n",
      "huggingface/tokenizers: The current process just got forked, after parallelism has already been used. Disabling parallelism to avoid deadlocks...\n",
      "To disable this warning, you can either:\n",
      "\t- Avoid using `tokenizers` before the fork if possible\n",
      "\t- Explicitly set the environment variable TOKENIZERS_PARALLELISM=(true | false)\n",
      "huggingface/tokenizers: The current process just got forked, after parallelism has already been used. Disabling parallelism to avoid deadlocks...\n",
      "To disable this warning, you can either:\n",
      "\t- Avoid using `tokenizers` before the fork if possible\n",
      "\t- Explicitly set the environment variable TOKENIZERS_PARALLELISM=(true | false)\n",
      "huggingface/tokenizers: The current process just got forked, after parallelism has already been used. Disabling parallelism to avoid deadlocks...\n",
      "To disable this warning, you can either:\n",
      "\t- Avoid using `tokenizers` before the fork if possible\n",
      "\t- Explicitly set the environment variable TOKENIZERS_PARALLELISM=(true | false)\n"
     ]
    },
    {
     "name": "stderr",
     "output_type": "stream",
     "text": [
      "2023-06-06 01:23:23,181 - BERTopic - Clustered reduced embeddings\n"
     ]
    }
   ],
   "source": [
    "tqdm.pandas()\n",
    "topic_model2 = BERTopic(verbose=True, embedding_model=\"paraphrase-distilroberta-base-v2\", min_topic_size=1000)\n",
    "topics2 = topic_model2.fit_transform(df2[\"processed_text\"].to_numpy())"
   ]
  },
  {
   "cell_type": "markdown",
   "metadata": {},
   "source": [
    "The `min_topic_size` is so large that it misses potentially valid but narrow topics."
   ]
  },
  {
   "cell_type": "code",
   "execution_count": 16,
   "metadata": {
    "colab": {
     "base_uri": "https://localhost:8080/",
     "height": 224
    },
    "execution": {
     "iopub.execute_input": "2023-06-06T01:29:07.603418Z",
     "iopub.status.busy": "2023-06-06T01:29:07.602991Z",
     "iopub.status.idle": "2023-06-06T01:29:07.630445Z",
     "shell.execute_reply": "2023-06-06T01:29:07.628738Z",
     "shell.execute_reply.started": "2023-06-06T01:29:07.603372Z"
    },
    "id": "SC01QvRx85qG",
    "outputId": "aabcc55e-a1be-413d-8ca1-32d502168dc7"
   },
   "outputs": [
    {
     "data": {
      "text/plain": [
       "3"
      ]
     },
     "execution_count": 16,
     "metadata": {},
     "output_type": "execute_result"
    },
    {
     "data": {
      "text/html": [
       "<div>\n",
       "<style scoped>\n",
       "    .dataframe tbody tr th:only-of-type {\n",
       "        vertical-align: middle;\n",
       "    }\n",
       "\n",
       "    .dataframe tbody tr th {\n",
       "        vertical-align: top;\n",
       "    }\n",
       "\n",
       "    .dataframe thead th {\n",
       "        text-align: right;\n",
       "    }\n",
       "</style>\n",
       "<table border=\"1\" class=\"dataframe\">\n",
       "  <thead>\n",
       "    <tr style=\"text-align: right;\">\n",
       "      <th></th>\n",
       "      <th>Topic</th>\n",
       "      <th>Count</th>\n",
       "      <th>Name</th>\n",
       "      <th>Representation</th>\n",
       "      <th>Representative_Docs</th>\n",
       "    </tr>\n",
       "  </thead>\n",
       "  <tbody>\n",
       "    <tr>\n",
       "      <th>0</th>\n",
       "      <td>-1</td>\n",
       "      <td>4798</td>\n",
       "      <td>-1_model_use_network_propose</td>\n",
       "      <td>[model, use, network, propose, system, method,...</td>\n",
       "      <td>[paper introduce new framework address problem...</td>\n",
       "    </tr>\n",
       "    <tr>\n",
       "      <th>1</th>\n",
       "      <td>0</td>\n",
       "      <td>31149</td>\n",
       "      <td>0_model_use_propose_method</td>\n",
       "      <td>[model, use, propose, method, network, datum, ...</td>\n",
       "      <td>[paper present lasernet computationally effici...</td>\n",
       "    </tr>\n",
       "    <tr>\n",
       "      <th>2</th>\n",
       "      <td>1</td>\n",
       "      <td>14047</td>\n",
       "      <td>1_use_field_energy_model</td>\n",
       "      <td>[use, field, energy, model, quantum, high, res...</td>\n",
       "      <td>[seismic surface wave dispersion inversion use...</td>\n",
       "    </tr>\n",
       "  </tbody>\n",
       "</table>\n",
       "</div>"
      ],
      "text/plain": [
       "   Topic  Count                          Name  \\\n",
       "0     -1   4798  -1_model_use_network_propose   \n",
       "1      0  31149    0_model_use_propose_method   \n",
       "2      1  14047      1_use_field_energy_model   \n",
       "\n",
       "                                      Representation  \\\n",
       "0  [model, use, network, propose, system, method,...   \n",
       "1  [model, use, propose, method, network, datum, ...   \n",
       "2  [use, field, energy, model, quantum, high, res...   \n",
       "\n",
       "                                 Representative_Docs  \n",
       "0  [paper introduce new framework address problem...  \n",
       "1  [paper present lasernet computationally effici...  \n",
       "2  [seismic surface wave dispersion inversion use...  "
      ]
     },
     "execution_count": 16,
     "metadata": {},
     "output_type": "execute_result"
    }
   ],
   "source": [
    "len(topic_model2.get_topic_info())\n",
    "topic_model2.get_topic_info()"
   ]
  },
  {
   "cell_type": "markdown",
   "metadata": {},
   "source": [
    "The `min_topic_size` is so large that it misses potentially valid but narrow topics."
   ]
  },
  {
   "cell_type": "code",
   "execution_count": 88,
   "metadata": {
    "colab": {
     "base_uri": "https://localhost:8080/",
     "height": 49,
     "referenced_widgets": [
      "360032b75886497cb187666a18e6395d",
      "d0f6d27cd9df42cfa2467505faaeb43a",
      "e4f701a1651f43faab6abbc72c143157",
      "b2946287e04a461fa39a3d0c506332a4",
      "d65fb5939d9b477fa8af7fe1a53b456f",
      "0700decee6d64af0a1da7fc161ee0522",
      "20056e41be6640d3a1fea66b2413e1ed",
      "5a95ce70cc514c4386774d802262fdbe",
      "3937dea1d4bd40f0bb03ffc150a6cae8",
      "3ffac3a2443b4e3c9e7f9b439c159088",
      "de618cc38852463caab7cd2c6d8cac2c"
     ]
    },
    "execution": {
     "iopub.execute_input": "2023-06-06T02:32:39.662976Z",
     "iopub.status.busy": "2023-06-06T02:32:39.662584Z",
     "iopub.status.idle": "2023-06-06T02:36:57.215584Z",
     "shell.execute_reply": "2023-06-06T02:36:57.214416Z",
     "shell.execute_reply.started": "2023-06-06T02:32:39.662942Z"
    },
    "id": "eOmnYNzH-dEe",
    "outputId": "99cef10f-5e2b-445f-903b-b110344c4b43"
   },
   "outputs": [
    {
     "data": {
      "application/vnd.jupyter.widget-view+json": {
       "model_id": "e7b9985ec0d6485c98b27c25cf808a40",
       "version_major": 2,
       "version_minor": 0
      },
      "text/plain": [
       "Batches:   0%|          | 0/1563 [00:00<?, ?it/s]"
      ]
     },
     "metadata": {},
     "output_type": "display_data"
    },
    {
     "name": "stderr",
     "output_type": "stream",
     "text": [
      "2023-06-06 02:35:36,996 - BERTopic - Transformed documents to Embeddings\n",
      "2023-06-06 02:36:28,262 - BERTopic - Reduced dimensionality\n"
     ]
    },
    {
     "name": "stdout",
     "output_type": "stream",
     "text": [
      "huggingface/tokenizers: The current process just got forked, after parallelism has already been used. Disabling parallelism to avoid deadlocks...\n",
      "To disable this warning, you can either:\n",
      "\t- Avoid using `tokenizers` before the fork if possible\n",
      "\t- Explicitly set the environment variable TOKENIZERS_PARALLELISM=(true | false)\n",
      "huggingface/tokenizers: The current process just got forked, after parallelism has already been used. Disabling parallelism to avoid deadlocks...\n",
      "To disable this warning, you can either:\n",
      "\t- Avoid using `tokenizers` before the fork if possible\n",
      "\t- Explicitly set the environment variable TOKENIZERS_PARALLELISM=(true | false)\n",
      "huggingface/tokenizers: The current process just got forked, after parallelism has already been used. Disabling parallelism to avoid deadlocks...\n",
      "To disable this warning, you can either:\n",
      "\t- Avoid using `tokenizers` before the fork if possible\n",
      "\t- Explicitly set the environment variable TOKENIZERS_PARALLELISM=(true | false)\n",
      "huggingface/tokenizers: The current process just got forked, after parallelism has already been used. Disabling parallelism to avoid deadlocks...\n",
      "To disable this warning, you can either:\n",
      "\t- Avoid using `tokenizers` before the fork if possible\n",
      "\t- Explicitly set the environment variable TOKENIZERS_PARALLELISM=(true | false)\n"
     ]
    },
    {
     "name": "stderr",
     "output_type": "stream",
     "text": [
      "2023-06-06 02:36:47,071 - BERTopic - Clustered reduced embeddings\n"
     ]
    }
   ],
   "source": [
    "tqdm.pandas()\n",
    "topic_model3 = BERTopic(verbose=True, embedding_model=\"paraphrase-distilroberta-base-v2\", min_topic_size=500)\n",
    "topics3 = topic_model3.fit_transform(df2[\"processed_text\"].to_numpy())"
   ]
  },
  {
   "cell_type": "code",
   "execution_count": 89,
   "metadata": {
    "execution": {
     "iopub.execute_input": "2023-06-06T02:36:57.219098Z",
     "iopub.status.busy": "2023-06-06T02:36:57.218612Z",
     "iopub.status.idle": "2023-06-06T02:36:57.254676Z",
     "shell.execute_reply": "2023-06-06T02:36:57.253829Z",
     "shell.execute_reply.started": "2023-06-06T02:36:57.219051Z"
    },
    "id": "qmiJcrCc-lld"
   },
   "outputs": [
    {
     "data": {
      "text/plain": [
       "11"
      ]
     },
     "execution_count": 89,
     "metadata": {},
     "output_type": "execute_result"
    },
    {
     "data": {
      "text/html": [
       "<div>\n",
       "<style scoped>\n",
       "    .dataframe tbody tr th:only-of-type {\n",
       "        vertical-align: middle;\n",
       "    }\n",
       "\n",
       "    .dataframe tbody tr th {\n",
       "        vertical-align: top;\n",
       "    }\n",
       "\n",
       "    .dataframe thead th {\n",
       "        text-align: right;\n",
       "    }\n",
       "</style>\n",
       "<table border=\"1\" class=\"dataframe\">\n",
       "  <thead>\n",
       "    <tr style=\"text-align: right;\">\n",
       "      <th></th>\n",
       "      <th>Topic</th>\n",
       "      <th>Count</th>\n",
       "      <th>Name</th>\n",
       "      <th>Representation</th>\n",
       "      <th>Representative_Docs</th>\n",
       "    </tr>\n",
       "  </thead>\n",
       "  <tbody>\n",
       "    <tr>\n",
       "      <th>0</th>\n",
       "      <td>-1</td>\n",
       "      <td>20746</td>\n",
       "      <td>-1_model_use_datum_method</td>\n",
       "      <td>[model, use, datum, method, propose, network, ...</td>\n",
       "      <td>[visual interest affect prediction interesting...</td>\n",
       "    </tr>\n",
       "    <tr>\n",
       "      <th>1</th>\n",
       "      <td>0</td>\n",
       "      <td>13347</td>\n",
       "      <td>0_quantum_field_energy_use</td>\n",
       "      <td>[quantum, field, energy, use, particle, model,...</td>\n",
       "      <td>[article present unified reciprocal quantum el...</td>\n",
       "    </tr>\n",
       "    <tr>\n",
       "      <th>2</th>\n",
       "      <td>1</td>\n",
       "      <td>3870</td>\n",
       "      <td>1_graph_problem_algorithm_method</td>\n",
       "      <td>[graph, problem, algorithm, method, function, ...</td>\n",
       "      <td>[paper study set combinatorial optimization pr...</td>\n",
       "    </tr>\n",
       "    <tr>\n",
       "      <th>3</th>\n",
       "      <td>2</td>\n",
       "      <td>2890</td>\n",
       "      <td>2_language_model_speech_task</td>\n",
       "      <td>[language, model, speech, task, word, text, us...</td>\n",
       "      <td>[language vision feature treat equally vision-...</td>\n",
       "    </tr>\n",
       "    <tr>\n",
       "      <th>4</th>\n",
       "      <td>3</td>\n",
       "      <td>2796</td>\n",
       "      <td>3_network_image_learning_neural</td>\n",
       "      <td>[network, image, learning, neural, method, mod...</td>\n",
       "      <td>[computer vision flourish recent year thank de...</td>\n",
       "    </tr>\n",
       "    <tr>\n",
       "      <th>5</th>\n",
       "      <td>4</td>\n",
       "      <td>2097</td>\n",
       "      <td>4_channel_network_user_propose</td>\n",
       "      <td>[channel, network, user, propose, wireless, co...</td>\n",
       "      <td>[future mobile communication network require e...</td>\n",
       "    </tr>\n",
       "    <tr>\n",
       "      <th>6</th>\n",
       "      <td>5</td>\n",
       "      <td>986</td>\n",
       "      <td>5_image_segmentation_method_use</td>\n",
       "      <td>[image, segmentation, method, use, medical, le...</td>\n",
       "      <td>[image segmentation fundamental challenging pr...</td>\n",
       "    </tr>\n",
       "    <tr>\n",
       "      <th>7</th>\n",
       "      <td>6</td>\n",
       "      <td>963</td>\n",
       "      <td>6_logic_language_program_proof</td>\n",
       "      <td>[logic, language, program, proof, calculus, se...</td>\n",
       "      <td>[investigate expressive power main kind progra...</td>\n",
       "    </tr>\n",
       "    <tr>\n",
       "      <th>8</th>\n",
       "      <td>7</td>\n",
       "      <td>919</td>\n",
       "      <td>7_robot_robotic_human_control</td>\n",
       "      <td>[robot, robotic, human, control, task, object,...</td>\n",
       "      <td>[paper present framework real-time autonomous ...</td>\n",
       "    </tr>\n",
       "    <tr>\n",
       "      <th>9</th>\n",
       "      <td>8</td>\n",
       "      <td>770</td>\n",
       "      <td>8_attack_security_privacy_datum</td>\n",
       "      <td>[attack, security, privacy, datum, use, system...</td>\n",
       "      <td>[address problem attack detection attack corre...</td>\n",
       "    </tr>\n",
       "    <tr>\n",
       "      <th>10</th>\n",
       "      <td>9</td>\n",
       "      <td>610</td>\n",
       "      <td>9_game_player_agent_equilibrium</td>\n",
       "      <td>[game, player, agent, equilibrium, strategy, n...</td>\n",
       "      <td>[propose study mathematical ludology aim forma...</td>\n",
       "    </tr>\n",
       "  </tbody>\n",
       "</table>\n",
       "</div>"
      ],
      "text/plain": [
       "    Topic  Count                              Name  \\\n",
       "0      -1  20746         -1_model_use_datum_method   \n",
       "1       0  13347        0_quantum_field_energy_use   \n",
       "2       1   3870  1_graph_problem_algorithm_method   \n",
       "3       2   2890      2_language_model_speech_task   \n",
       "4       3   2796   3_network_image_learning_neural   \n",
       "5       4   2097    4_channel_network_user_propose   \n",
       "6       5    986   5_image_segmentation_method_use   \n",
       "7       6    963    6_logic_language_program_proof   \n",
       "8       7    919     7_robot_robotic_human_control   \n",
       "9       8    770   8_attack_security_privacy_datum   \n",
       "10      9    610   9_game_player_agent_equilibrium   \n",
       "\n",
       "                                       Representation  \\\n",
       "0   [model, use, datum, method, propose, network, ...   \n",
       "1   [quantum, field, energy, use, particle, model,...   \n",
       "2   [graph, problem, algorithm, method, function, ...   \n",
       "3   [language, model, speech, task, word, text, us...   \n",
       "4   [network, image, learning, neural, method, mod...   \n",
       "5   [channel, network, user, propose, wireless, co...   \n",
       "6   [image, segmentation, method, use, medical, le...   \n",
       "7   [logic, language, program, proof, calculus, se...   \n",
       "8   [robot, robotic, human, control, task, object,...   \n",
       "9   [attack, security, privacy, datum, use, system...   \n",
       "10  [game, player, agent, equilibrium, strategy, n...   \n",
       "\n",
       "                                  Representative_Docs  \n",
       "0   [visual interest affect prediction interesting...  \n",
       "1   [article present unified reciprocal quantum el...  \n",
       "2   [paper study set combinatorial optimization pr...  \n",
       "3   [language vision feature treat equally vision-...  \n",
       "4   [computer vision flourish recent year thank de...  \n",
       "5   [future mobile communication network require e...  \n",
       "6   [image segmentation fundamental challenging pr...  \n",
       "7   [investigate expressive power main kind progra...  \n",
       "8   [paper present framework real-time autonomous ...  \n",
       "9   [address problem attack detection attack corre...  \n",
       "10  [propose study mathematical ludology aim forma...  "
      ]
     },
     "execution_count": 89,
     "metadata": {},
     "output_type": "execute_result"
    }
   ],
   "source": [
    "len(topic_model3.get_topic_info())\n",
    "topic_model3.get_topic_info()"
   ]
  },
  {
   "cell_type": "markdown",
   "metadata": {},
   "source": [
    "When comparing it with model that has `min_topic_size`, the count of -1 topic increased. which indicate that"
   ]
  },
  {
   "cell_type": "code",
   "execution_count": 20,
   "metadata": {
    "execution": {
     "iopub.execute_input": "2023-06-06T01:34:54.281942Z",
     "iopub.status.busy": "2023-06-06T01:34:54.281526Z",
     "iopub.status.idle": "2023-06-06T01:39:05.595676Z",
     "shell.execute_reply": "2023-06-06T01:39:05.594344Z",
     "shell.execute_reply.started": "2023-06-06T01:34:54.281907Z"
    }
   },
   "outputs": [
    {
     "data": {
      "application/vnd.jupyter.widget-view+json": {
       "model_id": "83dc9e508fa94959b4b5e7b26b80c66b",
       "version_major": 2,
       "version_minor": 0
      },
      "text/plain": [
       "Batches:   0%|          | 0/1563 [00:00<?, ?it/s]"
      ]
     },
     "metadata": {},
     "output_type": "display_data"
    },
    {
     "name": "stderr",
     "output_type": "stream",
     "text": [
      "2023-06-06 01:37:51,662 - BERTopic - Transformed documents to Embeddings\n",
      "2023-06-06 01:38:44,092 - BERTopic - Reduced dimensionality\n"
     ]
    },
    {
     "name": "stdout",
     "output_type": "stream",
     "text": [
      "huggingface/tokenizers: The current process just got forked, after parallelism has already been used. Disabling parallelism to avoid deadlocks...\n",
      "To disable this warning, you can either:\n",
      "\t- Avoid using `tokenizers` before the fork if possible\n",
      "\t- Explicitly set the environment variable TOKENIZERS_PARALLELISM=(true | false)\n",
      "huggingface/tokenizers: The current process just got forked, after parallelism has already been used. Disabling parallelism to avoid deadlocks...\n",
      "To disable this warning, you can either:\n",
      "\t- Avoid using `tokenizers` before the fork if possible\n",
      "\t- Explicitly set the environment variable TOKENIZERS_PARALLELISM=(true | false)\n",
      "huggingface/tokenizers: The current process just got forked, after parallelism has already been used. Disabling parallelism to avoid deadlocks...\n",
      "To disable this warning, you can either:\n",
      "\t- Avoid using `tokenizers` before the fork if possible\n",
      "\t- Explicitly set the environment variable TOKENIZERS_PARALLELISM=(true | false)\n",
      "huggingface/tokenizers: The current process just got forked, after parallelism has already been used. Disabling parallelism to avoid deadlocks...\n",
      "To disable this warning, you can either:\n",
      "\t- Avoid using `tokenizers` before the fork if possible\n",
      "\t- Explicitly set the environment variable TOKENIZERS_PARALLELISM=(true | false)\n"
     ]
    },
    {
     "name": "stderr",
     "output_type": "stream",
     "text": [
      "2023-06-06 01:38:54,968 - BERTopic - Clustered reduced embeddings\n"
     ]
    }
   ],
   "source": [
    "tqdm.pandas()\n",
    "topic_model4 = BERTopic(verbose=True, embedding_model=\"paraphrase-distilroberta-base-v2\", min_topic_size=200)\n",
    "topics4 = topic_model4.fit_transform(df2[\"processed_text\"].to_numpy())"
   ]
  },
  {
   "cell_type": "code",
   "execution_count": 22,
   "metadata": {
    "execution": {
     "iopub.execute_input": "2023-06-06T01:39:31.981952Z",
     "iopub.status.busy": "2023-06-06T01:39:31.981413Z",
     "iopub.status.idle": "2023-06-06T01:39:32.048924Z",
     "shell.execute_reply": "2023-06-06T01:39:32.047871Z",
     "shell.execute_reply.started": "2023-06-06T01:39:31.981902Z"
    }
   },
   "outputs": [
    {
     "data": {
      "text/plain": [
       "28"
      ]
     },
     "execution_count": 22,
     "metadata": {},
     "output_type": "execute_result"
    },
    {
     "data": {
      "text/html": [
       "<div>\n",
       "<style scoped>\n",
       "    .dataframe tbody tr th:only-of-type {\n",
       "        vertical-align: middle;\n",
       "    }\n",
       "\n",
       "    .dataframe tbody tr th {\n",
       "        vertical-align: top;\n",
       "    }\n",
       "\n",
       "    .dataframe thead th {\n",
       "        text-align: right;\n",
       "    }\n",
       "</style>\n",
       "<table border=\"1\" class=\"dataframe\">\n",
       "  <thead>\n",
       "    <tr style=\"text-align: right;\">\n",
       "      <th></th>\n",
       "      <th>Topic</th>\n",
       "      <th>Count</th>\n",
       "      <th>Name</th>\n",
       "      <th>Representation</th>\n",
       "      <th>Representative_Docs</th>\n",
       "    </tr>\n",
       "  </thead>\n",
       "  <tbody>\n",
       "    <tr>\n",
       "      <th>0</th>\n",
       "      <td>-1</td>\n",
       "      <td>19549</td>\n",
       "      <td>-1_model_use_datum_method</td>\n",
       "      <td>[model, use, datum, method, propose, network, ...</td>\n",
       "      <td>[object detection algorithm lidar datum numero...</td>\n",
       "    </tr>\n",
       "    <tr>\n",
       "      <th>1</th>\n",
       "      <td>0</td>\n",
       "      <td>13835</td>\n",
       "      <td>0_quantum_field_energy_use</td>\n",
       "      <td>[quantum, field, energy, use, particle, wave, ...</td>\n",
       "      <td>[observation molecular dynamic quantum state r...</td>\n",
       "    </tr>\n",
       "    <tr>\n",
       "      <th>2</th>\n",
       "      <td>1</td>\n",
       "      <td>2200</td>\n",
       "      <td>1_channel_network_user_wireless</td>\n",
       "      <td>[channel, network, user, wireless, communicati...</td>\n",
       "      <td>[multiple antenna broadcast channel perfect ch...</td>\n",
       "    </tr>\n",
       "    <tr>\n",
       "      <th>3</th>\n",
       "      <td>2</td>\n",
       "      <td>1273</td>\n",
       "      <td>2_algorithm_matrix_problem_function</td>\n",
       "      <td>[algorithm, matrix, problem, function, polynom...</td>\n",
       "      <td>[sparse matrix favorable object machine learni...</td>\n",
       "    </tr>\n",
       "    <tr>\n",
       "      <th>4</th>\n",
       "      <td>3</td>\n",
       "      <td>1228</td>\n",
       "      <td>3_language_word_model_text</td>\n",
       "      <td>[language, word, model, text, sentence, transl...</td>\n",
       "      <td>[word embedding essential component wide range...</td>\n",
       "    </tr>\n",
       "    <tr>\n",
       "      <th>5</th>\n",
       "      <td>4</td>\n",
       "      <td>1030</td>\n",
       "      <td>4_robot_human_robotic_control</td>\n",
       "      <td>[robot, human, robotic, control, vehicle, traj...</td>\n",
       "      <td>[design control robot play equally important r...</td>\n",
       "    </tr>\n",
       "    <tr>\n",
       "      <th>6</th>\n",
       "      <td>5</td>\n",
       "      <td>963</td>\n",
       "      <td>5_logic_language_program_proof</td>\n",
       "      <td>[logic, language, program, proof, calculus, ty...</td>\n",
       "      <td>[extend simply-typed guarded \\lambda$-calculus...</td>\n",
       "    </tr>\n",
       "    <tr>\n",
       "      <th>7</th>\n",
       "      <td>6</td>\n",
       "      <td>822</td>\n",
       "      <td>6_image_segmentation_medical_method</td>\n",
       "      <td>[image, segmentation, medical, method, mri, im...</td>\n",
       "      <td>[algorithmic image-based diagnosis prognosis n...</td>\n",
       "    </tr>\n",
       "    <tr>\n",
       "      <th>8</th>\n",
       "      <td>7</td>\n",
       "      <td>781</td>\n",
       "      <td>7_user_recommendation_citation_social</td>\n",
       "      <td>[user, recommendation, citation, social, resea...</td>\n",
       "      <td>[model user preference long-term history user ...</td>\n",
       "    </tr>\n",
       "    <tr>\n",
       "      <th>9</th>\n",
       "      <td>8</td>\n",
       "      <td>774</td>\n",
       "      <td>8_graph_vertex_edge_problem</td>\n",
       "      <td>[graph, vertex, edge, problem, algorithm, set,...</td>\n",
       "      <td>[concept sum labelling introduce 1990 harary g...</td>\n",
       "    </tr>\n",
       "    <tr>\n",
       "      <th>10</th>\n",
       "      <td>9</td>\n",
       "      <td>706</td>\n",
       "      <td>9_speech_speaker_audio_model</td>\n",
       "      <td>[speech, speaker, audio, model, sound, voice, ...</td>\n",
       "      <td>[automatic recognition disorder speech remain ...</td>\n",
       "    </tr>\n",
       "    <tr>\n",
       "      <th>11</th>\n",
       "      <td>10</td>\n",
       "      <td>687</td>\n",
       "      <td>10_image_3d_depth_object</td>\n",
       "      <td>[image, 3d, depth, object, scene, segmentation...</td>\n",
       "      <td>[unified neural network structure present join...</td>\n",
       "    </tr>\n",
       "    <tr>\n",
       "      <th>12</th>\n",
       "      <td>11</td>\n",
       "      <td>624</td>\n",
       "      <td>11_equation_method_numerical_mesh</td>\n",
       "      <td>[equation, method, numerical, mesh, problem, s...</td>\n",
       "      <td>[advent mesh-free method tool numerical analys...</td>\n",
       "    </tr>\n",
       "    <tr>\n",
       "      <th>13</th>\n",
       "      <td>12</td>\n",
       "      <td>621</td>\n",
       "      <td>12_network_neural_training_deep</td>\n",
       "      <td>[network, neural, training, deep, architecture...</td>\n",
       "      <td>[deep neural network successful task speech do...</td>\n",
       "    </tr>\n",
       "    <tr>\n",
       "      <th>14</th>\n",
       "      <td>13</td>\n",
       "      <td>576</td>\n",
       "      <td>13_game_player_agent_equilibrium</td>\n",
       "      <td>[game, player, agent, equilibrium, strategy, n...</td>\n",
       "      <td>[minimalist game design introduce decade ago g...</td>\n",
       "    </tr>\n",
       "    <tr>\n",
       "      <th>15</th>\n",
       "      <td>14</td>\n",
       "      <td>441</td>\n",
       "      <td>14_control_controller_system_time</td>\n",
       "      <td>[control, controller, system, time, nonlinear,...</td>\n",
       "      <td>[paper multiple model adaptive fuzzy logic con...</td>\n",
       "    </tr>\n",
       "    <tr>\n",
       "      <th>16</th>\n",
       "      <td>15</td>\n",
       "      <td>400</td>\n",
       "      <td>15_software_datum_project_development</td>\n",
       "      <td>[software, datum, project, development, engine...</td>\n",
       "      <td>[continue process software system enlargement ...</td>\n",
       "    </tr>\n",
       "    <tr>\n",
       "      <th>17</th>\n",
       "      <td>16</td>\n",
       "      <td>372</td>\n",
       "      <td>16_covid_19_epidemic_pandemic</td>\n",
       "      <td>[covid, 19, epidemic, pandemic, disease, sprea...</td>\n",
       "      <td>[introduce mathematical description impact soc...</td>\n",
       "    </tr>\n",
       "    <tr>\n",
       "      <th>18</th>\n",
       "      <td>17</td>\n",
       "      <td>370</td>\n",
       "      <td>17_policy_reinforcement_learning_rl</td>\n",
       "      <td>[policy, reinforcement, learning, rl, reward, ...</td>\n",
       "      <td>[reinforcement learning rl semi-supervised lea...</td>\n",
       "    </tr>\n",
       "    <tr>\n",
       "      <th>19</th>\n",
       "      <td>18</td>\n",
       "      <td>367</td>\n",
       "      <td>18_power_grid_energy_system</td>\n",
       "      <td>[power, grid, energy, system, load, control, r...</td>\n",
       "      <td>[recent time non-intrusive load monitoring nil...</td>\n",
       "    </tr>\n",
       "    <tr>\n",
       "      <th>20</th>\n",
       "      <td>19</td>\n",
       "      <td>344</td>\n",
       "      <td>19_graph_gnn_node_network</td>\n",
       "      <td>[graph, gnn, node, network, embedding, learnin...</td>\n",
       "      <td>[graph embedding effective method represent gr...</td>\n",
       "    </tr>\n",
       "    <tr>\n",
       "      <th>21</th>\n",
       "      <td>20</td>\n",
       "      <td>341</td>\n",
       "      <td>20_attack_security_malware_cyber</td>\n",
       "      <td>[attack, security, malware, cyber, detection, ...</td>\n",
       "      <td>[cyber-attack malicious attempt experienced ha...</td>\n",
       "    </tr>\n",
       "    <tr>\n",
       "      <th>22</th>\n",
       "      <td>21</td>\n",
       "      <td>331</td>\n",
       "      <td>21_label_learning_datum_supervised</td>\n",
       "      <td>[label, learning, datum, supervised, training,...</td>\n",
       "      <td>[semi-supervised learning ssl powerful strateg...</td>\n",
       "    </tr>\n",
       "    <tr>\n",
       "      <th>23</th>\n",
       "      <td>22</td>\n",
       "      <td>313</td>\n",
       "      <td>22_adversarial_attack_robustness_perturbation</td>\n",
       "      <td>[adversarial, attack, robustness, perturbation...</td>\n",
       "      <td>[excellent accuracy feasibility neural network...</td>\n",
       "    </tr>\n",
       "    <tr>\n",
       "      <th>24</th>\n",
       "      <td>23</td>\n",
       "      <td>306</td>\n",
       "      <td>23_memory_gpu_performance_application</td>\n",
       "      <td>[memory, gpu, performance, application, fpga, ...</td>\n",
       "      <td>[memory disaggregation provide efficient memor...</td>\n",
       "    </tr>\n",
       "    <tr>\n",
       "      <th>25</th>\n",
       "      <td>24</td>\n",
       "      <td>268</td>\n",
       "      <td>24_network_community_node_structure</td>\n",
       "      <td>[network, community, node, structure, link, de...</td>\n",
       "      <td>[complex network consider positive negative li...</td>\n",
       "    </tr>\n",
       "    <tr>\n",
       "      <th>26</th>\n",
       "      <td>25</td>\n",
       "      <td>263</td>\n",
       "      <td>25_blockchain_transaction_contract_smart</td>\n",
       "      <td>[blockchain, transaction, contract, smart, bit...</td>\n",
       "      <td>[blockchain receive widespread attention decen...</td>\n",
       "    </tr>\n",
       "    <tr>\n",
       "      <th>27</th>\n",
       "      <td>26</td>\n",
       "      <td>209</td>\n",
       "      <td>26_privacy_private_differential_datum</td>\n",
       "      <td>[privacy, private, differential, datum, dp, fe...</td>\n",
       "      <td>[define discount differential privacy alternat...</td>\n",
       "    </tr>\n",
       "  </tbody>\n",
       "</table>\n",
       "</div>"
      ],
      "text/plain": [
       "    Topic  Count                                           Name  \\\n",
       "0      -1  19549                      -1_model_use_datum_method   \n",
       "1       0  13835                     0_quantum_field_energy_use   \n",
       "2       1   2200                1_channel_network_user_wireless   \n",
       "3       2   1273            2_algorithm_matrix_problem_function   \n",
       "4       3   1228                     3_language_word_model_text   \n",
       "5       4   1030                  4_robot_human_robotic_control   \n",
       "6       5    963                 5_logic_language_program_proof   \n",
       "7       6    822            6_image_segmentation_medical_method   \n",
       "8       7    781          7_user_recommendation_citation_social   \n",
       "9       8    774                    8_graph_vertex_edge_problem   \n",
       "10      9    706                   9_speech_speaker_audio_model   \n",
       "11     10    687                       10_image_3d_depth_object   \n",
       "12     11    624              11_equation_method_numerical_mesh   \n",
       "13     12    621                12_network_neural_training_deep   \n",
       "14     13    576               13_game_player_agent_equilibrium   \n",
       "15     14    441              14_control_controller_system_time   \n",
       "16     15    400          15_software_datum_project_development   \n",
       "17     16    372                  16_covid_19_epidemic_pandemic   \n",
       "18     17    370            17_policy_reinforcement_learning_rl   \n",
       "19     18    367                    18_power_grid_energy_system   \n",
       "20     19    344                      19_graph_gnn_node_network   \n",
       "21     20    341               20_attack_security_malware_cyber   \n",
       "22     21    331             21_label_learning_datum_supervised   \n",
       "23     22    313  22_adversarial_attack_robustness_perturbation   \n",
       "24     23    306          23_memory_gpu_performance_application   \n",
       "25     24    268            24_network_community_node_structure   \n",
       "26     25    263       25_blockchain_transaction_contract_smart   \n",
       "27     26    209          26_privacy_private_differential_datum   \n",
       "\n",
       "                                       Representation  \\\n",
       "0   [model, use, datum, method, propose, network, ...   \n",
       "1   [quantum, field, energy, use, particle, wave, ...   \n",
       "2   [channel, network, user, wireless, communicati...   \n",
       "3   [algorithm, matrix, problem, function, polynom...   \n",
       "4   [language, word, model, text, sentence, transl...   \n",
       "5   [robot, human, robotic, control, vehicle, traj...   \n",
       "6   [logic, language, program, proof, calculus, ty...   \n",
       "7   [image, segmentation, medical, method, mri, im...   \n",
       "8   [user, recommendation, citation, social, resea...   \n",
       "9   [graph, vertex, edge, problem, algorithm, set,...   \n",
       "10  [speech, speaker, audio, model, sound, voice, ...   \n",
       "11  [image, 3d, depth, object, scene, segmentation...   \n",
       "12  [equation, method, numerical, mesh, problem, s...   \n",
       "13  [network, neural, training, deep, architecture...   \n",
       "14  [game, player, agent, equilibrium, strategy, n...   \n",
       "15  [control, controller, system, time, nonlinear,...   \n",
       "16  [software, datum, project, development, engine...   \n",
       "17  [covid, 19, epidemic, pandemic, disease, sprea...   \n",
       "18  [policy, reinforcement, learning, rl, reward, ...   \n",
       "19  [power, grid, energy, system, load, control, r...   \n",
       "20  [graph, gnn, node, network, embedding, learnin...   \n",
       "21  [attack, security, malware, cyber, detection, ...   \n",
       "22  [label, learning, datum, supervised, training,...   \n",
       "23  [adversarial, attack, robustness, perturbation...   \n",
       "24  [memory, gpu, performance, application, fpga, ...   \n",
       "25  [network, community, node, structure, link, de...   \n",
       "26  [blockchain, transaction, contract, smart, bit...   \n",
       "27  [privacy, private, differential, datum, dp, fe...   \n",
       "\n",
       "                                  Representative_Docs  \n",
       "0   [object detection algorithm lidar datum numero...  \n",
       "1   [observation molecular dynamic quantum state r...  \n",
       "2   [multiple antenna broadcast channel perfect ch...  \n",
       "3   [sparse matrix favorable object machine learni...  \n",
       "4   [word embedding essential component wide range...  \n",
       "5   [design control robot play equally important r...  \n",
       "6   [extend simply-typed guarded \\lambda$-calculus...  \n",
       "7   [algorithmic image-based diagnosis prognosis n...  \n",
       "8   [model user preference long-term history user ...  \n",
       "9   [concept sum labelling introduce 1990 harary g...  \n",
       "10  [automatic recognition disorder speech remain ...  \n",
       "11  [unified neural network structure present join...  \n",
       "12  [advent mesh-free method tool numerical analys...  \n",
       "13  [deep neural network successful task speech do...  \n",
       "14  [minimalist game design introduce decade ago g...  \n",
       "15  [paper multiple model adaptive fuzzy logic con...  \n",
       "16  [continue process software system enlargement ...  \n",
       "17  [introduce mathematical description impact soc...  \n",
       "18  [reinforcement learning rl semi-supervised lea...  \n",
       "19  [recent time non-intrusive load monitoring nil...  \n",
       "20  [graph embedding effective method represent gr...  \n",
       "21  [cyber-attack malicious attempt experienced ha...  \n",
       "22  [semi-supervised learning ssl powerful strateg...  \n",
       "23  [excellent accuracy feasibility neural network...  \n",
       "24  [memory disaggregation provide efficient memor...  \n",
       "25  [complex network consider positive negative li...  \n",
       "26  [blockchain receive widespread attention decen...  \n",
       "27  [define discount differential privacy alternat...  "
      ]
     },
     "execution_count": 22,
     "metadata": {},
     "output_type": "execute_result"
    }
   ],
   "source": [
    "len(topic_model4.get_topic_info())\n",
    "topic_model4.get_topic_info()"
   ]
  },
  {
   "cell_type": "code",
   "execution_count": 23,
   "metadata": {
    "execution": {
     "iopub.execute_input": "2023-06-06T01:41:34.574076Z",
     "iopub.status.busy": "2023-06-06T01:41:34.573618Z",
     "iopub.status.idle": "2023-06-06T01:44:07.520264Z",
     "shell.execute_reply": "2023-06-06T01:44:07.519172Z",
     "shell.execute_reply.started": "2023-06-06T01:41:34.574041Z"
    }
   },
   "outputs": [
    {
     "data": {
      "application/vnd.jupyter.widget-view+json": {
       "model_id": "28c3b5b5ed454c558b915031c0311319",
       "version_major": 2,
       "version_minor": 0
      },
      "text/plain": [
       "Downloading (…)e9125/.gitattributes:   0%|          | 0.00/1.18k [00:00<?, ?B/s]"
      ]
     },
     "metadata": {},
     "output_type": "display_data"
    },
    {
     "data": {
      "application/vnd.jupyter.widget-view+json": {
       "model_id": "37453244bbe24edca6ca7f9ebed901ac",
       "version_major": 2,
       "version_minor": 0
      },
      "text/plain": [
       "Downloading (…)_Pooling/config.json:   0%|          | 0.00/190 [00:00<?, ?B/s]"
      ]
     },
     "metadata": {},
     "output_type": "display_data"
    },
    {
     "data": {
      "application/vnd.jupyter.widget-view+json": {
       "model_id": "70f2594cbe52485582122310b0b9c68c",
       "version_major": 2,
       "version_minor": 0
      },
      "text/plain": [
       "Downloading (…)7e55de9125/README.md:   0%|          | 0.00/10.6k [00:00<?, ?B/s]"
      ]
     },
     "metadata": {},
     "output_type": "display_data"
    },
    {
     "data": {
      "application/vnd.jupyter.widget-view+json": {
       "model_id": "6418d1c87f004e95ae55a5f01fdd6804",
       "version_major": 2,
       "version_minor": 0
      },
      "text/plain": [
       "Downloading (…)55de9125/config.json:   0%|          | 0.00/612 [00:00<?, ?B/s]"
      ]
     },
     "metadata": {},
     "output_type": "display_data"
    },
    {
     "data": {
      "application/vnd.jupyter.widget-view+json": {
       "model_id": "992bf060a94d48338803840bd2a021dc",
       "version_major": 2,
       "version_minor": 0
      },
      "text/plain": [
       "Downloading (…)ce_transformers.json:   0%|          | 0.00/116 [00:00<?, ?B/s]"
      ]
     },
     "metadata": {},
     "output_type": "display_data"
    },
    {
     "data": {
      "application/vnd.jupyter.widget-view+json": {
       "model_id": "691a0492bbd7471e9e03230bcef68558",
       "version_major": 2,
       "version_minor": 0
      },
      "text/plain": [
       "Downloading (…)125/data_config.json:   0%|          | 0.00/39.3k [00:00<?, ?B/s]"
      ]
     },
     "metadata": {},
     "output_type": "display_data"
    },
    {
     "data": {
      "application/vnd.jupyter.widget-view+json": {
       "model_id": "7e73cd337cf14d7c820afe345357b79a",
       "version_major": 2,
       "version_minor": 0
      },
      "text/plain": [
       "Downloading pytorch_model.bin:   0%|          | 0.00/90.9M [00:00<?, ?B/s]"
      ]
     },
     "metadata": {},
     "output_type": "display_data"
    },
    {
     "data": {
      "application/vnd.jupyter.widget-view+json": {
       "model_id": "8ada033fb24a4a12bbc734af70684059",
       "version_major": 2,
       "version_minor": 0
      },
      "text/plain": [
       "Downloading (…)nce_bert_config.json:   0%|          | 0.00/53.0 [00:00<?, ?B/s]"
      ]
     },
     "metadata": {},
     "output_type": "display_data"
    },
    {
     "data": {
      "application/vnd.jupyter.widget-view+json": {
       "model_id": "9f8014e18aa14f4994d0698ce13011b4",
       "version_major": 2,
       "version_minor": 0
      },
      "text/plain": [
       "Downloading (…)cial_tokens_map.json:   0%|          | 0.00/112 [00:00<?, ?B/s]"
      ]
     },
     "metadata": {},
     "output_type": "display_data"
    },
    {
     "data": {
      "application/vnd.jupyter.widget-view+json": {
       "model_id": "7e0b9791cdd4419aa4c94b4910c03553",
       "version_major": 2,
       "version_minor": 0
      },
      "text/plain": [
       "Downloading (…)e9125/tokenizer.json:   0%|          | 0.00/466k [00:00<?, ?B/s]"
      ]
     },
     "metadata": {},
     "output_type": "display_data"
    },
    {
     "data": {
      "application/vnd.jupyter.widget-view+json": {
       "model_id": "9f98d46643de48cc873fb286b2fab618",
       "version_major": 2,
       "version_minor": 0
      },
      "text/plain": [
       "Downloading (…)okenizer_config.json:   0%|          | 0.00/350 [00:00<?, ?B/s]"
      ]
     },
     "metadata": {},
     "output_type": "display_data"
    },
    {
     "data": {
      "application/vnd.jupyter.widget-view+json": {
       "model_id": "cd30163a37794142aa8a587a44698bd3",
       "version_major": 2,
       "version_minor": 0
      },
      "text/plain": [
       "Downloading (…)9125/train_script.py:   0%|          | 0.00/13.2k [00:00<?, ?B/s]"
      ]
     },
     "metadata": {},
     "output_type": "display_data"
    },
    {
     "data": {
      "application/vnd.jupyter.widget-view+json": {
       "model_id": "f32a293c60274153a3abc7dfc0d3770e",
       "version_major": 2,
       "version_minor": 0
      },
      "text/plain": [
       "Downloading (…)7e55de9125/vocab.txt:   0%|          | 0.00/232k [00:00<?, ?B/s]"
      ]
     },
     "metadata": {},
     "output_type": "display_data"
    },
    {
     "data": {
      "application/vnd.jupyter.widget-view+json": {
       "model_id": "fe76a7d383d549999362b4367cf6d6cf",
       "version_major": 2,
       "version_minor": 0
      },
      "text/plain": [
       "Downloading (…)5de9125/modules.json:   0%|          | 0.00/349 [00:00<?, ?B/s]"
      ]
     },
     "metadata": {},
     "output_type": "display_data"
    },
    {
     "data": {
      "application/vnd.jupyter.widget-view+json": {
       "model_id": "c0ef81d77bdb4f5a949e945d731a91e1",
       "version_major": 2,
       "version_minor": 0
      },
      "text/plain": [
       "Batches:   0%|          | 0/1563 [00:00<?, ?it/s]"
      ]
     },
     "metadata": {},
     "output_type": "display_data"
    },
    {
     "name": "stderr",
     "output_type": "stream",
     "text": [
      "2023-06-06 01:43:03,881 - BERTopic - Transformed documents to Embeddings\n",
      "2023-06-06 01:43:49,305 - BERTopic - Reduced dimensionality\n",
      "2023-06-06 01:43:56,740 - BERTopic - Clustered reduced embeddings\n"
     ]
    }
   ],
   "source": [
    "tqdm.pandas()\n",
    "topic_model5 = BERTopic(verbose=True, embedding_model=\"sentence-transformers/all-MiniLM-L6-v2\", min_topic_size=200)\n",
    "topics5 = topic_model5.fit_transform(df2[\"processed_text\"].to_numpy())"
   ]
  },
  {
   "cell_type": "code",
   "execution_count": 25,
   "metadata": {
    "execution": {
     "iopub.execute_input": "2023-06-06T01:45:40.306918Z",
     "iopub.status.busy": "2023-06-06T01:45:40.305821Z",
     "iopub.status.idle": "2023-06-06T01:45:40.350007Z",
     "shell.execute_reply": "2023-06-06T01:45:40.349086Z",
     "shell.execute_reply.started": "2023-06-06T01:45:40.306868Z"
    }
   },
   "outputs": [
    {
     "data": {
      "text/plain": [
       "24"
      ]
     },
     "execution_count": 25,
     "metadata": {},
     "output_type": "execute_result"
    },
    {
     "data": {
      "text/html": [
       "<div>\n",
       "<style scoped>\n",
       "    .dataframe tbody tr th:only-of-type {\n",
       "        vertical-align: middle;\n",
       "    }\n",
       "\n",
       "    .dataframe tbody tr th {\n",
       "        vertical-align: top;\n",
       "    }\n",
       "\n",
       "    .dataframe thead th {\n",
       "        text-align: right;\n",
       "    }\n",
       "</style>\n",
       "<table border=\"1\" class=\"dataframe\">\n",
       "  <thead>\n",
       "    <tr style=\"text-align: right;\">\n",
       "      <th></th>\n",
       "      <th>Topic</th>\n",
       "      <th>Count</th>\n",
       "      <th>Name</th>\n",
       "      <th>Representation</th>\n",
       "      <th>Representative_Docs</th>\n",
       "    </tr>\n",
       "  </thead>\n",
       "  <tbody>\n",
       "    <tr>\n",
       "      <th>0</th>\n",
       "      <td>-1</td>\n",
       "      <td>10603</td>\n",
       "      <td>-1_datum_model_use_algorithm</td>\n",
       "      <td>[datum, model, use, algorithm, problem, propos...</td>\n",
       "      <td>[increase analytic perform datum procure real-...</td>\n",
       "    </tr>\n",
       "    <tr>\n",
       "      <th>1</th>\n",
       "      <td>0</td>\n",
       "      <td>15775</td>\n",
       "      <td>0_quantum_field_use_energy</td>\n",
       "      <td>[quantum, field, use, energy, equation, high, ...</td>\n",
       "      <td>[laser wakefield accelerator rely extremely hi...</td>\n",
       "    </tr>\n",
       "    <tr>\n",
       "      <th>2</th>\n",
       "      <td>1</td>\n",
       "      <td>6984</td>\n",
       "      <td>1_image_method_propose_model</td>\n",
       "      <td>[image, method, propose, model, network, learn...</td>\n",
       "      <td>[unsupervised object discovery aim localize ob...</td>\n",
       "    </tr>\n",
       "    <tr>\n",
       "      <th>3</th>\n",
       "      <td>2</td>\n",
       "      <td>2644</td>\n",
       "      <td>2_channel_network_user_wireless</td>\n",
       "      <td>[channel, network, user, wireless, code, propo...</td>\n",
       "      <td>[device-to-device d2d communication appear key...</td>\n",
       "    </tr>\n",
       "    <tr>\n",
       "      <th>4</th>\n",
       "      <td>3</td>\n",
       "      <td>2634</td>\n",
       "      <td>3_robot_control_policy_agent</td>\n",
       "      <td>[robot, control, policy, agent, learning, syst...</td>\n",
       "      <td>[recent success combine reinforcement learning...</td>\n",
       "    </tr>\n",
       "    <tr>\n",
       "      <th>5</th>\n",
       "      <td>4</td>\n",
       "      <td>1830</td>\n",
       "      <td>4_language_model_task_word</td>\n",
       "      <td>[language, model, task, word, text, sentence, ...</td>\n",
       "      <td>[multilingual machine translation address task...</td>\n",
       "    </tr>\n",
       "    <tr>\n",
       "      <th>6</th>\n",
       "      <td>5</td>\n",
       "      <td>1154</td>\n",
       "      <td>5_logic_language_program_proof</td>\n",
       "      <td>[logic, language, program, proof, calculus, sy...</td>\n",
       "      <td>[knowledge representation crucial knowledge en...</td>\n",
       "    </tr>\n",
       "    <tr>\n",
       "      <th>7</th>\n",
       "      <td>6</td>\n",
       "      <td>1078</td>\n",
       "      <td>6_image_segmentation_medical_method</td>\n",
       "      <td>[image, segmentation, medical, method, imaging...</td>\n",
       "      <td>[witness success deep learning neural network ...</td>\n",
       "    </tr>\n",
       "    <tr>\n",
       "      <th>8</th>\n",
       "      <td>7</td>\n",
       "      <td>1066</td>\n",
       "      <td>7_graph_vertex_problem_algorithm</td>\n",
       "      <td>[graph, vertex, problem, algorithm, edge, log,...</td>\n",
       "      <td>[study graph form instance stable matching pro...</td>\n",
       "    </tr>\n",
       "    <tr>\n",
       "      <th>9</th>\n",
       "      <td>8</td>\n",
       "      <td>1051</td>\n",
       "      <td>8_student_software_research_citation</td>\n",
       "      <td>[student, software, research, citation, projec...</td>\n",
       "      <td>[continuous growth scientific literature bring...</td>\n",
       "    </tr>\n",
       "    <tr>\n",
       "      <th>10</th>\n",
       "      <td>9</td>\n",
       "      <td>793</td>\n",
       "      <td>9_speech_audio_speaker_model</td>\n",
       "      <td>[speech, audio, speaker, model, music, voice, ...</td>\n",
       "      <td>[present end-to-end speech recognition model l...</td>\n",
       "    </tr>\n",
       "    <tr>\n",
       "      <th>11</th>\n",
       "      <td>10</td>\n",
       "      <td>595</td>\n",
       "      <td>10_game_player_equilibrium_agent</td>\n",
       "      <td>[game, player, equilibrium, agent, strategy, m...</td>\n",
       "      <td>[work introduce graphical modelsfor multi-play...</td>\n",
       "    </tr>\n",
       "    <tr>\n",
       "      <th>12</th>\n",
       "      <td>11</td>\n",
       "      <td>466</td>\n",
       "      <td>11_power_grid_energy_system</td>\n",
       "      <td>[power, grid, energy, system, control, load, d...</td>\n",
       "      <td>[recent time non-intrusive load monitoring nil...</td>\n",
       "    </tr>\n",
       "    <tr>\n",
       "      <th>13</th>\n",
       "      <td>12</td>\n",
       "      <td>440</td>\n",
       "      <td>12_network_community_node_graph</td>\n",
       "      <td>[network, community, node, graph, degree, stru...</td>\n",
       "      <td>[datum analysis problem rely dynamic network s...</td>\n",
       "    </tr>\n",
       "    <tr>\n",
       "      <th>14</th>\n",
       "      <td>13</td>\n",
       "      <td>346</td>\n",
       "      <td>13_memory_cloud_application_computing</td>\n",
       "      <td>[memory, cloud, application, computing, perfor...</td>\n",
       "      <td>[today cloud computing emerge way computing co...</td>\n",
       "    </tr>\n",
       "    <tr>\n",
       "      <th>15</th>\n",
       "      <td>14</td>\n",
       "      <td>341</td>\n",
       "      <td>14_covid_19_epidemic_pandemic</td>\n",
       "      <td>[covid, 19, epidemic, pandemic, disease, infec...</td>\n",
       "      <td>[covid-19 pandemic severely impact life billio...</td>\n",
       "    </tr>\n",
       "    <tr>\n",
       "      <th>16</th>\n",
       "      <td>15</td>\n",
       "      <td>326</td>\n",
       "      <td>15_adversarial_attack_robustness_perturbation</td>\n",
       "      <td>[adversarial, attack, robustness, perturbation...</td>\n",
       "      <td>[excellent accuracy feasibility neural network...</td>\n",
       "    </tr>\n",
       "    <tr>\n",
       "      <th>17</th>\n",
       "      <td>16</td>\n",
       "      <td>321</td>\n",
       "      <td>16_privacy_datum_private_federated</td>\n",
       "      <td>[privacy, datum, private, federated, fl, learn...</td>\n",
       "      <td>[define discount differential privacy alternat...</td>\n",
       "    </tr>\n",
       "    <tr>\n",
       "      <th>18</th>\n",
       "      <td>17</td>\n",
       "      <td>292</td>\n",
       "      <td>17_recommendation_user_item_recommender</td>\n",
       "      <td>[recommendation, user, item, recommender, syst...</td>\n",
       "      <td>[information overload web personalized recomme...</td>\n",
       "    </tr>\n",
       "    <tr>\n",
       "      <th>19</th>\n",
       "      <td>18</td>\n",
       "      <td>273</td>\n",
       "      <td>18_graph_gnn_node_network</td>\n",
       "      <td>[graph, gnn, node, network, embedding, learnin...</td>\n",
       "      <td>[graph representation learning learn universal...</td>\n",
       "    </tr>\n",
       "    <tr>\n",
       "      <th>20</th>\n",
       "      <td>19</td>\n",
       "      <td>267</td>\n",
       "      <td>19_urban_city_travel_bus</td>\n",
       "      <td>[urban, city, travel, bus, route, traffic, pas...</td>\n",
       "      <td>[understand morphology urban system important ...</td>\n",
       "    </tr>\n",
       "    <tr>\n",
       "      <th>21</th>\n",
       "      <td>20</td>\n",
       "      <td>262</td>\n",
       "      <td>20_blockchain_transaction_contract_smart</td>\n",
       "      <td>[blockchain, transaction, contract, smart, bit...</td>\n",
       "      <td>[layer 2 atomic cross-blockchain function prot...</td>\n",
       "    </tr>\n",
       "    <tr>\n",
       "      <th>22</th>\n",
       "      <td>21</td>\n",
       "      <td>242</td>\n",
       "      <td>21_social_news_medium_user</td>\n",
       "      <td>[social, news, medium, user, twitter, content,...</td>\n",
       "      <td>[evolution electronic medium mixed blessing ea...</td>\n",
       "    </tr>\n",
       "    <tr>\n",
       "      <th>23</th>\n",
       "      <td>22</td>\n",
       "      <td>211</td>\n",
       "      <td>22_brain_snn_spike_neuron</td>\n",
       "      <td>[brain, snn, spike, neuron, network, neural, s...</td>\n",
       "      <td>[spiking neural network snn garner great inter...</td>\n",
       "    </tr>\n",
       "  </tbody>\n",
       "</table>\n",
       "</div>"
      ],
      "text/plain": [
       "    Topic  Count                                           Name  \\\n",
       "0      -1  10603                   -1_datum_model_use_algorithm   \n",
       "1       0  15775                     0_quantum_field_use_energy   \n",
       "2       1   6984                   1_image_method_propose_model   \n",
       "3       2   2644                2_channel_network_user_wireless   \n",
       "4       3   2634                   3_robot_control_policy_agent   \n",
       "5       4   1830                     4_language_model_task_word   \n",
       "6       5   1154                 5_logic_language_program_proof   \n",
       "7       6   1078            6_image_segmentation_medical_method   \n",
       "8       7   1066               7_graph_vertex_problem_algorithm   \n",
       "9       8   1051           8_student_software_research_citation   \n",
       "10      9    793                   9_speech_audio_speaker_model   \n",
       "11     10    595               10_game_player_equilibrium_agent   \n",
       "12     11    466                    11_power_grid_energy_system   \n",
       "13     12    440                12_network_community_node_graph   \n",
       "14     13    346          13_memory_cloud_application_computing   \n",
       "15     14    341                  14_covid_19_epidemic_pandemic   \n",
       "16     15    326  15_adversarial_attack_robustness_perturbation   \n",
       "17     16    321             16_privacy_datum_private_federated   \n",
       "18     17    292        17_recommendation_user_item_recommender   \n",
       "19     18    273                      18_graph_gnn_node_network   \n",
       "20     19    267                       19_urban_city_travel_bus   \n",
       "21     20    262       20_blockchain_transaction_contract_smart   \n",
       "22     21    242                     21_social_news_medium_user   \n",
       "23     22    211                      22_brain_snn_spike_neuron   \n",
       "\n",
       "                                       Representation  \\\n",
       "0   [datum, model, use, algorithm, problem, propos...   \n",
       "1   [quantum, field, use, energy, equation, high, ...   \n",
       "2   [image, method, propose, model, network, learn...   \n",
       "3   [channel, network, user, wireless, code, propo...   \n",
       "4   [robot, control, policy, agent, learning, syst...   \n",
       "5   [language, model, task, word, text, sentence, ...   \n",
       "6   [logic, language, program, proof, calculus, sy...   \n",
       "7   [image, segmentation, medical, method, imaging...   \n",
       "8   [graph, vertex, problem, algorithm, edge, log,...   \n",
       "9   [student, software, research, citation, projec...   \n",
       "10  [speech, audio, speaker, model, music, voice, ...   \n",
       "11  [game, player, equilibrium, agent, strategy, m...   \n",
       "12  [power, grid, energy, system, control, load, d...   \n",
       "13  [network, community, node, graph, degree, stru...   \n",
       "14  [memory, cloud, application, computing, perfor...   \n",
       "15  [covid, 19, epidemic, pandemic, disease, infec...   \n",
       "16  [adversarial, attack, robustness, perturbation...   \n",
       "17  [privacy, datum, private, federated, fl, learn...   \n",
       "18  [recommendation, user, item, recommender, syst...   \n",
       "19  [graph, gnn, node, network, embedding, learnin...   \n",
       "20  [urban, city, travel, bus, route, traffic, pas...   \n",
       "21  [blockchain, transaction, contract, smart, bit...   \n",
       "22  [social, news, medium, user, twitter, content,...   \n",
       "23  [brain, snn, spike, neuron, network, neural, s...   \n",
       "\n",
       "                                  Representative_Docs  \n",
       "0   [increase analytic perform datum procure real-...  \n",
       "1   [laser wakefield accelerator rely extremely hi...  \n",
       "2   [unsupervised object discovery aim localize ob...  \n",
       "3   [device-to-device d2d communication appear key...  \n",
       "4   [recent success combine reinforcement learning...  \n",
       "5   [multilingual machine translation address task...  \n",
       "6   [knowledge representation crucial knowledge en...  \n",
       "7   [witness success deep learning neural network ...  \n",
       "8   [study graph form instance stable matching pro...  \n",
       "9   [continuous growth scientific literature bring...  \n",
       "10  [present end-to-end speech recognition model l...  \n",
       "11  [work introduce graphical modelsfor multi-play...  \n",
       "12  [recent time non-intrusive load monitoring nil...  \n",
       "13  [datum analysis problem rely dynamic network s...  \n",
       "14  [today cloud computing emerge way computing co...  \n",
       "15  [covid-19 pandemic severely impact life billio...  \n",
       "16  [excellent accuracy feasibility neural network...  \n",
       "17  [define discount differential privacy alternat...  \n",
       "18  [information overload web personalized recomme...  \n",
       "19  [graph representation learning learn universal...  \n",
       "20  [understand morphology urban system important ...  \n",
       "21  [layer 2 atomic cross-blockchain function prot...  \n",
       "22  [evolution electronic medium mixed blessing ea...  \n",
       "23  [spiking neural network snn garner great inter...  "
      ]
     },
     "execution_count": 25,
     "metadata": {},
     "output_type": "execute_result"
    }
   ],
   "source": [
    "len(topic_model5.get_topic_info())\n",
    "topic_model5.get_topic_info()"
   ]
  },
  {
   "cell_type": "markdown",
   "metadata": {
    "id": "APxaGCN50Spl"
   },
   "source": [
    "### **Visualization**"
   ]
  },
  {
   "cell_type": "code",
   "execution_count": 38,
   "metadata": {
    "execution": {
     "iopub.execute_input": "2023-06-06T01:54:45.116951Z",
     "iopub.status.busy": "2023-06-06T01:54:45.116271Z",
     "iopub.status.idle": "2023-06-06T01:54:45.219452Z",
     "shell.execute_reply": "2023-06-06T01:54:45.218545Z",
     "shell.execute_reply.started": "2023-06-06T01:54:45.116910Z"
    },
    "id": "WN5h6RQT0Spm"
   },
   "outputs": [
    {
     "data": {
      "application/vnd.plotly.v1+json": {
       "config": {
        "plotlyServerURL": "https://plot.ly"
       },
       "data": [
        {
         "marker": {
          "color": "#D55E00"
         },
         "orientation": "h",
         "type": "bar",
         "x": [
          0.012142268423380552,
          0.014487903714870137,
          0.014644374696994339,
          0.015421652275555687,
          0.015594353615311017
         ],
         "xaxis": "x",
         "y": [
          "equation  ",
          "energy  ",
          "use  ",
          "field  ",
          "quantum  "
         ],
         "yaxis": "y"
        },
        {
         "marker": {
          "color": "#0072B2"
         },
         "orientation": "h",
         "type": "bar",
         "x": [
          0.01791186376018515,
          0.019356196596021984,
          0.01959962664172728,
          0.022155245115702535,
          0.029359158930621583
         ],
         "xaxis": "x2",
         "y": [
          "network  ",
          "model  ",
          "propose  ",
          "method  ",
          "image  "
         ],
         "yaxis": "y2"
        },
        {
         "marker": {
          "color": "#CC79A7"
         },
         "orientation": "h",
         "type": "bar",
         "x": [
          0.020560883392506373,
          0.020618186479489625,
          0.022979198448461188,
          0.0319049710189699,
          0.03866252620147589
         ],
         "xaxis": "x3",
         "y": [
          "code  ",
          "wireless  ",
          "user  ",
          "network  ",
          "channel  "
         ],
         "yaxis": "y3"
        },
        {
         "marker": {
          "color": "#E69F00"
         },
         "orientation": "h",
         "type": "bar",
         "x": [
          0.023215539420347993,
          0.02467160838584281,
          0.02472815584630914,
          0.03075140021494007,
          0.038210851570109804
         ],
         "xaxis": "x4",
         "y": [
          "learning  ",
          "agent  ",
          "policy  ",
          "control  ",
          "robot  "
         ],
         "yaxis": "y4"
        },
        {
         "marker": {
          "color": "#56B4E9"
         },
         "orientation": "h",
         "type": "bar",
         "x": [
          0.02756547923013929,
          0.031175420778352347,
          0.03222513391362257,
          0.03918797400183831,
          0.05245321810164089
         ],
         "xaxis": "x5",
         "y": [
          "text  ",
          "word  ",
          "task  ",
          "model  ",
          "language  "
         ],
         "yaxis": "y5"
        },
        {
         "marker": {
          "color": "#009E73"
         },
         "orientation": "h",
         "type": "bar",
         "x": [
          0.02453692584648632,
          0.025254553136658028,
          0.03336253789569773,
          0.0338138714518909,
          0.05230058317469357
         ],
         "xaxis": "x6",
         "y": [
          "calculus  ",
          "proof  ",
          "program  ",
          "language  ",
          "logic  "
         ],
         "yaxis": "y6"
        },
        {
         "marker": {
          "color": "#F0E442"
         },
         "orientation": "h",
         "type": "bar",
         "x": [
          0.02392921987628375,
          0.024811997720823226,
          0.024969988869293254,
          0.03874055502207873,
          0.0558313531300219
         ],
         "xaxis": "x7",
         "y": [
          "imaging  ",
          "method  ",
          "medical  ",
          "segmentation  ",
          "image  "
         ],
         "yaxis": "y7"
        },
        {
         "marker": {
          "color": "#D55E00"
         },
         "orientation": "h",
         "type": "bar",
         "x": [
          0.036128182959614626,
          0.04203099185266319,
          0.04383322061464344,
          0.05889559680120471,
          0.10136474284710958
         ],
         "xaxis": "x8",
         "y": [
          "edge  ",
          "algorithm  ",
          "problem  ",
          "vertex  ",
          "graph  "
         ],
         "yaxis": "y8"
        }
       ],
       "layout": {
        "annotations": [
         {
          "font": {
           "size": 16
          },
          "showarrow": false,
          "text": "Topic 0",
          "x": 0.0875,
          "xanchor": "center",
          "xref": "paper",
          "y": 1,
          "yanchor": "bottom",
          "yref": "paper"
         },
         {
          "font": {
           "size": 16
          },
          "showarrow": false,
          "text": "Topic 1",
          "x": 0.36250000000000004,
          "xanchor": "center",
          "xref": "paper",
          "y": 1,
          "yanchor": "bottom",
          "yref": "paper"
         },
         {
          "font": {
           "size": 16
          },
          "showarrow": false,
          "text": "Topic 2",
          "x": 0.6375000000000001,
          "xanchor": "center",
          "xref": "paper",
          "y": 1,
          "yanchor": "bottom",
          "yref": "paper"
         },
         {
          "font": {
           "size": 16
          },
          "showarrow": false,
          "text": "Topic 3",
          "x": 0.9125,
          "xanchor": "center",
          "xref": "paper",
          "y": 1,
          "yanchor": "bottom",
          "yref": "paper"
         },
         {
          "font": {
           "size": 16
          },
          "showarrow": false,
          "text": "Topic 4",
          "x": 0.0875,
          "xanchor": "center",
          "xref": "paper",
          "y": 0.4,
          "yanchor": "bottom",
          "yref": "paper"
         },
         {
          "font": {
           "size": 16
          },
          "showarrow": false,
          "text": "Topic 5",
          "x": 0.36250000000000004,
          "xanchor": "center",
          "xref": "paper",
          "y": 0.4,
          "yanchor": "bottom",
          "yref": "paper"
         },
         {
          "font": {
           "size": 16
          },
          "showarrow": false,
          "text": "Topic 6",
          "x": 0.6375000000000001,
          "xanchor": "center",
          "xref": "paper",
          "y": 0.4,
          "yanchor": "bottom",
          "yref": "paper"
         },
         {
          "font": {
           "size": 16
          },
          "showarrow": false,
          "text": "Topic 7",
          "x": 0.9125,
          "xanchor": "center",
          "xref": "paper",
          "y": 0.4,
          "yanchor": "bottom",
          "yref": "paper"
         }
        ],
        "height": 1400,
        "hoverlabel": {
         "bgcolor": "white",
         "font": {
          "family": "Rockwell",
          "size": 16
         }
        },
        "showlegend": false,
        "template": {
         "data": {
          "bar": [
           {
            "error_x": {
             "color": "#2a3f5f"
            },
            "error_y": {
             "color": "#2a3f5f"
            },
            "marker": {
             "line": {
              "color": "white",
              "width": 0.5
             },
             "pattern": {
              "fillmode": "overlay",
              "size": 10,
              "solidity": 0.2
             }
            },
            "type": "bar"
           }
          ],
          "barpolar": [
           {
            "marker": {
             "line": {
              "color": "white",
              "width": 0.5
             },
             "pattern": {
              "fillmode": "overlay",
              "size": 10,
              "solidity": 0.2
             }
            },
            "type": "barpolar"
           }
          ],
          "carpet": [
           {
            "aaxis": {
             "endlinecolor": "#2a3f5f",
             "gridcolor": "#C8D4E3",
             "linecolor": "#C8D4E3",
             "minorgridcolor": "#C8D4E3",
             "startlinecolor": "#2a3f5f"
            },
            "baxis": {
             "endlinecolor": "#2a3f5f",
             "gridcolor": "#C8D4E3",
             "linecolor": "#C8D4E3",
             "minorgridcolor": "#C8D4E3",
             "startlinecolor": "#2a3f5f"
            },
            "type": "carpet"
           }
          ],
          "choropleth": [
           {
            "colorbar": {
             "outlinewidth": 0,
             "ticks": ""
            },
            "type": "choropleth"
           }
          ],
          "contour": [
           {
            "colorbar": {
             "outlinewidth": 0,
             "ticks": ""
            },
            "colorscale": [
             [
              0,
              "#0d0887"
             ],
             [
              0.1111111111111111,
              "#46039f"
             ],
             [
              0.2222222222222222,
              "#7201a8"
             ],
             [
              0.3333333333333333,
              "#9c179e"
             ],
             [
              0.4444444444444444,
              "#bd3786"
             ],
             [
              0.5555555555555556,
              "#d8576b"
             ],
             [
              0.6666666666666666,
              "#ed7953"
             ],
             [
              0.7777777777777778,
              "#fb9f3a"
             ],
             [
              0.8888888888888888,
              "#fdca26"
             ],
             [
              1,
              "#f0f921"
             ]
            ],
            "type": "contour"
           }
          ],
          "contourcarpet": [
           {
            "colorbar": {
             "outlinewidth": 0,
             "ticks": ""
            },
            "type": "contourcarpet"
           }
          ],
          "heatmap": [
           {
            "colorbar": {
             "outlinewidth": 0,
             "ticks": ""
            },
            "colorscale": [
             [
              0,
              "#0d0887"
             ],
             [
              0.1111111111111111,
              "#46039f"
             ],
             [
              0.2222222222222222,
              "#7201a8"
             ],
             [
              0.3333333333333333,
              "#9c179e"
             ],
             [
              0.4444444444444444,
              "#bd3786"
             ],
             [
              0.5555555555555556,
              "#d8576b"
             ],
             [
              0.6666666666666666,
              "#ed7953"
             ],
             [
              0.7777777777777778,
              "#fb9f3a"
             ],
             [
              0.8888888888888888,
              "#fdca26"
             ],
             [
              1,
              "#f0f921"
             ]
            ],
            "type": "heatmap"
           }
          ],
          "heatmapgl": [
           {
            "colorbar": {
             "outlinewidth": 0,
             "ticks": ""
            },
            "colorscale": [
             [
              0,
              "#0d0887"
             ],
             [
              0.1111111111111111,
              "#46039f"
             ],
             [
              0.2222222222222222,
              "#7201a8"
             ],
             [
              0.3333333333333333,
              "#9c179e"
             ],
             [
              0.4444444444444444,
              "#bd3786"
             ],
             [
              0.5555555555555556,
              "#d8576b"
             ],
             [
              0.6666666666666666,
              "#ed7953"
             ],
             [
              0.7777777777777778,
              "#fb9f3a"
             ],
             [
              0.8888888888888888,
              "#fdca26"
             ],
             [
              1,
              "#f0f921"
             ]
            ],
            "type": "heatmapgl"
           }
          ],
          "histogram": [
           {
            "marker": {
             "pattern": {
              "fillmode": "overlay",
              "size": 10,
              "solidity": 0.2
             }
            },
            "type": "histogram"
           }
          ],
          "histogram2d": [
           {
            "colorbar": {
             "outlinewidth": 0,
             "ticks": ""
            },
            "colorscale": [
             [
              0,
              "#0d0887"
             ],
             [
              0.1111111111111111,
              "#46039f"
             ],
             [
              0.2222222222222222,
              "#7201a8"
             ],
             [
              0.3333333333333333,
              "#9c179e"
             ],
             [
              0.4444444444444444,
              "#bd3786"
             ],
             [
              0.5555555555555556,
              "#d8576b"
             ],
             [
              0.6666666666666666,
              "#ed7953"
             ],
             [
              0.7777777777777778,
              "#fb9f3a"
             ],
             [
              0.8888888888888888,
              "#fdca26"
             ],
             [
              1,
              "#f0f921"
             ]
            ],
            "type": "histogram2d"
           }
          ],
          "histogram2dcontour": [
           {
            "colorbar": {
             "outlinewidth": 0,
             "ticks": ""
            },
            "colorscale": [
             [
              0,
              "#0d0887"
             ],
             [
              0.1111111111111111,
              "#46039f"
             ],
             [
              0.2222222222222222,
              "#7201a8"
             ],
             [
              0.3333333333333333,
              "#9c179e"
             ],
             [
              0.4444444444444444,
              "#bd3786"
             ],
             [
              0.5555555555555556,
              "#d8576b"
             ],
             [
              0.6666666666666666,
              "#ed7953"
             ],
             [
              0.7777777777777778,
              "#fb9f3a"
             ],
             [
              0.8888888888888888,
              "#fdca26"
             ],
             [
              1,
              "#f0f921"
             ]
            ],
            "type": "histogram2dcontour"
           }
          ],
          "mesh3d": [
           {
            "colorbar": {
             "outlinewidth": 0,
             "ticks": ""
            },
            "type": "mesh3d"
           }
          ],
          "parcoords": [
           {
            "line": {
             "colorbar": {
              "outlinewidth": 0,
              "ticks": ""
             }
            },
            "type": "parcoords"
           }
          ],
          "pie": [
           {
            "automargin": true,
            "type": "pie"
           }
          ],
          "scatter": [
           {
            "fillpattern": {
             "fillmode": "overlay",
             "size": 10,
             "solidity": 0.2
            },
            "type": "scatter"
           }
          ],
          "scatter3d": [
           {
            "line": {
             "colorbar": {
              "outlinewidth": 0,
              "ticks": ""
             }
            },
            "marker": {
             "colorbar": {
              "outlinewidth": 0,
              "ticks": ""
             }
            },
            "type": "scatter3d"
           }
          ],
          "scattercarpet": [
           {
            "marker": {
             "colorbar": {
              "outlinewidth": 0,
              "ticks": ""
             }
            },
            "type": "scattercarpet"
           }
          ],
          "scattergeo": [
           {
            "marker": {
             "colorbar": {
              "outlinewidth": 0,
              "ticks": ""
             }
            },
            "type": "scattergeo"
           }
          ],
          "scattergl": [
           {
            "marker": {
             "colorbar": {
              "outlinewidth": 0,
              "ticks": ""
             }
            },
            "type": "scattergl"
           }
          ],
          "scattermapbox": [
           {
            "marker": {
             "colorbar": {
              "outlinewidth": 0,
              "ticks": ""
             }
            },
            "type": "scattermapbox"
           }
          ],
          "scatterpolar": [
           {
            "marker": {
             "colorbar": {
              "outlinewidth": 0,
              "ticks": ""
             }
            },
            "type": "scatterpolar"
           }
          ],
          "scatterpolargl": [
           {
            "marker": {
             "colorbar": {
              "outlinewidth": 0,
              "ticks": ""
             }
            },
            "type": "scatterpolargl"
           }
          ],
          "scatterternary": [
           {
            "marker": {
             "colorbar": {
              "outlinewidth": 0,
              "ticks": ""
             }
            },
            "type": "scatterternary"
           }
          ],
          "surface": [
           {
            "colorbar": {
             "outlinewidth": 0,
             "ticks": ""
            },
            "colorscale": [
             [
              0,
              "#0d0887"
             ],
             [
              0.1111111111111111,
              "#46039f"
             ],
             [
              0.2222222222222222,
              "#7201a8"
             ],
             [
              0.3333333333333333,
              "#9c179e"
             ],
             [
              0.4444444444444444,
              "#bd3786"
             ],
             [
              0.5555555555555556,
              "#d8576b"
             ],
             [
              0.6666666666666666,
              "#ed7953"
             ],
             [
              0.7777777777777778,
              "#fb9f3a"
             ],
             [
              0.8888888888888888,
              "#fdca26"
             ],
             [
              1,
              "#f0f921"
             ]
            ],
            "type": "surface"
           }
          ],
          "table": [
           {
            "cells": {
             "fill": {
              "color": "#EBF0F8"
             },
             "line": {
              "color": "white"
             }
            },
            "header": {
             "fill": {
              "color": "#C8D4E3"
             },
             "line": {
              "color": "white"
             }
            },
            "type": "table"
           }
          ]
         },
         "layout": {
          "annotationdefaults": {
           "arrowcolor": "#2a3f5f",
           "arrowhead": 0,
           "arrowwidth": 1
          },
          "autotypenumbers": "strict",
          "coloraxis": {
           "colorbar": {
            "outlinewidth": 0,
            "ticks": ""
           }
          },
          "colorscale": {
           "diverging": [
            [
             0,
             "#8e0152"
            ],
            [
             0.1,
             "#c51b7d"
            ],
            [
             0.2,
             "#de77ae"
            ],
            [
             0.3,
             "#f1b6da"
            ],
            [
             0.4,
             "#fde0ef"
            ],
            [
             0.5,
             "#f7f7f7"
            ],
            [
             0.6,
             "#e6f5d0"
            ],
            [
             0.7,
             "#b8e186"
            ],
            [
             0.8,
             "#7fbc41"
            ],
            [
             0.9,
             "#4d9221"
            ],
            [
             1,
             "#276419"
            ]
           ],
           "sequential": [
            [
             0,
             "#0d0887"
            ],
            [
             0.1111111111111111,
             "#46039f"
            ],
            [
             0.2222222222222222,
             "#7201a8"
            ],
            [
             0.3333333333333333,
             "#9c179e"
            ],
            [
             0.4444444444444444,
             "#bd3786"
            ],
            [
             0.5555555555555556,
             "#d8576b"
            ],
            [
             0.6666666666666666,
             "#ed7953"
            ],
            [
             0.7777777777777778,
             "#fb9f3a"
            ],
            [
             0.8888888888888888,
             "#fdca26"
            ],
            [
             1,
             "#f0f921"
            ]
           ],
           "sequentialminus": [
            [
             0,
             "#0d0887"
            ],
            [
             0.1111111111111111,
             "#46039f"
            ],
            [
             0.2222222222222222,
             "#7201a8"
            ],
            [
             0.3333333333333333,
             "#9c179e"
            ],
            [
             0.4444444444444444,
             "#bd3786"
            ],
            [
             0.5555555555555556,
             "#d8576b"
            ],
            [
             0.6666666666666666,
             "#ed7953"
            ],
            [
             0.7777777777777778,
             "#fb9f3a"
            ],
            [
             0.8888888888888888,
             "#fdca26"
            ],
            [
             1,
             "#f0f921"
            ]
           ]
          },
          "colorway": [
           "#636efa",
           "#EF553B",
           "#00cc96",
           "#ab63fa",
           "#FFA15A",
           "#19d3f3",
           "#FF6692",
           "#B6E880",
           "#FF97FF",
           "#FECB52"
          ],
          "font": {
           "color": "#2a3f5f"
          },
          "geo": {
           "bgcolor": "white",
           "lakecolor": "white",
           "landcolor": "white",
           "showlakes": true,
           "showland": true,
           "subunitcolor": "#C8D4E3"
          },
          "hoverlabel": {
           "align": "left"
          },
          "hovermode": "closest",
          "mapbox": {
           "style": "light"
          },
          "paper_bgcolor": "white",
          "plot_bgcolor": "white",
          "polar": {
           "angularaxis": {
            "gridcolor": "#EBF0F8",
            "linecolor": "#EBF0F8",
            "ticks": ""
           },
           "bgcolor": "white",
           "radialaxis": {
            "gridcolor": "#EBF0F8",
            "linecolor": "#EBF0F8",
            "ticks": ""
           }
          },
          "scene": {
           "xaxis": {
            "backgroundcolor": "white",
            "gridcolor": "#DFE8F3",
            "gridwidth": 2,
            "linecolor": "#EBF0F8",
            "showbackground": true,
            "ticks": "",
            "zerolinecolor": "#EBF0F8"
           },
           "yaxis": {
            "backgroundcolor": "white",
            "gridcolor": "#DFE8F3",
            "gridwidth": 2,
            "linecolor": "#EBF0F8",
            "showbackground": true,
            "ticks": "",
            "zerolinecolor": "#EBF0F8"
           },
           "zaxis": {
            "backgroundcolor": "white",
            "gridcolor": "#DFE8F3",
            "gridwidth": 2,
            "linecolor": "#EBF0F8",
            "showbackground": true,
            "ticks": "",
            "zerolinecolor": "#EBF0F8"
           }
          },
          "shapedefaults": {
           "line": {
            "color": "#2a3f5f"
           }
          },
          "ternary": {
           "aaxis": {
            "gridcolor": "#DFE8F3",
            "linecolor": "#A2B1C6",
            "ticks": ""
           },
           "baxis": {
            "gridcolor": "#DFE8F3",
            "linecolor": "#A2B1C6",
            "ticks": ""
           },
           "bgcolor": "white",
           "caxis": {
            "gridcolor": "#DFE8F3",
            "linecolor": "#A2B1C6",
            "ticks": ""
           }
          },
          "title": {
           "x": 0.05
          },
          "xaxis": {
           "automargin": true,
           "gridcolor": "#EBF0F8",
           "linecolor": "#EBF0F8",
           "ticks": "",
           "title": {
            "standoff": 15
           },
           "zerolinecolor": "#EBF0F8",
           "zerolinewidth": 2
          },
          "yaxis": {
           "automargin": true,
           "gridcolor": "#EBF0F8",
           "linecolor": "#EBF0F8",
           "ticks": "",
           "title": {
            "standoff": 15
           },
           "zerolinecolor": "#EBF0F8",
           "zerolinewidth": 2
          }
         }
        },
        "title": {
         "font": {
          "color": "Black",
          "size": 22
         },
         "text": "Topic Word Scores",
         "x": 0.5,
         "xanchor": "center",
         "yanchor": "top"
        },
        "width": 1000,
        "xaxis": {
         "anchor": "y",
         "autorange": true,
         "domain": [
          0,
          0.175
         ],
         "range": [
          0,
          0.016415109068748438
         ],
         "showgrid": true,
         "type": "linear"
        },
        "xaxis2": {
         "anchor": "y2",
         "autorange": true,
         "domain": [
          0.275,
          0.45
         ],
         "range": [
          0,
          0.03090437782170693
         ],
         "showgrid": true,
         "type": "linear"
        },
        "xaxis3": {
         "anchor": "y3",
         "autorange": true,
         "domain": [
          0.55,
          0.7250000000000001
         ],
         "range": [
          0,
          0.04069739600155357
         ],
         "showgrid": true,
         "type": "linear"
        },
        "xaxis4": {
         "anchor": "y4",
         "autorange": true,
         "domain": [
          0.825,
          1
         ],
         "range": [
          0,
          0.04022194902116821
         ],
         "showgrid": true,
         "type": "linear"
        },
        "xaxis5": {
         "anchor": "y5",
         "autorange": true,
         "domain": [
          0,
          0.175
         ],
         "range": [
          0,
          0.05521391379120094
         ],
         "showgrid": true,
         "type": "linear"
        },
        "xaxis6": {
         "anchor": "y6",
         "autorange": true,
         "domain": [
          0.275,
          0.45
         ],
         "range": [
          0,
          0.055053245447045866
         ],
         "showgrid": true,
         "type": "linear"
        },
        "xaxis7": {
         "anchor": "y7",
         "autorange": true,
         "domain": [
          0.55,
          0.7250000000000001
         ],
         "range": [
          0,
          0.05876984540002306
         ],
         "showgrid": true,
         "type": "linear"
        },
        "xaxis8": {
         "anchor": "y8",
         "autorange": true,
         "domain": [
          0.825,
          1
         ],
         "range": [
          0,
          0.10669972931274693
         ],
         "showgrid": true,
         "type": "linear"
        },
        "yaxis": {
         "anchor": "x",
         "autorange": true,
         "domain": [
          0.6000000000000001,
          1
         ],
         "range": [
          -0.5,
          4.5
         ],
         "showgrid": true,
         "type": "category"
        },
        "yaxis2": {
         "anchor": "x2",
         "autorange": true,
         "domain": [
          0.6000000000000001,
          1
         ],
         "range": [
          -0.5,
          4.5
         ],
         "showgrid": true,
         "type": "category"
        },
        "yaxis3": {
         "anchor": "x3",
         "autorange": true,
         "domain": [
          0.6000000000000001,
          1
         ],
         "range": [
          -0.5,
          4.5
         ],
         "showgrid": true,
         "type": "category"
        },
        "yaxis4": {
         "anchor": "x4",
         "autorange": true,
         "domain": [
          0.6000000000000001,
          1
         ],
         "range": [
          -0.5,
          4.5
         ],
         "showgrid": true,
         "type": "category"
        },
        "yaxis5": {
         "anchor": "x5",
         "autorange": true,
         "domain": [
          0,
          0.4
         ],
         "range": [
          -0.5,
          4.5
         ],
         "showgrid": true,
         "type": "category"
        },
        "yaxis6": {
         "anchor": "x6",
         "autorange": true,
         "domain": [
          0,
          0.4
         ],
         "range": [
          -0.5,
          4.5
         ],
         "showgrid": true,
         "type": "category"
        },
        "yaxis7": {
         "anchor": "x7",
         "autorange": true,
         "domain": [
          0,
          0.4
         ],
         "range": [
          -0.5,
          4.5
         ],
         "showgrid": true,
         "type": "category"
        },
        "yaxis8": {
         "anchor": "x8",
         "autorange": true,
         "domain": [
          0,
          0.4
         ],
         "range": [
          -0.5,
          4.5
         ],
         "showgrid": true,
         "type": "category"
        }
       }
      },
      "image/png": "[encoded data removed]",
      "text/html": [
       "<div>                            <div id=\"1be674d0-f621-464b-bb4c-46ab1052a7ed\" class=\"plotly-graph-div\" style=\"height:1400px; width:1000px;\"></div>            <script type=\"text/javascript\">                require([\"plotly\"], function(Plotly) {                    window.PLOTLYENV=window.PLOTLYENV || {};                                    if (document.getElementById(\"1be674d0-f621-464b-bb4c-46ab1052a7ed\")) {                    Plotly.newPlot(                        \"1be674d0-f621-464b-bb4c-46ab1052a7ed\",                        [{\"marker\":{\"color\":\"#D55E00\"},\"orientation\":\"h\",\"x\":[0.012142268423380552,0.014487903714870137,0.014644374696994339,0.015421652275555687,0.015594353615311017],\"y\":[\"equation  \",\"energy  \",\"use  \",\"field  \",\"quantum  \"],\"type\":\"bar\",\"xaxis\":\"x\",\"yaxis\":\"y\"},{\"marker\":{\"color\":\"#0072B2\"},\"orientation\":\"h\",\"x\":[0.01791186376018515,0.019356196596021984,0.01959962664172728,0.022155245115702535,0.029359158930621583],\"y\":[\"network  \",\"model  \",\"propose  \",\"method  \",\"image  \"],\"type\":\"bar\",\"xaxis\":\"x2\",\"yaxis\":\"y2\"},{\"marker\":{\"color\":\"#CC79A7\"},\"orientation\":\"h\",\"x\":[0.020560883392506373,0.020618186479489625,0.022979198448461188,0.0319049710189699,0.03866252620147589],\"y\":[\"code  \",\"wireless  \",\"user  \",\"network  \",\"channel  \"],\"type\":\"bar\",\"xaxis\":\"x3\",\"yaxis\":\"y3\"},{\"marker\":{\"color\":\"#E69F00\"},\"orientation\":\"h\",\"x\":[0.023215539420347993,0.02467160838584281,0.02472815584630914,0.03075140021494007,0.038210851570109804],\"y\":[\"learning  \",\"agent  \",\"policy  \",\"control  \",\"robot  \"],\"type\":\"bar\",\"xaxis\":\"x4\",\"yaxis\":\"y4\"},{\"marker\":{\"color\":\"#56B4E9\"},\"orientation\":\"h\",\"x\":[0.02756547923013929,0.031175420778352347,0.03222513391362257,0.03918797400183831,0.05245321810164089],\"y\":[\"text  \",\"word  \",\"task  \",\"model  \",\"language  \"],\"type\":\"bar\",\"xaxis\":\"x5\",\"yaxis\":\"y5\"},{\"marker\":{\"color\":\"#009E73\"},\"orientation\":\"h\",\"x\":[0.02453692584648632,0.025254553136658028,0.03336253789569773,0.0338138714518909,0.05230058317469357],\"y\":[\"calculus  \",\"proof  \",\"program  \",\"language  \",\"logic  \"],\"type\":\"bar\",\"xaxis\":\"x6\",\"yaxis\":\"y6\"},{\"marker\":{\"color\":\"#F0E442\"},\"orientation\":\"h\",\"x\":[0.02392921987628375,0.024811997720823226,0.024969988869293254,0.03874055502207873,0.0558313531300219],\"y\":[\"imaging  \",\"method  \",\"medical  \",\"segmentation  \",\"image  \"],\"type\":\"bar\",\"xaxis\":\"x7\",\"yaxis\":\"y7\"},{\"marker\":{\"color\":\"#D55E00\"},\"orientation\":\"h\",\"x\":[0.036128182959614626,0.04203099185266319,0.04383322061464344,0.05889559680120471,0.10136474284710958],\"y\":[\"edge  \",\"algorithm  \",\"problem  \",\"vertex  \",\"graph  \"],\"type\":\"bar\",\"xaxis\":\"x8\",\"yaxis\":\"y8\"}],                        {\"template\":{\"data\":{\"barpolar\":[{\"marker\":{\"line\":{\"color\":\"white\",\"width\":0.5},\"pattern\":{\"fillmode\":\"overlay\",\"size\":10,\"solidity\":0.2}},\"type\":\"barpolar\"}],\"bar\":[{\"error_x\":{\"color\":\"#2a3f5f\"},\"error_y\":{\"color\":\"#2a3f5f\"},\"marker\":{\"line\":{\"color\":\"white\",\"width\":0.5},\"pattern\":{\"fillmode\":\"overlay\",\"size\":10,\"solidity\":0.2}},\"type\":\"bar\"}],\"carpet\":[{\"aaxis\":{\"endlinecolor\":\"#2a3f5f\",\"gridcolor\":\"#C8D4E3\",\"linecolor\":\"#C8D4E3\",\"minorgridcolor\":\"#C8D4E3\",\"startlinecolor\":\"#2a3f5f\"},\"baxis\":{\"endlinecolor\":\"#2a3f5f\",\"gridcolor\":\"#C8D4E3\",\"linecolor\":\"#C8D4E3\",\"minorgridcolor\":\"#C8D4E3\",\"startlinecolor\":\"#2a3f5f\"},\"type\":\"carpet\"}],\"choropleth\":[{\"colorbar\":{\"outlinewidth\":0,\"ticks\":\"\"},\"type\":\"choropleth\"}],\"contourcarpet\":[{\"colorbar\":{\"outlinewidth\":0,\"ticks\":\"\"},\"type\":\"contourcarpet\"}],\"contour\":[{\"colorbar\":{\"outlinewidth\":0,\"ticks\":\"\"},\"colorscale\":[[0.0,\"#0d0887\"],[0.1111111111111111,\"#46039f\"],[0.2222222222222222,\"#7201a8\"],[0.3333333333333333,\"#9c179e\"],[0.4444444444444444,\"#bd3786\"],[0.5555555555555556,\"#d8576b\"],[0.6666666666666666,\"#ed7953\"],[0.7777777777777778,\"#fb9f3a\"],[0.8888888888888888,\"#fdca26\"],[1.0,\"#f0f921\"]],\"type\":\"contour\"}],\"heatmapgl\":[{\"colorbar\":{\"outlinewidth\":0,\"ticks\":\"\"},\"colorscale\":[[0.0,\"#0d0887\"],[0.1111111111111111,\"#46039f\"],[0.2222222222222222,\"#7201a8\"],[0.3333333333333333,\"#9c179e\"],[0.4444444444444444,\"#bd3786\"],[0.5555555555555556,\"#d8576b\"],[0.6666666666666666,\"#ed7953\"],[0.7777777777777778,\"#fb9f3a\"],[0.8888888888888888,\"#fdca26\"],[1.0,\"#f0f921\"]],\"type\":\"heatmapgl\"}],\"heatmap\":[{\"colorbar\":{\"outlinewidth\":0,\"ticks\":\"\"},\"colorscale\":[[0.0,\"#0d0887\"],[0.1111111111111111,\"#46039f\"],[0.2222222222222222,\"#7201a8\"],[0.3333333333333333,\"#9c179e\"],[0.4444444444444444,\"#bd3786\"],[0.5555555555555556,\"#d8576b\"],[0.6666666666666666,\"#ed7953\"],[0.7777777777777778,\"#fb9f3a\"],[0.8888888888888888,\"#fdca26\"],[1.0,\"#f0f921\"]],\"type\":\"heatmap\"}],\"histogram2dcontour\":[{\"colorbar\":{\"outlinewidth\":0,\"ticks\":\"\"},\"colorscale\":[[0.0,\"#0d0887\"],[0.1111111111111111,\"#46039f\"],[0.2222222222222222,\"#7201a8\"],[0.3333333333333333,\"#9c179e\"],[0.4444444444444444,\"#bd3786\"],[0.5555555555555556,\"#d8576b\"],[0.6666666666666666,\"#ed7953\"],[0.7777777777777778,\"#fb9f3a\"],[0.8888888888888888,\"#fdca26\"],[1.0,\"#f0f921\"]],\"type\":\"histogram2dcontour\"}],\"histogram2d\":[{\"colorbar\":{\"outlinewidth\":0,\"ticks\":\"\"},\"colorscale\":[[0.0,\"#0d0887\"],[0.1111111111111111,\"#46039f\"],[0.2222222222222222,\"#7201a8\"],[0.3333333333333333,\"#9c179e\"],[0.4444444444444444,\"#bd3786\"],[0.5555555555555556,\"#d8576b\"],[0.6666666666666666,\"#ed7953\"],[0.7777777777777778,\"#fb9f3a\"],[0.8888888888888888,\"#fdca26\"],[1.0,\"#f0f921\"]],\"type\":\"histogram2d\"}],\"histogram\":[{\"marker\":{\"pattern\":{\"fillmode\":\"overlay\",\"size\":10,\"solidity\":0.2}},\"type\":\"histogram\"}],\"mesh3d\":[{\"colorbar\":{\"outlinewidth\":0,\"ticks\":\"\"},\"type\":\"mesh3d\"}],\"parcoords\":[{\"line\":{\"colorbar\":{\"outlinewidth\":0,\"ticks\":\"\"}},\"type\":\"parcoords\"}],\"pie\":[{\"automargin\":true,\"type\":\"pie\"}],\"scatter3d\":[{\"line\":{\"colorbar\":{\"outlinewidth\":0,\"ticks\":\"\"}},\"marker\":{\"colorbar\":{\"outlinewidth\":0,\"ticks\":\"\"}},\"type\":\"scatter3d\"}],\"scattercarpet\":[{\"marker\":{\"colorbar\":{\"outlinewidth\":0,\"ticks\":\"\"}},\"type\":\"scattercarpet\"}],\"scattergeo\":[{\"marker\":{\"colorbar\":{\"outlinewidth\":0,\"ticks\":\"\"}},\"type\":\"scattergeo\"}],\"scattergl\":[{\"marker\":{\"colorbar\":{\"outlinewidth\":0,\"ticks\":\"\"}},\"type\":\"scattergl\"}],\"scattermapbox\":[{\"marker\":{\"colorbar\":{\"outlinewidth\":0,\"ticks\":\"\"}},\"type\":\"scattermapbox\"}],\"scatterpolargl\":[{\"marker\":{\"colorbar\":{\"outlinewidth\":0,\"ticks\":\"\"}},\"type\":\"scatterpolargl\"}],\"scatterpolar\":[{\"marker\":{\"colorbar\":{\"outlinewidth\":0,\"ticks\":\"\"}},\"type\":\"scatterpolar\"}],\"scatter\":[{\"fillpattern\":{\"fillmode\":\"overlay\",\"size\":10,\"solidity\":0.2},\"type\":\"scatter\"}],\"scatterternary\":[{\"marker\":{\"colorbar\":{\"outlinewidth\":0,\"ticks\":\"\"}},\"type\":\"scatterternary\"}],\"surface\":[{\"colorbar\":{\"outlinewidth\":0,\"ticks\":\"\"},\"colorscale\":[[0.0,\"#0d0887\"],[0.1111111111111111,\"#46039f\"],[0.2222222222222222,\"#7201a8\"],[0.3333333333333333,\"#9c179e\"],[0.4444444444444444,\"#bd3786\"],[0.5555555555555556,\"#d8576b\"],[0.6666666666666666,\"#ed7953\"],[0.7777777777777778,\"#fb9f3a\"],[0.8888888888888888,\"#fdca26\"],[1.0,\"#f0f921\"]],\"type\":\"surface\"}],\"table\":[{\"cells\":{\"fill\":{\"color\":\"#EBF0F8\"},\"line\":{\"color\":\"white\"}},\"header\":{\"fill\":{\"color\":\"#C8D4E3\"},\"line\":{\"color\":\"white\"}},\"type\":\"table\"}]},\"layout\":{\"annotationdefaults\":{\"arrowcolor\":\"#2a3f5f\",\"arrowhead\":0,\"arrowwidth\":1},\"autotypenumbers\":\"strict\",\"coloraxis\":{\"colorbar\":{\"outlinewidth\":0,\"ticks\":\"\"}},\"colorscale\":{\"diverging\":[[0,\"#8e0152\"],[0.1,\"#c51b7d\"],[0.2,\"#de77ae\"],[0.3,\"#f1b6da\"],[0.4,\"#fde0ef\"],[0.5,\"#f7f7f7\"],[0.6,\"#e6f5d0\"],[0.7,\"#b8e186\"],[0.8,\"#7fbc41\"],[0.9,\"#4d9221\"],[1,\"#276419\"]],\"sequential\":[[0.0,\"#0d0887\"],[0.1111111111111111,\"#46039f\"],[0.2222222222222222,\"#7201a8\"],[0.3333333333333333,\"#9c179e\"],[0.4444444444444444,\"#bd3786\"],[0.5555555555555556,\"#d8576b\"],[0.6666666666666666,\"#ed7953\"],[0.7777777777777778,\"#fb9f3a\"],[0.8888888888888888,\"#fdca26\"],[1.0,\"#f0f921\"]],\"sequentialminus\":[[0.0,\"#0d0887\"],[0.1111111111111111,\"#46039f\"],[0.2222222222222222,\"#7201a8\"],[0.3333333333333333,\"#9c179e\"],[0.4444444444444444,\"#bd3786\"],[0.5555555555555556,\"#d8576b\"],[0.6666666666666666,\"#ed7953\"],[0.7777777777777778,\"#fb9f3a\"],[0.8888888888888888,\"#fdca26\"],[1.0,\"#f0f921\"]]},\"colorway\":[\"#636efa\",\"#EF553B\",\"#00cc96\",\"#ab63fa\",\"#FFA15A\",\"#19d3f3\",\"#FF6692\",\"#B6E880\",\"#FF97FF\",\"#FECB52\"],\"font\":{\"color\":\"#2a3f5f\"},\"geo\":{\"bgcolor\":\"white\",\"lakecolor\":\"white\",\"landcolor\":\"white\",\"showlakes\":true,\"showland\":true,\"subunitcolor\":\"#C8D4E3\"},\"hoverlabel\":{\"align\":\"left\"},\"hovermode\":\"closest\",\"mapbox\":{\"style\":\"light\"},\"paper_bgcolor\":\"white\",\"plot_bgcolor\":\"white\",\"polar\":{\"angularaxis\":{\"gridcolor\":\"#EBF0F8\",\"linecolor\":\"#EBF0F8\",\"ticks\":\"\"},\"bgcolor\":\"white\",\"radialaxis\":{\"gridcolor\":\"#EBF0F8\",\"linecolor\":\"#EBF0F8\",\"ticks\":\"\"}},\"scene\":{\"xaxis\":{\"backgroundcolor\":\"white\",\"gridcolor\":\"#DFE8F3\",\"gridwidth\":2,\"linecolor\":\"#EBF0F8\",\"showbackground\":true,\"ticks\":\"\",\"zerolinecolor\":\"#EBF0F8\"},\"yaxis\":{\"backgroundcolor\":\"white\",\"gridcolor\":\"#DFE8F3\",\"gridwidth\":2,\"linecolor\":\"#EBF0F8\",\"showbackground\":true,\"ticks\":\"\",\"zerolinecolor\":\"#EBF0F8\"},\"zaxis\":{\"backgroundcolor\":\"white\",\"gridcolor\":\"#DFE8F3\",\"gridwidth\":2,\"linecolor\":\"#EBF0F8\",\"showbackground\":true,\"ticks\":\"\",\"zerolinecolor\":\"#EBF0F8\"}},\"shapedefaults\":{\"line\":{\"color\":\"#2a3f5f\"}},\"ternary\":{\"aaxis\":{\"gridcolor\":\"#DFE8F3\",\"linecolor\":\"#A2B1C6\",\"ticks\":\"\"},\"baxis\":{\"gridcolor\":\"#DFE8F3\",\"linecolor\":\"#A2B1C6\",\"ticks\":\"\"},\"bgcolor\":\"white\",\"caxis\":{\"gridcolor\":\"#DFE8F3\",\"linecolor\":\"#A2B1C6\",\"ticks\":\"\"}},\"title\":{\"x\":0.05},\"xaxis\":{\"automargin\":true,\"gridcolor\":\"#EBF0F8\",\"linecolor\":\"#EBF0F8\",\"ticks\":\"\",\"title\":{\"standoff\":15},\"zerolinecolor\":\"#EBF0F8\",\"zerolinewidth\":2},\"yaxis\":{\"automargin\":true,\"gridcolor\":\"#EBF0F8\",\"linecolor\":\"#EBF0F8\",\"ticks\":\"\",\"title\":{\"standoff\":15},\"zerolinecolor\":\"#EBF0F8\",\"zerolinewidth\":2}}},\"xaxis\":{\"anchor\":\"y\",\"domain\":[0.0,0.175],\"showgrid\":true},\"yaxis\":{\"anchor\":\"x\",\"domain\":[0.6000000000000001,1.0],\"showgrid\":true},\"xaxis2\":{\"anchor\":\"y2\",\"domain\":[0.275,0.45],\"showgrid\":true},\"yaxis2\":{\"anchor\":\"x2\",\"domain\":[0.6000000000000001,1.0],\"showgrid\":true},\"xaxis3\":{\"anchor\":\"y3\",\"domain\":[0.55,0.7250000000000001],\"showgrid\":true},\"yaxis3\":{\"anchor\":\"x3\",\"domain\":[0.6000000000000001,1.0],\"showgrid\":true},\"xaxis4\":{\"anchor\":\"y4\",\"domain\":[0.825,1.0],\"showgrid\":true},\"yaxis4\":{\"anchor\":\"x4\",\"domain\":[0.6000000000000001,1.0],\"showgrid\":true},\"xaxis5\":{\"anchor\":\"y5\",\"domain\":[0.0,0.175],\"showgrid\":true},\"yaxis5\":{\"anchor\":\"x5\",\"domain\":[0.0,0.4],\"showgrid\":true},\"xaxis6\":{\"anchor\":\"y6\",\"domain\":[0.275,0.45],\"showgrid\":true},\"yaxis6\":{\"anchor\":\"x6\",\"domain\":[0.0,0.4],\"showgrid\":true},\"xaxis7\":{\"anchor\":\"y7\",\"domain\":[0.55,0.7250000000000001],\"showgrid\":true},\"yaxis7\":{\"anchor\":\"x7\",\"domain\":[0.0,0.4],\"showgrid\":true},\"xaxis8\":{\"anchor\":\"y8\",\"domain\":[0.825,1.0],\"showgrid\":true},\"yaxis8\":{\"anchor\":\"x8\",\"domain\":[0.0,0.4],\"showgrid\":true},\"annotations\":[{\"font\":{\"size\":16},\"showarrow\":false,\"text\":\"Topic 0\",\"x\":0.0875,\"xanchor\":\"center\",\"xref\":\"paper\",\"y\":1.0,\"yanchor\":\"bottom\",\"yref\":\"paper\"},{\"font\":{\"size\":16},\"showarrow\":false,\"text\":\"Topic 1\",\"x\":0.36250000000000004,\"xanchor\":\"center\",\"xref\":\"paper\",\"y\":1.0,\"yanchor\":\"bottom\",\"yref\":\"paper\"},{\"font\":{\"size\":16},\"showarrow\":false,\"text\":\"Topic 2\",\"x\":0.6375000000000001,\"xanchor\":\"center\",\"xref\":\"paper\",\"y\":1.0,\"yanchor\":\"bottom\",\"yref\":\"paper\"},{\"font\":{\"size\":16},\"showarrow\":false,\"text\":\"Topic 3\",\"x\":0.9125,\"xanchor\":\"center\",\"xref\":\"paper\",\"y\":1.0,\"yanchor\":\"bottom\",\"yref\":\"paper\"},{\"font\":{\"size\":16},\"showarrow\":false,\"text\":\"Topic 4\",\"x\":0.0875,\"xanchor\":\"center\",\"xref\":\"paper\",\"y\":0.4,\"yanchor\":\"bottom\",\"yref\":\"paper\"},{\"font\":{\"size\":16},\"showarrow\":false,\"text\":\"Topic 5\",\"x\":0.36250000000000004,\"xanchor\":\"center\",\"xref\":\"paper\",\"y\":0.4,\"yanchor\":\"bottom\",\"yref\":\"paper\"},{\"font\":{\"size\":16},\"showarrow\":false,\"text\":\"Topic 6\",\"x\":0.6375000000000001,\"xanchor\":\"center\",\"xref\":\"paper\",\"y\":0.4,\"yanchor\":\"bottom\",\"yref\":\"paper\"},{\"font\":{\"size\":16},\"showarrow\":false,\"text\":\"Topic 7\",\"x\":0.9125,\"xanchor\":\"center\",\"xref\":\"paper\",\"y\":0.4,\"yanchor\":\"bottom\",\"yref\":\"paper\"}],\"title\":{\"font\":{\"size\":22,\"color\":\"Black\"},\"text\":\"Topic Word Scores\",\"x\":0.5,\"xanchor\":\"center\",\"yanchor\":\"top\"},\"hoverlabel\":{\"font\":{\"size\":16,\"family\":\"Rockwell\"},\"bgcolor\":\"white\"},\"showlegend\":false,\"width\":1000,\"height\":1400},                        {\"responsive\": true}                    ).then(function(){\n",
       "                            \n",
       "var gd = document.getElementById('1be674d0-f621-464b-bb4c-46ab1052a7ed');\n",
       "var x = new MutationObserver(function (mutations, observer) {{\n",
       "        var display = window.getComputedStyle(gd).display;\n",
       "        if (!display || display === 'none') {{\n",
       "            console.log([gd, 'removed!']);\n",
       "            Plotly.purge(gd);\n",
       "            observer.disconnect();\n",
       "        }}\n",
       "}});\n",
       "\n",
       "// Listen for the removal of the full notebook cells\n",
       "var notebookContainer = gd.closest('#notebook-container');\n",
       "if (notebookContainer) {{\n",
       "    x.observe(notebookContainer, {childList: true});\n",
       "}}\n",
       "\n",
       "// Listen for the clearing of the current output cell\n",
       "var outputEl = gd.closest('.output');\n",
       "if (outputEl) {{\n",
       "    x.observe(outputEl, {childList: true});\n",
       "}}\n",
       "\n",
       "                        })                };                });            </script>        </div>"
      ]
     },
     "metadata": {},
     "output_type": "display_data"
    }
   ],
   "source": [
    "topic_model5.visualize_barchart(height=700)"
   ]
  },
  {
   "cell_type": "code",
   "execution_count": 39,
   "metadata": {
    "execution": {
     "iopub.execute_input": "2023-06-06T01:54:50.999680Z",
     "iopub.status.busy": "2023-06-06T01:54:50.999303Z",
     "iopub.status.idle": "2023-06-06T01:54:51.873425Z",
     "shell.execute_reply": "2023-06-06T01:54:51.872524Z",
     "shell.execute_reply.started": "2023-06-06T01:54:50.999648Z"
    },
    "id": "TRHIm3dn0Spm"
   },
   "outputs": [
    {
     "data": {
      "application/vnd.plotly.v1+json": {
       "config": {
        "plotlyServerURL": "https://plot.ly"
       },
       "data": [
        {
         "customdata": [
          [
           0,
           "quantum | field | use | energy | equation",
           15775
          ],
          [
           1,
           "image | method | propose | model | network",
           6984
          ],
          [
           2,
           "channel | network | user | wireless | code",
           2644
          ],
          [
           3,
           "robot | control | policy | agent | learning",
           2634
          ],
          [
           4,
           "language | model | task | word | text",
           1830
          ],
          [
           5,
           "logic | language | program | proof | calculus",
           1154
          ],
          [
           6,
           "image | segmentation | medical | method | imaging",
           1078
          ],
          [
           7,
           "graph | vertex | problem | algorithm | edge",
           1066
          ],
          [
           8,
           "student | software | research | citation | project",
           1051
          ],
          [
           9,
           "speech | audio | speaker | model | music",
           793
          ],
          [
           10,
           "game | player | equilibrium | agent | strategy",
           595
          ],
          [
           11,
           "power | grid | energy | system | control",
           466
          ],
          [
           12,
           "network | community | node | graph | degree",
           440
          ],
          [
           13,
           "memory | cloud | application | computing | performance",
           346
          ],
          [
           14,
           "covid | 19 | epidemic | pandemic | disease",
           341
          ],
          [
           15,
           "adversarial | attack | robustness | perturbation | model",
           326
          ],
          [
           16,
           "privacy | datum | private | federated | fl",
           321
          ],
          [
           17,
           "recommendation | user | item | recommender | system",
           292
          ],
          [
           18,
           "graph | gnn | node | network | embedding",
           273
          ],
          [
           19,
           "urban | city | travel | bus | route",
           267
          ],
          [
           20,
           "blockchain | transaction | contract | smart | bitcoin",
           262
          ],
          [
           21,
           "social | news | medium | user | twitter",
           242
          ],
          [
           22,
           "brain | snn | spike | neuron | network",
           211
          ]
         ],
         "hovertemplate": "<b>Topic %{customdata[0]}</b><br>%{customdata[1]}<br>Size: %{customdata[2]}",
         "legendgroup": "",
         "marker": {
          "color": "#B0BEC5",
          "line": {
           "color": "DarkSlateGrey",
           "width": 2
          },
          "size": [
           15775,
           6984,
           2644,
           2634,
           1830,
           1154,
           1078,
           1066,
           1051,
           793,
           595,
           466,
           440,
           346,
           341,
           326,
           321,
           292,
           273,
           267,
           262,
           242,
           211
          ],
          "sizemode": "area",
          "sizeref": 9.859375,
          "symbol": "circle"
         },
         "mode": "markers",
         "name": "",
         "orientation": "v",
         "showlegend": false,
         "type": "scatter",
         "x": [
          21.264875,
          20.828024,
          -7.235452,
          21.172941,
          4.571773,
          7.8385324,
          21.422901,
          -3.6293147,
          8.162816,
          4.7005725,
          -7.47389,
          -7.093259,
          -3.714066,
          11.460737,
          8.609915,
          21.800783,
          11.137459,
          4.8651075,
          -3.8890922,
          -6.9429626,
          11.034705,
          8.395643,
          21.053322
         ],
         "xaxis": "x",
         "y": [
          -5.022929,
          -5.997509,
          10.533991,
          -5.9091454,
          10.853887,
          -4.6200595,
          -6.149931,
          24.500011,
          -4.285311,
          10.725031,
          10.77429,
          10.391751,
          24.415304,
          -5.539683,
          -3.836475,
          -5.691974,
          -5.851005,
          10.560343,
          24.240229,
          10.2424755,
          -5.960439,
          -4.051003,
          -5.324309
         ],
         "yaxis": "y"
        }
       ],
       "layout": {
        "annotations": [
         {
          "showarrow": false,
          "text": "D1",
          "x": -8.594973301887512,
          "y": 10.551296281814576,
          "yshift": 10
         },
         {
          "showarrow": false,
          "text": "D2",
          "x": 8.237963664531708,
          "xshift": 10,
          "y": 28.175013160705568
         }
        ],
        "height": 650,
        "hoverlabel": {
         "bgcolor": "white",
         "font": {
          "family": "Rockwell",
          "size": 16
         }
        },
        "legend": {
         "itemsizing": "constant",
         "tracegroupgap": 0
        },
        "margin": {
         "t": 60
        },
        "shapes": [
         {
          "line": {
           "color": "#CFD8DC",
           "width": 2
          },
          "type": "line",
          "x0": 8.237963664531708,
          "x1": 8.237963664531708,
          "y0": -7.072420597076416,
          "y1": 28.175013160705568
         },
         {
          "line": {
           "color": "#9E9E9E",
           "width": 2
          },
          "type": "line",
          "x0": -8.594973301887512,
          "x1": 25.070900630950927,
          "y0": 10.551296281814576,
          "y1": 10.551296281814576
         }
        ],
        "sliders": [
         {
          "active": 0,
          "pad": {
           "t": 50
          },
          "steps": [
           {
            "args": [
             {
              "marker.color": [
               [
                "red",
                "#B0BEC5",
                "#B0BEC5",
                "#B0BEC5",
                "#B0BEC5",
                "#B0BEC5",
                "#B0BEC5",
                "#B0BEC5",
                "#B0BEC5",
                "#B0BEC5",
                "#B0BEC5",
                "#B0BEC5",
                "#B0BEC5",
                "#B0BEC5",
                "#B0BEC5",
                "#B0BEC5",
                "#B0BEC5",
                "#B0BEC5",
                "#B0BEC5",
                "#B0BEC5",
                "#B0BEC5",
                "#B0BEC5",
                "#B0BEC5"
               ]
              ]
             }
            ],
            "label": "Topic 0",
            "method": "update"
           },
           {
            "args": [
             {
              "marker.color": [
               [
                "#B0BEC5",
                "red",
                "#B0BEC5",
                "#B0BEC5",
                "#B0BEC5",
                "#B0BEC5",
                "#B0BEC5",
                "#B0BEC5",
                "#B0BEC5",
                "#B0BEC5",
                "#B0BEC5",
                "#B0BEC5",
                "#B0BEC5",
                "#B0BEC5",
                "#B0BEC5",
                "#B0BEC5",
                "#B0BEC5",
                "#B0BEC5",
                "#B0BEC5",
                "#B0BEC5",
                "#B0BEC5",
                "#B0BEC5",
                "#B0BEC5"
               ]
              ]
             }
            ],
            "label": "Topic 1",
            "method": "update"
           },
           {
            "args": [
             {
              "marker.color": [
               [
                "#B0BEC5",
                "#B0BEC5",
                "red",
                "#B0BEC5",
                "#B0BEC5",
                "#B0BEC5",
                "#B0BEC5",
                "#B0BEC5",
                "#B0BEC5",
                "#B0BEC5",
                "#B0BEC5",
                "#B0BEC5",
                "#B0BEC5",
                "#B0BEC5",
                "#B0BEC5",
                "#B0BEC5",
                "#B0BEC5",
                "#B0BEC5",
                "#B0BEC5",
                "#B0BEC5",
                "#B0BEC5",
                "#B0BEC5",
                "#B0BEC5"
               ]
              ]
             }
            ],
            "label": "Topic 2",
            "method": "update"
           },
           {
            "args": [
             {
              "marker.color": [
               [
                "#B0BEC5",
                "#B0BEC5",
                "#B0BEC5",
                "red",
                "#B0BEC5",
                "#B0BEC5",
                "#B0BEC5",
                "#B0BEC5",
                "#B0BEC5",
                "#B0BEC5",
                "#B0BEC5",
                "#B0BEC5",
                "#B0BEC5",
                "#B0BEC5",
                "#B0BEC5",
                "#B0BEC5",
                "#B0BEC5",
                "#B0BEC5",
                "#B0BEC5",
                "#B0BEC5",
                "#B0BEC5",
                "#B0BEC5",
                "#B0BEC5"
               ]
              ]
             }
            ],
            "label": "Topic 3",
            "method": "update"
           },
           {
            "args": [
             {
              "marker.color": [
               [
                "#B0BEC5",
                "#B0BEC5",
                "#B0BEC5",
                "#B0BEC5",
                "red",
                "#B0BEC5",
                "#B0BEC5",
                "#B0BEC5",
                "#B0BEC5",
                "#B0BEC5",
                "#B0BEC5",
                "#B0BEC5",
                "#B0BEC5",
                "#B0BEC5",
                "#B0BEC5",
                "#B0BEC5",
                "#B0BEC5",
                "#B0BEC5",
                "#B0BEC5",
                "#B0BEC5",
                "#B0BEC5",
                "#B0BEC5",
                "#B0BEC5"
               ]
              ]
             }
            ],
            "label": "Topic 4",
            "method": "update"
           },
           {
            "args": [
             {
              "marker.color": [
               [
                "#B0BEC5",
                "#B0BEC5",
                "#B0BEC5",
                "#B0BEC5",
                "#B0BEC5",
                "red",
                "#B0BEC5",
                "#B0BEC5",
                "#B0BEC5",
                "#B0BEC5",
                "#B0BEC5",
                "#B0BEC5",
                "#B0BEC5",
                "#B0BEC5",
                "#B0BEC5",
                "#B0BEC5",
                "#B0BEC5",
                "#B0BEC5",
                "#B0BEC5",
                "#B0BEC5",
                "#B0BEC5",
                "#B0BEC5",
                "#B0BEC5"
               ]
              ]
             }
            ],
            "label": "Topic 5",
            "method": "update"
           },
           {
            "args": [
             {
              "marker.color": [
               [
                "#B0BEC5",
                "#B0BEC5",
                "#B0BEC5",
                "#B0BEC5",
                "#B0BEC5",
                "#B0BEC5",
                "red",
                "#B0BEC5",
                "#B0BEC5",
                "#B0BEC5",
                "#B0BEC5",
                "#B0BEC5",
                "#B0BEC5",
                "#B0BEC5",
                "#B0BEC5",
                "#B0BEC5",
                "#B0BEC5",
                "#B0BEC5",
                "#B0BEC5",
                "#B0BEC5",
                "#B0BEC5",
                "#B0BEC5",
                "#B0BEC5"
               ]
              ]
             }
            ],
            "label": "Topic 6",
            "method": "update"
           },
           {
            "args": [
             {
              "marker.color": [
               [
                "#B0BEC5",
                "#B0BEC5",
                "#B0BEC5",
                "#B0BEC5",
                "#B0BEC5",
                "#B0BEC5",
                "#B0BEC5",
                "red",
                "#B0BEC5",
                "#B0BEC5",
                "#B0BEC5",
                "#B0BEC5",
                "#B0BEC5",
                "#B0BEC5",
                "#B0BEC5",
                "#B0BEC5",
                "#B0BEC5",
                "#B0BEC5",
                "#B0BEC5",
                "#B0BEC5",
                "#B0BEC5",
                "#B0BEC5",
                "#B0BEC5"
               ]
              ]
             }
            ],
            "label": "Topic 7",
            "method": "update"
           },
           {
            "args": [
             {
              "marker.color": [
               [
                "#B0BEC5",
                "#B0BEC5",
                "#B0BEC5",
                "#B0BEC5",
                "#B0BEC5",
                "#B0BEC5",
                "#B0BEC5",
                "#B0BEC5",
                "red",
                "#B0BEC5",
                "#B0BEC5",
                "#B0BEC5",
                "#B0BEC5",
                "#B0BEC5",
                "#B0BEC5",
                "#B0BEC5",
                "#B0BEC5",
                "#B0BEC5",
                "#B0BEC5",
                "#B0BEC5",
                "#B0BEC5",
                "#B0BEC5",
                "#B0BEC5"
               ]
              ]
             }
            ],
            "label": "Topic 8",
            "method": "update"
           },
           {
            "args": [
             {
              "marker.color": [
               [
                "#B0BEC5",
                "#B0BEC5",
                "#B0BEC5",
                "#B0BEC5",
                "#B0BEC5",
                "#B0BEC5",
                "#B0BEC5",
                "#B0BEC5",
                "#B0BEC5",
                "red",
                "#B0BEC5",
                "#B0BEC5",
                "#B0BEC5",
                "#B0BEC5",
                "#B0BEC5",
                "#B0BEC5",
                "#B0BEC5",
                "#B0BEC5",
                "#B0BEC5",
                "#B0BEC5",
                "#B0BEC5",
                "#B0BEC5",
                "#B0BEC5"
               ]
              ]
             }
            ],
            "label": "Topic 9",
            "method": "update"
           },
           {
            "args": [
             {
              "marker.color": [
               [
                "#B0BEC5",
                "#B0BEC5",
                "#B0BEC5",
                "#B0BEC5",
                "#B0BEC5",
                "#B0BEC5",
                "#B0BEC5",
                "#B0BEC5",
                "#B0BEC5",
                "#B0BEC5",
                "red",
                "#B0BEC5",
                "#B0BEC5",
                "#B0BEC5",
                "#B0BEC5",
                "#B0BEC5",
                "#B0BEC5",
                "#B0BEC5",
                "#B0BEC5",
                "#B0BEC5",
                "#B0BEC5",
                "#B0BEC5",
                "#B0BEC5"
               ]
              ]
             }
            ],
            "label": "Topic 10",
            "method": "update"
           },
           {
            "args": [
             {
              "marker.color": [
               [
                "#B0BEC5",
                "#B0BEC5",
                "#B0BEC5",
                "#B0BEC5",
                "#B0BEC5",
                "#B0BEC5",
                "#B0BEC5",
                "#B0BEC5",
                "#B0BEC5",
                "#B0BEC5",
                "#B0BEC5",
                "red",
                "#B0BEC5",
                "#B0BEC5",
                "#B0BEC5",
                "#B0BEC5",
                "#B0BEC5",
                "#B0BEC5",
                "#B0BEC5",
                "#B0BEC5",
                "#B0BEC5",
                "#B0BEC5",
                "#B0BEC5"
               ]
              ]
             }
            ],
            "label": "Topic 11",
            "method": "update"
           },
           {
            "args": [
             {
              "marker.color": [
               [
                "#B0BEC5",
                "#B0BEC5",
                "#B0BEC5",
                "#B0BEC5",
                "#B0BEC5",
                "#B0BEC5",
                "#B0BEC5",
                "#B0BEC5",
                "#B0BEC5",
                "#B0BEC5",
                "#B0BEC5",
                "#B0BEC5",
                "red",
                "#B0BEC5",
                "#B0BEC5",
                "#B0BEC5",
                "#B0BEC5",
                "#B0BEC5",
                "#B0BEC5",
                "#B0BEC5",
                "#B0BEC5",
                "#B0BEC5",
                "#B0BEC5"
               ]
              ]
             }
            ],
            "label": "Topic 12",
            "method": "update"
           },
           {
            "args": [
             {
              "marker.color": [
               [
                "#B0BEC5",
                "#B0BEC5",
                "#B0BEC5",
                "#B0BEC5",
                "#B0BEC5",
                "#B0BEC5",
                "#B0BEC5",
                "#B0BEC5",
                "#B0BEC5",
                "#B0BEC5",
                "#B0BEC5",
                "#B0BEC5",
                "#B0BEC5",
                "red",
                "#B0BEC5",
                "#B0BEC5",
                "#B0BEC5",
                "#B0BEC5",
                "#B0BEC5",
                "#B0BEC5",
                "#B0BEC5",
                "#B0BEC5",
                "#B0BEC5"
               ]
              ]
             }
            ],
            "label": "Topic 13",
            "method": "update"
           },
           {
            "args": [
             {
              "marker.color": [
               [
                "#B0BEC5",
                "#B0BEC5",
                "#B0BEC5",
                "#B0BEC5",
                "#B0BEC5",
                "#B0BEC5",
                "#B0BEC5",
                "#B0BEC5",
                "#B0BEC5",
                "#B0BEC5",
                "#B0BEC5",
                "#B0BEC5",
                "#B0BEC5",
                "#B0BEC5",
                "red",
                "#B0BEC5",
                "#B0BEC5",
                "#B0BEC5",
                "#B0BEC5",
                "#B0BEC5",
                "#B0BEC5",
                "#B0BEC5",
                "#B0BEC5"
               ]
              ]
             }
            ],
            "label": "Topic 14",
            "method": "update"
           },
           {
            "args": [
             {
              "marker.color": [
               [
                "#B0BEC5",
                "#B0BEC5",
                "#B0BEC5",
                "#B0BEC5",
                "#B0BEC5",
                "#B0BEC5",
                "#B0BEC5",
                "#B0BEC5",
                "#B0BEC5",
                "#B0BEC5",
                "#B0BEC5",
                "#B0BEC5",
                "#B0BEC5",
                "#B0BEC5",
                "#B0BEC5",
                "red",
                "#B0BEC5",
                "#B0BEC5",
                "#B0BEC5",
                "#B0BEC5",
                "#B0BEC5",
                "#B0BEC5",
                "#B0BEC5"
               ]
              ]
             }
            ],
            "label": "Topic 15",
            "method": "update"
           },
           {
            "args": [
             {
              "marker.color": [
               [
                "#B0BEC5",
                "#B0BEC5",
                "#B0BEC5",
                "#B0BEC5",
                "#B0BEC5",
                "#B0BEC5",
                "#B0BEC5",
                "#B0BEC5",
                "#B0BEC5",
                "#B0BEC5",
                "#B0BEC5",
                "#B0BEC5",
                "#B0BEC5",
                "#B0BEC5",
                "#B0BEC5",
                "#B0BEC5",
                "red",
                "#B0BEC5",
                "#B0BEC5",
                "#B0BEC5",
                "#B0BEC5",
                "#B0BEC5",
                "#B0BEC5"
               ]
              ]
             }
            ],
            "label": "Topic 16",
            "method": "update"
           },
           {
            "args": [
             {
              "marker.color": [
               [
                "#B0BEC5",
                "#B0BEC5",
                "#B0BEC5",
                "#B0BEC5",
                "#B0BEC5",
                "#B0BEC5",
                "#B0BEC5",
                "#B0BEC5",
                "#B0BEC5",
                "#B0BEC5",
                "#B0BEC5",
                "#B0BEC5",
                "#B0BEC5",
                "#B0BEC5",
                "#B0BEC5",
                "#B0BEC5",
                "#B0BEC5",
                "red",
                "#B0BEC5",
                "#B0BEC5",
                "#B0BEC5",
                "#B0BEC5",
                "#B0BEC5"
               ]
              ]
             }
            ],
            "label": "Topic 17",
            "method": "update"
           },
           {
            "args": [
             {
              "marker.color": [
               [
                "#B0BEC5",
                "#B0BEC5",
                "#B0BEC5",
                "#B0BEC5",
                "#B0BEC5",
                "#B0BEC5",
                "#B0BEC5",
                "#B0BEC5",
                "#B0BEC5",
                "#B0BEC5",
                "#B0BEC5",
                "#B0BEC5",
                "#B0BEC5",
                "#B0BEC5",
                "#B0BEC5",
                "#B0BEC5",
                "#B0BEC5",
                "#B0BEC5",
                "red",
                "#B0BEC5",
                "#B0BEC5",
                "#B0BEC5",
                "#B0BEC5"
               ]
              ]
             }
            ],
            "label": "Topic 18",
            "method": "update"
           },
           {
            "args": [
             {
              "marker.color": [
               [
                "#B0BEC5",
                "#B0BEC5",
                "#B0BEC5",
                "#B0BEC5",
                "#B0BEC5",
                "#B0BEC5",
                "#B0BEC5",
                "#B0BEC5",
                "#B0BEC5",
                "#B0BEC5",
                "#B0BEC5",
                "#B0BEC5",
                "#B0BEC5",
                "#B0BEC5",
                "#B0BEC5",
                "#B0BEC5",
                "#B0BEC5",
                "#B0BEC5",
                "#B0BEC5",
                "red",
                "#B0BEC5",
                "#B0BEC5",
                "#B0BEC5"
               ]
              ]
             }
            ],
            "label": "Topic 19",
            "method": "update"
           },
           {
            "args": [
             {
              "marker.color": [
               [
                "#B0BEC5",
                "#B0BEC5",
                "#B0BEC5",
                "#B0BEC5",
                "#B0BEC5",
                "#B0BEC5",
                "#B0BEC5",
                "#B0BEC5",
                "#B0BEC5",
                "#B0BEC5",
                "#B0BEC5",
                "#B0BEC5",
                "#B0BEC5",
                "#B0BEC5",
                "#B0BEC5",
                "#B0BEC5",
                "#B0BEC5",
                "#B0BEC5",
                "#B0BEC5",
                "#B0BEC5",
                "red",
                "#B0BEC5",
                "#B0BEC5"
               ]
              ]
             }
            ],
            "label": "Topic 20",
            "method": "update"
           },
           {
            "args": [
             {
              "marker.color": [
               [
                "#B0BEC5",
                "#B0BEC5",
                "#B0BEC5",
                "#B0BEC5",
                "#B0BEC5",
                "#B0BEC5",
                "#B0BEC5",
                "#B0BEC5",
                "#B0BEC5",
                "#B0BEC5",
                "#B0BEC5",
                "#B0BEC5",
                "#B0BEC5",
                "#B0BEC5",
                "#B0BEC5",
                "#B0BEC5",
                "#B0BEC5",
                "#B0BEC5",
                "#B0BEC5",
                "#B0BEC5",
                "#B0BEC5",
                "red",
                "#B0BEC5"
               ]
              ]
             }
            ],
            "label": "Topic 21",
            "method": "update"
           },
           {
            "args": [
             {
              "marker.color": [
               [
                "#B0BEC5",
                "#B0BEC5",
                "#B0BEC5",
                "#B0BEC5",
                "#B0BEC5",
                "#B0BEC5",
                "#B0BEC5",
                "#B0BEC5",
                "#B0BEC5",
                "#B0BEC5",
                "#B0BEC5",
                "#B0BEC5",
                "#B0BEC5",
                "#B0BEC5",
                "#B0BEC5",
                "#B0BEC5",
                "#B0BEC5",
                "#B0BEC5",
                "#B0BEC5",
                "#B0BEC5",
                "#B0BEC5",
                "#B0BEC5",
                "red"
               ]
              ]
             }
            ],
            "label": "Topic 22",
            "method": "update"
           }
          ]
         }
        ],
        "template": {
         "data": {
          "bar": [
           {
            "error_x": {
             "color": "rgb(36,36,36)"
            },
            "error_y": {
             "color": "rgb(36,36,36)"
            },
            "marker": {
             "line": {
              "color": "white",
              "width": 0.5
             },
             "pattern": {
              "fillmode": "overlay",
              "size": 10,
              "solidity": 0.2
             }
            },
            "type": "bar"
           }
          ],
          "barpolar": [
           {
            "marker": {
             "line": {
              "color": "white",
              "width": 0.5
             },
             "pattern": {
              "fillmode": "overlay",
              "size": 10,
              "solidity": 0.2
             }
            },
            "type": "barpolar"
           }
          ],
          "carpet": [
           {
            "aaxis": {
             "endlinecolor": "rgb(36,36,36)",
             "gridcolor": "white",
             "linecolor": "white",
             "minorgridcolor": "white",
             "startlinecolor": "rgb(36,36,36)"
            },
            "baxis": {
             "endlinecolor": "rgb(36,36,36)",
             "gridcolor": "white",
             "linecolor": "white",
             "minorgridcolor": "white",
             "startlinecolor": "rgb(36,36,36)"
            },
            "type": "carpet"
           }
          ],
          "choropleth": [
           {
            "colorbar": {
             "outlinewidth": 1,
             "tickcolor": "rgb(36,36,36)",
             "ticks": "outside"
            },
            "type": "choropleth"
           }
          ],
          "contour": [
           {
            "colorbar": {
             "outlinewidth": 1,
             "tickcolor": "rgb(36,36,36)",
             "ticks": "outside"
            },
            "colorscale": [
             [
              0,
              "#440154"
             ],
             [
              0.1111111111111111,
              "#482878"
             ],
             [
              0.2222222222222222,
              "#3e4989"
             ],
             [
              0.3333333333333333,
              "#31688e"
             ],
             [
              0.4444444444444444,
              "#26828e"
             ],
             [
              0.5555555555555556,
              "#1f9e89"
             ],
             [
              0.6666666666666666,
              "#35b779"
             ],
             [
              0.7777777777777778,
              "#6ece58"
             ],
             [
              0.8888888888888888,
              "#b5de2b"
             ],
             [
              1,
              "#fde725"
             ]
            ],
            "type": "contour"
           }
          ],
          "contourcarpet": [
           {
            "colorbar": {
             "outlinewidth": 1,
             "tickcolor": "rgb(36,36,36)",
             "ticks": "outside"
            },
            "type": "contourcarpet"
           }
          ],
          "heatmap": [
           {
            "colorbar": {
             "outlinewidth": 1,
             "tickcolor": "rgb(36,36,36)",
             "ticks": "outside"
            },
            "colorscale": [
             [
              0,
              "#440154"
             ],
             [
              0.1111111111111111,
              "#482878"
             ],
             [
              0.2222222222222222,
              "#3e4989"
             ],
             [
              0.3333333333333333,
              "#31688e"
             ],
             [
              0.4444444444444444,
              "#26828e"
             ],
             [
              0.5555555555555556,
              "#1f9e89"
             ],
             [
              0.6666666666666666,
              "#35b779"
             ],
             [
              0.7777777777777778,
              "#6ece58"
             ],
             [
              0.8888888888888888,
              "#b5de2b"
             ],
             [
              1,
              "#fde725"
             ]
            ],
            "type": "heatmap"
           }
          ],
          "heatmapgl": [
           {
            "colorbar": {
             "outlinewidth": 1,
             "tickcolor": "rgb(36,36,36)",
             "ticks": "outside"
            },
            "colorscale": [
             [
              0,
              "#440154"
             ],
             [
              0.1111111111111111,
              "#482878"
             ],
             [
              0.2222222222222222,
              "#3e4989"
             ],
             [
              0.3333333333333333,
              "#31688e"
             ],
             [
              0.4444444444444444,
              "#26828e"
             ],
             [
              0.5555555555555556,
              "#1f9e89"
             ],
             [
              0.6666666666666666,
              "#35b779"
             ],
             [
              0.7777777777777778,
              "#6ece58"
             ],
             [
              0.8888888888888888,
              "#b5de2b"
             ],
             [
              1,
              "#fde725"
             ]
            ],
            "type": "heatmapgl"
           }
          ],
          "histogram": [
           {
            "marker": {
             "line": {
              "color": "white",
              "width": 0.6
             }
            },
            "type": "histogram"
           }
          ],
          "histogram2d": [
           {
            "colorbar": {
             "outlinewidth": 1,
             "tickcolor": "rgb(36,36,36)",
             "ticks": "outside"
            },
            "colorscale": [
             [
              0,
              "#440154"
             ],
             [
              0.1111111111111111,
              "#482878"
             ],
             [
              0.2222222222222222,
              "#3e4989"
             ],
             [
              0.3333333333333333,
              "#31688e"
             ],
             [
              0.4444444444444444,
              "#26828e"
             ],
             [
              0.5555555555555556,
              "#1f9e89"
             ],
             [
              0.6666666666666666,
              "#35b779"
             ],
             [
              0.7777777777777778,
              "#6ece58"
             ],
             [
              0.8888888888888888,
              "#b5de2b"
             ],
             [
              1,
              "#fde725"
             ]
            ],
            "type": "histogram2d"
           }
          ],
          "histogram2dcontour": [
           {
            "colorbar": {
             "outlinewidth": 1,
             "tickcolor": "rgb(36,36,36)",
             "ticks": "outside"
            },
            "colorscale": [
             [
              0,
              "#440154"
             ],
             [
              0.1111111111111111,
              "#482878"
             ],
             [
              0.2222222222222222,
              "#3e4989"
             ],
             [
              0.3333333333333333,
              "#31688e"
             ],
             [
              0.4444444444444444,
              "#26828e"
             ],
             [
              0.5555555555555556,
              "#1f9e89"
             ],
             [
              0.6666666666666666,
              "#35b779"
             ],
             [
              0.7777777777777778,
              "#6ece58"
             ],
             [
              0.8888888888888888,
              "#b5de2b"
             ],
             [
              1,
              "#fde725"
             ]
            ],
            "type": "histogram2dcontour"
           }
          ],
          "mesh3d": [
           {
            "colorbar": {
             "outlinewidth": 1,
             "tickcolor": "rgb(36,36,36)",
             "ticks": "outside"
            },
            "type": "mesh3d"
           }
          ],
          "parcoords": [
           {
            "line": {
             "colorbar": {
              "outlinewidth": 1,
              "tickcolor": "rgb(36,36,36)",
              "ticks": "outside"
             }
            },
            "type": "parcoords"
           }
          ],
          "pie": [
           {
            "automargin": true,
            "type": "pie"
           }
          ],
          "scatter": [
           {
            "fillpattern": {
             "fillmode": "overlay",
             "size": 10,
             "solidity": 0.2
            },
            "type": "scatter"
           }
          ],
          "scatter3d": [
           {
            "line": {
             "colorbar": {
              "outlinewidth": 1,
              "tickcolor": "rgb(36,36,36)",
              "ticks": "outside"
             }
            },
            "marker": {
             "colorbar": {
              "outlinewidth": 1,
              "tickcolor": "rgb(36,36,36)",
              "ticks": "outside"
             }
            },
            "type": "scatter3d"
           }
          ],
          "scattercarpet": [
           {
            "marker": {
             "colorbar": {
              "outlinewidth": 1,
              "tickcolor": "rgb(36,36,36)",
              "ticks": "outside"
             }
            },
            "type": "scattercarpet"
           }
          ],
          "scattergeo": [
           {
            "marker": {
             "colorbar": {
              "outlinewidth": 1,
              "tickcolor": "rgb(36,36,36)",
              "ticks": "outside"
             }
            },
            "type": "scattergeo"
           }
          ],
          "scattergl": [
           {
            "marker": {
             "colorbar": {
              "outlinewidth": 1,
              "tickcolor": "rgb(36,36,36)",
              "ticks": "outside"
             }
            },
            "type": "scattergl"
           }
          ],
          "scattermapbox": [
           {
            "marker": {
             "colorbar": {
              "outlinewidth": 1,
              "tickcolor": "rgb(36,36,36)",
              "ticks": "outside"
             }
            },
            "type": "scattermapbox"
           }
          ],
          "scatterpolar": [
           {
            "marker": {
             "colorbar": {
              "outlinewidth": 1,
              "tickcolor": "rgb(36,36,36)",
              "ticks": "outside"
             }
            },
            "type": "scatterpolar"
           }
          ],
          "scatterpolargl": [
           {
            "marker": {
             "colorbar": {
              "outlinewidth": 1,
              "tickcolor": "rgb(36,36,36)",
              "ticks": "outside"
             }
            },
            "type": "scatterpolargl"
           }
          ],
          "scatterternary": [
           {
            "marker": {
             "colorbar": {
              "outlinewidth": 1,
              "tickcolor": "rgb(36,36,36)",
              "ticks": "outside"
             }
            },
            "type": "scatterternary"
           }
          ],
          "surface": [
           {
            "colorbar": {
             "outlinewidth": 1,
             "tickcolor": "rgb(36,36,36)",
             "ticks": "outside"
            },
            "colorscale": [
             [
              0,
              "#440154"
             ],
             [
              0.1111111111111111,
              "#482878"
             ],
             [
              0.2222222222222222,
              "#3e4989"
             ],
             [
              0.3333333333333333,
              "#31688e"
             ],
             [
              0.4444444444444444,
              "#26828e"
             ],
             [
              0.5555555555555556,
              "#1f9e89"
             ],
             [
              0.6666666666666666,
              "#35b779"
             ],
             [
              0.7777777777777778,
              "#6ece58"
             ],
             [
              0.8888888888888888,
              "#b5de2b"
             ],
             [
              1,
              "#fde725"
             ]
            ],
            "type": "surface"
           }
          ],
          "table": [
           {
            "cells": {
             "fill": {
              "color": "rgb(237,237,237)"
             },
             "line": {
              "color": "white"
             }
            },
            "header": {
             "fill": {
              "color": "rgb(217,217,217)"
             },
             "line": {
              "color": "white"
             }
            },
            "type": "table"
           }
          ]
         },
         "layout": {
          "annotationdefaults": {
           "arrowhead": 0,
           "arrowwidth": 1
          },
          "autotypenumbers": "strict",
          "coloraxis": {
           "colorbar": {
            "outlinewidth": 1,
            "tickcolor": "rgb(36,36,36)",
            "ticks": "outside"
           }
          },
          "colorscale": {
           "diverging": [
            [
             0,
             "rgb(103,0,31)"
            ],
            [
             0.1,
             "rgb(178,24,43)"
            ],
            [
             0.2,
             "rgb(214,96,77)"
            ],
            [
             0.3,
             "rgb(244,165,130)"
            ],
            [
             0.4,
             "rgb(253,219,199)"
            ],
            [
             0.5,
             "rgb(247,247,247)"
            ],
            [
             0.6,
             "rgb(209,229,240)"
            ],
            [
             0.7,
             "rgb(146,197,222)"
            ],
            [
             0.8,
             "rgb(67,147,195)"
            ],
            [
             0.9,
             "rgb(33,102,172)"
            ],
            [
             1,
             "rgb(5,48,97)"
            ]
           ],
           "sequential": [
            [
             0,
             "#440154"
            ],
            [
             0.1111111111111111,
             "#482878"
            ],
            [
             0.2222222222222222,
             "#3e4989"
            ],
            [
             0.3333333333333333,
             "#31688e"
            ],
            [
             0.4444444444444444,
             "#26828e"
            ],
            [
             0.5555555555555556,
             "#1f9e89"
            ],
            [
             0.6666666666666666,
             "#35b779"
            ],
            [
             0.7777777777777778,
             "#6ece58"
            ],
            [
             0.8888888888888888,
             "#b5de2b"
            ],
            [
             1,
             "#fde725"
            ]
           ],
           "sequentialminus": [
            [
             0,
             "#440154"
            ],
            [
             0.1111111111111111,
             "#482878"
            ],
            [
             0.2222222222222222,
             "#3e4989"
            ],
            [
             0.3333333333333333,
             "#31688e"
            ],
            [
             0.4444444444444444,
             "#26828e"
            ],
            [
             0.5555555555555556,
             "#1f9e89"
            ],
            [
             0.6666666666666666,
             "#35b779"
            ],
            [
             0.7777777777777778,
             "#6ece58"
            ],
            [
             0.8888888888888888,
             "#b5de2b"
            ],
            [
             1,
             "#fde725"
            ]
           ]
          },
          "colorway": [
           "#1F77B4",
           "#FF7F0E",
           "#2CA02C",
           "#D62728",
           "#9467BD",
           "#8C564B",
           "#E377C2",
           "#7F7F7F",
           "#BCBD22",
           "#17BECF"
          ],
          "font": {
           "color": "rgb(36,36,36)"
          },
          "geo": {
           "bgcolor": "white",
           "lakecolor": "white",
           "landcolor": "white",
           "showlakes": true,
           "showland": true,
           "subunitcolor": "white"
          },
          "hoverlabel": {
           "align": "left"
          },
          "hovermode": "closest",
          "mapbox": {
           "style": "light"
          },
          "paper_bgcolor": "white",
          "plot_bgcolor": "white",
          "polar": {
           "angularaxis": {
            "gridcolor": "rgb(232,232,232)",
            "linecolor": "rgb(36,36,36)",
            "showgrid": false,
            "showline": true,
            "ticks": "outside"
           },
           "bgcolor": "white",
           "radialaxis": {
            "gridcolor": "rgb(232,232,232)",
            "linecolor": "rgb(36,36,36)",
            "showgrid": false,
            "showline": true,
            "ticks": "outside"
           }
          },
          "scene": {
           "xaxis": {
            "backgroundcolor": "white",
            "gridcolor": "rgb(232,232,232)",
            "gridwidth": 2,
            "linecolor": "rgb(36,36,36)",
            "showbackground": true,
            "showgrid": false,
            "showline": true,
            "ticks": "outside",
            "zeroline": false,
            "zerolinecolor": "rgb(36,36,36)"
           },
           "yaxis": {
            "backgroundcolor": "white",
            "gridcolor": "rgb(232,232,232)",
            "gridwidth": 2,
            "linecolor": "rgb(36,36,36)",
            "showbackground": true,
            "showgrid": false,
            "showline": true,
            "ticks": "outside",
            "zeroline": false,
            "zerolinecolor": "rgb(36,36,36)"
           },
           "zaxis": {
            "backgroundcolor": "white",
            "gridcolor": "rgb(232,232,232)",
            "gridwidth": 2,
            "linecolor": "rgb(36,36,36)",
            "showbackground": true,
            "showgrid": false,
            "showline": true,
            "ticks": "outside",
            "zeroline": false,
            "zerolinecolor": "rgb(36,36,36)"
           }
          },
          "shapedefaults": {
           "fillcolor": "black",
           "line": {
            "width": 0
           },
           "opacity": 0.3
          },
          "ternary": {
           "aaxis": {
            "gridcolor": "rgb(232,232,232)",
            "linecolor": "rgb(36,36,36)",
            "showgrid": false,
            "showline": true,
            "ticks": "outside"
           },
           "baxis": {
            "gridcolor": "rgb(232,232,232)",
            "linecolor": "rgb(36,36,36)",
            "showgrid": false,
            "showline": true,
            "ticks": "outside"
           },
           "bgcolor": "white",
           "caxis": {
            "gridcolor": "rgb(232,232,232)",
            "linecolor": "rgb(36,36,36)",
            "showgrid": false,
            "showline": true,
            "ticks": "outside"
           }
          },
          "title": {
           "x": 0.05
          },
          "xaxis": {
           "automargin": true,
           "gridcolor": "rgb(232,232,232)",
           "linecolor": "rgb(36,36,36)",
           "showgrid": false,
           "showline": true,
           "ticks": "outside",
           "title": {
            "standoff": 15
           },
           "zeroline": false,
           "zerolinecolor": "rgb(36,36,36)"
          },
          "yaxis": {
           "automargin": true,
           "gridcolor": "rgb(232,232,232)",
           "linecolor": "rgb(36,36,36)",
           "showgrid": false,
           "showline": true,
           "ticks": "outside",
           "title": {
            "standoff": 15
           },
           "zeroline": false,
           "zerolinecolor": "rgb(36,36,36)"
          }
         }
        },
        "title": {
         "font": {
          "color": "Black",
          "size": 22
         },
         "text": "<b>Intertopic Distance Map</b>",
         "x": 0.5,
         "xanchor": "center",
         "y": 0.95,
         "yanchor": "top"
        },
        "width": 650,
        "xaxis": {
         "anchor": "y",
         "autorange": false,
         "domain": [
          0,
          1
         ],
         "range": [
          -8.59,
          25.070900630950927
         ],
         "title": {
          "text": ""
         },
         "type": "linear",
         "visible": false
        },
        "yaxis": {
         "anchor": "x",
         "autorange": false,
         "domain": [
          0,
          1
         ],
         "range": [
          -7.072420597076416,
          28.18
         ],
         "title": {
          "text": ""
         },
         "type": "linear",
         "visible": false
        }
       }
      },
      "image/png": "[encoded data removed]",
      "text/html": [
       "<div>                            <div id=\"dbd532c1-3f23-4bcc-bbe4-9611626cf350\" class=\"plotly-graph-div\" style=\"height:650px; width:650px;\"></div>            <script type=\"text/javascript\">                require([\"plotly\"], function(Plotly) {                    window.PLOTLYENV=window.PLOTLYENV || {};                                    if (document.getElementById(\"dbd532c1-3f23-4bcc-bbe4-9611626cf350\")) {                    Plotly.newPlot(                        \"dbd532c1-3f23-4bcc-bbe4-9611626cf350\",                        [{\"customdata\":[[0,\"quantum | field | use | energy | equation\",15775],[1,\"image | method | propose | model | network\",6984],[2,\"channel | network | user | wireless | code\",2644],[3,\"robot | control | policy | agent | learning\",2634],[4,\"language | model | task | word | text\",1830],[5,\"logic | language | program | proof | calculus\",1154],[6,\"image | segmentation | medical | method | imaging\",1078],[7,\"graph | vertex | problem | algorithm | edge\",1066],[8,\"student | software | research | citation | project\",1051],[9,\"speech | audio | speaker | model | music\",793],[10,\"game | player | equilibrium | agent | strategy\",595],[11,\"power | grid | energy | system | control\",466],[12,\"network | community | node | graph | degree\",440],[13,\"memory | cloud | application | computing | performance\",346],[14,\"covid | 19 | epidemic | pandemic | disease\",341],[15,\"adversarial | attack | robustness | perturbation | model\",326],[16,\"privacy | datum | private | federated | fl\",321],[17,\"recommendation | user | item | recommender | system\",292],[18,\"graph | gnn | node | network | embedding\",273],[19,\"urban | city | travel | bus | route\",267],[20,\"blockchain | transaction | contract | smart | bitcoin\",262],[21,\"social | news | medium | user | twitter\",242],[22,\"brain | snn | spike | neuron | network\",211]],\"hovertemplate\":\"<b>Topic %{customdata[0]}</b><br>%{customdata[1]}<br>Size: %{customdata[2]}\",\"legendgroup\":\"\",\"marker\":{\"color\":\"#B0BEC5\",\"size\":[15775,6984,2644,2634,1830,1154,1078,1066,1051,793,595,466,440,346,341,326,321,292,273,267,262,242,211],\"sizemode\":\"area\",\"sizeref\":9.859375,\"symbol\":\"circle\",\"line\":{\"color\":\"DarkSlateGrey\",\"width\":2}},\"mode\":\"markers\",\"name\":\"\",\"orientation\":\"v\",\"showlegend\":false,\"x\":[21.264875,20.828024,-7.235452,21.172941,4.571773,7.8385324,21.422901,-3.6293147,8.162816,4.7005725,-7.47389,-7.093259,-3.714066,11.460737,8.609915,21.800783,11.137459,4.8651075,-3.8890922,-6.9429626,11.034705,8.395643,21.053322],\"xaxis\":\"x\",\"y\":[-5.022929,-5.997509,10.533991,-5.9091454,10.853887,-4.6200595,-6.149931,24.500011,-4.285311,10.725031,10.77429,10.391751,24.415304,-5.539683,-3.836475,-5.691974,-5.851005,10.560343,24.240229,10.2424755,-5.960439,-4.051003,-5.324309],\"yaxis\":\"y\",\"type\":\"scatter\"}],                        {\"template\":{\"data\":{\"barpolar\":[{\"marker\":{\"line\":{\"color\":\"white\",\"width\":0.5},\"pattern\":{\"fillmode\":\"overlay\",\"size\":10,\"solidity\":0.2}},\"type\":\"barpolar\"}],\"bar\":[{\"error_x\":{\"color\":\"rgb(36,36,36)\"},\"error_y\":{\"color\":\"rgb(36,36,36)\"},\"marker\":{\"line\":{\"color\":\"white\",\"width\":0.5},\"pattern\":{\"fillmode\":\"overlay\",\"size\":10,\"solidity\":0.2}},\"type\":\"bar\"}],\"carpet\":[{\"aaxis\":{\"endlinecolor\":\"rgb(36,36,36)\",\"gridcolor\":\"white\",\"linecolor\":\"white\",\"minorgridcolor\":\"white\",\"startlinecolor\":\"rgb(36,36,36)\"},\"baxis\":{\"endlinecolor\":\"rgb(36,36,36)\",\"gridcolor\":\"white\",\"linecolor\":\"white\",\"minorgridcolor\":\"white\",\"startlinecolor\":\"rgb(36,36,36)\"},\"type\":\"carpet\"}],\"choropleth\":[{\"colorbar\":{\"outlinewidth\":1,\"tickcolor\":\"rgb(36,36,36)\",\"ticks\":\"outside\"},\"type\":\"choropleth\"}],\"contourcarpet\":[{\"colorbar\":{\"outlinewidth\":1,\"tickcolor\":\"rgb(36,36,36)\",\"ticks\":\"outside\"},\"type\":\"contourcarpet\"}],\"contour\":[{\"colorbar\":{\"outlinewidth\":1,\"tickcolor\":\"rgb(36,36,36)\",\"ticks\":\"outside\"},\"colorscale\":[[0.0,\"#440154\"],[0.1111111111111111,\"#482878\"],[0.2222222222222222,\"#3e4989\"],[0.3333333333333333,\"#31688e\"],[0.4444444444444444,\"#26828e\"],[0.5555555555555556,\"#1f9e89\"],[0.6666666666666666,\"#35b779\"],[0.7777777777777778,\"#6ece58\"],[0.8888888888888888,\"#b5de2b\"],[1.0,\"#fde725\"]],\"type\":\"contour\"}],\"heatmapgl\":[{\"colorbar\":{\"outlinewidth\":1,\"tickcolor\":\"rgb(36,36,36)\",\"ticks\":\"outside\"},\"colorscale\":[[0.0,\"#440154\"],[0.1111111111111111,\"#482878\"],[0.2222222222222222,\"#3e4989\"],[0.3333333333333333,\"#31688e\"],[0.4444444444444444,\"#26828e\"],[0.5555555555555556,\"#1f9e89\"],[0.6666666666666666,\"#35b779\"],[0.7777777777777778,\"#6ece58\"],[0.8888888888888888,\"#b5de2b\"],[1.0,\"#fde725\"]],\"type\":\"heatmapgl\"}],\"heatmap\":[{\"colorbar\":{\"outlinewidth\":1,\"tickcolor\":\"rgb(36,36,36)\",\"ticks\":\"outside\"},\"colorscale\":[[0.0,\"#440154\"],[0.1111111111111111,\"#482878\"],[0.2222222222222222,\"#3e4989\"],[0.3333333333333333,\"#31688e\"],[0.4444444444444444,\"#26828e\"],[0.5555555555555556,\"#1f9e89\"],[0.6666666666666666,\"#35b779\"],[0.7777777777777778,\"#6ece58\"],[0.8888888888888888,\"#b5de2b\"],[1.0,\"#fde725\"]],\"type\":\"heatmap\"}],\"histogram2dcontour\":[{\"colorbar\":{\"outlinewidth\":1,\"tickcolor\":\"rgb(36,36,36)\",\"ticks\":\"outside\"},\"colorscale\":[[0.0,\"#440154\"],[0.1111111111111111,\"#482878\"],[0.2222222222222222,\"#3e4989\"],[0.3333333333333333,\"#31688e\"],[0.4444444444444444,\"#26828e\"],[0.5555555555555556,\"#1f9e89\"],[0.6666666666666666,\"#35b779\"],[0.7777777777777778,\"#6ece58\"],[0.8888888888888888,\"#b5de2b\"],[1.0,\"#fde725\"]],\"type\":\"histogram2dcontour\"}],\"histogram2d\":[{\"colorbar\":{\"outlinewidth\":1,\"tickcolor\":\"rgb(36,36,36)\",\"ticks\":\"outside\"},\"colorscale\":[[0.0,\"#440154\"],[0.1111111111111111,\"#482878\"],[0.2222222222222222,\"#3e4989\"],[0.3333333333333333,\"#31688e\"],[0.4444444444444444,\"#26828e\"],[0.5555555555555556,\"#1f9e89\"],[0.6666666666666666,\"#35b779\"],[0.7777777777777778,\"#6ece58\"],[0.8888888888888888,\"#b5de2b\"],[1.0,\"#fde725\"]],\"type\":\"histogram2d\"}],\"histogram\":[{\"marker\":{\"line\":{\"color\":\"white\",\"width\":0.6}},\"type\":\"histogram\"}],\"mesh3d\":[{\"colorbar\":{\"outlinewidth\":1,\"tickcolor\":\"rgb(36,36,36)\",\"ticks\":\"outside\"},\"type\":\"mesh3d\"}],\"parcoords\":[{\"line\":{\"colorbar\":{\"outlinewidth\":1,\"tickcolor\":\"rgb(36,36,36)\",\"ticks\":\"outside\"}},\"type\":\"parcoords\"}],\"pie\":[{\"automargin\":true,\"type\":\"pie\"}],\"scatter3d\":[{\"line\":{\"colorbar\":{\"outlinewidth\":1,\"tickcolor\":\"rgb(36,36,36)\",\"ticks\":\"outside\"}},\"marker\":{\"colorbar\":{\"outlinewidth\":1,\"tickcolor\":\"rgb(36,36,36)\",\"ticks\":\"outside\"}},\"type\":\"scatter3d\"}],\"scattercarpet\":[{\"marker\":{\"colorbar\":{\"outlinewidth\":1,\"tickcolor\":\"rgb(36,36,36)\",\"ticks\":\"outside\"}},\"type\":\"scattercarpet\"}],\"scattergeo\":[{\"marker\":{\"colorbar\":{\"outlinewidth\":1,\"tickcolor\":\"rgb(36,36,36)\",\"ticks\":\"outside\"}},\"type\":\"scattergeo\"}],\"scattergl\":[{\"marker\":{\"colorbar\":{\"outlinewidth\":1,\"tickcolor\":\"rgb(36,36,36)\",\"ticks\":\"outside\"}},\"type\":\"scattergl\"}],\"scattermapbox\":[{\"marker\":{\"colorbar\":{\"outlinewidth\":1,\"tickcolor\":\"rgb(36,36,36)\",\"ticks\":\"outside\"}},\"type\":\"scattermapbox\"}],\"scatterpolargl\":[{\"marker\":{\"colorbar\":{\"outlinewidth\":1,\"tickcolor\":\"rgb(36,36,36)\",\"ticks\":\"outside\"}},\"type\":\"scatterpolargl\"}],\"scatterpolar\":[{\"marker\":{\"colorbar\":{\"outlinewidth\":1,\"tickcolor\":\"rgb(36,36,36)\",\"ticks\":\"outside\"}},\"type\":\"scatterpolar\"}],\"scatter\":[{\"fillpattern\":{\"fillmode\":\"overlay\",\"size\":10,\"solidity\":0.2},\"type\":\"scatter\"}],\"scatterternary\":[{\"marker\":{\"colorbar\":{\"outlinewidth\":1,\"tickcolor\":\"rgb(36,36,36)\",\"ticks\":\"outside\"}},\"type\":\"scatterternary\"}],\"surface\":[{\"colorbar\":{\"outlinewidth\":1,\"tickcolor\":\"rgb(36,36,36)\",\"ticks\":\"outside\"},\"colorscale\":[[0.0,\"#440154\"],[0.1111111111111111,\"#482878\"],[0.2222222222222222,\"#3e4989\"],[0.3333333333333333,\"#31688e\"],[0.4444444444444444,\"#26828e\"],[0.5555555555555556,\"#1f9e89\"],[0.6666666666666666,\"#35b779\"],[0.7777777777777778,\"#6ece58\"],[0.8888888888888888,\"#b5de2b\"],[1.0,\"#fde725\"]],\"type\":\"surface\"}],\"table\":[{\"cells\":{\"fill\":{\"color\":\"rgb(237,237,237)\"},\"line\":{\"color\":\"white\"}},\"header\":{\"fill\":{\"color\":\"rgb(217,217,217)\"},\"line\":{\"color\":\"white\"}},\"type\":\"table\"}]},\"layout\":{\"annotationdefaults\":{\"arrowhead\":0,\"arrowwidth\":1},\"autotypenumbers\":\"strict\",\"coloraxis\":{\"colorbar\":{\"outlinewidth\":1,\"tickcolor\":\"rgb(36,36,36)\",\"ticks\":\"outside\"}},\"colorscale\":{\"diverging\":[[0.0,\"rgb(103,0,31)\"],[0.1,\"rgb(178,24,43)\"],[0.2,\"rgb(214,96,77)\"],[0.3,\"rgb(244,165,130)\"],[0.4,\"rgb(253,219,199)\"],[0.5,\"rgb(247,247,247)\"],[0.6,\"rgb(209,229,240)\"],[0.7,\"rgb(146,197,222)\"],[0.8,\"rgb(67,147,195)\"],[0.9,\"rgb(33,102,172)\"],[1.0,\"rgb(5,48,97)\"]],\"sequential\":[[0.0,\"#440154\"],[0.1111111111111111,\"#482878\"],[0.2222222222222222,\"#3e4989\"],[0.3333333333333333,\"#31688e\"],[0.4444444444444444,\"#26828e\"],[0.5555555555555556,\"#1f9e89\"],[0.6666666666666666,\"#35b779\"],[0.7777777777777778,\"#6ece58\"],[0.8888888888888888,\"#b5de2b\"],[1.0,\"#fde725\"]],\"sequentialminus\":[[0.0,\"#440154\"],[0.1111111111111111,\"#482878\"],[0.2222222222222222,\"#3e4989\"],[0.3333333333333333,\"#31688e\"],[0.4444444444444444,\"#26828e\"],[0.5555555555555556,\"#1f9e89\"],[0.6666666666666666,\"#35b779\"],[0.7777777777777778,\"#6ece58\"],[0.8888888888888888,\"#b5de2b\"],[1.0,\"#fde725\"]]},\"colorway\":[\"#1F77B4\",\"#FF7F0E\",\"#2CA02C\",\"#D62728\",\"#9467BD\",\"#8C564B\",\"#E377C2\",\"#7F7F7F\",\"#BCBD22\",\"#17BECF\"],\"font\":{\"color\":\"rgb(36,36,36)\"},\"geo\":{\"bgcolor\":\"white\",\"lakecolor\":\"white\",\"landcolor\":\"white\",\"showlakes\":true,\"showland\":true,\"subunitcolor\":\"white\"},\"hoverlabel\":{\"align\":\"left\"},\"hovermode\":\"closest\",\"mapbox\":{\"style\":\"light\"},\"paper_bgcolor\":\"white\",\"plot_bgcolor\":\"white\",\"polar\":{\"angularaxis\":{\"gridcolor\":\"rgb(232,232,232)\",\"linecolor\":\"rgb(36,36,36)\",\"showgrid\":false,\"showline\":true,\"ticks\":\"outside\"},\"bgcolor\":\"white\",\"radialaxis\":{\"gridcolor\":\"rgb(232,232,232)\",\"linecolor\":\"rgb(36,36,36)\",\"showgrid\":false,\"showline\":true,\"ticks\":\"outside\"}},\"scene\":{\"xaxis\":{\"backgroundcolor\":\"white\",\"gridcolor\":\"rgb(232,232,232)\",\"gridwidth\":2,\"linecolor\":\"rgb(36,36,36)\",\"showbackground\":true,\"showgrid\":false,\"showline\":true,\"ticks\":\"outside\",\"zeroline\":false,\"zerolinecolor\":\"rgb(36,36,36)\"},\"yaxis\":{\"backgroundcolor\":\"white\",\"gridcolor\":\"rgb(232,232,232)\",\"gridwidth\":2,\"linecolor\":\"rgb(36,36,36)\",\"showbackground\":true,\"showgrid\":false,\"showline\":true,\"ticks\":\"outside\",\"zeroline\":false,\"zerolinecolor\":\"rgb(36,36,36)\"},\"zaxis\":{\"backgroundcolor\":\"white\",\"gridcolor\":\"rgb(232,232,232)\",\"gridwidth\":2,\"linecolor\":\"rgb(36,36,36)\",\"showbackground\":true,\"showgrid\":false,\"showline\":true,\"ticks\":\"outside\",\"zeroline\":false,\"zerolinecolor\":\"rgb(36,36,36)\"}},\"shapedefaults\":{\"fillcolor\":\"black\",\"line\":{\"width\":0},\"opacity\":0.3},\"ternary\":{\"aaxis\":{\"gridcolor\":\"rgb(232,232,232)\",\"linecolor\":\"rgb(36,36,36)\",\"showgrid\":false,\"showline\":true,\"ticks\":\"outside\"},\"baxis\":{\"gridcolor\":\"rgb(232,232,232)\",\"linecolor\":\"rgb(36,36,36)\",\"showgrid\":false,\"showline\":true,\"ticks\":\"outside\"},\"bgcolor\":\"white\",\"caxis\":{\"gridcolor\":\"rgb(232,232,232)\",\"linecolor\":\"rgb(36,36,36)\",\"showgrid\":false,\"showline\":true,\"ticks\":\"outside\"}},\"title\":{\"x\":0.05},\"xaxis\":{\"automargin\":true,\"gridcolor\":\"rgb(232,232,232)\",\"linecolor\":\"rgb(36,36,36)\",\"showgrid\":false,\"showline\":true,\"ticks\":\"outside\",\"title\":{\"standoff\":15},\"zeroline\":false,\"zerolinecolor\":\"rgb(36,36,36)\"},\"yaxis\":{\"automargin\":true,\"gridcolor\":\"rgb(232,232,232)\",\"linecolor\":\"rgb(36,36,36)\",\"showgrid\":false,\"showline\":true,\"ticks\":\"outside\",\"title\":{\"standoff\":15},\"zeroline\":false,\"zerolinecolor\":\"rgb(36,36,36)\"}}},\"xaxis\":{\"anchor\":\"y\",\"domain\":[0.0,1.0],\"title\":{\"text\":\"\"},\"visible\":false,\"range\":[-8.594973301887512,25.070900630950927]},\"yaxis\":{\"anchor\":\"x\",\"domain\":[0.0,1.0],\"title\":{\"text\":\"\"},\"visible\":false,\"range\":[-7.072420597076416,28.175013160705568]},\"legend\":{\"tracegroupgap\":0,\"itemsizing\":\"constant\"},\"margin\":{\"t\":60},\"title\":{\"font\":{\"size\":22,\"color\":\"Black\"},\"text\":\"<b>Intertopic Distance Map</b>\",\"y\":0.95,\"x\":0.5,\"xanchor\":\"center\",\"yanchor\":\"top\"},\"hoverlabel\":{\"font\":{\"size\":16,\"family\":\"Rockwell\"},\"bgcolor\":\"white\"},\"width\":650,\"height\":650,\"sliders\":[{\"active\":0,\"pad\":{\"t\":50},\"steps\":[{\"args\":[{\"marker.color\":[[\"red\",\"#B0BEC5\",\"#B0BEC5\",\"#B0BEC5\",\"#B0BEC5\",\"#B0BEC5\",\"#B0BEC5\",\"#B0BEC5\",\"#B0BEC5\",\"#B0BEC5\",\"#B0BEC5\",\"#B0BEC5\",\"#B0BEC5\",\"#B0BEC5\",\"#B0BEC5\",\"#B0BEC5\",\"#B0BEC5\",\"#B0BEC5\",\"#B0BEC5\",\"#B0BEC5\",\"#B0BEC5\",\"#B0BEC5\",\"#B0BEC5\"]]}],\"label\":\"Topic 0\",\"method\":\"update\"},{\"args\":[{\"marker.color\":[[\"#B0BEC5\",\"red\",\"#B0BEC5\",\"#B0BEC5\",\"#B0BEC5\",\"#B0BEC5\",\"#B0BEC5\",\"#B0BEC5\",\"#B0BEC5\",\"#B0BEC5\",\"#B0BEC5\",\"#B0BEC5\",\"#B0BEC5\",\"#B0BEC5\",\"#B0BEC5\",\"#B0BEC5\",\"#B0BEC5\",\"#B0BEC5\",\"#B0BEC5\",\"#B0BEC5\",\"#B0BEC5\",\"#B0BEC5\",\"#B0BEC5\"]]}],\"label\":\"Topic 1\",\"method\":\"update\"},{\"args\":[{\"marker.color\":[[\"#B0BEC5\",\"#B0BEC5\",\"red\",\"#B0BEC5\",\"#B0BEC5\",\"#B0BEC5\",\"#B0BEC5\",\"#B0BEC5\",\"#B0BEC5\",\"#B0BEC5\",\"#B0BEC5\",\"#B0BEC5\",\"#B0BEC5\",\"#B0BEC5\",\"#B0BEC5\",\"#B0BEC5\",\"#B0BEC5\",\"#B0BEC5\",\"#B0BEC5\",\"#B0BEC5\",\"#B0BEC5\",\"#B0BEC5\",\"#B0BEC5\"]]}],\"label\":\"Topic 2\",\"method\":\"update\"},{\"args\":[{\"marker.color\":[[\"#B0BEC5\",\"#B0BEC5\",\"#B0BEC5\",\"red\",\"#B0BEC5\",\"#B0BEC5\",\"#B0BEC5\",\"#B0BEC5\",\"#B0BEC5\",\"#B0BEC5\",\"#B0BEC5\",\"#B0BEC5\",\"#B0BEC5\",\"#B0BEC5\",\"#B0BEC5\",\"#B0BEC5\",\"#B0BEC5\",\"#B0BEC5\",\"#B0BEC5\",\"#B0BEC5\",\"#B0BEC5\",\"#B0BEC5\",\"#B0BEC5\"]]}],\"label\":\"Topic 3\",\"method\":\"update\"},{\"args\":[{\"marker.color\":[[\"#B0BEC5\",\"#B0BEC5\",\"#B0BEC5\",\"#B0BEC5\",\"red\",\"#B0BEC5\",\"#B0BEC5\",\"#B0BEC5\",\"#B0BEC5\",\"#B0BEC5\",\"#B0BEC5\",\"#B0BEC5\",\"#B0BEC5\",\"#B0BEC5\",\"#B0BEC5\",\"#B0BEC5\",\"#B0BEC5\",\"#B0BEC5\",\"#B0BEC5\",\"#B0BEC5\",\"#B0BEC5\",\"#B0BEC5\",\"#B0BEC5\"]]}],\"label\":\"Topic 4\",\"method\":\"update\"},{\"args\":[{\"marker.color\":[[\"#B0BEC5\",\"#B0BEC5\",\"#B0BEC5\",\"#B0BEC5\",\"#B0BEC5\",\"red\",\"#B0BEC5\",\"#B0BEC5\",\"#B0BEC5\",\"#B0BEC5\",\"#B0BEC5\",\"#B0BEC5\",\"#B0BEC5\",\"#B0BEC5\",\"#B0BEC5\",\"#B0BEC5\",\"#B0BEC5\",\"#B0BEC5\",\"#B0BEC5\",\"#B0BEC5\",\"#B0BEC5\",\"#B0BEC5\",\"#B0BEC5\"]]}],\"label\":\"Topic 5\",\"method\":\"update\"},{\"args\":[{\"marker.color\":[[\"#B0BEC5\",\"#B0BEC5\",\"#B0BEC5\",\"#B0BEC5\",\"#B0BEC5\",\"#B0BEC5\",\"red\",\"#B0BEC5\",\"#B0BEC5\",\"#B0BEC5\",\"#B0BEC5\",\"#B0BEC5\",\"#B0BEC5\",\"#B0BEC5\",\"#B0BEC5\",\"#B0BEC5\",\"#B0BEC5\",\"#B0BEC5\",\"#B0BEC5\",\"#B0BEC5\",\"#B0BEC5\",\"#B0BEC5\",\"#B0BEC5\"]]}],\"label\":\"Topic 6\",\"method\":\"update\"},{\"args\":[{\"marker.color\":[[\"#B0BEC5\",\"#B0BEC5\",\"#B0BEC5\",\"#B0BEC5\",\"#B0BEC5\",\"#B0BEC5\",\"#B0BEC5\",\"red\",\"#B0BEC5\",\"#B0BEC5\",\"#B0BEC5\",\"#B0BEC5\",\"#B0BEC5\",\"#B0BEC5\",\"#B0BEC5\",\"#B0BEC5\",\"#B0BEC5\",\"#B0BEC5\",\"#B0BEC5\",\"#B0BEC5\",\"#B0BEC5\",\"#B0BEC5\",\"#B0BEC5\"]]}],\"label\":\"Topic 7\",\"method\":\"update\"},{\"args\":[{\"marker.color\":[[\"#B0BEC5\",\"#B0BEC5\",\"#B0BEC5\",\"#B0BEC5\",\"#B0BEC5\",\"#B0BEC5\",\"#B0BEC5\",\"#B0BEC5\",\"red\",\"#B0BEC5\",\"#B0BEC5\",\"#B0BEC5\",\"#B0BEC5\",\"#B0BEC5\",\"#B0BEC5\",\"#B0BEC5\",\"#B0BEC5\",\"#B0BEC5\",\"#B0BEC5\",\"#B0BEC5\",\"#B0BEC5\",\"#B0BEC5\",\"#B0BEC5\"]]}],\"label\":\"Topic 8\",\"method\":\"update\"},{\"args\":[{\"marker.color\":[[\"#B0BEC5\",\"#B0BEC5\",\"#B0BEC5\",\"#B0BEC5\",\"#B0BEC5\",\"#B0BEC5\",\"#B0BEC5\",\"#B0BEC5\",\"#B0BEC5\",\"red\",\"#B0BEC5\",\"#B0BEC5\",\"#B0BEC5\",\"#B0BEC5\",\"#B0BEC5\",\"#B0BEC5\",\"#B0BEC5\",\"#B0BEC5\",\"#B0BEC5\",\"#B0BEC5\",\"#B0BEC5\",\"#B0BEC5\",\"#B0BEC5\"]]}],\"label\":\"Topic 9\",\"method\":\"update\"},{\"args\":[{\"marker.color\":[[\"#B0BEC5\",\"#B0BEC5\",\"#B0BEC5\",\"#B0BEC5\",\"#B0BEC5\",\"#B0BEC5\",\"#B0BEC5\",\"#B0BEC5\",\"#B0BEC5\",\"#B0BEC5\",\"red\",\"#B0BEC5\",\"#B0BEC5\",\"#B0BEC5\",\"#B0BEC5\",\"#B0BEC5\",\"#B0BEC5\",\"#B0BEC5\",\"#B0BEC5\",\"#B0BEC5\",\"#B0BEC5\",\"#B0BEC5\",\"#B0BEC5\"]]}],\"label\":\"Topic 10\",\"method\":\"update\"},{\"args\":[{\"marker.color\":[[\"#B0BEC5\",\"#B0BEC5\",\"#B0BEC5\",\"#B0BEC5\",\"#B0BEC5\",\"#B0BEC5\",\"#B0BEC5\",\"#B0BEC5\",\"#B0BEC5\",\"#B0BEC5\",\"#B0BEC5\",\"red\",\"#B0BEC5\",\"#B0BEC5\",\"#B0BEC5\",\"#B0BEC5\",\"#B0BEC5\",\"#B0BEC5\",\"#B0BEC5\",\"#B0BEC5\",\"#B0BEC5\",\"#B0BEC5\",\"#B0BEC5\"]]}],\"label\":\"Topic 11\",\"method\":\"update\"},{\"args\":[{\"marker.color\":[[\"#B0BEC5\",\"#B0BEC5\",\"#B0BEC5\",\"#B0BEC5\",\"#B0BEC5\",\"#B0BEC5\",\"#B0BEC5\",\"#B0BEC5\",\"#B0BEC5\",\"#B0BEC5\",\"#B0BEC5\",\"#B0BEC5\",\"red\",\"#B0BEC5\",\"#B0BEC5\",\"#B0BEC5\",\"#B0BEC5\",\"#B0BEC5\",\"#B0BEC5\",\"#B0BEC5\",\"#B0BEC5\",\"#B0BEC5\",\"#B0BEC5\"]]}],\"label\":\"Topic 12\",\"method\":\"update\"},{\"args\":[{\"marker.color\":[[\"#B0BEC5\",\"#B0BEC5\",\"#B0BEC5\",\"#B0BEC5\",\"#B0BEC5\",\"#B0BEC5\",\"#B0BEC5\",\"#B0BEC5\",\"#B0BEC5\",\"#B0BEC5\",\"#B0BEC5\",\"#B0BEC5\",\"#B0BEC5\",\"red\",\"#B0BEC5\",\"#B0BEC5\",\"#B0BEC5\",\"#B0BEC5\",\"#B0BEC5\",\"#B0BEC5\",\"#B0BEC5\",\"#B0BEC5\",\"#B0BEC5\"]]}],\"label\":\"Topic 13\",\"method\":\"update\"},{\"args\":[{\"marker.color\":[[\"#B0BEC5\",\"#B0BEC5\",\"#B0BEC5\",\"#B0BEC5\",\"#B0BEC5\",\"#B0BEC5\",\"#B0BEC5\",\"#B0BEC5\",\"#B0BEC5\",\"#B0BEC5\",\"#B0BEC5\",\"#B0BEC5\",\"#B0BEC5\",\"#B0BEC5\",\"red\",\"#B0BEC5\",\"#B0BEC5\",\"#B0BEC5\",\"#B0BEC5\",\"#B0BEC5\",\"#B0BEC5\",\"#B0BEC5\",\"#B0BEC5\"]]}],\"label\":\"Topic 14\",\"method\":\"update\"},{\"args\":[{\"marker.color\":[[\"#B0BEC5\",\"#B0BEC5\",\"#B0BEC5\",\"#B0BEC5\",\"#B0BEC5\",\"#B0BEC5\",\"#B0BEC5\",\"#B0BEC5\",\"#B0BEC5\",\"#B0BEC5\",\"#B0BEC5\",\"#B0BEC5\",\"#B0BEC5\",\"#B0BEC5\",\"#B0BEC5\",\"red\",\"#B0BEC5\",\"#B0BEC5\",\"#B0BEC5\",\"#B0BEC5\",\"#B0BEC5\",\"#B0BEC5\",\"#B0BEC5\"]]}],\"label\":\"Topic 15\",\"method\":\"update\"},{\"args\":[{\"marker.color\":[[\"#B0BEC5\",\"#B0BEC5\",\"#B0BEC5\",\"#B0BEC5\",\"#B0BEC5\",\"#B0BEC5\",\"#B0BEC5\",\"#B0BEC5\",\"#B0BEC5\",\"#B0BEC5\",\"#B0BEC5\",\"#B0BEC5\",\"#B0BEC5\",\"#B0BEC5\",\"#B0BEC5\",\"#B0BEC5\",\"red\",\"#B0BEC5\",\"#B0BEC5\",\"#B0BEC5\",\"#B0BEC5\",\"#B0BEC5\",\"#B0BEC5\"]]}],\"label\":\"Topic 16\",\"method\":\"update\"},{\"args\":[{\"marker.color\":[[\"#B0BEC5\",\"#B0BEC5\",\"#B0BEC5\",\"#B0BEC5\",\"#B0BEC5\",\"#B0BEC5\",\"#B0BEC5\",\"#B0BEC5\",\"#B0BEC5\",\"#B0BEC5\",\"#B0BEC5\",\"#B0BEC5\",\"#B0BEC5\",\"#B0BEC5\",\"#B0BEC5\",\"#B0BEC5\",\"#B0BEC5\",\"red\",\"#B0BEC5\",\"#B0BEC5\",\"#B0BEC5\",\"#B0BEC5\",\"#B0BEC5\"]]}],\"label\":\"Topic 17\",\"method\":\"update\"},{\"args\":[{\"marker.color\":[[\"#B0BEC5\",\"#B0BEC5\",\"#B0BEC5\",\"#B0BEC5\",\"#B0BEC5\",\"#B0BEC5\",\"#B0BEC5\",\"#B0BEC5\",\"#B0BEC5\",\"#B0BEC5\",\"#B0BEC5\",\"#B0BEC5\",\"#B0BEC5\",\"#B0BEC5\",\"#B0BEC5\",\"#B0BEC5\",\"#B0BEC5\",\"#B0BEC5\",\"red\",\"#B0BEC5\",\"#B0BEC5\",\"#B0BEC5\",\"#B0BEC5\"]]}],\"label\":\"Topic 18\",\"method\":\"update\"},{\"args\":[{\"marker.color\":[[\"#B0BEC5\",\"#B0BEC5\",\"#B0BEC5\",\"#B0BEC5\",\"#B0BEC5\",\"#B0BEC5\",\"#B0BEC5\",\"#B0BEC5\",\"#B0BEC5\",\"#B0BEC5\",\"#B0BEC5\",\"#B0BEC5\",\"#B0BEC5\",\"#B0BEC5\",\"#B0BEC5\",\"#B0BEC5\",\"#B0BEC5\",\"#B0BEC5\",\"#B0BEC5\",\"red\",\"#B0BEC5\",\"#B0BEC5\",\"#B0BEC5\"]]}],\"label\":\"Topic 19\",\"method\":\"update\"},{\"args\":[{\"marker.color\":[[\"#B0BEC5\",\"#B0BEC5\",\"#B0BEC5\",\"#B0BEC5\",\"#B0BEC5\",\"#B0BEC5\",\"#B0BEC5\",\"#B0BEC5\",\"#B0BEC5\",\"#B0BEC5\",\"#B0BEC5\",\"#B0BEC5\",\"#B0BEC5\",\"#B0BEC5\",\"#B0BEC5\",\"#B0BEC5\",\"#B0BEC5\",\"#B0BEC5\",\"#B0BEC5\",\"#B0BEC5\",\"red\",\"#B0BEC5\",\"#B0BEC5\"]]}],\"label\":\"Topic 20\",\"method\":\"update\"},{\"args\":[{\"marker.color\":[[\"#B0BEC5\",\"#B0BEC5\",\"#B0BEC5\",\"#B0BEC5\",\"#B0BEC5\",\"#B0BEC5\",\"#B0BEC5\",\"#B0BEC5\",\"#B0BEC5\",\"#B0BEC5\",\"#B0BEC5\",\"#B0BEC5\",\"#B0BEC5\",\"#B0BEC5\",\"#B0BEC5\",\"#B0BEC5\",\"#B0BEC5\",\"#B0BEC5\",\"#B0BEC5\",\"#B0BEC5\",\"#B0BEC5\",\"red\",\"#B0BEC5\"]]}],\"label\":\"Topic 21\",\"method\":\"update\"},{\"args\":[{\"marker.color\":[[\"#B0BEC5\",\"#B0BEC5\",\"#B0BEC5\",\"#B0BEC5\",\"#B0BEC5\",\"#B0BEC5\",\"#B0BEC5\",\"#B0BEC5\",\"#B0BEC5\",\"#B0BEC5\",\"#B0BEC5\",\"#B0BEC5\",\"#B0BEC5\",\"#B0BEC5\",\"#B0BEC5\",\"#B0BEC5\",\"#B0BEC5\",\"#B0BEC5\",\"#B0BEC5\",\"#B0BEC5\",\"#B0BEC5\",\"#B0BEC5\",\"red\"]]}],\"label\":\"Topic 22\",\"method\":\"update\"}]}],\"shapes\":[{\"line\":{\"color\":\"#CFD8DC\",\"width\":2},\"type\":\"line\",\"x0\":8.237963664531708,\"x1\":8.237963664531708,\"y0\":-7.072420597076416,\"y1\":28.175013160705568},{\"line\":{\"color\":\"#9E9E9E\",\"width\":2},\"type\":\"line\",\"x0\":-8.594973301887512,\"x1\":25.070900630950927,\"y0\":10.551296281814576,\"y1\":10.551296281814576}],\"annotations\":[{\"showarrow\":false,\"text\":\"D1\",\"x\":-8.594973301887512,\"y\":10.551296281814576,\"yshift\":10},{\"showarrow\":false,\"text\":\"D2\",\"x\":8.237963664531708,\"xshift\":10,\"y\":28.175013160705568}]},                        {\"responsive\": true}                    ).then(function(){\n",
       "                            \n",
       "var gd = document.getElementById('dbd532c1-3f23-4bcc-bbe4-9611626cf350');\n",
       "var x = new MutationObserver(function (mutations, observer) {{\n",
       "        var display = window.getComputedStyle(gd).display;\n",
       "        if (!display || display === 'none') {{\n",
       "            console.log([gd, 'removed!']);\n",
       "            Plotly.purge(gd);\n",
       "            observer.disconnect();\n",
       "        }}\n",
       "}});\n",
       "\n",
       "// Listen for the removal of the full notebook cells\n",
       "var notebookContainer = gd.closest('#notebook-container');\n",
       "if (notebookContainer) {{\n",
       "    x.observe(notebookContainer, {childList: true});\n",
       "}}\n",
       "\n",
       "// Listen for the clearing of the current output cell\n",
       "var outputEl = gd.closest('.output');\n",
       "if (outputEl) {{\n",
       "    x.observe(outputEl, {childList: true});\n",
       "}}\n",
       "\n",
       "                        })                };                });            </script>        </div>"
      ]
     },
     "metadata": {},
     "output_type": "display_data"
    }
   ],
   "source": [
    "topic_model5.visualize_topics()"
   ]
  },
  {
   "cell_type": "code",
   "execution_count": 41,
   "metadata": {
    "execution": {
     "iopub.execute_input": "2023-06-06T01:55:05.994495Z",
     "iopub.status.busy": "2023-06-06T01:55:05.994107Z",
     "iopub.status.idle": "2023-06-06T01:55:06.071636Z",
     "shell.execute_reply": "2023-06-06T01:55:06.070576Z",
     "shell.execute_reply.started": "2023-06-06T01:55:05.994463Z"
    },
    "id": "dZfGRkWU0Spm"
   },
   "outputs": [
    {
     "data": {
      "application/vnd.plotly.v1+json": {
       "config": {
        "plotlyServerURL": "https://plot.ly"
       },
       "data": [
        {
         "hoverinfo": "text",
         "marker": {
          "color": "rgb(61,153,112)"
         },
         "mode": "lines",
         "type": "scatter",
         "x": [
          0,
          0.44286244709475875,
          0.44286244709475875,
          0
         ],
         "xaxis": "x",
         "y": [
          -15,
          -15,
          -25,
          -25
         ],
         "yaxis": "y"
        },
        {
         "hoverinfo": "text",
         "marker": {
          "color": "rgb(61,153,112)"
         },
         "mode": "lines",
         "type": "scatter",
         "x": [
          0,
          0.5723307690335477,
          0.5723307690335477,
          0.44286244709475875
         ],
         "xaxis": "x",
         "y": [
          -5,
          -5,
          -20,
          -20
         ],
         "yaxis": "y"
        },
        {
         "hoverinfo": "text",
         "marker": {
          "color": "rgb(255,65,54)"
         },
         "mode": "lines",
         "type": "scatter",
         "x": [
          0,
          0.4226822598277653,
          0.4226822598277653,
          0
         ],
         "xaxis": "x",
         "y": [
          -45,
          -45,
          -55,
          -55
         ],
         "yaxis": "y"
        },
        {
         "hoverinfo": "text",
         "marker": {
          "color": "rgb(255,65,54)"
         },
         "mode": "lines",
         "type": "scatter",
         "x": [
          0,
          0.24390119961670786,
          0.24390119961670786,
          0
         ],
         "xaxis": "x",
         "y": [
          -65,
          -65,
          -75,
          -75
         ],
         "yaxis": "y"
        },
        {
         "hoverinfo": "text",
         "marker": {
          "color": "rgb(255,65,54)"
         },
         "mode": "lines",
         "type": "scatter",
         "x": [
          0.24390119961670786,
          0.5377333095768735,
          0.5377333095768735,
          0
         ],
         "xaxis": "x",
         "y": [
          -70,
          -70,
          -85,
          -85
         ],
         "yaxis": "y"
        },
        {
         "hoverinfo": "text",
         "marker": {
          "color": "rgb(255,65,54)"
         },
         "mode": "lines",
         "type": "scatter",
         "x": [
          0.4226822598277653,
          0.617265708491098,
          0.617265708491098,
          0.5377333095768735
         ],
         "xaxis": "x",
         "y": [
          -50,
          -50,
          -77.5,
          -77.5
         ],
         "yaxis": "y"
        },
        {
         "hoverinfo": "text",
         "marker": {
          "color": "rgb(255,65,54)"
         },
         "mode": "lines",
         "type": "scatter",
         "x": [
          0,
          0.7184862293394101,
          0.7184862293394101,
          0.617265708491098
         ],
         "xaxis": "x",
         "y": [
          -35,
          -35,
          -63.75,
          -63.75
         ],
         "yaxis": "y"
        },
        {
         "hoverinfo": "text",
         "marker": {
          "color": "rgb(255,65,54)"
         },
         "mode": "lines",
         "type": "scatter",
         "x": [
          0,
          0.6946075255485602,
          0.6946075255485602,
          0
         ],
         "xaxis": "x",
         "y": [
          -95,
          -95,
          -105,
          -105
         ],
         "yaxis": "y"
        },
        {
         "hoverinfo": "text",
         "marker": {
          "color": "rgb(255,65,54)"
         },
         "mode": "lines",
         "type": "scatter",
         "x": [
          0,
          0.5364673598961265,
          0.5364673598961265,
          0
         ],
         "xaxis": "x",
         "y": [
          -125,
          -125,
          -135,
          -135
         ],
         "yaxis": "y"
        },
        {
         "hoverinfo": "text",
         "marker": {
          "color": "rgb(255,65,54)"
         },
         "mode": "lines",
         "type": "scatter",
         "x": [
          0,
          0.6281797890637426,
          0.6281797890637426,
          0.5364673598961265
         ],
         "xaxis": "x",
         "y": [
          -115,
          -115,
          -130,
          -130
         ],
         "yaxis": "y"
        },
        {
         "hoverinfo": "text",
         "marker": {
          "color": "rgb(255,65,54)"
         },
         "mode": "lines",
         "type": "scatter",
         "x": [
          0,
          0.4707724557474071,
          0.4707724557474071,
          0
         ],
         "xaxis": "x",
         "y": [
          -155,
          -155,
          -165,
          -165
         ],
         "yaxis": "y"
        },
        {
         "hoverinfo": "text",
         "marker": {
          "color": "rgb(255,65,54)"
         },
         "mode": "lines",
         "type": "scatter",
         "x": [
          0,
          0.4550766646266725,
          0.4550766646266725,
          0
         ],
         "xaxis": "x",
         "y": [
          -175,
          -175,
          -185,
          -185
         ],
         "yaxis": "y"
        },
        {
         "hoverinfo": "text",
         "marker": {
          "color": "rgb(255,65,54)"
         },
         "mode": "lines",
         "type": "scatter",
         "x": [
          0.4707724557474071,
          0.5080966680085056,
          0.5080966680085056,
          0.4550766646266725
         ],
         "xaxis": "x",
         "y": [
          -160,
          -160,
          -180,
          -180
         ],
         "yaxis": "y"
        },
        {
         "hoverinfo": "text",
         "marker": {
          "color": "rgb(255,65,54)"
         },
         "mode": "lines",
         "type": "scatter",
         "x": [
          0,
          0.5523758125136083,
          0.5523758125136083,
          0.5080966680085056
         ],
         "xaxis": "x",
         "y": [
          -145,
          -145,
          -170,
          -170
         ],
         "yaxis": "y"
        },
        {
         "hoverinfo": "text",
         "marker": {
          "color": "rgb(255,65,54)"
         },
         "mode": "lines",
         "type": "scatter",
         "x": [
          0.5523758125136083,
          0.6888858258595523,
          0.6888858258595523,
          0
         ],
         "xaxis": "x",
         "y": [
          -157.5,
          -157.5,
          -195,
          -195
         ],
         "yaxis": "y"
        },
        {
         "hoverinfo": "text",
         "marker": {
          "color": "rgb(255,65,54)"
         },
         "mode": "lines",
         "type": "scatter",
         "x": [
          0.6281797890637426,
          0.7252519779598031,
          0.7252519779598031,
          0.6888858258595523
         ],
         "xaxis": "x",
         "y": [
          -122.5,
          -122.5,
          -176.25,
          -176.25
         ],
         "yaxis": "y"
        },
        {
         "hoverinfo": "text",
         "marker": {
          "color": "rgb(255,65,54)"
         },
         "mode": "lines",
         "type": "scatter",
         "x": [
          0.6946075255485602,
          0.8307674279897478,
          0.8307674279897478,
          0.7252519779598031
         ],
         "xaxis": "x",
         "y": [
          -100,
          -100,
          -149.375,
          -149.375
         ],
         "yaxis": "y"
        },
        {
         "hoverinfo": "text",
         "marker": {
          "color": "rgb(255,65,54)"
         },
         "mode": "lines",
         "type": "scatter",
         "x": [
          0,
          0.6170472606714419,
          0.6170472606714419,
          0
         ],
         "xaxis": "x",
         "y": [
          -215,
          -215,
          -225,
          -225
         ],
         "yaxis": "y"
        },
        {
         "hoverinfo": "text",
         "marker": {
          "color": "rgb(255,65,54)"
         },
         "mode": "lines",
         "type": "scatter",
         "x": [
          0,
          0.7316218588625802,
          0.7316218588625802,
          0.6170472606714419
         ],
         "xaxis": "x",
         "y": [
          -205,
          -205,
          -220,
          -220
         ],
         "yaxis": "y"
        },
        {
         "hoverinfo": "text",
         "marker": {
          "color": "rgb(255,65,54)"
         },
         "mode": "lines",
         "type": "scatter",
         "x": [
          0.8307674279897478,
          0.8721723740514069,
          0.8721723740514069,
          0.7316218588625802
         ],
         "xaxis": "x",
         "y": [
          -124.6875,
          -124.6875,
          -212.5,
          -212.5
         ],
         "yaxis": "y"
        },
        {
         "hoverinfo": "text",
         "marker": {
          "color": "rgb(255,65,54)"
         },
         "mode": "lines",
         "type": "scatter",
         "x": [
          0.7184862293394101,
          0.9944813867260767,
          0.9944813867260767,
          0.8721723740514069
         ],
         "xaxis": "x",
         "y": [
          -49.375,
          -49.375,
          -168.59375,
          -168.59375
         ],
         "yaxis": "y"
        },
        {
         "hoverinfo": "text",
         "marker": {
          "color": "rgb(0,116,217)"
         },
         "mode": "lines",
         "type": "scatter",
         "x": [
          0.5723307690335477,
          1.0339548280762145,
          1.0339548280762145,
          0.9944813867260767
         ],
         "xaxis": "x",
         "y": [
          -12.5,
          -12.5,
          -108.984375,
          -108.984375
         ],
         "yaxis": "y"
        }
       ],
       "layout": {
        "autosize": false,
        "height": 545,
        "hoverlabel": {
         "bgcolor": "white",
         "font": {
          "family": "Rockwell",
          "size": 16
         }
        },
        "hovermode": "closest",
        "plot_bgcolor": "#ECEFF1",
        "showlegend": false,
        "template": {
         "data": {
          "bar": [
           {
            "error_x": {
             "color": "#2a3f5f"
            },
            "error_y": {
             "color": "#2a3f5f"
            },
            "marker": {
             "line": {
              "color": "white",
              "width": 0.5
             },
             "pattern": {
              "fillmode": "overlay",
              "size": 10,
              "solidity": 0.2
             }
            },
            "type": "bar"
           }
          ],
          "barpolar": [
           {
            "marker": {
             "line": {
              "color": "white",
              "width": 0.5
             },
             "pattern": {
              "fillmode": "overlay",
              "size": 10,
              "solidity": 0.2
             }
            },
            "type": "barpolar"
           }
          ],
          "carpet": [
           {
            "aaxis": {
             "endlinecolor": "#2a3f5f",
             "gridcolor": "#C8D4E3",
             "linecolor": "#C8D4E3",
             "minorgridcolor": "#C8D4E3",
             "startlinecolor": "#2a3f5f"
            },
            "baxis": {
             "endlinecolor": "#2a3f5f",
             "gridcolor": "#C8D4E3",
             "linecolor": "#C8D4E3",
             "minorgridcolor": "#C8D4E3",
             "startlinecolor": "#2a3f5f"
            },
            "type": "carpet"
           }
          ],
          "choropleth": [
           {
            "colorbar": {
             "outlinewidth": 0,
             "ticks": ""
            },
            "type": "choropleth"
           }
          ],
          "contour": [
           {
            "colorbar": {
             "outlinewidth": 0,
             "ticks": ""
            },
            "colorscale": [
             [
              0,
              "#0d0887"
             ],
             [
              0.1111111111111111,
              "#46039f"
             ],
             [
              0.2222222222222222,
              "#7201a8"
             ],
             [
              0.3333333333333333,
              "#9c179e"
             ],
             [
              0.4444444444444444,
              "#bd3786"
             ],
             [
              0.5555555555555556,
              "#d8576b"
             ],
             [
              0.6666666666666666,
              "#ed7953"
             ],
             [
              0.7777777777777778,
              "#fb9f3a"
             ],
             [
              0.8888888888888888,
              "#fdca26"
             ],
             [
              1,
              "#f0f921"
             ]
            ],
            "type": "contour"
           }
          ],
          "contourcarpet": [
           {
            "colorbar": {
             "outlinewidth": 0,
             "ticks": ""
            },
            "type": "contourcarpet"
           }
          ],
          "heatmap": [
           {
            "colorbar": {
             "outlinewidth": 0,
             "ticks": ""
            },
            "colorscale": [
             [
              0,
              "#0d0887"
             ],
             [
              0.1111111111111111,
              "#46039f"
             ],
             [
              0.2222222222222222,
              "#7201a8"
             ],
             [
              0.3333333333333333,
              "#9c179e"
             ],
             [
              0.4444444444444444,
              "#bd3786"
             ],
             [
              0.5555555555555556,
              "#d8576b"
             ],
             [
              0.6666666666666666,
              "#ed7953"
             ],
             [
              0.7777777777777778,
              "#fb9f3a"
             ],
             [
              0.8888888888888888,
              "#fdca26"
             ],
             [
              1,
              "#f0f921"
             ]
            ],
            "type": "heatmap"
           }
          ],
          "heatmapgl": [
           {
            "colorbar": {
             "outlinewidth": 0,
             "ticks": ""
            },
            "colorscale": [
             [
              0,
              "#0d0887"
             ],
             [
              0.1111111111111111,
              "#46039f"
             ],
             [
              0.2222222222222222,
              "#7201a8"
             ],
             [
              0.3333333333333333,
              "#9c179e"
             ],
             [
              0.4444444444444444,
              "#bd3786"
             ],
             [
              0.5555555555555556,
              "#d8576b"
             ],
             [
              0.6666666666666666,
              "#ed7953"
             ],
             [
              0.7777777777777778,
              "#fb9f3a"
             ],
             [
              0.8888888888888888,
              "#fdca26"
             ],
             [
              1,
              "#f0f921"
             ]
            ],
            "type": "heatmapgl"
           }
          ],
          "histogram": [
           {
            "marker": {
             "pattern": {
              "fillmode": "overlay",
              "size": 10,
              "solidity": 0.2
             }
            },
            "type": "histogram"
           }
          ],
          "histogram2d": [
           {
            "colorbar": {
             "outlinewidth": 0,
             "ticks": ""
            },
            "colorscale": [
             [
              0,
              "#0d0887"
             ],
             [
              0.1111111111111111,
              "#46039f"
             ],
             [
              0.2222222222222222,
              "#7201a8"
             ],
             [
              0.3333333333333333,
              "#9c179e"
             ],
             [
              0.4444444444444444,
              "#bd3786"
             ],
             [
              0.5555555555555556,
              "#d8576b"
             ],
             [
              0.6666666666666666,
              "#ed7953"
             ],
             [
              0.7777777777777778,
              "#fb9f3a"
             ],
             [
              0.8888888888888888,
              "#fdca26"
             ],
             [
              1,
              "#f0f921"
             ]
            ],
            "type": "histogram2d"
           }
          ],
          "histogram2dcontour": [
           {
            "colorbar": {
             "outlinewidth": 0,
             "ticks": ""
            },
            "colorscale": [
             [
              0,
              "#0d0887"
             ],
             [
              0.1111111111111111,
              "#46039f"
             ],
             [
              0.2222222222222222,
              "#7201a8"
             ],
             [
              0.3333333333333333,
              "#9c179e"
             ],
             [
              0.4444444444444444,
              "#bd3786"
             ],
             [
              0.5555555555555556,
              "#d8576b"
             ],
             [
              0.6666666666666666,
              "#ed7953"
             ],
             [
              0.7777777777777778,
              "#fb9f3a"
             ],
             [
              0.8888888888888888,
              "#fdca26"
             ],
             [
              1,
              "#f0f921"
             ]
            ],
            "type": "histogram2dcontour"
           }
          ],
          "mesh3d": [
           {
            "colorbar": {
             "outlinewidth": 0,
             "ticks": ""
            },
            "type": "mesh3d"
           }
          ],
          "parcoords": [
           {
            "line": {
             "colorbar": {
              "outlinewidth": 0,
              "ticks": ""
             }
            },
            "type": "parcoords"
           }
          ],
          "pie": [
           {
            "automargin": true,
            "type": "pie"
           }
          ],
          "scatter": [
           {
            "fillpattern": {
             "fillmode": "overlay",
             "size": 10,
             "solidity": 0.2
            },
            "type": "scatter"
           }
          ],
          "scatter3d": [
           {
            "line": {
             "colorbar": {
              "outlinewidth": 0,
              "ticks": ""
             }
            },
            "marker": {
             "colorbar": {
              "outlinewidth": 0,
              "ticks": ""
             }
            },
            "type": "scatter3d"
           }
          ],
          "scattercarpet": [
           {
            "marker": {
             "colorbar": {
              "outlinewidth": 0,
              "ticks": ""
             }
            },
            "type": "scattercarpet"
           }
          ],
          "scattergeo": [
           {
            "marker": {
             "colorbar": {
              "outlinewidth": 0,
              "ticks": ""
             }
            },
            "type": "scattergeo"
           }
          ],
          "scattergl": [
           {
            "marker": {
             "colorbar": {
              "outlinewidth": 0,
              "ticks": ""
             }
            },
            "type": "scattergl"
           }
          ],
          "scattermapbox": [
           {
            "marker": {
             "colorbar": {
              "outlinewidth": 0,
              "ticks": ""
             }
            },
            "type": "scattermapbox"
           }
          ],
          "scatterpolar": [
           {
            "marker": {
             "colorbar": {
              "outlinewidth": 0,
              "ticks": ""
             }
            },
            "type": "scatterpolar"
           }
          ],
          "scatterpolargl": [
           {
            "marker": {
             "colorbar": {
              "outlinewidth": 0,
              "ticks": ""
             }
            },
            "type": "scatterpolargl"
           }
          ],
          "scatterternary": [
           {
            "marker": {
             "colorbar": {
              "outlinewidth": 0,
              "ticks": ""
             }
            },
            "type": "scatterternary"
           }
          ],
          "surface": [
           {
            "colorbar": {
             "outlinewidth": 0,
             "ticks": ""
            },
            "colorscale": [
             [
              0,
              "#0d0887"
             ],
             [
              0.1111111111111111,
              "#46039f"
             ],
             [
              0.2222222222222222,
              "#7201a8"
             ],
             [
              0.3333333333333333,
              "#9c179e"
             ],
             [
              0.4444444444444444,
              "#bd3786"
             ],
             [
              0.5555555555555556,
              "#d8576b"
             ],
             [
              0.6666666666666666,
              "#ed7953"
             ],
             [
              0.7777777777777778,
              "#fb9f3a"
             ],
             [
              0.8888888888888888,
              "#fdca26"
             ],
             [
              1,
              "#f0f921"
             ]
            ],
            "type": "surface"
           }
          ],
          "table": [
           {
            "cells": {
             "fill": {
              "color": "#EBF0F8"
             },
             "line": {
              "color": "white"
             }
            },
            "header": {
             "fill": {
              "color": "#C8D4E3"
             },
             "line": {
              "color": "white"
             }
            },
            "type": "table"
           }
          ]
         },
         "layout": {
          "annotationdefaults": {
           "arrowcolor": "#2a3f5f",
           "arrowhead": 0,
           "arrowwidth": 1
          },
          "autotypenumbers": "strict",
          "coloraxis": {
           "colorbar": {
            "outlinewidth": 0,
            "ticks": ""
           }
          },
          "colorscale": {
           "diverging": [
            [
             0,
             "#8e0152"
            ],
            [
             0.1,
             "#c51b7d"
            ],
            [
             0.2,
             "#de77ae"
            ],
            [
             0.3,
             "#f1b6da"
            ],
            [
             0.4,
             "#fde0ef"
            ],
            [
             0.5,
             "#f7f7f7"
            ],
            [
             0.6,
             "#e6f5d0"
            ],
            [
             0.7,
             "#b8e186"
            ],
            [
             0.8,
             "#7fbc41"
            ],
            [
             0.9,
             "#4d9221"
            ],
            [
             1,
             "#276419"
            ]
           ],
           "sequential": [
            [
             0,
             "#0d0887"
            ],
            [
             0.1111111111111111,
             "#46039f"
            ],
            [
             0.2222222222222222,
             "#7201a8"
            ],
            [
             0.3333333333333333,
             "#9c179e"
            ],
            [
             0.4444444444444444,
             "#bd3786"
            ],
            [
             0.5555555555555556,
             "#d8576b"
            ],
            [
             0.6666666666666666,
             "#ed7953"
            ],
            [
             0.7777777777777778,
             "#fb9f3a"
            ],
            [
             0.8888888888888888,
             "#fdca26"
            ],
            [
             1,
             "#f0f921"
            ]
           ],
           "sequentialminus": [
            [
             0,
             "#0d0887"
            ],
            [
             0.1111111111111111,
             "#46039f"
            ],
            [
             0.2222222222222222,
             "#7201a8"
            ],
            [
             0.3333333333333333,
             "#9c179e"
            ],
            [
             0.4444444444444444,
             "#bd3786"
            ],
            [
             0.5555555555555556,
             "#d8576b"
            ],
            [
             0.6666666666666666,
             "#ed7953"
            ],
            [
             0.7777777777777778,
             "#fb9f3a"
            ],
            [
             0.8888888888888888,
             "#fdca26"
            ],
            [
             1,
             "#f0f921"
            ]
           ]
          },
          "colorway": [
           "#636efa",
           "#EF553B",
           "#00cc96",
           "#ab63fa",
           "#FFA15A",
           "#19d3f3",
           "#FF6692",
           "#B6E880",
           "#FF97FF",
           "#FECB52"
          ],
          "font": {
           "color": "#2a3f5f"
          },
          "geo": {
           "bgcolor": "white",
           "lakecolor": "white",
           "landcolor": "white",
           "showlakes": true,
           "showland": true,
           "subunitcolor": "#C8D4E3"
          },
          "hoverlabel": {
           "align": "left"
          },
          "hovermode": "closest",
          "mapbox": {
           "style": "light"
          },
          "paper_bgcolor": "white",
          "plot_bgcolor": "white",
          "polar": {
           "angularaxis": {
            "gridcolor": "#EBF0F8",
            "linecolor": "#EBF0F8",
            "ticks": ""
           },
           "bgcolor": "white",
           "radialaxis": {
            "gridcolor": "#EBF0F8",
            "linecolor": "#EBF0F8",
            "ticks": ""
           }
          },
          "scene": {
           "xaxis": {
            "backgroundcolor": "white",
            "gridcolor": "#DFE8F3",
            "gridwidth": 2,
            "linecolor": "#EBF0F8",
            "showbackground": true,
            "ticks": "",
            "zerolinecolor": "#EBF0F8"
           },
           "yaxis": {
            "backgroundcolor": "white",
            "gridcolor": "#DFE8F3",
            "gridwidth": 2,
            "linecolor": "#EBF0F8",
            "showbackground": true,
            "ticks": "",
            "zerolinecolor": "#EBF0F8"
           },
           "zaxis": {
            "backgroundcolor": "white",
            "gridcolor": "#DFE8F3",
            "gridwidth": 2,
            "linecolor": "#EBF0F8",
            "showbackground": true,
            "ticks": "",
            "zerolinecolor": "#EBF0F8"
           }
          },
          "shapedefaults": {
           "line": {
            "color": "#2a3f5f"
           }
          },
          "ternary": {
           "aaxis": {
            "gridcolor": "#DFE8F3",
            "linecolor": "#A2B1C6",
            "ticks": ""
           },
           "baxis": {
            "gridcolor": "#DFE8F3",
            "linecolor": "#A2B1C6",
            "ticks": ""
           },
           "bgcolor": "white",
           "caxis": {
            "gridcolor": "#DFE8F3",
            "linecolor": "#A2B1C6",
            "ticks": ""
           }
          },
          "title": {
           "x": 0.05
          },
          "xaxis": {
           "automargin": true,
           "gridcolor": "#EBF0F8",
           "linecolor": "#EBF0F8",
           "ticks": "",
           "title": {
            "standoff": 15
           },
           "zerolinecolor": "#EBF0F8",
           "zerolinewidth": 2
          },
          "yaxis": {
           "automargin": true,
           "gridcolor": "#EBF0F8",
           "linecolor": "#EBF0F8",
           "ticks": "",
           "title": {
            "standoff": 15
           },
           "zerolinecolor": "#EBF0F8",
           "zerolinewidth": 2
          }
         }
        },
        "title": {
         "font": {
          "color": "Black",
          "size": 22
         },
         "text": "<b>Hierarchical Clustering</b>",
         "x": 0.5,
         "xanchor": "center",
         "yanchor": "top"
        },
        "width": 1000,
        "xaxis": {
         "autorange": true,
         "mirror": "allticks",
         "range": [
          0,
          1.0339548280762145
         ],
         "rangemode": "tozero",
         "showgrid": false,
         "showline": true,
         "showticklabels": true,
         "ticks": "outside",
         "type": "linear",
         "zeroline": false
        },
        "yaxis": {
         "mirror": "allticks",
         "range": [
          -230,
          0
         ],
         "rangemode": "tozero",
         "showgrid": false,
         "showline": true,
         "showticklabels": true,
         "tickmode": "array",
         "ticks": "outside",
         "ticktext": [
          "7_graph_vertex_problem",
          "18_graph_gnn_node",
          "12_network_community_node",
          "15_adversarial_attack_robus...",
          "9_speech_audio_speaker",
          "4_language_model_task",
          "6_image_segmentation_medical",
          "1_image_method_propose",
          "22_brain_snn_spike",
          "16_privacy_datum_private",
          "20_blockchain_transaction_c...",
          "5_logic_language_program",
          "8_student_software_research",
          "13_memory_cloud_application",
          "19_urban_city_travel",
          "0_quantum_field_use",
          "3_robot_control_policy",
          "11_power_grid_energy",
          "2_channel_network_user",
          "10_game_player_equilibrium",
          "14_covid_19_epidemic",
          "21_social_news_medium",
          "17_recommendation_user_item"
         ],
         "tickvals": [
          -5,
          -15,
          -25,
          -35,
          -45,
          -55,
          -65,
          -75,
          -85,
          -95,
          -105,
          -115,
          -125,
          -135,
          -145,
          -155,
          -165,
          -175,
          -185,
          -195,
          -205,
          -215,
          -225
         ],
         "type": "linear",
         "zeroline": false
        }
       }
      },
      "image/png": "[encoded data removed]",
      "text/html": [
       "<div>                            <div id=\"51fc783e-94c8-45c5-9cb6-bf1ac14f15f3\" class=\"plotly-graph-div\" style=\"height:545px; width:1000px;\"></div>            <script type=\"text/javascript\">                require([\"plotly\"], function(Plotly) {                    window.PLOTLYENV=window.PLOTLYENV || {};                                    if (document.getElementById(\"51fc783e-94c8-45c5-9cb6-bf1ac14f15f3\")) {                    Plotly.newPlot(                        \"51fc783e-94c8-45c5-9cb6-bf1ac14f15f3\",                        [{\"hoverinfo\":\"text\",\"marker\":{\"color\":\"rgb(61,153,112)\"},\"mode\":\"lines\",\"x\":[0.0,0.44286244709475875,0.44286244709475875,0.0],\"xaxis\":\"x\",\"y\":[-15.0,-15.0,-25.0,-25.0],\"yaxis\":\"y\",\"type\":\"scatter\"},{\"hoverinfo\":\"text\",\"marker\":{\"color\":\"rgb(61,153,112)\"},\"mode\":\"lines\",\"x\":[0.0,0.5723307690335477,0.5723307690335477,0.44286244709475875],\"xaxis\":\"x\",\"y\":[-5.0,-5.0,-20.0,-20.0],\"yaxis\":\"y\",\"type\":\"scatter\"},{\"hoverinfo\":\"text\",\"marker\":{\"color\":\"rgb(255,65,54)\"},\"mode\":\"lines\",\"x\":[0.0,0.4226822598277653,0.4226822598277653,0.0],\"xaxis\":\"x\",\"y\":[-45.0,-45.0,-55.0,-55.0],\"yaxis\":\"y\",\"type\":\"scatter\"},{\"hoverinfo\":\"text\",\"marker\":{\"color\":\"rgb(255,65,54)\"},\"mode\":\"lines\",\"x\":[0.0,0.24390119961670786,0.24390119961670786,0.0],\"xaxis\":\"x\",\"y\":[-65.0,-65.0,-75.0,-75.0],\"yaxis\":\"y\",\"type\":\"scatter\"},{\"hoverinfo\":\"text\",\"marker\":{\"color\":\"rgb(255,65,54)\"},\"mode\":\"lines\",\"x\":[0.24390119961670786,0.5377333095768735,0.5377333095768735,0.0],\"xaxis\":\"x\",\"y\":[-70.0,-70.0,-85.0,-85.0],\"yaxis\":\"y\",\"type\":\"scatter\"},{\"hoverinfo\":\"text\",\"marker\":{\"color\":\"rgb(255,65,54)\"},\"mode\":\"lines\",\"x\":[0.4226822598277653,0.617265708491098,0.617265708491098,0.5377333095768735],\"xaxis\":\"x\",\"y\":[-50.0,-50.0,-77.5,-77.5],\"yaxis\":\"y\",\"type\":\"scatter\"},{\"hoverinfo\":\"text\",\"marker\":{\"color\":\"rgb(255,65,54)\"},\"mode\":\"lines\",\"x\":[0.0,0.7184862293394101,0.7184862293394101,0.617265708491098],\"xaxis\":\"x\",\"y\":[-35.0,-35.0,-63.75,-63.75],\"yaxis\":\"y\",\"type\":\"scatter\"},{\"hoverinfo\":\"text\",\"marker\":{\"color\":\"rgb(255,65,54)\"},\"mode\":\"lines\",\"x\":[0.0,0.6946075255485602,0.6946075255485602,0.0],\"xaxis\":\"x\",\"y\":[-95.0,-95.0,-105.0,-105.0],\"yaxis\":\"y\",\"type\":\"scatter\"},{\"hoverinfo\":\"text\",\"marker\":{\"color\":\"rgb(255,65,54)\"},\"mode\":\"lines\",\"x\":[0.0,0.5364673598961265,0.5364673598961265,0.0],\"xaxis\":\"x\",\"y\":[-125.0,-125.0,-135.0,-135.0],\"yaxis\":\"y\",\"type\":\"scatter\"},{\"hoverinfo\":\"text\",\"marker\":{\"color\":\"rgb(255,65,54)\"},\"mode\":\"lines\",\"x\":[0.0,0.6281797890637426,0.6281797890637426,0.5364673598961265],\"xaxis\":\"x\",\"y\":[-115.0,-115.0,-130.0,-130.0],\"yaxis\":\"y\",\"type\":\"scatter\"},{\"hoverinfo\":\"text\",\"marker\":{\"color\":\"rgb(255,65,54)\"},\"mode\":\"lines\",\"x\":[0.0,0.4707724557474071,0.4707724557474071,0.0],\"xaxis\":\"x\",\"y\":[-155.0,-155.0,-165.0,-165.0],\"yaxis\":\"y\",\"type\":\"scatter\"},{\"hoverinfo\":\"text\",\"marker\":{\"color\":\"rgb(255,65,54)\"},\"mode\":\"lines\",\"x\":[0.0,0.4550766646266725,0.4550766646266725,0.0],\"xaxis\":\"x\",\"y\":[-175.0,-175.0,-185.0,-185.0],\"yaxis\":\"y\",\"type\":\"scatter\"},{\"hoverinfo\":\"text\",\"marker\":{\"color\":\"rgb(255,65,54)\"},\"mode\":\"lines\",\"x\":[0.4707724557474071,0.5080966680085056,0.5080966680085056,0.4550766646266725],\"xaxis\":\"x\",\"y\":[-160.0,-160.0,-180.0,-180.0],\"yaxis\":\"y\",\"type\":\"scatter\"},{\"hoverinfo\":\"text\",\"marker\":{\"color\":\"rgb(255,65,54)\"},\"mode\":\"lines\",\"x\":[0.0,0.5523758125136083,0.5523758125136083,0.5080966680085056],\"xaxis\":\"x\",\"y\":[-145.0,-145.0,-170.0,-170.0],\"yaxis\":\"y\",\"type\":\"scatter\"},{\"hoverinfo\":\"text\",\"marker\":{\"color\":\"rgb(255,65,54)\"},\"mode\":\"lines\",\"x\":[0.5523758125136083,0.6888858258595523,0.6888858258595523,0.0],\"xaxis\":\"x\",\"y\":[-157.5,-157.5,-195.0,-195.0],\"yaxis\":\"y\",\"type\":\"scatter\"},{\"hoverinfo\":\"text\",\"marker\":{\"color\":\"rgb(255,65,54)\"},\"mode\":\"lines\",\"x\":[0.6281797890637426,0.7252519779598031,0.7252519779598031,0.6888858258595523],\"xaxis\":\"x\",\"y\":[-122.5,-122.5,-176.25,-176.25],\"yaxis\":\"y\",\"type\":\"scatter\"},{\"hoverinfo\":\"text\",\"marker\":{\"color\":\"rgb(255,65,54)\"},\"mode\":\"lines\",\"x\":[0.6946075255485602,0.8307674279897478,0.8307674279897478,0.7252519779598031],\"xaxis\":\"x\",\"y\":[-100.0,-100.0,-149.375,-149.375],\"yaxis\":\"y\",\"type\":\"scatter\"},{\"hoverinfo\":\"text\",\"marker\":{\"color\":\"rgb(255,65,54)\"},\"mode\":\"lines\",\"x\":[0.0,0.6170472606714419,0.6170472606714419,0.0],\"xaxis\":\"x\",\"y\":[-215.0,-215.0,-225.0,-225.0],\"yaxis\":\"y\",\"type\":\"scatter\"},{\"hoverinfo\":\"text\",\"marker\":{\"color\":\"rgb(255,65,54)\"},\"mode\":\"lines\",\"x\":[0.0,0.7316218588625802,0.7316218588625802,0.6170472606714419],\"xaxis\":\"x\",\"y\":[-205.0,-205.0,-220.0,-220.0],\"yaxis\":\"y\",\"type\":\"scatter\"},{\"hoverinfo\":\"text\",\"marker\":{\"color\":\"rgb(255,65,54)\"},\"mode\":\"lines\",\"x\":[0.8307674279897478,0.8721723740514069,0.8721723740514069,0.7316218588625802],\"xaxis\":\"x\",\"y\":[-124.6875,-124.6875,-212.5,-212.5],\"yaxis\":\"y\",\"type\":\"scatter\"},{\"hoverinfo\":\"text\",\"marker\":{\"color\":\"rgb(255,65,54)\"},\"mode\":\"lines\",\"x\":[0.7184862293394101,0.9944813867260767,0.9944813867260767,0.8721723740514069],\"xaxis\":\"x\",\"y\":[-49.375,-49.375,-168.59375,-168.59375],\"yaxis\":\"y\",\"type\":\"scatter\"},{\"hoverinfo\":\"text\",\"marker\":{\"color\":\"rgb(0,116,217)\"},\"mode\":\"lines\",\"x\":[0.5723307690335477,1.0339548280762145,1.0339548280762145,0.9944813867260767],\"xaxis\":\"x\",\"y\":[-12.5,-12.5,-108.984375,-108.984375],\"yaxis\":\"y\",\"type\":\"scatter\"}],                        {\"autosize\":false,\"height\":545,\"hovermode\":\"closest\",\"showlegend\":false,\"width\":1000,\"xaxis\":{\"mirror\":\"allticks\",\"rangemode\":\"tozero\",\"showgrid\":false,\"showline\":true,\"showticklabels\":true,\"ticks\":\"outside\",\"type\":\"linear\",\"zeroline\":false},\"yaxis\":{\"mirror\":\"allticks\",\"rangemode\":\"tozero\",\"showgrid\":false,\"showline\":true,\"showticklabels\":true,\"tickmode\":\"array\",\"ticks\":\"outside\",\"ticktext\":[\"7_graph_vertex_problem\",\"18_graph_gnn_node\",\"12_network_community_node\",\"15_adversarial_attack_robus...\",\"9_speech_audio_speaker\",\"4_language_model_task\",\"6_image_segmentation_medical\",\"1_image_method_propose\",\"22_brain_snn_spike\",\"16_privacy_datum_private\",\"20_blockchain_transaction_c...\",\"5_logic_language_program\",\"8_student_software_research\",\"13_memory_cloud_application\",\"19_urban_city_travel\",\"0_quantum_field_use\",\"3_robot_control_policy\",\"11_power_grid_energy\",\"2_channel_network_user\",\"10_game_player_equilibrium\",\"14_covid_19_epidemic\",\"21_social_news_medium\",\"17_recommendation_user_item\"],\"tickvals\":[-5.0,-15.0,-25.0,-35.0,-45.0,-55.0,-65.0,-75.0,-85.0,-95.0,-105.0,-115.0,-125.0,-135.0,-145.0,-155.0,-165.0,-175.0,-185.0,-195.0,-205.0,-215.0,-225.0],\"type\":\"linear\",\"zeroline\":false,\"range\":[-230.0,0.0]},\"template\":{\"data\":{\"barpolar\":[{\"marker\":{\"line\":{\"color\":\"white\",\"width\":0.5},\"pattern\":{\"fillmode\":\"overlay\",\"size\":10,\"solidity\":0.2}},\"type\":\"barpolar\"}],\"bar\":[{\"error_x\":{\"color\":\"#2a3f5f\"},\"error_y\":{\"color\":\"#2a3f5f\"},\"marker\":{\"line\":{\"color\":\"white\",\"width\":0.5},\"pattern\":{\"fillmode\":\"overlay\",\"size\":10,\"solidity\":0.2}},\"type\":\"bar\"}],\"carpet\":[{\"aaxis\":{\"endlinecolor\":\"#2a3f5f\",\"gridcolor\":\"#C8D4E3\",\"linecolor\":\"#C8D4E3\",\"minorgridcolor\":\"#C8D4E3\",\"startlinecolor\":\"#2a3f5f\"},\"baxis\":{\"endlinecolor\":\"#2a3f5f\",\"gridcolor\":\"#C8D4E3\",\"linecolor\":\"#C8D4E3\",\"minorgridcolor\":\"#C8D4E3\",\"startlinecolor\":\"#2a3f5f\"},\"type\":\"carpet\"}],\"choropleth\":[{\"colorbar\":{\"outlinewidth\":0,\"ticks\":\"\"},\"type\":\"choropleth\"}],\"contourcarpet\":[{\"colorbar\":{\"outlinewidth\":0,\"ticks\":\"\"},\"type\":\"contourcarpet\"}],\"contour\":[{\"colorbar\":{\"outlinewidth\":0,\"ticks\":\"\"},\"colorscale\":[[0.0,\"#0d0887\"],[0.1111111111111111,\"#46039f\"],[0.2222222222222222,\"#7201a8\"],[0.3333333333333333,\"#9c179e\"],[0.4444444444444444,\"#bd3786\"],[0.5555555555555556,\"#d8576b\"],[0.6666666666666666,\"#ed7953\"],[0.7777777777777778,\"#fb9f3a\"],[0.8888888888888888,\"#fdca26\"],[1.0,\"#f0f921\"]],\"type\":\"contour\"}],\"heatmapgl\":[{\"colorbar\":{\"outlinewidth\":0,\"ticks\":\"\"},\"colorscale\":[[0.0,\"#0d0887\"],[0.1111111111111111,\"#46039f\"],[0.2222222222222222,\"#7201a8\"],[0.3333333333333333,\"#9c179e\"],[0.4444444444444444,\"#bd3786\"],[0.5555555555555556,\"#d8576b\"],[0.6666666666666666,\"#ed7953\"],[0.7777777777777778,\"#fb9f3a\"],[0.8888888888888888,\"#fdca26\"],[1.0,\"#f0f921\"]],\"type\":\"heatmapgl\"}],\"heatmap\":[{\"colorbar\":{\"outlinewidth\":0,\"ticks\":\"\"},\"colorscale\":[[0.0,\"#0d0887\"],[0.1111111111111111,\"#46039f\"],[0.2222222222222222,\"#7201a8\"],[0.3333333333333333,\"#9c179e\"],[0.4444444444444444,\"#bd3786\"],[0.5555555555555556,\"#d8576b\"],[0.6666666666666666,\"#ed7953\"],[0.7777777777777778,\"#fb9f3a\"],[0.8888888888888888,\"#fdca26\"],[1.0,\"#f0f921\"]],\"type\":\"heatmap\"}],\"histogram2dcontour\":[{\"colorbar\":{\"outlinewidth\":0,\"ticks\":\"\"},\"colorscale\":[[0.0,\"#0d0887\"],[0.1111111111111111,\"#46039f\"],[0.2222222222222222,\"#7201a8\"],[0.3333333333333333,\"#9c179e\"],[0.4444444444444444,\"#bd3786\"],[0.5555555555555556,\"#d8576b\"],[0.6666666666666666,\"#ed7953\"],[0.7777777777777778,\"#fb9f3a\"],[0.8888888888888888,\"#fdca26\"],[1.0,\"#f0f921\"]],\"type\":\"histogram2dcontour\"}],\"histogram2d\":[{\"colorbar\":{\"outlinewidth\":0,\"ticks\":\"\"},\"colorscale\":[[0.0,\"#0d0887\"],[0.1111111111111111,\"#46039f\"],[0.2222222222222222,\"#7201a8\"],[0.3333333333333333,\"#9c179e\"],[0.4444444444444444,\"#bd3786\"],[0.5555555555555556,\"#d8576b\"],[0.6666666666666666,\"#ed7953\"],[0.7777777777777778,\"#fb9f3a\"],[0.8888888888888888,\"#fdca26\"],[1.0,\"#f0f921\"]],\"type\":\"histogram2d\"}],\"histogram\":[{\"marker\":{\"pattern\":{\"fillmode\":\"overlay\",\"size\":10,\"solidity\":0.2}},\"type\":\"histogram\"}],\"mesh3d\":[{\"colorbar\":{\"outlinewidth\":0,\"ticks\":\"\"},\"type\":\"mesh3d\"}],\"parcoords\":[{\"line\":{\"colorbar\":{\"outlinewidth\":0,\"ticks\":\"\"}},\"type\":\"parcoords\"}],\"pie\":[{\"automargin\":true,\"type\":\"pie\"}],\"scatter3d\":[{\"line\":{\"colorbar\":{\"outlinewidth\":0,\"ticks\":\"\"}},\"marker\":{\"colorbar\":{\"outlinewidth\":0,\"ticks\":\"\"}},\"type\":\"scatter3d\"}],\"scattercarpet\":[{\"marker\":{\"colorbar\":{\"outlinewidth\":0,\"ticks\":\"\"}},\"type\":\"scattercarpet\"}],\"scattergeo\":[{\"marker\":{\"colorbar\":{\"outlinewidth\":0,\"ticks\":\"\"}},\"type\":\"scattergeo\"}],\"scattergl\":[{\"marker\":{\"colorbar\":{\"outlinewidth\":0,\"ticks\":\"\"}},\"type\":\"scattergl\"}],\"scattermapbox\":[{\"marker\":{\"colorbar\":{\"outlinewidth\":0,\"ticks\":\"\"}},\"type\":\"scattermapbox\"}],\"scatterpolargl\":[{\"marker\":{\"colorbar\":{\"outlinewidth\":0,\"ticks\":\"\"}},\"type\":\"scatterpolargl\"}],\"scatterpolar\":[{\"marker\":{\"colorbar\":{\"outlinewidth\":0,\"ticks\":\"\"}},\"type\":\"scatterpolar\"}],\"scatter\":[{\"fillpattern\":{\"fillmode\":\"overlay\",\"size\":10,\"solidity\":0.2},\"type\":\"scatter\"}],\"scatterternary\":[{\"marker\":{\"colorbar\":{\"outlinewidth\":0,\"ticks\":\"\"}},\"type\":\"scatterternary\"}],\"surface\":[{\"colorbar\":{\"outlinewidth\":0,\"ticks\":\"\"},\"colorscale\":[[0.0,\"#0d0887\"],[0.1111111111111111,\"#46039f\"],[0.2222222222222222,\"#7201a8\"],[0.3333333333333333,\"#9c179e\"],[0.4444444444444444,\"#bd3786\"],[0.5555555555555556,\"#d8576b\"],[0.6666666666666666,\"#ed7953\"],[0.7777777777777778,\"#fb9f3a\"],[0.8888888888888888,\"#fdca26\"],[1.0,\"#f0f921\"]],\"type\":\"surface\"}],\"table\":[{\"cells\":{\"fill\":{\"color\":\"#EBF0F8\"},\"line\":{\"color\":\"white\"}},\"header\":{\"fill\":{\"color\":\"#C8D4E3\"},\"line\":{\"color\":\"white\"}},\"type\":\"table\"}]},\"layout\":{\"annotationdefaults\":{\"arrowcolor\":\"#2a3f5f\",\"arrowhead\":0,\"arrowwidth\":1},\"autotypenumbers\":\"strict\",\"coloraxis\":{\"colorbar\":{\"outlinewidth\":0,\"ticks\":\"\"}},\"colorscale\":{\"diverging\":[[0,\"#8e0152\"],[0.1,\"#c51b7d\"],[0.2,\"#de77ae\"],[0.3,\"#f1b6da\"],[0.4,\"#fde0ef\"],[0.5,\"#f7f7f7\"],[0.6,\"#e6f5d0\"],[0.7,\"#b8e186\"],[0.8,\"#7fbc41\"],[0.9,\"#4d9221\"],[1,\"#276419\"]],\"sequential\":[[0.0,\"#0d0887\"],[0.1111111111111111,\"#46039f\"],[0.2222222222222222,\"#7201a8\"],[0.3333333333333333,\"#9c179e\"],[0.4444444444444444,\"#bd3786\"],[0.5555555555555556,\"#d8576b\"],[0.6666666666666666,\"#ed7953\"],[0.7777777777777778,\"#fb9f3a\"],[0.8888888888888888,\"#fdca26\"],[1.0,\"#f0f921\"]],\"sequentialminus\":[[0.0,\"#0d0887\"],[0.1111111111111111,\"#46039f\"],[0.2222222222222222,\"#7201a8\"],[0.3333333333333333,\"#9c179e\"],[0.4444444444444444,\"#bd3786\"],[0.5555555555555556,\"#d8576b\"],[0.6666666666666666,\"#ed7953\"],[0.7777777777777778,\"#fb9f3a\"],[0.8888888888888888,\"#fdca26\"],[1.0,\"#f0f921\"]]},\"colorway\":[\"#636efa\",\"#EF553B\",\"#00cc96\",\"#ab63fa\",\"#FFA15A\",\"#19d3f3\",\"#FF6692\",\"#B6E880\",\"#FF97FF\",\"#FECB52\"],\"font\":{\"color\":\"#2a3f5f\"},\"geo\":{\"bgcolor\":\"white\",\"lakecolor\":\"white\",\"landcolor\":\"white\",\"showlakes\":true,\"showland\":true,\"subunitcolor\":\"#C8D4E3\"},\"hoverlabel\":{\"align\":\"left\"},\"hovermode\":\"closest\",\"mapbox\":{\"style\":\"light\"},\"paper_bgcolor\":\"white\",\"plot_bgcolor\":\"white\",\"polar\":{\"angularaxis\":{\"gridcolor\":\"#EBF0F8\",\"linecolor\":\"#EBF0F8\",\"ticks\":\"\"},\"bgcolor\":\"white\",\"radialaxis\":{\"gridcolor\":\"#EBF0F8\",\"linecolor\":\"#EBF0F8\",\"ticks\":\"\"}},\"scene\":{\"xaxis\":{\"backgroundcolor\":\"white\",\"gridcolor\":\"#DFE8F3\",\"gridwidth\":2,\"linecolor\":\"#EBF0F8\",\"showbackground\":true,\"ticks\":\"\",\"zerolinecolor\":\"#EBF0F8\"},\"yaxis\":{\"backgroundcolor\":\"white\",\"gridcolor\":\"#DFE8F3\",\"gridwidth\":2,\"linecolor\":\"#EBF0F8\",\"showbackground\":true,\"ticks\":\"\",\"zerolinecolor\":\"#EBF0F8\"},\"zaxis\":{\"backgroundcolor\":\"white\",\"gridcolor\":\"#DFE8F3\",\"gridwidth\":2,\"linecolor\":\"#EBF0F8\",\"showbackground\":true,\"ticks\":\"\",\"zerolinecolor\":\"#EBF0F8\"}},\"shapedefaults\":{\"line\":{\"color\":\"#2a3f5f\"}},\"ternary\":{\"aaxis\":{\"gridcolor\":\"#DFE8F3\",\"linecolor\":\"#A2B1C6\",\"ticks\":\"\"},\"baxis\":{\"gridcolor\":\"#DFE8F3\",\"linecolor\":\"#A2B1C6\",\"ticks\":\"\"},\"bgcolor\":\"white\",\"caxis\":{\"gridcolor\":\"#DFE8F3\",\"linecolor\":\"#A2B1C6\",\"ticks\":\"\"}},\"title\":{\"x\":0.05},\"xaxis\":{\"automargin\":true,\"gridcolor\":\"#EBF0F8\",\"linecolor\":\"#EBF0F8\",\"ticks\":\"\",\"title\":{\"standoff\":15},\"zerolinecolor\":\"#EBF0F8\",\"zerolinewidth\":2},\"yaxis\":{\"automargin\":true,\"gridcolor\":\"#EBF0F8\",\"linecolor\":\"#EBF0F8\",\"ticks\":\"\",\"title\":{\"standoff\":15},\"zerolinecolor\":\"#EBF0F8\",\"zerolinewidth\":2}}},\"title\":{\"font\":{\"size\":22,\"color\":\"Black\"},\"text\":\"<b>Hierarchical Clustering</b>\",\"x\":0.5,\"xanchor\":\"center\",\"yanchor\":\"top\"},\"hoverlabel\":{\"font\":{\"size\":16,\"family\":\"Rockwell\"},\"bgcolor\":\"white\"},\"plot_bgcolor\":\"#ECEFF1\"},                        {\"responsive\": true}                    ).then(function(){\n",
       "                            \n",
       "var gd = document.getElementById('51fc783e-94c8-45c5-9cb6-bf1ac14f15f3');\n",
       "var x = new MutationObserver(function (mutations, observer) {{\n",
       "        var display = window.getComputedStyle(gd).display;\n",
       "        if (!display || display === 'none') {{\n",
       "            console.log([gd, 'removed!']);\n",
       "            Plotly.purge(gd);\n",
       "            observer.disconnect();\n",
       "        }}\n",
       "}});\n",
       "\n",
       "// Listen for the removal of the full notebook cells\n",
       "var notebookContainer = gd.closest('#notebook-container');\n",
       "if (notebookContainer) {{\n",
       "    x.observe(notebookContainer, {childList: true});\n",
       "}}\n",
       "\n",
       "// Listen for the clearing of the current output cell\n",
       "var outputEl = gd.closest('.output');\n",
       "if (outputEl) {{\n",
       "    x.observe(outputEl, {childList: true});\n",
       "}}\n",
       "\n",
       "                        })                };                });            </script>        </div>"
      ]
     },
     "metadata": {},
     "output_type": "display_data"
    }
   ],
   "source": [
    "topic_model5.visualize_hierarchy(width=1000)"
   ]
  },
  {
   "cell_type": "code",
   "execution_count": 43,
   "metadata": {
    "execution": {
     "iopub.execute_input": "2023-06-06T01:55:12.551351Z",
     "iopub.status.busy": "2023-06-06T01:55:12.550975Z",
     "iopub.status.idle": "2023-06-06T01:55:12.622810Z",
     "shell.execute_reply": "2023-06-06T01:55:12.621654Z",
     "shell.execute_reply.started": "2023-06-06T01:55:12.551322Z"
    },
    "id": "JRhMDPH60Spm"
   },
   "outputs": [
    {
     "data": {
      "application/vnd.plotly.v1+json": {
       "config": {
        "plotlyServerURL": "https://plot.ly"
       },
       "data": [
        {
         "coloraxis": "coloraxis",
         "hovertemplate": "x: %{x}<br>y: %{y}<br>Similarity Score: %{z}<extra></extra>",
         "name": "0",
         "type": "heatmap",
         "x": [
          "0_quantum_field_use",
          "1_image_method_propose",
          "2_channel_network_user",
          "3_robot_control_policy",
          "4_language_model_task",
          "5_logic_language_program",
          "6_image_segmentation_medical",
          "7_graph_vertex_problem",
          "8_student_software_research",
          "9_speech_audio_speaker",
          "10_game_player_equilibrium",
          "11_power_grid_energy",
          "12_network_community_node",
          "13_memory_cloud_application",
          "14_covid_19_epidemic",
          "15_adversarial_attack_robus...",
          "16_privacy_datum_private",
          "17_recommendation_user_item",
          "18_graph_gnn_node",
          "19_urban_city_travel",
          "20_blockchain_transaction_c...",
          "21_social_news_medium",
          "22_brain_snn_spike"
         ],
         "xaxis": "x",
         "y": [
          "0_quantum_field_use",
          "1_image_method_propose",
          "2_channel_network_user",
          "3_robot_control_policy",
          "4_language_model_task",
          "5_logic_language_program",
          "6_image_segmentation_medical",
          "7_graph_vertex_problem",
          "8_student_software_research",
          "9_speech_audio_speaker",
          "10_game_player_equilibrium",
          "11_power_grid_energy",
          "12_network_community_node",
          "13_memory_cloud_application",
          "14_covid_19_epidemic",
          "15_adversarial_attack_robus...",
          "16_privacy_datum_private",
          "17_recommendation_user_item",
          "18_graph_gnn_node",
          "19_urban_city_travel",
          "20_blockchain_transaction_c...",
          "21_social_news_medium",
          "22_brain_snn_spike"
         ],
         "yaxis": "y",
         "z": [
          [
           0.9999998,
           0.5020541,
           0.47237504,
           0.47954932,
           0.35818726,
           0.48282683,
           0.39467907,
           0.3406982,
           0.46520534,
           0.35695538,
           0.39023823,
           0.44828787,
           0.46751207,
           0.48256606,
           0.39274007,
           0.27708232,
           0.3398727,
           0.32520986,
           0.3423241,
           0.36828053,
           0.3848822,
           0.2522327,
           0.51438713
          ],
          [
           0.5020541,
           1.0000001,
           0.49148795,
           0.683708,
           0.6490473,
           0.46642312,
           0.80990344,
           0.34847102,
           0.50110245,
           0.6724408,
           0.3797256,
           0.467692,
           0.46236992,
           0.53329265,
           0.36202106,
           0.7470315,
           0.52738464,
           0.5590385,
           0.69450647,
           0.49416596,
           0.36568806,
           0.40094513,
           0.6590033
          ],
          [
           0.47237504,
           0.49148795,
           1.0000001,
           0.50407356,
           0.35172507,
           0.48088977,
           0.2995435,
           0.45309478,
           0.4269964,
           0.40612334,
           0.517484,
           0.6077604,
           0.57360536,
           0.5962193,
           0.38459685,
           0.3661077,
           0.50194854,
           0.3889152,
           0.4380613,
           0.5814928,
           0.49352217,
           0.31977278,
           0.4245784
          ],
          [
           0.47954932,
           0.683708,
           0.50407356,
           1.0000001,
           0.5148198,
           0.5739614,
           0.4605295,
           0.3557326,
           0.51573205,
           0.43743956,
           0.6157936,
           0.57346666,
           0.44405538,
           0.47986302,
           0.42663875,
           0.5027066,
           0.4711362,
           0.47470033,
           0.48688293,
           0.6354454,
           0.41152063,
           0.31796652,
           0.5592576
          ],
          [
           0.35818726,
           0.6490473,
           0.35172507,
           0.5148198,
           1.0000002,
           0.58979535,
           0.45312396,
           0.24725983,
           0.6631367,
           0.70148164,
           0.3719447,
           0.3716149,
           0.3789128,
           0.4575436,
           0.37962735,
           0.50138193,
           0.43228117,
           0.61182886,
           0.549168,
           0.44445542,
           0.34975472,
           0.6252424,
           0.50388986
          ],
          [
           0.48282683,
           0.46642312,
           0.48088977,
           0.5739614,
           0.58979535,
           0.9999995,
           0.28023237,
           0.5168369,
           0.61758614,
           0.36268663,
           0.5789883,
           0.44916928,
           0.47654903,
           0.58252335,
           0.37014028,
           0.34252742,
           0.4967014,
           0.39092115,
           0.38770214,
           0.50877935,
           0.5356661,
           0.3744536,
           0.39408565
          ],
          [
           0.39467907,
           0.80990344,
           0.2995435,
           0.4605295,
           0.45312396,
           0.28023237,
           1.0000004,
           0.19503121,
           0.3649674,
           0.5160526,
           0.17390059,
           0.26303902,
           0.31593,
           0.37753037,
           0.35474262,
           0.59337795,
           0.3460311,
           0.37141094,
           0.51319385,
           0.29397377,
           0.23981065,
           0.2667557,
           0.5956377
          ],
          [
           0.3406982,
           0.34847102,
           0.45309478,
           0.3557326,
           0.24725983,
           0.5168369,
           0.19503121,
           0.9999996,
           0.27595764,
           0.1685738,
           0.50663406,
           0.32861575,
           0.61108774,
           0.38699907,
           0.22358157,
           0.19015443,
           0.33412722,
           0.26981866,
           0.56856495,
           0.41284823,
           0.33062592,
           0.17507863,
           0.25993577
          ],
          [
           0.46520534,
           0.50110245,
           0.4269964,
           0.51573205,
           0.6631367,
           0.61758614,
           0.3649674,
           0.27595764,
           1.0000001,
           0.40938422,
           0.5425437,
           0.47968945,
           0.5303626,
           0.60159206,
           0.5179135,
           0.35224408,
           0.49788144,
           0.60467106,
           0.403647,
           0.5748342,
           0.60900956,
           0.6948727,
           0.43454108
          ],
          [
           0.35695538,
           0.6724408,
           0.40612334,
           0.43743956,
           0.70148164,
           0.36268663,
           0.5160526,
           0.1685738,
           0.40938422,
           1.0000002,
           0.226731,
           0.31688517,
           0.29234922,
           0.37660274,
           0.27392057,
           0.5296588,
           0.37816882,
           0.47032866,
           0.49716097,
           0.33724573,
           0.24634653,
           0.3771112,
           0.5252428
          ],
          [
           0.39023823,
           0.3797256,
           0.517484,
           0.6157936,
           0.3719447,
           0.5789883,
           0.17390059,
           0.50663406,
           0.5425437,
           0.226731,
           1.0000001,
           0.5326945,
           0.5728821,
           0.44716153,
           0.47242218,
           0.3192981,
           0.5105057,
           0.47781122,
           0.35298476,
           0.6291585,
           0.57808816,
           0.42460385,
           0.37577215
          ],
          [
           0.44828787,
           0.467692,
           0.6077604,
           0.57346666,
           0.3716149,
           0.44916928,
           0.26303902,
           0.32861575,
           0.47968945,
           0.31688517,
           0.5326945,
           0.9999999,
           0.49818704,
           0.5660499,
           0.46687505,
           0.35950884,
           0.44008243,
           0.38993552,
           0.38803145,
           0.63591725,
           0.5103896,
           0.3450508,
           0.39217192
          ],
          [
           0.46751207,
           0.46236992,
           0.57360536,
           0.44405538,
           0.3789128,
           0.47654903,
           0.31593,
           0.61108774,
           0.5303626,
           0.29234922,
           0.5728821,
           0.49818704,
           0.9999996,
           0.45989892,
           0.5151742,
           0.33419725,
           0.44322145,
           0.4523303,
           0.7029832,
           0.5961233,
           0.48381448,
           0.5109892,
           0.5403268
          ],
          [
           0.48256606,
           0.53329265,
           0.5962193,
           0.47986302,
           0.4575436,
           0.58252335,
           0.37753037,
           0.38699907,
           0.60159206,
           0.37660274,
           0.44716153,
           0.5660499,
           0.45989892,
           1,
           0.3938681,
           0.38184935,
           0.52753454,
           0.44497743,
           0.43371445,
           0.5189196,
           0.63324046,
           0.40446708,
           0.41277474
          ],
          [
           0.39274007,
           0.36202106,
           0.38459685,
           0.42663875,
           0.37962735,
           0.37014028,
           0.35474262,
           0.22358157,
           0.5179135,
           0.27392057,
           0.47242218,
           0.46687505,
           0.5151742,
           0.3938681,
           1.0000005,
           0.34709188,
           0.4099881,
           0.3908799,
           0.2924787,
           0.5520349,
           0.41786024,
           0.5572396,
           0.37067813
          ],
          [
           0.27708232,
           0.7470315,
           0.3661077,
           0.5027066,
           0.50138193,
           0.34252742,
           0.59337795,
           0.19015443,
           0.35224408,
           0.5296588,
           0.3192981,
           0.35950884,
           0.33419725,
           0.38184935,
           0.34709188,
           1.0000002,
           0.5797704,
           0.41203347,
           0.5722899,
           0.3115685,
           0.39151204,
           0.39183304,
           0.4790382
          ],
          [
           0.3398727,
           0.52738464,
           0.50194854,
           0.4711362,
           0.43228117,
           0.4967014,
           0.3460311,
           0.33412722,
           0.49788144,
           0.37816882,
           0.5105057,
           0.44008243,
           0.44322145,
           0.52753454,
           0.4099881,
           0.5797704,
           1,
           0.5250161,
           0.44133997,
           0.47335538,
           0.61348176,
           0.48435688,
           0.40353844
          ],
          [
           0.32520986,
           0.5590385,
           0.3889152,
           0.47470033,
           0.61182886,
           0.39092115,
           0.37141094,
           0.26981866,
           0.60467106,
           0.47032866,
           0.47781122,
           0.38993552,
           0.4523303,
           0.44497743,
           0.3908799,
           0.41203347,
           0.5250161,
           0.9999999,
           0.5290524,
           0.5193894,
           0.43191513,
           0.6032966,
           0.4020826
          ],
          [
           0.3423241,
           0.69450647,
           0.4380613,
           0.48688293,
           0.549168,
           0.38770214,
           0.51319385,
           0.56856495,
           0.403647,
           0.49716097,
           0.35298476,
           0.38803145,
           0.7029832,
           0.43371445,
           0.2924787,
           0.5722899,
           0.44133997,
           0.5290524,
           0.9999996,
           0.4176486,
           0.33321932,
           0.40597934,
           0.56054914
          ],
          [
           0.36828053,
           0.49416596,
           0.5814928,
           0.6354454,
           0.44445542,
           0.50877935,
           0.29397377,
           0.41284823,
           0.5748342,
           0.33724573,
           0.6291585,
           0.63591725,
           0.5961233,
           0.5189196,
           0.5520349,
           0.3115685,
           0.47335538,
           0.5193894,
           0.4176486,
           0.9999996,
           0.50197345,
           0.47218913,
           0.4068062
          ],
          [
           0.3848822,
           0.36568806,
           0.49352217,
           0.41152063,
           0.34975472,
           0.5356661,
           0.23981065,
           0.33062592,
           0.60900956,
           0.24634653,
           0.57808816,
           0.5103896,
           0.48381448,
           0.63324046,
           0.41786024,
           0.39151204,
           0.61348176,
           0.43191513,
           0.33321932,
           0.50197345,
           1,
           0.50654376,
           0.30243456
          ],
          [
           0.2522327,
           0.40094513,
           0.31977278,
           0.31796652,
           0.6252424,
           0.3744536,
           0.2667557,
           0.17507863,
           0.6948727,
           0.3771112,
           0.42460385,
           0.3450508,
           0.5109892,
           0.40446708,
           0.5572396,
           0.39183304,
           0.48435688,
           0.6032966,
           0.40597934,
           0.47218913,
           0.50654376,
           1.0000005,
           0.35670575
          ],
          [
           0.51438713,
           0.6590033,
           0.4245784,
           0.5592576,
           0.50388986,
           0.39408565,
           0.5956377,
           0.25993577,
           0.43454108,
           0.5252428,
           0.37577215,
           0.39217192,
           0.5403268,
           0.41277474,
           0.37067813,
           0.4790382,
           0.40353844,
           0.4020826,
           0.56054914,
           0.4068062,
           0.30243456,
           0.35670575,
           0.99999976
          ]
         ]
        }
       ],
       "layout": {
        "coloraxis": {
         "colorbar": {
          "title": {
           "text": "Similarity Score"
          }
         },
         "colorscale": [
          [
           0,
           "rgb(247,252,240)"
          ],
          [
           0.125,
           "rgb(224,243,219)"
          ],
          [
           0.25,
           "rgb(204,235,197)"
          ],
          [
           0.375,
           "rgb(168,221,181)"
          ],
          [
           0.5,
           "rgb(123,204,196)"
          ],
          [
           0.625,
           "rgb(78,179,211)"
          ],
          [
           0.75,
           "rgb(43,140,190)"
          ],
          [
           0.875,
           "rgb(8,104,172)"
          ],
          [
           1,
           "rgb(8,64,129)"
          ]
         ]
        },
        "height": 800,
        "hoverlabel": {
         "bgcolor": "white",
         "font": {
          "family": "Rockwell",
          "size": 16
         }
        },
        "legend": {
         "title": {
          "text": "Trend"
         }
        },
        "margin": {
         "t": 60
        },
        "showlegend": true,
        "template": {
         "data": {
          "bar": [
           {
            "error_x": {
             "color": "#2a3f5f"
            },
            "error_y": {
             "color": "#2a3f5f"
            },
            "marker": {
             "line": {
              "color": "#E5ECF6",
              "width": 0.5
             },
             "pattern": {
              "fillmode": "overlay",
              "size": 10,
              "solidity": 0.2
             }
            },
            "type": "bar"
           }
          ],
          "barpolar": [
           {
            "marker": {
             "line": {
              "color": "#E5ECF6",
              "width": 0.5
             },
             "pattern": {
              "fillmode": "overlay",
              "size": 10,
              "solidity": 0.2
             }
            },
            "type": "barpolar"
           }
          ],
          "carpet": [
           {
            "aaxis": {
             "endlinecolor": "#2a3f5f",
             "gridcolor": "white",
             "linecolor": "white",
             "minorgridcolor": "white",
             "startlinecolor": "#2a3f5f"
            },
            "baxis": {
             "endlinecolor": "#2a3f5f",
             "gridcolor": "white",
             "linecolor": "white",
             "minorgridcolor": "white",
             "startlinecolor": "#2a3f5f"
            },
            "type": "carpet"
           }
          ],
          "choropleth": [
           {
            "colorbar": {
             "outlinewidth": 0,
             "ticks": ""
            },
            "type": "choropleth"
           }
          ],
          "contour": [
           {
            "colorbar": {
             "outlinewidth": 0,
             "ticks": ""
            },
            "colorscale": [
             [
              0,
              "#0d0887"
             ],
             [
              0.1111111111111111,
              "#46039f"
             ],
             [
              0.2222222222222222,
              "#7201a8"
             ],
             [
              0.3333333333333333,
              "#9c179e"
             ],
             [
              0.4444444444444444,
              "#bd3786"
             ],
             [
              0.5555555555555556,
              "#d8576b"
             ],
             [
              0.6666666666666666,
              "#ed7953"
             ],
             [
              0.7777777777777778,
              "#fb9f3a"
             ],
             [
              0.8888888888888888,
              "#fdca26"
             ],
             [
              1,
              "#f0f921"
             ]
            ],
            "type": "contour"
           }
          ],
          "contourcarpet": [
           {
            "colorbar": {
             "outlinewidth": 0,
             "ticks": ""
            },
            "type": "contourcarpet"
           }
          ],
          "heatmap": [
           {
            "colorbar": {
             "outlinewidth": 0,
             "ticks": ""
            },
            "colorscale": [
             [
              0,
              "#0d0887"
             ],
             [
              0.1111111111111111,
              "#46039f"
             ],
             [
              0.2222222222222222,
              "#7201a8"
             ],
             [
              0.3333333333333333,
              "#9c179e"
             ],
             [
              0.4444444444444444,
              "#bd3786"
             ],
             [
              0.5555555555555556,
              "#d8576b"
             ],
             [
              0.6666666666666666,
              "#ed7953"
             ],
             [
              0.7777777777777778,
              "#fb9f3a"
             ],
             [
              0.8888888888888888,
              "#fdca26"
             ],
             [
              1,
              "#f0f921"
             ]
            ],
            "type": "heatmap"
           }
          ],
          "heatmapgl": [
           {
            "colorbar": {
             "outlinewidth": 0,
             "ticks": ""
            },
            "colorscale": [
             [
              0,
              "#0d0887"
             ],
             [
              0.1111111111111111,
              "#46039f"
             ],
             [
              0.2222222222222222,
              "#7201a8"
             ],
             [
              0.3333333333333333,
              "#9c179e"
             ],
             [
              0.4444444444444444,
              "#bd3786"
             ],
             [
              0.5555555555555556,
              "#d8576b"
             ],
             [
              0.6666666666666666,
              "#ed7953"
             ],
             [
              0.7777777777777778,
              "#fb9f3a"
             ],
             [
              0.8888888888888888,
              "#fdca26"
             ],
             [
              1,
              "#f0f921"
             ]
            ],
            "type": "heatmapgl"
           }
          ],
          "histogram": [
           {
            "marker": {
             "pattern": {
              "fillmode": "overlay",
              "size": 10,
              "solidity": 0.2
             }
            },
            "type": "histogram"
           }
          ],
          "histogram2d": [
           {
            "colorbar": {
             "outlinewidth": 0,
             "ticks": ""
            },
            "colorscale": [
             [
              0,
              "#0d0887"
             ],
             [
              0.1111111111111111,
              "#46039f"
             ],
             [
              0.2222222222222222,
              "#7201a8"
             ],
             [
              0.3333333333333333,
              "#9c179e"
             ],
             [
              0.4444444444444444,
              "#bd3786"
             ],
             [
              0.5555555555555556,
              "#d8576b"
             ],
             [
              0.6666666666666666,
              "#ed7953"
             ],
             [
              0.7777777777777778,
              "#fb9f3a"
             ],
             [
              0.8888888888888888,
              "#fdca26"
             ],
             [
              1,
              "#f0f921"
             ]
            ],
            "type": "histogram2d"
           }
          ],
          "histogram2dcontour": [
           {
            "colorbar": {
             "outlinewidth": 0,
             "ticks": ""
            },
            "colorscale": [
             [
              0,
              "#0d0887"
             ],
             [
              0.1111111111111111,
              "#46039f"
             ],
             [
              0.2222222222222222,
              "#7201a8"
             ],
             [
              0.3333333333333333,
              "#9c179e"
             ],
             [
              0.4444444444444444,
              "#bd3786"
             ],
             [
              0.5555555555555556,
              "#d8576b"
             ],
             [
              0.6666666666666666,
              "#ed7953"
             ],
             [
              0.7777777777777778,
              "#fb9f3a"
             ],
             [
              0.8888888888888888,
              "#fdca26"
             ],
             [
              1,
              "#f0f921"
             ]
            ],
            "type": "histogram2dcontour"
           }
          ],
          "mesh3d": [
           {
            "colorbar": {
             "outlinewidth": 0,
             "ticks": ""
            },
            "type": "mesh3d"
           }
          ],
          "parcoords": [
           {
            "line": {
             "colorbar": {
              "outlinewidth": 0,
              "ticks": ""
             }
            },
            "type": "parcoords"
           }
          ],
          "pie": [
           {
            "automargin": true,
            "type": "pie"
           }
          ],
          "scatter": [
           {
            "fillpattern": {
             "fillmode": "overlay",
             "size": 10,
             "solidity": 0.2
            },
            "type": "scatter"
           }
          ],
          "scatter3d": [
           {
            "line": {
             "colorbar": {
              "outlinewidth": 0,
              "ticks": ""
             }
            },
            "marker": {
             "colorbar": {
              "outlinewidth": 0,
              "ticks": ""
             }
            },
            "type": "scatter3d"
           }
          ],
          "scattercarpet": [
           {
            "marker": {
             "colorbar": {
              "outlinewidth": 0,
              "ticks": ""
             }
            },
            "type": "scattercarpet"
           }
          ],
          "scattergeo": [
           {
            "marker": {
             "colorbar": {
              "outlinewidth": 0,
              "ticks": ""
             }
            },
            "type": "scattergeo"
           }
          ],
          "scattergl": [
           {
            "marker": {
             "colorbar": {
              "outlinewidth": 0,
              "ticks": ""
             }
            },
            "type": "scattergl"
           }
          ],
          "scattermapbox": [
           {
            "marker": {
             "colorbar": {
              "outlinewidth": 0,
              "ticks": ""
             }
            },
            "type": "scattermapbox"
           }
          ],
          "scatterpolar": [
           {
            "marker": {
             "colorbar": {
              "outlinewidth": 0,
              "ticks": ""
             }
            },
            "type": "scatterpolar"
           }
          ],
          "scatterpolargl": [
           {
            "marker": {
             "colorbar": {
              "outlinewidth": 0,
              "ticks": ""
             }
            },
            "type": "scatterpolargl"
           }
          ],
          "scatterternary": [
           {
            "marker": {
             "colorbar": {
              "outlinewidth": 0,
              "ticks": ""
             }
            },
            "type": "scatterternary"
           }
          ],
          "surface": [
           {
            "colorbar": {
             "outlinewidth": 0,
             "ticks": ""
            },
            "colorscale": [
             [
              0,
              "#0d0887"
             ],
             [
              0.1111111111111111,
              "#46039f"
             ],
             [
              0.2222222222222222,
              "#7201a8"
             ],
             [
              0.3333333333333333,
              "#9c179e"
             ],
             [
              0.4444444444444444,
              "#bd3786"
             ],
             [
              0.5555555555555556,
              "#d8576b"
             ],
             [
              0.6666666666666666,
              "#ed7953"
             ],
             [
              0.7777777777777778,
              "#fb9f3a"
             ],
             [
              0.8888888888888888,
              "#fdca26"
             ],
             [
              1,
              "#f0f921"
             ]
            ],
            "type": "surface"
           }
          ],
          "table": [
           {
            "cells": {
             "fill": {
              "color": "#EBF0F8"
             },
             "line": {
              "color": "white"
             }
            },
            "header": {
             "fill": {
              "color": "#C8D4E3"
             },
             "line": {
              "color": "white"
             }
            },
            "type": "table"
           }
          ]
         },
         "layout": {
          "annotationdefaults": {
           "arrowcolor": "#2a3f5f",
           "arrowhead": 0,
           "arrowwidth": 1
          },
          "autotypenumbers": "strict",
          "coloraxis": {
           "colorbar": {
            "outlinewidth": 0,
            "ticks": ""
           }
          },
          "colorscale": {
           "diverging": [
            [
             0,
             "#8e0152"
            ],
            [
             0.1,
             "#c51b7d"
            ],
            [
             0.2,
             "#de77ae"
            ],
            [
             0.3,
             "#f1b6da"
            ],
            [
             0.4,
             "#fde0ef"
            ],
            [
             0.5,
             "#f7f7f7"
            ],
            [
             0.6,
             "#e6f5d0"
            ],
            [
             0.7,
             "#b8e186"
            ],
            [
             0.8,
             "#7fbc41"
            ],
            [
             0.9,
             "#4d9221"
            ],
            [
             1,
             "#276419"
            ]
           ],
           "sequential": [
            [
             0,
             "#0d0887"
            ],
            [
             0.1111111111111111,
             "#46039f"
            ],
            [
             0.2222222222222222,
             "#7201a8"
            ],
            [
             0.3333333333333333,
             "#9c179e"
            ],
            [
             0.4444444444444444,
             "#bd3786"
            ],
            [
             0.5555555555555556,
             "#d8576b"
            ],
            [
             0.6666666666666666,
             "#ed7953"
            ],
            [
             0.7777777777777778,
             "#fb9f3a"
            ],
            [
             0.8888888888888888,
             "#fdca26"
            ],
            [
             1,
             "#f0f921"
            ]
           ],
           "sequentialminus": [
            [
             0,
             "#0d0887"
            ],
            [
             0.1111111111111111,
             "#46039f"
            ],
            [
             0.2222222222222222,
             "#7201a8"
            ],
            [
             0.3333333333333333,
             "#9c179e"
            ],
            [
             0.4444444444444444,
             "#bd3786"
            ],
            [
             0.5555555555555556,
             "#d8576b"
            ],
            [
             0.6666666666666666,
             "#ed7953"
            ],
            [
             0.7777777777777778,
             "#fb9f3a"
            ],
            [
             0.8888888888888888,
             "#fdca26"
            ],
            [
             1,
             "#f0f921"
            ]
           ]
          },
          "colorway": [
           "#636efa",
           "#EF553B",
           "#00cc96",
           "#ab63fa",
           "#FFA15A",
           "#19d3f3",
           "#FF6692",
           "#B6E880",
           "#FF97FF",
           "#FECB52"
          ],
          "font": {
           "color": "#2a3f5f"
          },
          "geo": {
           "bgcolor": "white",
           "lakecolor": "white",
           "landcolor": "#E5ECF6",
           "showlakes": true,
           "showland": true,
           "subunitcolor": "white"
          },
          "hoverlabel": {
           "align": "left"
          },
          "hovermode": "closest",
          "mapbox": {
           "style": "light"
          },
          "paper_bgcolor": "white",
          "plot_bgcolor": "#E5ECF6",
          "polar": {
           "angularaxis": {
            "gridcolor": "white",
            "linecolor": "white",
            "ticks": ""
           },
           "bgcolor": "#E5ECF6",
           "radialaxis": {
            "gridcolor": "white",
            "linecolor": "white",
            "ticks": ""
           }
          },
          "scene": {
           "xaxis": {
            "backgroundcolor": "#E5ECF6",
            "gridcolor": "white",
            "gridwidth": 2,
            "linecolor": "white",
            "showbackground": true,
            "ticks": "",
            "zerolinecolor": "white"
           },
           "yaxis": {
            "backgroundcolor": "#E5ECF6",
            "gridcolor": "white",
            "gridwidth": 2,
            "linecolor": "white",
            "showbackground": true,
            "ticks": "",
            "zerolinecolor": "white"
           },
           "zaxis": {
            "backgroundcolor": "#E5ECF6",
            "gridcolor": "white",
            "gridwidth": 2,
            "linecolor": "white",
            "showbackground": true,
            "ticks": "",
            "zerolinecolor": "white"
           }
          },
          "shapedefaults": {
           "line": {
            "color": "#2a3f5f"
           }
          },
          "ternary": {
           "aaxis": {
            "gridcolor": "white",
            "linecolor": "white",
            "ticks": ""
           },
           "baxis": {
            "gridcolor": "white",
            "linecolor": "white",
            "ticks": ""
           },
           "bgcolor": "#E5ECF6",
           "caxis": {
            "gridcolor": "white",
            "linecolor": "white",
            "ticks": ""
           }
          },
          "title": {
           "x": 0.05
          },
          "xaxis": {
           "automargin": true,
           "gridcolor": "white",
           "linecolor": "white",
           "ticks": "",
           "title": {
            "standoff": 15
           },
           "zerolinecolor": "white",
           "zerolinewidth": 2
          },
          "yaxis": {
           "automargin": true,
           "gridcolor": "white",
           "linecolor": "white",
           "ticks": "",
           "title": {
            "standoff": 15
           },
           "zerolinecolor": "white",
           "zerolinewidth": 2
          }
         }
        },
        "title": {
         "font": {
          "color": "Black",
          "size": 22
         },
         "text": "<b>Similarity Matrix</b>",
         "x": 0.55,
         "xanchor": "center",
         "y": 0.95,
         "yanchor": "top"
        },
        "width": 800,
        "xaxis": {
         "anchor": "y",
         "autorange": true,
         "constrain": "domain",
         "domain": [
          0,
          1
         ],
         "range": [
          -0.5,
          22.5
         ],
         "scaleanchor": "y",
         "type": "category"
        },
        "yaxis": {
         "anchor": "x",
         "autorange": true,
         "constrain": "domain",
         "domain": [
          0.10016556291390732,
          0.8998344370860927
         ],
         "range": [
          22.5,
          -0.5
         ],
         "type": "category"
        }
       }
      },
      "image/png": "[encoded data removed]",
      "text/html": [
       "<div>                            <div id=\"31d25daf-2941-45a2-a847-7d8cca0e2b7a\" class=\"plotly-graph-div\" style=\"height:800px; width:800px;\"></div>            <script type=\"text/javascript\">                require([\"plotly\"], function(Plotly) {                    window.PLOTLYENV=window.PLOTLYENV || {};                                    if (document.getElementById(\"31d25daf-2941-45a2-a847-7d8cca0e2b7a\")) {                    Plotly.newPlot(                        \"31d25daf-2941-45a2-a847-7d8cca0e2b7a\",                        [{\"coloraxis\":\"coloraxis\",\"name\":\"0\",\"x\":[\"0_quantum_field_use\",\"1_image_method_propose\",\"2_channel_network_user\",\"3_robot_control_policy\",\"4_language_model_task\",\"5_logic_language_program\",\"6_image_segmentation_medical\",\"7_graph_vertex_problem\",\"8_student_software_research\",\"9_speech_audio_speaker\",\"10_game_player_equilibrium\",\"11_power_grid_energy\",\"12_network_community_node\",\"13_memory_cloud_application\",\"14_covid_19_epidemic\",\"15_adversarial_attack_robus...\",\"16_privacy_datum_private\",\"17_recommendation_user_item\",\"18_graph_gnn_node\",\"19_urban_city_travel\",\"20_blockchain_transaction_c...\",\"21_social_news_medium\",\"22_brain_snn_spike\"],\"y\":[\"0_quantum_field_use\",\"1_image_method_propose\",\"2_channel_network_user\",\"3_robot_control_policy\",\"4_language_model_task\",\"5_logic_language_program\",\"6_image_segmentation_medical\",\"7_graph_vertex_problem\",\"8_student_software_research\",\"9_speech_audio_speaker\",\"10_game_player_equilibrium\",\"11_power_grid_energy\",\"12_network_community_node\",\"13_memory_cloud_application\",\"14_covid_19_epidemic\",\"15_adversarial_attack_robus...\",\"16_privacy_datum_private\",\"17_recommendation_user_item\",\"18_graph_gnn_node\",\"19_urban_city_travel\",\"20_blockchain_transaction_c...\",\"21_social_news_medium\",\"22_brain_snn_spike\"],\"z\":[[0.9999998,0.5020541,0.47237504,0.47954932,0.35818726,0.48282683,0.39467907,0.3406982,0.46520534,0.35695538,0.39023823,0.44828787,0.46751207,0.48256606,0.39274007,0.27708232,0.3398727,0.32520986,0.3423241,0.36828053,0.3848822,0.2522327,0.51438713],[0.5020541,1.0000001,0.49148795,0.683708,0.6490473,0.46642312,0.80990344,0.34847102,0.50110245,0.6724408,0.3797256,0.467692,0.46236992,0.53329265,0.36202106,0.7470315,0.52738464,0.5590385,0.69450647,0.49416596,0.36568806,0.40094513,0.6590033],[0.47237504,0.49148795,1.0000001,0.50407356,0.35172507,0.48088977,0.2995435,0.45309478,0.4269964,0.40612334,0.517484,0.6077604,0.57360536,0.5962193,0.38459685,0.3661077,0.50194854,0.3889152,0.4380613,0.5814928,0.49352217,0.31977278,0.4245784],[0.47954932,0.683708,0.50407356,1.0000001,0.5148198,0.5739614,0.4605295,0.3557326,0.51573205,0.43743956,0.6157936,0.57346666,0.44405538,0.47986302,0.42663875,0.5027066,0.4711362,0.47470033,0.48688293,0.6354454,0.41152063,0.31796652,0.5592576],[0.35818726,0.6490473,0.35172507,0.5148198,1.0000002,0.58979535,0.45312396,0.24725983,0.6631367,0.70148164,0.3719447,0.3716149,0.3789128,0.4575436,0.37962735,0.50138193,0.43228117,0.61182886,0.549168,0.44445542,0.34975472,0.6252424,0.50388986],[0.48282683,0.46642312,0.48088977,0.5739614,0.58979535,0.9999995,0.28023237,0.5168369,0.61758614,0.36268663,0.5789883,0.44916928,0.47654903,0.58252335,0.37014028,0.34252742,0.4967014,0.39092115,0.38770214,0.50877935,0.5356661,0.3744536,0.39408565],[0.39467907,0.80990344,0.2995435,0.4605295,0.45312396,0.28023237,1.0000004,0.19503121,0.3649674,0.5160526,0.17390059,0.26303902,0.31593,0.37753037,0.35474262,0.59337795,0.3460311,0.37141094,0.51319385,0.29397377,0.23981065,0.2667557,0.5956377],[0.3406982,0.34847102,0.45309478,0.3557326,0.24725983,0.5168369,0.19503121,0.9999996,0.27595764,0.1685738,0.50663406,0.32861575,0.61108774,0.38699907,0.22358157,0.19015443,0.33412722,0.26981866,0.56856495,0.41284823,0.33062592,0.17507863,0.25993577],[0.46520534,0.50110245,0.4269964,0.51573205,0.6631367,0.61758614,0.3649674,0.27595764,1.0000001,0.40938422,0.5425437,0.47968945,0.5303626,0.60159206,0.5179135,0.35224408,0.49788144,0.60467106,0.403647,0.5748342,0.60900956,0.6948727,0.43454108],[0.35695538,0.6724408,0.40612334,0.43743956,0.70148164,0.36268663,0.5160526,0.1685738,0.40938422,1.0000002,0.226731,0.31688517,0.29234922,0.37660274,0.27392057,0.5296588,0.37816882,0.47032866,0.49716097,0.33724573,0.24634653,0.3771112,0.5252428],[0.39023823,0.3797256,0.517484,0.6157936,0.3719447,0.5789883,0.17390059,0.50663406,0.5425437,0.226731,1.0000001,0.5326945,0.5728821,0.44716153,0.47242218,0.3192981,0.5105057,0.47781122,0.35298476,0.6291585,0.57808816,0.42460385,0.37577215],[0.44828787,0.467692,0.6077604,0.57346666,0.3716149,0.44916928,0.26303902,0.32861575,0.47968945,0.31688517,0.5326945,0.9999999,0.49818704,0.5660499,0.46687505,0.35950884,0.44008243,0.38993552,0.38803145,0.63591725,0.5103896,0.3450508,0.39217192],[0.46751207,0.46236992,0.57360536,0.44405538,0.3789128,0.47654903,0.31593,0.61108774,0.5303626,0.29234922,0.5728821,0.49818704,0.9999996,0.45989892,0.5151742,0.33419725,0.44322145,0.4523303,0.7029832,0.5961233,0.48381448,0.5109892,0.5403268],[0.48256606,0.53329265,0.5962193,0.47986302,0.4575436,0.58252335,0.37753037,0.38699907,0.60159206,0.37660274,0.44716153,0.5660499,0.45989892,1.0,0.3938681,0.38184935,0.52753454,0.44497743,0.43371445,0.5189196,0.63324046,0.40446708,0.41277474],[0.39274007,0.36202106,0.38459685,0.42663875,0.37962735,0.37014028,0.35474262,0.22358157,0.5179135,0.27392057,0.47242218,0.46687505,0.5151742,0.3938681,1.0000005,0.34709188,0.4099881,0.3908799,0.2924787,0.5520349,0.41786024,0.5572396,0.37067813],[0.27708232,0.7470315,0.3661077,0.5027066,0.50138193,0.34252742,0.59337795,0.19015443,0.35224408,0.5296588,0.3192981,0.35950884,0.33419725,0.38184935,0.34709188,1.0000002,0.5797704,0.41203347,0.5722899,0.3115685,0.39151204,0.39183304,0.4790382],[0.3398727,0.52738464,0.50194854,0.4711362,0.43228117,0.4967014,0.3460311,0.33412722,0.49788144,0.37816882,0.5105057,0.44008243,0.44322145,0.52753454,0.4099881,0.5797704,1.0,0.5250161,0.44133997,0.47335538,0.61348176,0.48435688,0.40353844],[0.32520986,0.5590385,0.3889152,0.47470033,0.61182886,0.39092115,0.37141094,0.26981866,0.60467106,0.47032866,0.47781122,0.38993552,0.4523303,0.44497743,0.3908799,0.41203347,0.5250161,0.9999999,0.5290524,0.5193894,0.43191513,0.6032966,0.4020826],[0.3423241,0.69450647,0.4380613,0.48688293,0.549168,0.38770214,0.51319385,0.56856495,0.403647,0.49716097,0.35298476,0.38803145,0.7029832,0.43371445,0.2924787,0.5722899,0.44133997,0.5290524,0.9999996,0.4176486,0.33321932,0.40597934,0.56054914],[0.36828053,0.49416596,0.5814928,0.6354454,0.44445542,0.50877935,0.29397377,0.41284823,0.5748342,0.33724573,0.6291585,0.63591725,0.5961233,0.5189196,0.5520349,0.3115685,0.47335538,0.5193894,0.4176486,0.9999996,0.50197345,0.47218913,0.4068062],[0.3848822,0.36568806,0.49352217,0.41152063,0.34975472,0.5356661,0.23981065,0.33062592,0.60900956,0.24634653,0.57808816,0.5103896,0.48381448,0.63324046,0.41786024,0.39151204,0.61348176,0.43191513,0.33321932,0.50197345,1.0,0.50654376,0.30243456],[0.2522327,0.40094513,0.31977278,0.31796652,0.6252424,0.3744536,0.2667557,0.17507863,0.6948727,0.3771112,0.42460385,0.3450508,0.5109892,0.40446708,0.5572396,0.39183304,0.48435688,0.6032966,0.40597934,0.47218913,0.50654376,1.0000005,0.35670575],[0.51438713,0.6590033,0.4245784,0.5592576,0.50388986,0.39408565,0.5956377,0.25993577,0.43454108,0.5252428,0.37577215,0.39217192,0.5403268,0.41277474,0.37067813,0.4790382,0.40353844,0.4020826,0.56054914,0.4068062,0.30243456,0.35670575,0.99999976]],\"type\":\"heatmap\",\"xaxis\":\"x\",\"yaxis\":\"y\",\"hovertemplate\":\"x: %{x}<br>y: %{y}<br>Similarity Score: %{z}<extra></extra>\"}],                        {\"template\":{\"data\":{\"histogram2dcontour\":[{\"type\":\"histogram2dcontour\",\"colorbar\":{\"outlinewidth\":0,\"ticks\":\"\"},\"colorscale\":[[0.0,\"#0d0887\"],[0.1111111111111111,\"#46039f\"],[0.2222222222222222,\"#7201a8\"],[0.3333333333333333,\"#9c179e\"],[0.4444444444444444,\"#bd3786\"],[0.5555555555555556,\"#d8576b\"],[0.6666666666666666,\"#ed7953\"],[0.7777777777777778,\"#fb9f3a\"],[0.8888888888888888,\"#fdca26\"],[1.0,\"#f0f921\"]]}],\"choropleth\":[{\"type\":\"choropleth\",\"colorbar\":{\"outlinewidth\":0,\"ticks\":\"\"}}],\"histogram2d\":[{\"type\":\"histogram2d\",\"colorbar\":{\"outlinewidth\":0,\"ticks\":\"\"},\"colorscale\":[[0.0,\"#0d0887\"],[0.1111111111111111,\"#46039f\"],[0.2222222222222222,\"#7201a8\"],[0.3333333333333333,\"#9c179e\"],[0.4444444444444444,\"#bd3786\"],[0.5555555555555556,\"#d8576b\"],[0.6666666666666666,\"#ed7953\"],[0.7777777777777778,\"#fb9f3a\"],[0.8888888888888888,\"#fdca26\"],[1.0,\"#f0f921\"]]}],\"heatmap\":[{\"type\":\"heatmap\",\"colorbar\":{\"outlinewidth\":0,\"ticks\":\"\"},\"colorscale\":[[0.0,\"#0d0887\"],[0.1111111111111111,\"#46039f\"],[0.2222222222222222,\"#7201a8\"],[0.3333333333333333,\"#9c179e\"],[0.4444444444444444,\"#bd3786\"],[0.5555555555555556,\"#d8576b\"],[0.6666666666666666,\"#ed7953\"],[0.7777777777777778,\"#fb9f3a\"],[0.8888888888888888,\"#fdca26\"],[1.0,\"#f0f921\"]]}],\"heatmapgl\":[{\"type\":\"heatmapgl\",\"colorbar\":{\"outlinewidth\":0,\"ticks\":\"\"},\"colorscale\":[[0.0,\"#0d0887\"],[0.1111111111111111,\"#46039f\"],[0.2222222222222222,\"#7201a8\"],[0.3333333333333333,\"#9c179e\"],[0.4444444444444444,\"#bd3786\"],[0.5555555555555556,\"#d8576b\"],[0.6666666666666666,\"#ed7953\"],[0.7777777777777778,\"#fb9f3a\"],[0.8888888888888888,\"#fdca26\"],[1.0,\"#f0f921\"]]}],\"contourcarpet\":[{\"type\":\"contourcarpet\",\"colorbar\":{\"outlinewidth\":0,\"ticks\":\"\"}}],\"contour\":[{\"type\":\"contour\",\"colorbar\":{\"outlinewidth\":0,\"ticks\":\"\"},\"colorscale\":[[0.0,\"#0d0887\"],[0.1111111111111111,\"#46039f\"],[0.2222222222222222,\"#7201a8\"],[0.3333333333333333,\"#9c179e\"],[0.4444444444444444,\"#bd3786\"],[0.5555555555555556,\"#d8576b\"],[0.6666666666666666,\"#ed7953\"],[0.7777777777777778,\"#fb9f3a\"],[0.8888888888888888,\"#fdca26\"],[1.0,\"#f0f921\"]]}],\"surface\":[{\"type\":\"surface\",\"colorbar\":{\"outlinewidth\":0,\"ticks\":\"\"},\"colorscale\":[[0.0,\"#0d0887\"],[0.1111111111111111,\"#46039f\"],[0.2222222222222222,\"#7201a8\"],[0.3333333333333333,\"#9c179e\"],[0.4444444444444444,\"#bd3786\"],[0.5555555555555556,\"#d8576b\"],[0.6666666666666666,\"#ed7953\"],[0.7777777777777778,\"#fb9f3a\"],[0.8888888888888888,\"#fdca26\"],[1.0,\"#f0f921\"]]}],\"mesh3d\":[{\"type\":\"mesh3d\",\"colorbar\":{\"outlinewidth\":0,\"ticks\":\"\"}}],\"scatter\":[{\"fillpattern\":{\"fillmode\":\"overlay\",\"size\":10,\"solidity\":0.2},\"type\":\"scatter\"}],\"parcoords\":[{\"type\":\"parcoords\",\"line\":{\"colorbar\":{\"outlinewidth\":0,\"ticks\":\"\"}}}],\"scatterpolargl\":[{\"type\":\"scatterpolargl\",\"marker\":{\"colorbar\":{\"outlinewidth\":0,\"ticks\":\"\"}}}],\"bar\":[{\"error_x\":{\"color\":\"#2a3f5f\"},\"error_y\":{\"color\":\"#2a3f5f\"},\"marker\":{\"line\":{\"color\":\"#E5ECF6\",\"width\":0.5},\"pattern\":{\"fillmode\":\"overlay\",\"size\":10,\"solidity\":0.2}},\"type\":\"bar\"}],\"scattergeo\":[{\"type\":\"scattergeo\",\"marker\":{\"colorbar\":{\"outlinewidth\":0,\"ticks\":\"\"}}}],\"scatterpolar\":[{\"type\":\"scatterpolar\",\"marker\":{\"colorbar\":{\"outlinewidth\":0,\"ticks\":\"\"}}}],\"histogram\":[{\"marker\":{\"pattern\":{\"fillmode\":\"overlay\",\"size\":10,\"solidity\":0.2}},\"type\":\"histogram\"}],\"scattergl\":[{\"type\":\"scattergl\",\"marker\":{\"colorbar\":{\"outlinewidth\":0,\"ticks\":\"\"}}}],\"scatter3d\":[{\"type\":\"scatter3d\",\"line\":{\"colorbar\":{\"outlinewidth\":0,\"ticks\":\"\"}},\"marker\":{\"colorbar\":{\"outlinewidth\":0,\"ticks\":\"\"}}}],\"scattermapbox\":[{\"type\":\"scattermapbox\",\"marker\":{\"colorbar\":{\"outlinewidth\":0,\"ticks\":\"\"}}}],\"scatterternary\":[{\"type\":\"scatterternary\",\"marker\":{\"colorbar\":{\"outlinewidth\":0,\"ticks\":\"\"}}}],\"scattercarpet\":[{\"type\":\"scattercarpet\",\"marker\":{\"colorbar\":{\"outlinewidth\":0,\"ticks\":\"\"}}}],\"carpet\":[{\"aaxis\":{\"endlinecolor\":\"#2a3f5f\",\"gridcolor\":\"white\",\"linecolor\":\"white\",\"minorgridcolor\":\"white\",\"startlinecolor\":\"#2a3f5f\"},\"baxis\":{\"endlinecolor\":\"#2a3f5f\",\"gridcolor\":\"white\",\"linecolor\":\"white\",\"minorgridcolor\":\"white\",\"startlinecolor\":\"#2a3f5f\"},\"type\":\"carpet\"}],\"table\":[{\"cells\":{\"fill\":{\"color\":\"#EBF0F8\"},\"line\":{\"color\":\"white\"}},\"header\":{\"fill\":{\"color\":\"#C8D4E3\"},\"line\":{\"color\":\"white\"}},\"type\":\"table\"}],\"barpolar\":[{\"marker\":{\"line\":{\"color\":\"#E5ECF6\",\"width\":0.5},\"pattern\":{\"fillmode\":\"overlay\",\"size\":10,\"solidity\":0.2}},\"type\":\"barpolar\"}],\"pie\":[{\"automargin\":true,\"type\":\"pie\"}]},\"layout\":{\"autotypenumbers\":\"strict\",\"colorway\":[\"#636efa\",\"#EF553B\",\"#00cc96\",\"#ab63fa\",\"#FFA15A\",\"#19d3f3\",\"#FF6692\",\"#B6E880\",\"#FF97FF\",\"#FECB52\"],\"font\":{\"color\":\"#2a3f5f\"},\"hovermode\":\"closest\",\"hoverlabel\":{\"align\":\"left\"},\"paper_bgcolor\":\"white\",\"plot_bgcolor\":\"#E5ECF6\",\"polar\":{\"bgcolor\":\"#E5ECF6\",\"angularaxis\":{\"gridcolor\":\"white\",\"linecolor\":\"white\",\"ticks\":\"\"},\"radialaxis\":{\"gridcolor\":\"white\",\"linecolor\":\"white\",\"ticks\":\"\"}},\"ternary\":{\"bgcolor\":\"#E5ECF6\",\"aaxis\":{\"gridcolor\":\"white\",\"linecolor\":\"white\",\"ticks\":\"\"},\"baxis\":{\"gridcolor\":\"white\",\"linecolor\":\"white\",\"ticks\":\"\"},\"caxis\":{\"gridcolor\":\"white\",\"linecolor\":\"white\",\"ticks\":\"\"}},\"coloraxis\":{\"colorbar\":{\"outlinewidth\":0,\"ticks\":\"\"}},\"colorscale\":{\"sequential\":[[0.0,\"#0d0887\"],[0.1111111111111111,\"#46039f\"],[0.2222222222222222,\"#7201a8\"],[0.3333333333333333,\"#9c179e\"],[0.4444444444444444,\"#bd3786\"],[0.5555555555555556,\"#d8576b\"],[0.6666666666666666,\"#ed7953\"],[0.7777777777777778,\"#fb9f3a\"],[0.8888888888888888,\"#fdca26\"],[1.0,\"#f0f921\"]],\"sequentialminus\":[[0.0,\"#0d0887\"],[0.1111111111111111,\"#46039f\"],[0.2222222222222222,\"#7201a8\"],[0.3333333333333333,\"#9c179e\"],[0.4444444444444444,\"#bd3786\"],[0.5555555555555556,\"#d8576b\"],[0.6666666666666666,\"#ed7953\"],[0.7777777777777778,\"#fb9f3a\"],[0.8888888888888888,\"#fdca26\"],[1.0,\"#f0f921\"]],\"diverging\":[[0,\"#8e0152\"],[0.1,\"#c51b7d\"],[0.2,\"#de77ae\"],[0.3,\"#f1b6da\"],[0.4,\"#fde0ef\"],[0.5,\"#f7f7f7\"],[0.6,\"#e6f5d0\"],[0.7,\"#b8e186\"],[0.8,\"#7fbc41\"],[0.9,\"#4d9221\"],[1,\"#276419\"]]},\"xaxis\":{\"gridcolor\":\"white\",\"linecolor\":\"white\",\"ticks\":\"\",\"title\":{\"standoff\":15},\"zerolinecolor\":\"white\",\"automargin\":true,\"zerolinewidth\":2},\"yaxis\":{\"gridcolor\":\"white\",\"linecolor\":\"white\",\"ticks\":\"\",\"title\":{\"standoff\":15},\"zerolinecolor\":\"white\",\"automargin\":true,\"zerolinewidth\":2},\"scene\":{\"xaxis\":{\"backgroundcolor\":\"#E5ECF6\",\"gridcolor\":\"white\",\"linecolor\":\"white\",\"showbackground\":true,\"ticks\":\"\",\"zerolinecolor\":\"white\",\"gridwidth\":2},\"yaxis\":{\"backgroundcolor\":\"#E5ECF6\",\"gridcolor\":\"white\",\"linecolor\":\"white\",\"showbackground\":true,\"ticks\":\"\",\"zerolinecolor\":\"white\",\"gridwidth\":2},\"zaxis\":{\"backgroundcolor\":\"#E5ECF6\",\"gridcolor\":\"white\",\"linecolor\":\"white\",\"showbackground\":true,\"ticks\":\"\",\"zerolinecolor\":\"white\",\"gridwidth\":2}},\"shapedefaults\":{\"line\":{\"color\":\"#2a3f5f\"}},\"annotationdefaults\":{\"arrowcolor\":\"#2a3f5f\",\"arrowhead\":0,\"arrowwidth\":1},\"geo\":{\"bgcolor\":\"white\",\"landcolor\":\"#E5ECF6\",\"subunitcolor\":\"white\",\"showland\":true,\"showlakes\":true,\"lakecolor\":\"white\"},\"title\":{\"x\":0.05},\"mapbox\":{\"style\":\"light\"}}},\"xaxis\":{\"anchor\":\"y\",\"domain\":[0.0,1.0],\"scaleanchor\":\"y\",\"constrain\":\"domain\"},\"yaxis\":{\"anchor\":\"x\",\"domain\":[0.0,1.0],\"autorange\":\"reversed\",\"constrain\":\"domain\"},\"coloraxis\":{\"colorbar\":{\"title\":{\"text\":\"Similarity Score\"}},\"colorscale\":[[0.0,\"rgb(247,252,240)\"],[0.125,\"rgb(224,243,219)\"],[0.25,\"rgb(204,235,197)\"],[0.375,\"rgb(168,221,181)\"],[0.5,\"rgb(123,204,196)\"],[0.625,\"rgb(78,179,211)\"],[0.75,\"rgb(43,140,190)\"],[0.875,\"rgb(8,104,172)\"],[1.0,\"rgb(8,64,129)\"]]},\"margin\":{\"t\":60},\"title\":{\"font\":{\"size\":22,\"color\":\"Black\"},\"text\":\"<b>Similarity Matrix</b>\",\"y\":0.95,\"x\":0.55,\"xanchor\":\"center\",\"yanchor\":\"top\"},\"hoverlabel\":{\"font\":{\"size\":16,\"family\":\"Rockwell\"},\"bgcolor\":\"white\"},\"width\":800,\"height\":800,\"showlegend\":true,\"legend\":{\"title\":{\"text\":\"Trend\"}}},                        {\"responsive\": true}                    ).then(function(){\n",
       "                            \n",
       "var gd = document.getElementById('31d25daf-2941-45a2-a847-7d8cca0e2b7a');\n",
       "var x = new MutationObserver(function (mutations, observer) {{\n",
       "        var display = window.getComputedStyle(gd).display;\n",
       "        if (!display || display === 'none') {{\n",
       "            console.log([gd, 'removed!']);\n",
       "            Plotly.purge(gd);\n",
       "            observer.disconnect();\n",
       "        }}\n",
       "}});\n",
       "\n",
       "// Listen for the removal of the full notebook cells\n",
       "var notebookContainer = gd.closest('#notebook-container');\n",
       "if (notebookContainer) {{\n",
       "    x.observe(notebookContainer, {childList: true});\n",
       "}}\n",
       "\n",
       "// Listen for the clearing of the current output cell\n",
       "var outputEl = gd.closest('.output');\n",
       "if (outputEl) {{\n",
       "    x.observe(outputEl, {childList: true});\n",
       "}}\n",
       "\n",
       "                        })                };                });            </script>        </div>"
      ]
     },
     "metadata": {},
     "output_type": "display_data"
    }
   ],
   "source": [
    "topic_model5.visualize_heatmap()"
   ]
  },
  {
   "cell_type": "markdown",
   "metadata": {
    "id": "Si6XjqDviB0S"
   },
   "source": [
    "#### **Reduce number of topics**"
   ]
  },
  {
   "cell_type": "code",
   "execution_count": 49,
   "metadata": {
    "colab": {
     "base_uri": "https://localhost:8080/",
     "height": 304
    },
    "execution": {
     "iopub.execute_input": "2023-06-06T01:56:29.828638Z",
     "iopub.status.busy": "2023-06-06T01:56:29.828246Z",
     "iopub.status.idle": "2023-06-06T01:56:39.948103Z",
     "shell.execute_reply": "2023-06-06T01:56:39.947143Z",
     "shell.execute_reply.started": "2023-06-06T01:56:29.828606Z"
    },
    "id": "E75sQjqQ7Dya",
    "outputId": "6fcd5779-42ea-45be-eab3-c546f0957fa6"
   },
   "outputs": [
    {
     "name": "stderr",
     "output_type": "stream",
     "text": [
      "2023-06-06 01:56:39,569 - BERTopic - Reduced number of topics from 24 to 6\n"
     ]
    },
    {
     "data": {
      "text/plain": [
       "<bertopic._bertopic.BERTopic at 0x7cb9adacc3d0>"
      ]
     },
     "execution_count": 49,
     "metadata": {},
     "output_type": "execute_result"
    },
    {
     "data": {
      "text/plain": [
       "6"
      ]
     },
     "execution_count": 49,
     "metadata": {},
     "output_type": "execute_result"
    },
    {
     "data": {
      "text/html": [
       "<div>\n",
       "<style scoped>\n",
       "    .dataframe tbody tr th:only-of-type {\n",
       "        vertical-align: middle;\n",
       "    }\n",
       "\n",
       "    .dataframe tbody tr th {\n",
       "        vertical-align: top;\n",
       "    }\n",
       "\n",
       "    .dataframe thead th {\n",
       "        text-align: right;\n",
       "    }\n",
       "</style>\n",
       "<table border=\"1\" class=\"dataframe\">\n",
       "  <thead>\n",
       "    <tr style=\"text-align: right;\">\n",
       "      <th></th>\n",
       "      <th>Topic</th>\n",
       "      <th>Count</th>\n",
       "      <th>Name</th>\n",
       "      <th>Representation</th>\n",
       "      <th>Representative_Docs</th>\n",
       "    </tr>\n",
       "  </thead>\n",
       "  <tbody>\n",
       "    <tr>\n",
       "      <th>0</th>\n",
       "      <td>-1</td>\n",
       "      <td>10603</td>\n",
       "      <td>-1_model_use_datum_algorithm</td>\n",
       "      <td>[model, use, datum, algorithm, propose, proble...</td>\n",
       "      <td>[anomaly detection attribute network receive c...</td>\n",
       "    </tr>\n",
       "    <tr>\n",
       "      <th>1</th>\n",
       "      <td>0</td>\n",
       "      <td>15775</td>\n",
       "      <td>0_use_field_quantum_energy</td>\n",
       "      <td>[use, field, quantum, energy, model, time, hig...</td>\n",
       "      <td>[laser wakefield accelerator rely extremely hi...</td>\n",
       "    </tr>\n",
       "    <tr>\n",
       "      <th>2</th>\n",
       "      <td>1</td>\n",
       "      <td>11222</td>\n",
       "      <td>1_model_image_method_propose</td>\n",
       "      <td>[model, image, method, propose, use, network, ...</td>\n",
       "      <td>[despite significant progress super resolve re...</td>\n",
       "    </tr>\n",
       "    <tr>\n",
       "      <th>3</th>\n",
       "      <td>2</td>\n",
       "      <td>8689</td>\n",
       "      <td>2_system_use_network_propose</td>\n",
       "      <td>[system, use, network, propose, model, problem...</td>\n",
       "      <td>[formal way study cooperation incentive mechan...</td>\n",
       "    </tr>\n",
       "    <tr>\n",
       "      <th>4</th>\n",
       "      <td>3</td>\n",
       "      <td>1926</td>\n",
       "      <td>3_user_use_student_model</td>\n",
       "      <td>[user, use, student, model, software, datum, r...</td>\n",
       "      <td>[important task recommender system provide int...</td>\n",
       "    </tr>\n",
       "    <tr>\n",
       "      <th>5</th>\n",
       "      <td>4</td>\n",
       "      <td>1779</td>\n",
       "      <td>4_graph_network_vertex_problem</td>\n",
       "      <td>[graph, network, vertex, problem, algorithm, n...</td>\n",
       "      <td>[graph mathematical object consist set vertex ...</td>\n",
       "    </tr>\n",
       "  </tbody>\n",
       "</table>\n",
       "</div>"
      ],
      "text/plain": [
       "   Topic  Count                            Name  \\\n",
       "0     -1  10603    -1_model_use_datum_algorithm   \n",
       "1      0  15775      0_use_field_quantum_energy   \n",
       "2      1  11222    1_model_image_method_propose   \n",
       "3      2   8689    2_system_use_network_propose   \n",
       "4      3   1926        3_user_use_student_model   \n",
       "5      4   1779  4_graph_network_vertex_problem   \n",
       "\n",
       "                                      Representation  \\\n",
       "0  [model, use, datum, algorithm, propose, proble...   \n",
       "1  [use, field, quantum, energy, model, time, hig...   \n",
       "2  [model, image, method, propose, use, network, ...   \n",
       "3  [system, use, network, propose, model, problem...   \n",
       "4  [user, use, student, model, software, datum, r...   \n",
       "5  [graph, network, vertex, problem, algorithm, n...   \n",
       "\n",
       "                                 Representative_Docs  \n",
       "0  [anomaly detection attribute network receive c...  \n",
       "1  [laser wakefield accelerator rely extremely hi...  \n",
       "2  [despite significant progress super resolve re...  \n",
       "3  [formal way study cooperation incentive mechan...  \n",
       "4  [important task recommender system provide int...  \n",
       "5  [graph mathematical object consist set vertex ...  "
      ]
     },
     "execution_count": 49,
     "metadata": {},
     "output_type": "execute_result"
    }
   ],
   "source": [
    "topic_model5.reduce_topics(df2[\"processed_text\"].to_numpy(),nr_topics=6)\n",
    "len(topic_model5.get_topic_info())\n",
    "topic_model5.get_topic_info()"
   ]
  },
  {
   "cell_type": "code",
   "execution_count": 50,
   "metadata": {
    "execution": {
     "iopub.execute_input": "2023-06-06T01:56:39.951040Z",
     "iopub.status.busy": "2023-06-06T01:56:39.950094Z",
     "iopub.status.idle": "2023-06-06T01:56:40.817020Z",
     "shell.execute_reply": "2023-06-06T01:56:40.816080Z",
     "shell.execute_reply.started": "2023-06-06T01:56:39.950998Z"
    }
   },
   "outputs": [
    {
     "data": {
      "application/vnd.plotly.v1+json": {
       "config": {
        "plotlyServerURL": "https://plot.ly"
       },
       "data": [
        {
         "customdata": [
          [
           0,
           "use | field | quantum | energy | model",
           15775
          ],
          [
           1,
           "model | image | method | propose | use",
           11222
          ],
          [
           2,
           "system | use | network | propose | model",
           8689
          ],
          [
           3,
           "user | use | student | model | software",
           1926
          ],
          [
           4,
           "graph | network | vertex | problem | algorithm",
           1779
          ]
         ],
         "hovertemplate": "<b>Topic %{customdata[0]}</b><br>%{customdata[1]}<br>Size: %{customdata[2]}",
         "legendgroup": "",
         "marker": {
          "color": "#B0BEC5",
          "line": {
           "color": "DarkSlateGrey",
           "width": 2
          },
          "size": [
           15775,
           11222,
           8689,
           1926,
           1779
          ],
          "sizemode": "area",
          "sizeref": 9.859375,
          "symbol": "circle"
         },
         "mode": "markers",
         "name": "",
         "orientation": "v",
         "showlegend": false,
         "type": "scatter",
         "x": [
          12.279266,
          13.020626,
          12.377871,
          11.790239,
          11.091061
         ],
         "xaxis": "x",
         "y": [
          -1.4749128,
          -2.3466828,
          -2.2054718,
          -2.5908008,
          -1.7196481
         ],
         "yaxis": "y"
        }
       ],
       "layout": {
        "annotations": [
         {
          "showarrow": false,
          "text": "D1",
          "x": 9.427401542663574,
          "y": -2.1165483623743055,
          "yshift": 10
         },
         {
          "showarrow": false,
          "text": "D2",
          "x": 12.200560760498046,
          "xshift": 10,
          "y": -1.2536758482456207
         }
        ],
        "height": 650,
        "hoverlabel": {
         "bgcolor": "white",
         "font": {
          "family": "Rockwell",
          "size": 16
         }
        },
        "legend": {
         "itemsizing": "constant",
         "tracegroupgap": 0
        },
        "margin": {
         "t": 60
        },
        "shapes": [
         {
          "line": {
           "color": "#CFD8DC",
           "width": 2
          },
          "type": "line",
          "x0": 12.200560760498046,
          "x1": 12.200560760498046,
          "y0": -2.979420876502991,
          "y1": -1.2536758482456207
         },
         {
          "line": {
           "color": "#9E9E9E",
           "width": 2
          },
          "type": "line",
          "x0": 9.427401542663574,
          "x1": 14.97371997833252,
          "y0": -2.1165483623743055,
          "y1": -2.1165483623743055
         }
        ],
        "sliders": [
         {
          "active": 0,
          "pad": {
           "t": 50
          },
          "steps": [
           {
            "args": [
             {
              "marker.color": [
               [
                "red",
                "#B0BEC5",
                "#B0BEC5",
                "#B0BEC5",
                "#B0BEC5"
               ]
              ]
             }
            ],
            "label": "Topic 0",
            "method": "update"
           },
           {
            "args": [
             {
              "marker.color": [
               [
                "#B0BEC5",
                "red",
                "#B0BEC5",
                "#B0BEC5",
                "#B0BEC5"
               ]
              ]
             }
            ],
            "label": "Topic 1",
            "method": "update"
           },
           {
            "args": [
             {
              "marker.color": [
               [
                "#B0BEC5",
                "#B0BEC5",
                "red",
                "#B0BEC5",
                "#B0BEC5"
               ]
              ]
             }
            ],
            "label": "Topic 2",
            "method": "update"
           },
           {
            "args": [
             {
              "marker.color": [
               [
                "#B0BEC5",
                "#B0BEC5",
                "#B0BEC5",
                "red",
                "#B0BEC5"
               ]
              ]
             }
            ],
            "label": "Topic 3",
            "method": "update"
           },
           {
            "args": [
             {
              "marker.color": [
               [
                "#B0BEC5",
                "#B0BEC5",
                "#B0BEC5",
                "#B0BEC5",
                "red"
               ]
              ]
             }
            ],
            "label": "Topic 4",
            "method": "update"
           }
          ]
         }
        ],
        "template": {
         "data": {
          "bar": [
           {
            "error_x": {
             "color": "rgb(36,36,36)"
            },
            "error_y": {
             "color": "rgb(36,36,36)"
            },
            "marker": {
             "line": {
              "color": "white",
              "width": 0.5
             },
             "pattern": {
              "fillmode": "overlay",
              "size": 10,
              "solidity": 0.2
             }
            },
            "type": "bar"
           }
          ],
          "barpolar": [
           {
            "marker": {
             "line": {
              "color": "white",
              "width": 0.5
             },
             "pattern": {
              "fillmode": "overlay",
              "size": 10,
              "solidity": 0.2
             }
            },
            "type": "barpolar"
           }
          ],
          "carpet": [
           {
            "aaxis": {
             "endlinecolor": "rgb(36,36,36)",
             "gridcolor": "white",
             "linecolor": "white",
             "minorgridcolor": "white",
             "startlinecolor": "rgb(36,36,36)"
            },
            "baxis": {
             "endlinecolor": "rgb(36,36,36)",
             "gridcolor": "white",
             "linecolor": "white",
             "minorgridcolor": "white",
             "startlinecolor": "rgb(36,36,36)"
            },
            "type": "carpet"
           }
          ],
          "choropleth": [
           {
            "colorbar": {
             "outlinewidth": 1,
             "tickcolor": "rgb(36,36,36)",
             "ticks": "outside"
            },
            "type": "choropleth"
           }
          ],
          "contour": [
           {
            "colorbar": {
             "outlinewidth": 1,
             "tickcolor": "rgb(36,36,36)",
             "ticks": "outside"
            },
            "colorscale": [
             [
              0,
              "#440154"
             ],
             [
              0.1111111111111111,
              "#482878"
             ],
             [
              0.2222222222222222,
              "#3e4989"
             ],
             [
              0.3333333333333333,
              "#31688e"
             ],
             [
              0.4444444444444444,
              "#26828e"
             ],
             [
              0.5555555555555556,
              "#1f9e89"
             ],
             [
              0.6666666666666666,
              "#35b779"
             ],
             [
              0.7777777777777778,
              "#6ece58"
             ],
             [
              0.8888888888888888,
              "#b5de2b"
             ],
             [
              1,
              "#fde725"
             ]
            ],
            "type": "contour"
           }
          ],
          "contourcarpet": [
           {
            "colorbar": {
             "outlinewidth": 1,
             "tickcolor": "rgb(36,36,36)",
             "ticks": "outside"
            },
            "type": "contourcarpet"
           }
          ],
          "heatmap": [
           {
            "colorbar": {
             "outlinewidth": 1,
             "tickcolor": "rgb(36,36,36)",
             "ticks": "outside"
            },
            "colorscale": [
             [
              0,
              "#440154"
             ],
             [
              0.1111111111111111,
              "#482878"
             ],
             [
              0.2222222222222222,
              "#3e4989"
             ],
             [
              0.3333333333333333,
              "#31688e"
             ],
             [
              0.4444444444444444,
              "#26828e"
             ],
             [
              0.5555555555555556,
              "#1f9e89"
             ],
             [
              0.6666666666666666,
              "#35b779"
             ],
             [
              0.7777777777777778,
              "#6ece58"
             ],
             [
              0.8888888888888888,
              "#b5de2b"
             ],
             [
              1,
              "#fde725"
             ]
            ],
            "type": "heatmap"
           }
          ],
          "heatmapgl": [
           {
            "colorbar": {
             "outlinewidth": 1,
             "tickcolor": "rgb(36,36,36)",
             "ticks": "outside"
            },
            "colorscale": [
             [
              0,
              "#440154"
             ],
             [
              0.1111111111111111,
              "#482878"
             ],
             [
              0.2222222222222222,
              "#3e4989"
             ],
             [
              0.3333333333333333,
              "#31688e"
             ],
             [
              0.4444444444444444,
              "#26828e"
             ],
             [
              0.5555555555555556,
              "#1f9e89"
             ],
             [
              0.6666666666666666,
              "#35b779"
             ],
             [
              0.7777777777777778,
              "#6ece58"
             ],
             [
              0.8888888888888888,
              "#b5de2b"
             ],
             [
              1,
              "#fde725"
             ]
            ],
            "type": "heatmapgl"
           }
          ],
          "histogram": [
           {
            "marker": {
             "line": {
              "color": "white",
              "width": 0.6
             }
            },
            "type": "histogram"
           }
          ],
          "histogram2d": [
           {
            "colorbar": {
             "outlinewidth": 1,
             "tickcolor": "rgb(36,36,36)",
             "ticks": "outside"
            },
            "colorscale": [
             [
              0,
              "#440154"
             ],
             [
              0.1111111111111111,
              "#482878"
             ],
             [
              0.2222222222222222,
              "#3e4989"
             ],
             [
              0.3333333333333333,
              "#31688e"
             ],
             [
              0.4444444444444444,
              "#26828e"
             ],
             [
              0.5555555555555556,
              "#1f9e89"
             ],
             [
              0.6666666666666666,
              "#35b779"
             ],
             [
              0.7777777777777778,
              "#6ece58"
             ],
             [
              0.8888888888888888,
              "#b5de2b"
             ],
             [
              1,
              "#fde725"
             ]
            ],
            "type": "histogram2d"
           }
          ],
          "histogram2dcontour": [
           {
            "colorbar": {
             "outlinewidth": 1,
             "tickcolor": "rgb(36,36,36)",
             "ticks": "outside"
            },
            "colorscale": [
             [
              0,
              "#440154"
             ],
             [
              0.1111111111111111,
              "#482878"
             ],
             [
              0.2222222222222222,
              "#3e4989"
             ],
             [
              0.3333333333333333,
              "#31688e"
             ],
             [
              0.4444444444444444,
              "#26828e"
             ],
             [
              0.5555555555555556,
              "#1f9e89"
             ],
             [
              0.6666666666666666,
              "#35b779"
             ],
             [
              0.7777777777777778,
              "#6ece58"
             ],
             [
              0.8888888888888888,
              "#b5de2b"
             ],
             [
              1,
              "#fde725"
             ]
            ],
            "type": "histogram2dcontour"
           }
          ],
          "mesh3d": [
           {
            "colorbar": {
             "outlinewidth": 1,
             "tickcolor": "rgb(36,36,36)",
             "ticks": "outside"
            },
            "type": "mesh3d"
           }
          ],
          "parcoords": [
           {
            "line": {
             "colorbar": {
              "outlinewidth": 1,
              "tickcolor": "rgb(36,36,36)",
              "ticks": "outside"
             }
            },
            "type": "parcoords"
           }
          ],
          "pie": [
           {
            "automargin": true,
            "type": "pie"
           }
          ],
          "scatter": [
           {
            "fillpattern": {
             "fillmode": "overlay",
             "size": 10,
             "solidity": 0.2
            },
            "type": "scatter"
           }
          ],
          "scatter3d": [
           {
            "line": {
             "colorbar": {
              "outlinewidth": 1,
              "tickcolor": "rgb(36,36,36)",
              "ticks": "outside"
             }
            },
            "marker": {
             "colorbar": {
              "outlinewidth": 1,
              "tickcolor": "rgb(36,36,36)",
              "ticks": "outside"
             }
            },
            "type": "scatter3d"
           }
          ],
          "scattercarpet": [
           {
            "marker": {
             "colorbar": {
              "outlinewidth": 1,
              "tickcolor": "rgb(36,36,36)",
              "ticks": "outside"
             }
            },
            "type": "scattercarpet"
           }
          ],
          "scattergeo": [
           {
            "marker": {
             "colorbar": {
              "outlinewidth": 1,
              "tickcolor": "rgb(36,36,36)",
              "ticks": "outside"
             }
            },
            "type": "scattergeo"
           }
          ],
          "scattergl": [
           {
            "marker": {
             "colorbar": {
              "outlinewidth": 1,
              "tickcolor": "rgb(36,36,36)",
              "ticks": "outside"
             }
            },
            "type": "scattergl"
           }
          ],
          "scattermapbox": [
           {
            "marker": {
             "colorbar": {
              "outlinewidth": 1,
              "tickcolor": "rgb(36,36,36)",
              "ticks": "outside"
             }
            },
            "type": "scattermapbox"
           }
          ],
          "scatterpolar": [
           {
            "marker": {
             "colorbar": {
              "outlinewidth": 1,
              "tickcolor": "rgb(36,36,36)",
              "ticks": "outside"
             }
            },
            "type": "scatterpolar"
           }
          ],
          "scatterpolargl": [
           {
            "marker": {
             "colorbar": {
              "outlinewidth": 1,
              "tickcolor": "rgb(36,36,36)",
              "ticks": "outside"
             }
            },
            "type": "scatterpolargl"
           }
          ],
          "scatterternary": [
           {
            "marker": {
             "colorbar": {
              "outlinewidth": 1,
              "tickcolor": "rgb(36,36,36)",
              "ticks": "outside"
             }
            },
            "type": "scatterternary"
           }
          ],
          "surface": [
           {
            "colorbar": {
             "outlinewidth": 1,
             "tickcolor": "rgb(36,36,36)",
             "ticks": "outside"
            },
            "colorscale": [
             [
              0,
              "#440154"
             ],
             [
              0.1111111111111111,
              "#482878"
             ],
             [
              0.2222222222222222,
              "#3e4989"
             ],
             [
              0.3333333333333333,
              "#31688e"
             ],
             [
              0.4444444444444444,
              "#26828e"
             ],
             [
              0.5555555555555556,
              "#1f9e89"
             ],
             [
              0.6666666666666666,
              "#35b779"
             ],
             [
              0.7777777777777778,
              "#6ece58"
             ],
             [
              0.8888888888888888,
              "#b5de2b"
             ],
             [
              1,
              "#fde725"
             ]
            ],
            "type": "surface"
           }
          ],
          "table": [
           {
            "cells": {
             "fill": {
              "color": "rgb(237,237,237)"
             },
             "line": {
              "color": "white"
             }
            },
            "header": {
             "fill": {
              "color": "rgb(217,217,217)"
             },
             "line": {
              "color": "white"
             }
            },
            "type": "table"
           }
          ]
         },
         "layout": {
          "annotationdefaults": {
           "arrowhead": 0,
           "arrowwidth": 1
          },
          "autotypenumbers": "strict",
          "coloraxis": {
           "colorbar": {
            "outlinewidth": 1,
            "tickcolor": "rgb(36,36,36)",
            "ticks": "outside"
           }
          },
          "colorscale": {
           "diverging": [
            [
             0,
             "rgb(103,0,31)"
            ],
            [
             0.1,
             "rgb(178,24,43)"
            ],
            [
             0.2,
             "rgb(214,96,77)"
            ],
            [
             0.3,
             "rgb(244,165,130)"
            ],
            [
             0.4,
             "rgb(253,219,199)"
            ],
            [
             0.5,
             "rgb(247,247,247)"
            ],
            [
             0.6,
             "rgb(209,229,240)"
            ],
            [
             0.7,
             "rgb(146,197,222)"
            ],
            [
             0.8,
             "rgb(67,147,195)"
            ],
            [
             0.9,
             "rgb(33,102,172)"
            ],
            [
             1,
             "rgb(5,48,97)"
            ]
           ],
           "sequential": [
            [
             0,
             "#440154"
            ],
            [
             0.1111111111111111,
             "#482878"
            ],
            [
             0.2222222222222222,
             "#3e4989"
            ],
            [
             0.3333333333333333,
             "#31688e"
            ],
            [
             0.4444444444444444,
             "#26828e"
            ],
            [
             0.5555555555555556,
             "#1f9e89"
            ],
            [
             0.6666666666666666,
             "#35b779"
            ],
            [
             0.7777777777777778,
             "#6ece58"
            ],
            [
             0.8888888888888888,
             "#b5de2b"
            ],
            [
             1,
             "#fde725"
            ]
           ],
           "sequentialminus": [
            [
             0,
             "#440154"
            ],
            [
             0.1111111111111111,
             "#482878"
            ],
            [
             0.2222222222222222,
             "#3e4989"
            ],
            [
             0.3333333333333333,
             "#31688e"
            ],
            [
             0.4444444444444444,
             "#26828e"
            ],
            [
             0.5555555555555556,
             "#1f9e89"
            ],
            [
             0.6666666666666666,
             "#35b779"
            ],
            [
             0.7777777777777778,
             "#6ece58"
            ],
            [
             0.8888888888888888,
             "#b5de2b"
            ],
            [
             1,
             "#fde725"
            ]
           ]
          },
          "colorway": [
           "#1F77B4",
           "#FF7F0E",
           "#2CA02C",
           "#D62728",
           "#9467BD",
           "#8C564B",
           "#E377C2",
           "#7F7F7F",
           "#BCBD22",
           "#17BECF"
          ],
          "font": {
           "color": "rgb(36,36,36)"
          },
          "geo": {
           "bgcolor": "white",
           "lakecolor": "white",
           "landcolor": "white",
           "showlakes": true,
           "showland": true,
           "subunitcolor": "white"
          },
          "hoverlabel": {
           "align": "left"
          },
          "hovermode": "closest",
          "mapbox": {
           "style": "light"
          },
          "paper_bgcolor": "white",
          "plot_bgcolor": "white",
          "polar": {
           "angularaxis": {
            "gridcolor": "rgb(232,232,232)",
            "linecolor": "rgb(36,36,36)",
            "showgrid": false,
            "showline": true,
            "ticks": "outside"
           },
           "bgcolor": "white",
           "radialaxis": {
            "gridcolor": "rgb(232,232,232)",
            "linecolor": "rgb(36,36,36)",
            "showgrid": false,
            "showline": true,
            "ticks": "outside"
           }
          },
          "scene": {
           "xaxis": {
            "backgroundcolor": "white",
            "gridcolor": "rgb(232,232,232)",
            "gridwidth": 2,
            "linecolor": "rgb(36,36,36)",
            "showbackground": true,
            "showgrid": false,
            "showline": true,
            "ticks": "outside",
            "zeroline": false,
            "zerolinecolor": "rgb(36,36,36)"
           },
           "yaxis": {
            "backgroundcolor": "white",
            "gridcolor": "rgb(232,232,232)",
            "gridwidth": 2,
            "linecolor": "rgb(36,36,36)",
            "showbackground": true,
            "showgrid": false,
            "showline": true,
            "ticks": "outside",
            "zeroline": false,
            "zerolinecolor": "rgb(36,36,36)"
           },
           "zaxis": {
            "backgroundcolor": "white",
            "gridcolor": "rgb(232,232,232)",
            "gridwidth": 2,
            "linecolor": "rgb(36,36,36)",
            "showbackground": true,
            "showgrid": false,
            "showline": true,
            "ticks": "outside",
            "zeroline": false,
            "zerolinecolor": "rgb(36,36,36)"
           }
          },
          "shapedefaults": {
           "fillcolor": "black",
           "line": {
            "width": 0
           },
           "opacity": 0.3
          },
          "ternary": {
           "aaxis": {
            "gridcolor": "rgb(232,232,232)",
            "linecolor": "rgb(36,36,36)",
            "showgrid": false,
            "showline": true,
            "ticks": "outside"
           },
           "baxis": {
            "gridcolor": "rgb(232,232,232)",
            "linecolor": "rgb(36,36,36)",
            "showgrid": false,
            "showline": true,
            "ticks": "outside"
           },
           "bgcolor": "white",
           "caxis": {
            "gridcolor": "rgb(232,232,232)",
            "linecolor": "rgb(36,36,36)",
            "showgrid": false,
            "showline": true,
            "ticks": "outside"
           }
          },
          "title": {
           "x": 0.05
          },
          "xaxis": {
           "automargin": true,
           "gridcolor": "rgb(232,232,232)",
           "linecolor": "rgb(36,36,36)",
           "showgrid": false,
           "showline": true,
           "ticks": "outside",
           "title": {
            "standoff": 15
           },
           "zeroline": false,
           "zerolinecolor": "rgb(36,36,36)"
          },
          "yaxis": {
           "automargin": true,
           "gridcolor": "rgb(232,232,232)",
           "linecolor": "rgb(36,36,36)",
           "showgrid": false,
           "showline": true,
           "ticks": "outside",
           "title": {
            "standoff": 15
           },
           "zeroline": false,
           "zerolinecolor": "rgb(36,36,36)"
          }
         }
        },
        "title": {
         "font": {
          "color": "Black",
          "size": 22
         },
         "text": "<b>Intertopic Distance Map</b>",
         "x": 0.5,
         "xanchor": "center",
         "y": 0.95,
         "yanchor": "top"
        },
        "width": 650,
        "xaxis": {
         "anchor": "y",
         "domain": [
          0,
          1
         ],
         "range": [
          9.427401542663574,
          14.97371997833252
         ],
         "title": {
          "text": ""
         },
         "type": "linear",
         "visible": false
        },
        "yaxis": {
         "anchor": "x",
         "domain": [
          0,
          1
         ],
         "range": [
          -2.979420876502991,
          -1.2536758482456207
         ],
         "title": {
          "text": ""
         },
         "type": "linear",
         "visible": false
        }
       }
      },
      "image/png": "[encoded data removed]",
      "text/html": [
       "<div>                            <div id=\"389009c1-83c2-412a-88c9-bbd3b7e7d7b1\" class=\"plotly-graph-div\" style=\"height:650px; width:650px;\"></div>            <script type=\"text/javascript\">                require([\"plotly\"], function(Plotly) {                    window.PLOTLYENV=window.PLOTLYENV || {};                                    if (document.getElementById(\"389009c1-83c2-412a-88c9-bbd3b7e7d7b1\")) {                    Plotly.newPlot(                        \"389009c1-83c2-412a-88c9-bbd3b7e7d7b1\",                        [{\"customdata\":[[0,\"use | field | quantum | energy | model\",15775],[1,\"model | image | method | propose | use\",11222],[2,\"system | use | network | propose | model\",8689],[3,\"user | use | student | model | software\",1926],[4,\"graph | network | vertex | problem | algorithm\",1779]],\"hovertemplate\":\"<b>Topic %{customdata[0]}</b><br>%{customdata[1]}<br>Size: %{customdata[2]}\",\"legendgroup\":\"\",\"marker\":{\"color\":\"#B0BEC5\",\"size\":[15775,11222,8689,1926,1779],\"sizemode\":\"area\",\"sizeref\":9.859375,\"symbol\":\"circle\",\"line\":{\"color\":\"DarkSlateGrey\",\"width\":2}},\"mode\":\"markers\",\"name\":\"\",\"orientation\":\"v\",\"showlegend\":false,\"x\":[12.279266,13.020626,12.377871,11.790239,11.091061],\"xaxis\":\"x\",\"y\":[-1.4749128,-2.3466828,-2.2054718,-2.5908008,-1.7196481],\"yaxis\":\"y\",\"type\":\"scatter\"}],                        {\"template\":{\"data\":{\"barpolar\":[{\"marker\":{\"line\":{\"color\":\"white\",\"width\":0.5},\"pattern\":{\"fillmode\":\"overlay\",\"size\":10,\"solidity\":0.2}},\"type\":\"barpolar\"}],\"bar\":[{\"error_x\":{\"color\":\"rgb(36,36,36)\"},\"error_y\":{\"color\":\"rgb(36,36,36)\"},\"marker\":{\"line\":{\"color\":\"white\",\"width\":0.5},\"pattern\":{\"fillmode\":\"overlay\",\"size\":10,\"solidity\":0.2}},\"type\":\"bar\"}],\"carpet\":[{\"aaxis\":{\"endlinecolor\":\"rgb(36,36,36)\",\"gridcolor\":\"white\",\"linecolor\":\"white\",\"minorgridcolor\":\"white\",\"startlinecolor\":\"rgb(36,36,36)\"},\"baxis\":{\"endlinecolor\":\"rgb(36,36,36)\",\"gridcolor\":\"white\",\"linecolor\":\"white\",\"minorgridcolor\":\"white\",\"startlinecolor\":\"rgb(36,36,36)\"},\"type\":\"carpet\"}],\"choropleth\":[{\"colorbar\":{\"outlinewidth\":1,\"tickcolor\":\"rgb(36,36,36)\",\"ticks\":\"outside\"},\"type\":\"choropleth\"}],\"contourcarpet\":[{\"colorbar\":{\"outlinewidth\":1,\"tickcolor\":\"rgb(36,36,36)\",\"ticks\":\"outside\"},\"type\":\"contourcarpet\"}],\"contour\":[{\"colorbar\":{\"outlinewidth\":1,\"tickcolor\":\"rgb(36,36,36)\",\"ticks\":\"outside\"},\"colorscale\":[[0.0,\"#440154\"],[0.1111111111111111,\"#482878\"],[0.2222222222222222,\"#3e4989\"],[0.3333333333333333,\"#31688e\"],[0.4444444444444444,\"#26828e\"],[0.5555555555555556,\"#1f9e89\"],[0.6666666666666666,\"#35b779\"],[0.7777777777777778,\"#6ece58\"],[0.8888888888888888,\"#b5de2b\"],[1.0,\"#fde725\"]],\"type\":\"contour\"}],\"heatmapgl\":[{\"colorbar\":{\"outlinewidth\":1,\"tickcolor\":\"rgb(36,36,36)\",\"ticks\":\"outside\"},\"colorscale\":[[0.0,\"#440154\"],[0.1111111111111111,\"#482878\"],[0.2222222222222222,\"#3e4989\"],[0.3333333333333333,\"#31688e\"],[0.4444444444444444,\"#26828e\"],[0.5555555555555556,\"#1f9e89\"],[0.6666666666666666,\"#35b779\"],[0.7777777777777778,\"#6ece58\"],[0.8888888888888888,\"#b5de2b\"],[1.0,\"#fde725\"]],\"type\":\"heatmapgl\"}],\"heatmap\":[{\"colorbar\":{\"outlinewidth\":1,\"tickcolor\":\"rgb(36,36,36)\",\"ticks\":\"outside\"},\"colorscale\":[[0.0,\"#440154\"],[0.1111111111111111,\"#482878\"],[0.2222222222222222,\"#3e4989\"],[0.3333333333333333,\"#31688e\"],[0.4444444444444444,\"#26828e\"],[0.5555555555555556,\"#1f9e89\"],[0.6666666666666666,\"#35b779\"],[0.7777777777777778,\"#6ece58\"],[0.8888888888888888,\"#b5de2b\"],[1.0,\"#fde725\"]],\"type\":\"heatmap\"}],\"histogram2dcontour\":[{\"colorbar\":{\"outlinewidth\":1,\"tickcolor\":\"rgb(36,36,36)\",\"ticks\":\"outside\"},\"colorscale\":[[0.0,\"#440154\"],[0.1111111111111111,\"#482878\"],[0.2222222222222222,\"#3e4989\"],[0.3333333333333333,\"#31688e\"],[0.4444444444444444,\"#26828e\"],[0.5555555555555556,\"#1f9e89\"],[0.6666666666666666,\"#35b779\"],[0.7777777777777778,\"#6ece58\"],[0.8888888888888888,\"#b5de2b\"],[1.0,\"#fde725\"]],\"type\":\"histogram2dcontour\"}],\"histogram2d\":[{\"colorbar\":{\"outlinewidth\":1,\"tickcolor\":\"rgb(36,36,36)\",\"ticks\":\"outside\"},\"colorscale\":[[0.0,\"#440154\"],[0.1111111111111111,\"#482878\"],[0.2222222222222222,\"#3e4989\"],[0.3333333333333333,\"#31688e\"],[0.4444444444444444,\"#26828e\"],[0.5555555555555556,\"#1f9e89\"],[0.6666666666666666,\"#35b779\"],[0.7777777777777778,\"#6ece58\"],[0.8888888888888888,\"#b5de2b\"],[1.0,\"#fde725\"]],\"type\":\"histogram2d\"}],\"histogram\":[{\"marker\":{\"line\":{\"color\":\"white\",\"width\":0.6}},\"type\":\"histogram\"}],\"mesh3d\":[{\"colorbar\":{\"outlinewidth\":1,\"tickcolor\":\"rgb(36,36,36)\",\"ticks\":\"outside\"},\"type\":\"mesh3d\"}],\"parcoords\":[{\"line\":{\"colorbar\":{\"outlinewidth\":1,\"tickcolor\":\"rgb(36,36,36)\",\"ticks\":\"outside\"}},\"type\":\"parcoords\"}],\"pie\":[{\"automargin\":true,\"type\":\"pie\"}],\"scatter3d\":[{\"line\":{\"colorbar\":{\"outlinewidth\":1,\"tickcolor\":\"rgb(36,36,36)\",\"ticks\":\"outside\"}},\"marker\":{\"colorbar\":{\"outlinewidth\":1,\"tickcolor\":\"rgb(36,36,36)\",\"ticks\":\"outside\"}},\"type\":\"scatter3d\"}],\"scattercarpet\":[{\"marker\":{\"colorbar\":{\"outlinewidth\":1,\"tickcolor\":\"rgb(36,36,36)\",\"ticks\":\"outside\"}},\"type\":\"scattercarpet\"}],\"scattergeo\":[{\"marker\":{\"colorbar\":{\"outlinewidth\":1,\"tickcolor\":\"rgb(36,36,36)\",\"ticks\":\"outside\"}},\"type\":\"scattergeo\"}],\"scattergl\":[{\"marker\":{\"colorbar\":{\"outlinewidth\":1,\"tickcolor\":\"rgb(36,36,36)\",\"ticks\":\"outside\"}},\"type\":\"scattergl\"}],\"scattermapbox\":[{\"marker\":{\"colorbar\":{\"outlinewidth\":1,\"tickcolor\":\"rgb(36,36,36)\",\"ticks\":\"outside\"}},\"type\":\"scattermapbox\"}],\"scatterpolargl\":[{\"marker\":{\"colorbar\":{\"outlinewidth\":1,\"tickcolor\":\"rgb(36,36,36)\",\"ticks\":\"outside\"}},\"type\":\"scatterpolargl\"}],\"scatterpolar\":[{\"marker\":{\"colorbar\":{\"outlinewidth\":1,\"tickcolor\":\"rgb(36,36,36)\",\"ticks\":\"outside\"}},\"type\":\"scatterpolar\"}],\"scatter\":[{\"fillpattern\":{\"fillmode\":\"overlay\",\"size\":10,\"solidity\":0.2},\"type\":\"scatter\"}],\"scatterternary\":[{\"marker\":{\"colorbar\":{\"outlinewidth\":1,\"tickcolor\":\"rgb(36,36,36)\",\"ticks\":\"outside\"}},\"type\":\"scatterternary\"}],\"surface\":[{\"colorbar\":{\"outlinewidth\":1,\"tickcolor\":\"rgb(36,36,36)\",\"ticks\":\"outside\"},\"colorscale\":[[0.0,\"#440154\"],[0.1111111111111111,\"#482878\"],[0.2222222222222222,\"#3e4989\"],[0.3333333333333333,\"#31688e\"],[0.4444444444444444,\"#26828e\"],[0.5555555555555556,\"#1f9e89\"],[0.6666666666666666,\"#35b779\"],[0.7777777777777778,\"#6ece58\"],[0.8888888888888888,\"#b5de2b\"],[1.0,\"#fde725\"]],\"type\":\"surface\"}],\"table\":[{\"cells\":{\"fill\":{\"color\":\"rgb(237,237,237)\"},\"line\":{\"color\":\"white\"}},\"header\":{\"fill\":{\"color\":\"rgb(217,217,217)\"},\"line\":{\"color\":\"white\"}},\"type\":\"table\"}]},\"layout\":{\"annotationdefaults\":{\"arrowhead\":0,\"arrowwidth\":1},\"autotypenumbers\":\"strict\",\"coloraxis\":{\"colorbar\":{\"outlinewidth\":1,\"tickcolor\":\"rgb(36,36,36)\",\"ticks\":\"outside\"}},\"colorscale\":{\"diverging\":[[0.0,\"rgb(103,0,31)\"],[0.1,\"rgb(178,24,43)\"],[0.2,\"rgb(214,96,77)\"],[0.3,\"rgb(244,165,130)\"],[0.4,\"rgb(253,219,199)\"],[0.5,\"rgb(247,247,247)\"],[0.6,\"rgb(209,229,240)\"],[0.7,\"rgb(146,197,222)\"],[0.8,\"rgb(67,147,195)\"],[0.9,\"rgb(33,102,172)\"],[1.0,\"rgb(5,48,97)\"]],\"sequential\":[[0.0,\"#440154\"],[0.1111111111111111,\"#482878\"],[0.2222222222222222,\"#3e4989\"],[0.3333333333333333,\"#31688e\"],[0.4444444444444444,\"#26828e\"],[0.5555555555555556,\"#1f9e89\"],[0.6666666666666666,\"#35b779\"],[0.7777777777777778,\"#6ece58\"],[0.8888888888888888,\"#b5de2b\"],[1.0,\"#fde725\"]],\"sequentialminus\":[[0.0,\"#440154\"],[0.1111111111111111,\"#482878\"],[0.2222222222222222,\"#3e4989\"],[0.3333333333333333,\"#31688e\"],[0.4444444444444444,\"#26828e\"],[0.5555555555555556,\"#1f9e89\"],[0.6666666666666666,\"#35b779\"],[0.7777777777777778,\"#6ece58\"],[0.8888888888888888,\"#b5de2b\"],[1.0,\"#fde725\"]]},\"colorway\":[\"#1F77B4\",\"#FF7F0E\",\"#2CA02C\",\"#D62728\",\"#9467BD\",\"#8C564B\",\"#E377C2\",\"#7F7F7F\",\"#BCBD22\",\"#17BECF\"],\"font\":{\"color\":\"rgb(36,36,36)\"},\"geo\":{\"bgcolor\":\"white\",\"lakecolor\":\"white\",\"landcolor\":\"white\",\"showlakes\":true,\"showland\":true,\"subunitcolor\":\"white\"},\"hoverlabel\":{\"align\":\"left\"},\"hovermode\":\"closest\",\"mapbox\":{\"style\":\"light\"},\"paper_bgcolor\":\"white\",\"plot_bgcolor\":\"white\",\"polar\":{\"angularaxis\":{\"gridcolor\":\"rgb(232,232,232)\",\"linecolor\":\"rgb(36,36,36)\",\"showgrid\":false,\"showline\":true,\"ticks\":\"outside\"},\"bgcolor\":\"white\",\"radialaxis\":{\"gridcolor\":\"rgb(232,232,232)\",\"linecolor\":\"rgb(36,36,36)\",\"showgrid\":false,\"showline\":true,\"ticks\":\"outside\"}},\"scene\":{\"xaxis\":{\"backgroundcolor\":\"white\",\"gridcolor\":\"rgb(232,232,232)\",\"gridwidth\":2,\"linecolor\":\"rgb(36,36,36)\",\"showbackground\":true,\"showgrid\":false,\"showline\":true,\"ticks\":\"outside\",\"zeroline\":false,\"zerolinecolor\":\"rgb(36,36,36)\"},\"yaxis\":{\"backgroundcolor\":\"white\",\"gridcolor\":\"rgb(232,232,232)\",\"gridwidth\":2,\"linecolor\":\"rgb(36,36,36)\",\"showbackground\":true,\"showgrid\":false,\"showline\":true,\"ticks\":\"outside\",\"zeroline\":false,\"zerolinecolor\":\"rgb(36,36,36)\"},\"zaxis\":{\"backgroundcolor\":\"white\",\"gridcolor\":\"rgb(232,232,232)\",\"gridwidth\":2,\"linecolor\":\"rgb(36,36,36)\",\"showbackground\":true,\"showgrid\":false,\"showline\":true,\"ticks\":\"outside\",\"zeroline\":false,\"zerolinecolor\":\"rgb(36,36,36)\"}},\"shapedefaults\":{\"fillcolor\":\"black\",\"line\":{\"width\":0},\"opacity\":0.3},\"ternary\":{\"aaxis\":{\"gridcolor\":\"rgb(232,232,232)\",\"linecolor\":\"rgb(36,36,36)\",\"showgrid\":false,\"showline\":true,\"ticks\":\"outside\"},\"baxis\":{\"gridcolor\":\"rgb(232,232,232)\",\"linecolor\":\"rgb(36,36,36)\",\"showgrid\":false,\"showline\":true,\"ticks\":\"outside\"},\"bgcolor\":\"white\",\"caxis\":{\"gridcolor\":\"rgb(232,232,232)\",\"linecolor\":\"rgb(36,36,36)\",\"showgrid\":false,\"showline\":true,\"ticks\":\"outside\"}},\"title\":{\"x\":0.05},\"xaxis\":{\"automargin\":true,\"gridcolor\":\"rgb(232,232,232)\",\"linecolor\":\"rgb(36,36,36)\",\"showgrid\":false,\"showline\":true,\"ticks\":\"outside\",\"title\":{\"standoff\":15},\"zeroline\":false,\"zerolinecolor\":\"rgb(36,36,36)\"},\"yaxis\":{\"automargin\":true,\"gridcolor\":\"rgb(232,232,232)\",\"linecolor\":\"rgb(36,36,36)\",\"showgrid\":false,\"showline\":true,\"ticks\":\"outside\",\"title\":{\"standoff\":15},\"zeroline\":false,\"zerolinecolor\":\"rgb(36,36,36)\"}}},\"xaxis\":{\"anchor\":\"y\",\"domain\":[0.0,1.0],\"title\":{\"text\":\"\"},\"visible\":false,\"range\":[9.427401542663574,14.97371997833252]},\"yaxis\":{\"anchor\":\"x\",\"domain\":[0.0,1.0],\"title\":{\"text\":\"\"},\"visible\":false,\"range\":[-2.979420876502991,-1.2536758482456207]},\"legend\":{\"tracegroupgap\":0,\"itemsizing\":\"constant\"},\"margin\":{\"t\":60},\"title\":{\"font\":{\"size\":22,\"color\":\"Black\"},\"text\":\"<b>Intertopic Distance Map</b>\",\"y\":0.95,\"x\":0.5,\"xanchor\":\"center\",\"yanchor\":\"top\"},\"hoverlabel\":{\"font\":{\"size\":16,\"family\":\"Rockwell\"},\"bgcolor\":\"white\"},\"width\":650,\"height\":650,\"sliders\":[{\"active\":0,\"pad\":{\"t\":50},\"steps\":[{\"args\":[{\"marker.color\":[[\"red\",\"#B0BEC5\",\"#B0BEC5\",\"#B0BEC5\",\"#B0BEC5\"]]}],\"label\":\"Topic 0\",\"method\":\"update\"},{\"args\":[{\"marker.color\":[[\"#B0BEC5\",\"red\",\"#B0BEC5\",\"#B0BEC5\",\"#B0BEC5\"]]}],\"label\":\"Topic 1\",\"method\":\"update\"},{\"args\":[{\"marker.color\":[[\"#B0BEC5\",\"#B0BEC5\",\"red\",\"#B0BEC5\",\"#B0BEC5\"]]}],\"label\":\"Topic 2\",\"method\":\"update\"},{\"args\":[{\"marker.color\":[[\"#B0BEC5\",\"#B0BEC5\",\"#B0BEC5\",\"red\",\"#B0BEC5\"]]}],\"label\":\"Topic 3\",\"method\":\"update\"},{\"args\":[{\"marker.color\":[[\"#B0BEC5\",\"#B0BEC5\",\"#B0BEC5\",\"#B0BEC5\",\"red\"]]}],\"label\":\"Topic 4\",\"method\":\"update\"}]}],\"shapes\":[{\"line\":{\"color\":\"#CFD8DC\",\"width\":2},\"type\":\"line\",\"x0\":12.200560760498046,\"x1\":12.200560760498046,\"y0\":-2.979420876502991,\"y1\":-1.2536758482456207},{\"line\":{\"color\":\"#9E9E9E\",\"width\":2},\"type\":\"line\",\"x0\":9.427401542663574,\"x1\":14.97371997833252,\"y0\":-2.1165483623743055,\"y1\":-2.1165483623743055}],\"annotations\":[{\"showarrow\":false,\"text\":\"D1\",\"x\":9.427401542663574,\"y\":-2.1165483623743055,\"yshift\":10},{\"showarrow\":false,\"text\":\"D2\",\"x\":12.200560760498046,\"xshift\":10,\"y\":-1.2536758482456207}]},                        {\"responsive\": true}                    ).then(function(){\n",
       "                            \n",
       "var gd = document.getElementById('389009c1-83c2-412a-88c9-bbd3b7e7d7b1');\n",
       "var x = new MutationObserver(function (mutations, observer) {{\n",
       "        var display = window.getComputedStyle(gd).display;\n",
       "        if (!display || display === 'none') {{\n",
       "            console.log([gd, 'removed!']);\n",
       "            Plotly.purge(gd);\n",
       "            observer.disconnect();\n",
       "        }}\n",
       "}});\n",
       "\n",
       "// Listen for the removal of the full notebook cells\n",
       "var notebookContainer = gd.closest('#notebook-container');\n",
       "if (notebookContainer) {{\n",
       "    x.observe(notebookContainer, {childList: true});\n",
       "}}\n",
       "\n",
       "// Listen for the clearing of the current output cell\n",
       "var outputEl = gd.closest('.output');\n",
       "if (outputEl) {{\n",
       "    x.observe(outputEl, {childList: true});\n",
       "}}\n",
       "\n",
       "                        })                };                });            </script>        </div>"
      ]
     },
     "metadata": {},
     "output_type": "display_data"
    }
   ],
   "source": [
    "topic_model5.visualize_topics()"
   ]
  },
  {
   "cell_type": "markdown",
   "metadata": {
    "id": "3klS8XJnDVBX"
   },
   "source": [
    "### **Save best Model**"
   ]
  },
  {
   "cell_type": "code",
   "execution_count": 51,
   "metadata": {
    "execution": {
     "iopub.execute_input": "2023-06-06T01:56:40.819161Z",
     "iopub.status.busy": "2023-06-06T01:56:40.818542Z",
     "iopub.status.idle": "2023-06-06T01:56:45.146736Z",
     "shell.execute_reply": "2023-06-06T01:56:45.145680Z",
     "shell.execute_reply.started": "2023-06-06T01:56:40.819125Z"
    },
    "id": "uahlRtaTDUYv"
   },
   "outputs": [],
   "source": [
    "import pickle\n",
    "\n",
    "# save the best model\n",
    "pickle_out = open(\"topic_model5.pkl\",\"wb\")\n",
    "pickle.dump(topic_model5, pickle_out)\n",
    "pickle_out.close()\n",
    "\n",
    "#load best model\n",
    "pickle_in = open(\"topic_model5.pkl\",\"rb\")\n",
    "best_model = pickle.load(pickle_in)"
   ]
  },
  {
   "cell_type": "markdown",
   "metadata": {
    "id": "Qpn5uW9d0Spm"
   },
   "source": [
    "## Summary:\n",
    "\n",
    "**Best Hyperparmters:** \n",
    "1. embedding_model=\"sentence-transformers/all-MiniLM-L6-v2\": Use a state-of-the-art pretrained sentence embedding model to generate high-quality document representations.\n",
    "2. min_topic_size=200: seems to be moderate number of samples that helps filter out very small topics that may be noise. It's large enough to ensure topics cover meaningful content but not so large that it misses potentially valid but narrow topics.\n",
    "\n",
    "\n",
    "There are some notable differences between the topics before and after reducing the number of topics:\n",
    "\n",
    "**Before reduction:**\n",
    "\n",
    "- 23 topics were identified, covering a wide range of domains like computer vision, quantum physics, wireless networks, robotics, etc.\n",
    "\n",
    "**After reduction:**\n",
    "\n",
    "- Only 6 topics were identified, providing a more high-level view of the major themes.\n",
    "- Topics related to modeling, images, and methods remain (Topic 1 and Topic -1).\n",
    "- Topics focused on users, students, and applications remain (Topic 3).\n",
    "- Graph and network-related topics remain (Topic 5 and Topic 7).\n",
    "\n",
    "---"
   ]
  },
  {
   "cell_type": "markdown",
   "metadata": {
    "id": "o6j-cCrK0Spn"
   },
   "source": [
    "### **Check computer vision topic**\n",
    "Firstly, I retrieved all papers from the dataset that belong to the cs.CV(computer vision) category. Secondly, I applied the best model on the data and then count the number of samples for each topic."
   ]
  },
  {
   "cell_type": "code",
   "execution_count": 52,
   "metadata": {
    "colab": {
     "base_uri": "https://localhost:8080/",
     "height": 183
    },
    "execution": {
     "iopub.execute_input": "2023-06-06T01:56:48.462604Z",
     "iopub.status.busy": "2023-06-06T01:56:48.462227Z",
     "iopub.status.idle": "2023-06-06T01:57:17.296235Z",
     "shell.execute_reply": "2023-06-06T01:57:17.295253Z",
     "shell.execute_reply.started": "2023-06-06T01:56:48.462571Z"
    },
    "id": "TJ5h_BGx0Spn",
    "outputId": "c9c1146e-2abc-4f4f-c997-9accf1ba5fde"
   },
   "outputs": [
    {
     "data": {
      "application/vnd.jupyter.widget-view+json": {
       "model_id": "ae12b9e5eecd46edbc771ff64586ed87",
       "version_major": 2,
       "version_minor": 0
      },
      "text/plain": [
       "Batches:   0%|          | 0/206 [00:00<?, ?it/s]"
      ]
     },
     "metadata": {},
     "output_type": "display_data"
    },
    {
     "name": "stderr",
     "output_type": "stream",
     "text": [
      "2023-06-06 01:57:15,917 - BERTopic - Reduced dimensionality\n",
      "2023-06-06 01:57:17,287 - BERTopic - Predicted clusters\n"
     ]
    }
   ],
   "source": [
    "cv_papers = df2[df2[\"categories\"].str.contains(\"cs.cv\", case=False)].reset_index()\n",
    "cv_topics, _ = best_model.transform(cv_papers['processed_text'])"
   ]
  },
  {
   "cell_type": "code",
   "execution_count": 54,
   "metadata": {
    "colab": {
     "base_uri": "https://localhost:8080/"
    },
    "execution": {
     "iopub.execute_input": "2023-06-06T01:59:03.108953Z",
     "iopub.status.busy": "2023-06-06T01:59:03.108507Z",
     "iopub.status.idle": "2023-06-06T01:59:03.146510Z",
     "shell.execute_reply": "2023-06-06T01:59:03.145269Z",
     "shell.execute_reply.started": "2023-06-06T01:59:03.108919Z"
    },
    "id": "gGJOBLeurHOL",
    "outputId": "20de208c-745e-4ecf-9c00-7295543a19da"
   },
   "outputs": [
    {
     "data": {
      "text/plain": [
       " 1    4831\n",
       "-1    1408\n",
       " 2     213\n",
       " 0      98\n",
       " 4      18\n",
       " 3      17\n",
       "Name: topic, dtype: int64"
      ]
     },
     "execution_count": 54,
     "metadata": {},
     "output_type": "execute_result"
    }
   ],
   "source": [
    "cv_papers['topic'] = cv_topics\n",
    "cv_papers[\"topic\"].value_counts()"
   ]
  },
  {
   "cell_type": "code",
   "execution_count": 66,
   "metadata": {
    "execution": {
     "iopub.execute_input": "2023-06-06T02:06:38.495986Z",
     "iopub.status.busy": "2023-06-06T02:06:38.494910Z",
     "iopub.status.idle": "2023-06-06T02:06:38.547192Z",
     "shell.execute_reply": "2023-06-06T02:06:38.546134Z",
     "shell.execute_reply.started": "2023-06-06T02:06:38.495938Z"
    }
   },
   "outputs": [
    {
     "data": {
      "text/html": [
       "<div>\n",
       "<style scoped>\n",
       "    .dataframe tbody tr th:only-of-type {\n",
       "        vertical-align: middle;\n",
       "    }\n",
       "\n",
       "    .dataframe tbody tr th {\n",
       "        vertical-align: top;\n",
       "    }\n",
       "\n",
       "    .dataframe thead th {\n",
       "        text-align: right;\n",
       "    }\n",
       "</style>\n",
       "<table border=\"1\" class=\"dataframe\">\n",
       "  <thead>\n",
       "    <tr style=\"text-align: right;\">\n",
       "      <th></th>\n",
       "      <th>Topic</th>\n",
       "      <th>Count</th>\n",
       "      <th>Name</th>\n",
       "      <th>Representation</th>\n",
       "      <th>Representative_Docs</th>\n",
       "    </tr>\n",
       "  </thead>\n",
       "  <tbody>\n",
       "    <tr>\n",
       "      <th>2</th>\n",
       "      <td>1</td>\n",
       "      <td>11222</td>\n",
       "      <td>1_model_image_method_propose</td>\n",
       "      <td>[model, image, method, propose, use, network, ...</td>\n",
       "      <td>[despite significant progress super resolve re...</td>\n",
       "    </tr>\n",
       "  </tbody>\n",
       "</table>\n",
       "</div>"
      ],
      "text/plain": [
       "   Topic  Count                          Name  \\\n",
       "2      1  11222  1_model_image_method_propose   \n",
       "\n",
       "                                      Representation  \\\n",
       "2  [model, image, method, propose, use, network, ...   \n",
       "\n",
       "                                 Representative_Docs  \n",
       "2  [despite significant progress super resolve re...  "
      ]
     },
     "execution_count": 66,
     "metadata": {},
     "output_type": "execute_result"
    },
    {
     "data": {
      "text/html": [
       "<div>\n",
       "<style scoped>\n",
       "    .dataframe tbody tr th:only-of-type {\n",
       "        vertical-align: middle;\n",
       "    }\n",
       "\n",
       "    .dataframe tbody tr th {\n",
       "        vertical-align: top;\n",
       "    }\n",
       "\n",
       "    .dataframe thead th {\n",
       "        text-align: right;\n",
       "    }\n",
       "</style>\n",
       "<table border=\"1\" class=\"dataframe\">\n",
       "  <thead>\n",
       "    <tr style=\"text-align: right;\">\n",
       "      <th></th>\n",
       "      <th>Topic</th>\n",
       "      <th>Count</th>\n",
       "      <th>Name</th>\n",
       "      <th>Representation</th>\n",
       "      <th>Representative_Docs</th>\n",
       "    </tr>\n",
       "  </thead>\n",
       "  <tbody>\n",
       "    <tr>\n",
       "      <th>3</th>\n",
       "      <td>2</td>\n",
       "      <td>8689</td>\n",
       "      <td>2_system_use_network_propose</td>\n",
       "      <td>[system, use, network, propose, model, problem...</td>\n",
       "      <td>[formal way study cooperation incentive mechan...</td>\n",
       "    </tr>\n",
       "  </tbody>\n",
       "</table>\n",
       "</div>"
      ],
      "text/plain": [
       "   Topic  Count                          Name  \\\n",
       "3      2   8689  2_system_use_network_propose   \n",
       "\n",
       "                                      Representation  \\\n",
       "3  [system, use, network, propose, model, problem...   \n",
       "\n",
       "                                 Representative_Docs  \n",
       "3  [formal way study cooperation incentive mechan...  "
      ]
     },
     "execution_count": 66,
     "metadata": {},
     "output_type": "execute_result"
    },
    {
     "data": {
      "text/html": [
       "<div>\n",
       "<style scoped>\n",
       "    .dataframe tbody tr th:only-of-type {\n",
       "        vertical-align: middle;\n",
       "    }\n",
       "\n",
       "    .dataframe tbody tr th {\n",
       "        vertical-align: top;\n",
       "    }\n",
       "\n",
       "    .dataframe thead th {\n",
       "        text-align: right;\n",
       "    }\n",
       "</style>\n",
       "<table border=\"1\" class=\"dataframe\">\n",
       "  <thead>\n",
       "    <tr style=\"text-align: right;\">\n",
       "      <th></th>\n",
       "      <th>Topic</th>\n",
       "      <th>Count</th>\n",
       "      <th>Name</th>\n",
       "      <th>Representation</th>\n",
       "      <th>Representative_Docs</th>\n",
       "    </tr>\n",
       "  </thead>\n",
       "  <tbody>\n",
       "    <tr>\n",
       "      <th>1</th>\n",
       "      <td>0</td>\n",
       "      <td>15775</td>\n",
       "      <td>0_use_field_quantum_energy</td>\n",
       "      <td>[use, field, quantum, energy, model, time, hig...</td>\n",
       "      <td>[laser wakefield accelerator rely extremely hi...</td>\n",
       "    </tr>\n",
       "  </tbody>\n",
       "</table>\n",
       "</div>"
      ],
      "text/plain": [
       "   Topic  Count                        Name  \\\n",
       "1      0  15775  0_use_field_quantum_energy   \n",
       "\n",
       "                                      Representation  \\\n",
       "1  [use, field, quantum, energy, model, time, hig...   \n",
       "\n",
       "                                 Representative_Docs  \n",
       "1  [laser wakefield accelerator rely extremely hi...  "
      ]
     },
     "execution_count": 66,
     "metadata": {},
     "output_type": "execute_result"
    },
    {
     "data": {
      "text/html": [
       "<div>\n",
       "<style scoped>\n",
       "    .dataframe tbody tr th:only-of-type {\n",
       "        vertical-align: middle;\n",
       "    }\n",
       "\n",
       "    .dataframe tbody tr th {\n",
       "        vertical-align: top;\n",
       "    }\n",
       "\n",
       "    .dataframe thead th {\n",
       "        text-align: right;\n",
       "    }\n",
       "</style>\n",
       "<table border=\"1\" class=\"dataframe\">\n",
       "  <thead>\n",
       "    <tr style=\"text-align: right;\">\n",
       "      <th></th>\n",
       "      <th>Topic</th>\n",
       "      <th>Count</th>\n",
       "      <th>Name</th>\n",
       "      <th>Representation</th>\n",
       "      <th>Representative_Docs</th>\n",
       "    </tr>\n",
       "  </thead>\n",
       "  <tbody>\n",
       "    <tr>\n",
       "      <th>5</th>\n",
       "      <td>4</td>\n",
       "      <td>1779</td>\n",
       "      <td>4_graph_network_vertex_problem</td>\n",
       "      <td>[graph, network, vertex, problem, algorithm, n...</td>\n",
       "      <td>[graph mathematical object consist set vertex ...</td>\n",
       "    </tr>\n",
       "  </tbody>\n",
       "</table>\n",
       "</div>"
      ],
      "text/plain": [
       "   Topic  Count                            Name  \\\n",
       "5      4   1779  4_graph_network_vertex_problem   \n",
       "\n",
       "                                      Representation  \\\n",
       "5  [graph, network, vertex, problem, algorithm, n...   \n",
       "\n",
       "                                 Representative_Docs  \n",
       "5  [graph mathematical object consist set vertex ...  "
      ]
     },
     "execution_count": 66,
     "metadata": {},
     "output_type": "execute_result"
    },
    {
     "data": {
      "text/html": [
       "<div>\n",
       "<style scoped>\n",
       "    .dataframe tbody tr th:only-of-type {\n",
       "        vertical-align: middle;\n",
       "    }\n",
       "\n",
       "    .dataframe tbody tr th {\n",
       "        vertical-align: top;\n",
       "    }\n",
       "\n",
       "    .dataframe thead th {\n",
       "        text-align: right;\n",
       "    }\n",
       "</style>\n",
       "<table border=\"1\" class=\"dataframe\">\n",
       "  <thead>\n",
       "    <tr style=\"text-align: right;\">\n",
       "      <th></th>\n",
       "      <th>Topic</th>\n",
       "      <th>Count</th>\n",
       "      <th>Name</th>\n",
       "      <th>Representation</th>\n",
       "      <th>Representative_Docs</th>\n",
       "    </tr>\n",
       "  </thead>\n",
       "  <tbody>\n",
       "    <tr>\n",
       "      <th>4</th>\n",
       "      <td>3</td>\n",
       "      <td>1926</td>\n",
       "      <td>3_user_use_student_model</td>\n",
       "      <td>[user, use, student, model, software, datum, r...</td>\n",
       "      <td>[important task recommender system provide int...</td>\n",
       "    </tr>\n",
       "  </tbody>\n",
       "</table>\n",
       "</div>"
      ],
      "text/plain": [
       "   Topic  Count                      Name  \\\n",
       "4      3   1926  3_user_use_student_model   \n",
       "\n",
       "                                      Representation  \\\n",
       "4  [user, use, student, model, software, datum, r...   \n",
       "\n",
       "                                 Representative_Docs  \n",
       "4  [important task recommender system provide int...  "
      ]
     },
     "execution_count": 66,
     "metadata": {},
     "output_type": "execute_result"
    }
   ],
   "source": [
    "topics_df = best_model.get_topic_info()\n",
    "topics_df[topics_df['Topic'] == 1]\n",
    "topics_df[topics_df['Topic'] == 2]\n",
    "topics_df[topics_df['Topic'] == 0]\n",
    "topics_df[topics_df['Topic'] == 4]\n",
    "topics_df[topics_df['Topic'] == 3]"
   ]
  },
  {
   "cell_type": "markdown",
   "metadata": {
    "id": "riyTofFD0Spo"
   },
   "source": [
    "## Summary:\n",
    "\n",
    "<a><font size=\"3\"><b>OBSERVATION:</b></font></a>\n",
    "There is likely some overlap between the topics. Considering this was an unsupervised topic model on computer vision papers, the 5 high-level themes appear reasonable and provide a good conceptual clustering of the research space covered in the dataset. The interpretations of the topics could be refined further to improve the model.\n",
    "\n",
    "- Topic 1: Focused on models, images and methods for computer vision. \n",
    "- Topic 2: Involves systems, networks and models..\n",
    "- Topic 0: Centers around concepts like quantum energy, fields and time.\n",
    "- Topic 4: Contains terms like graphs, networks and algorithms, representing graph-based and network methods in computer vision.\n",
    "- Topic 3: Includes users, students and modeling, covering human factors and user modeling in computer vision.\n",
    "\n",
    "In summary, the 5 topics seem to capture key areas of research in computer vision:\n",
    "\n",
    "- Modeling and techniques\n",
    "- Systems and applications\n",
    "- Fundamental research\n",
    "- Graph and network methods\n",
    "- Human factors and user modeling\n",
    "---"
   ]
  },
  {
   "cell_type": "markdown",
   "metadata": {
    "id": "A94B8yvN0Spo"
   },
   "source": [
    "Redo the topic modeling using the same method, but only on the papers tagged by the category you chcked in Q3. For instance, in Q3, you pick cs.CV, then in Q4, you first filter data by category = cs.CV and then apply the topic modeling on the selected documents. Compare your topics found and your results from Q3. "
   ]
  },
  {
   "cell_type": "code",
   "execution_count": 97,
   "metadata": {
    "execution": {
     "iopub.execute_input": "2023-06-06T02:41:28.665352Z",
     "iopub.status.busy": "2023-06-06T02:41:28.664979Z",
     "iopub.status.idle": "2023-06-06T02:41:54.884115Z",
     "shell.execute_reply": "2023-06-06T02:41:54.882774Z",
     "shell.execute_reply.started": "2023-06-06T02:41:28.665323Z"
    },
    "id": "0kdv5zJm0Spo"
   },
   "outputs": [
    {
     "data": {
      "application/vnd.jupyter.widget-view+json": {
       "model_id": "403856c0523a4b9289e2e1fcd00b26d1",
       "version_major": 2,
       "version_minor": 0
      },
      "text/plain": [
       "Batches:   0%|          | 0/206 [00:00<?, ?it/s]"
      ]
     },
     "metadata": {},
     "output_type": "display_data"
    },
    {
     "name": "stderr",
     "output_type": "stream",
     "text": [
      "2023-06-06 02:41:40,451 - BERTopic - Transformed documents to Embeddings\n",
      "2023-06-06 02:41:52,637 - BERTopic - Reduced dimensionality\n",
      "2023-06-06 02:41:53,356 - BERTopic - Clustered reduced embeddings\n"
     ]
    },
    {
     "data": {
      "text/plain": [
       "3"
      ]
     },
     "execution_count": 97,
     "metadata": {},
     "output_type": "execute_result"
    }
   ],
   "source": [
    "CV_topic_model = BERTopic(verbose=True, embedding_model=\"sentence-transformers/all-MiniLM-L6-v2\", min_topic_size=200)\n",
    "cv_topics, _ = CV_topic_model.fit_transform(cv_papers['processed_text'].to_numpy()); len(CV_topic_model.get_topic_info())"
   ]
  },
  {
   "cell_type": "code",
   "execution_count": 94,
   "metadata": {
    "execution": {
     "iopub.execute_input": "2023-06-06T02:40:52.149257Z",
     "iopub.status.busy": "2023-06-06T02:40:52.148884Z",
     "iopub.status.idle": "2023-06-06T02:40:52.168716Z",
     "shell.execute_reply": "2023-06-06T02:40:52.167789Z",
     "shell.execute_reply.started": "2023-06-06T02:40:52.149220Z"
    },
    "id": "fxh8cSgi0Spo"
   },
   "outputs": [
    {
     "data": {
      "text/html": [
       "<div>\n",
       "<style scoped>\n",
       "    .dataframe tbody tr th:only-of-type {\n",
       "        vertical-align: middle;\n",
       "    }\n",
       "\n",
       "    .dataframe tbody tr th {\n",
       "        vertical-align: top;\n",
       "    }\n",
       "\n",
       "    .dataframe thead th {\n",
       "        text-align: right;\n",
       "    }\n",
       "</style>\n",
       "<table border=\"1\" class=\"dataframe\">\n",
       "  <thead>\n",
       "    <tr style=\"text-align: right;\">\n",
       "      <th></th>\n",
       "      <th>Topic</th>\n",
       "      <th>Count</th>\n",
       "      <th>Name</th>\n",
       "      <th>Representation</th>\n",
       "      <th>Representative_Docs</th>\n",
       "    </tr>\n",
       "  </thead>\n",
       "  <tbody>\n",
       "    <tr>\n",
       "      <th>0</th>\n",
       "      <td>-1</td>\n",
       "      <td>126</td>\n",
       "      <td>-1_re_audio_person_speech</td>\n",
       "      <td>[re, audio, person, speech, feature, id, model...</td>\n",
       "      <td>[unsupervised domain adaptive person re-identi...</td>\n",
       "    </tr>\n",
       "    <tr>\n",
       "      <th>1</th>\n",
       "      <td>0</td>\n",
       "      <td>5475</td>\n",
       "      <td>0_image_model_method_propose</td>\n",
       "      <td>[image, model, method, propose, use, network, ...</td>\n",
       "      <td>[image demosaicing important step image proces...</td>\n",
       "    </tr>\n",
       "    <tr>\n",
       "      <th>2</th>\n",
       "      <td>1</td>\n",
       "      <td>984</td>\n",
       "      <td>1_image_segmentation_method_use</td>\n",
       "      <td>[image, segmentation, method, use, model, prop...</td>\n",
       "      <td>[witness success deep learning neural network ...</td>\n",
       "    </tr>\n",
       "  </tbody>\n",
       "</table>\n",
       "</div>"
      ],
      "text/plain": [
       "   Topic  Count                             Name  \\\n",
       "0     -1    126        -1_re_audio_person_speech   \n",
       "1      0   5475     0_image_model_method_propose   \n",
       "2      1    984  1_image_segmentation_method_use   \n",
       "\n",
       "                                      Representation  \\\n",
       "0  [re, audio, person, speech, feature, id, model...   \n",
       "1  [image, model, method, propose, use, network, ...   \n",
       "2  [image, segmentation, method, use, model, prop...   \n",
       "\n",
       "                                 Representative_Docs  \n",
       "0  [unsupervised domain adaptive person re-identi...  \n",
       "1  [image demosaicing important step image proces...  \n",
       "2  [witness success deep learning neural network ...  "
      ]
     },
     "execution_count": 94,
     "metadata": {},
     "output_type": "execute_result"
    }
   ],
   "source": [
    "CV_topic_model.get_topic_info()"
   ]
  },
  {
   "cell_type": "code",
   "execution_count": 98,
   "metadata": {
    "execution": {
     "iopub.execute_input": "2023-06-06T02:42:04.192082Z",
     "iopub.status.busy": "2023-06-06T02:42:04.190984Z",
     "iopub.status.idle": "2023-06-06T02:42:04.203268Z",
     "shell.execute_reply": "2023-06-06T02:42:04.202331Z",
     "shell.execute_reply.started": "2023-06-06T02:42:04.192031Z"
    }
   },
   "outputs": [
    {
     "data": {
      "text/plain": [
       " 0    5324\n",
       " 1     965\n",
       "-1     296\n",
       "Name: cv_topics, dtype: int64"
      ]
     },
     "execution_count": 98,
     "metadata": {},
     "output_type": "execute_result"
    }
   ],
   "source": [
    "cv_papers['cv_topics'] = cv_topics\n",
    "cv_papers['cv_topics'].value_counts()"
   ]
  },
  {
   "cell_type": "markdown",
   "metadata": {
    "id": "nDYTa5fU0Spp"
   },
   "source": [
    "## Summary:  \n",
    "raining the topic model only on papers from a single domain (computer vision) produces a smaller number of broader topics that represent major areas within that domain\n",
    "\n",
    "- There is a very small catch-all topic (-1) focused on audio and speech, with only 126 documents assigned. This suggests that most papers do not fall into this cluster.\n",
    "- The largest topic (Topic 0) is focused on images, models and methods, with over 5,475 documents. This likely represents the core computer vision research area.\n",
    "- There is also a topic on image segmentation (Topic 1), though with far fewer documents (965).\n",
    "---"
   ]
  },
  {
   "cell_type": "markdown",
   "metadata": {},
   "source": []
  }
 ],
 "metadata": {
  "accelerator": "GPU",
  "colab": {
   "gpuType": "T4",
   "provenance": []
  },
  "kernelspec": {
   "display_name": "Python 3 (ipykernel)",
   "language": "python",
   "name": "python3"
  },
  "language_info": {
   "codemirror_mode": {
    "name": "ipython",
    "version": 3
   },
   "file_extension": ".py",
   "mimetype": "text/x-python",
   "name": "python",
   "nbconvert_exporter": "python",
   "pygments_lexer": "ipython3",
   "version": "3.9.13"
  },
  "widgets": {
   "application/vnd.jupyter.widget-state+json": {
    "state": {},
    "version_major": 2,
    "version_minor": 0
   }
  }
 },
 "nbformat": 4,
 "nbformat_minor": 4
}
